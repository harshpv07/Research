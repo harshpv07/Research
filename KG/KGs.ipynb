{
  "cells": [
    {
      "cell_type": "code",
      "execution_count": 1,
      "metadata": {
        "colab": {
          "base_uri": "https://localhost:8080/"
        },
        "id": "HlPT7rPJuHxB",
        "outputId": "41f32d56-10fb-4285-bcaa-6a367ae68303"
      },
      "outputs": [
        {
          "name": "stdout",
          "output_type": "stream",
          "text": [
            "Collecting langchain\n",
            "  Downloading langchain-0.1.14-py3-none-any.whl (812 kB)\n",
            "\u001b[?25l     \u001b[90m━━━━━━━━━━━━━━━━━━━━━━━━━━━━━━━━━━━━━━━━\u001b[0m \u001b[32m0.0/812.8 kB\u001b[0m \u001b[31m?\u001b[0m eta \u001b[36m-:--:--\u001b[0m\r\u001b[2K     \u001b[91m━━━\u001b[0m\u001b[90m╺\u001b[0m\u001b[90m━━━━━━━━━━━━━━━━━━━━━━━━━━━━━━━━━━━━\u001b[0m \u001b[32m61.4/812.8 kB\u001b[0m \u001b[31m2.3 MB/s\u001b[0m eta \u001b[36m0:00:01\u001b[0m\r\u001b[2K     \u001b[91m━━━━━━━━━━━━━━━━━━━━━━━━━━━━━━━━━━━━━━━\u001b[0m\u001b[91m╸\u001b[0m \u001b[32m809.0/812.8 kB\u001b[0m \u001b[31m12.5 MB/s\u001b[0m eta \u001b[36m0:00:01\u001b[0m\r\u001b[2K     \u001b[90m━━━━━━━━━━━━━━━━━━━━━━━━━━━━━━━━━━━━━━━━\u001b[0m \u001b[32m812.8/812.8 kB\u001b[0m \u001b[31m9.4 MB/s\u001b[0m eta \u001b[36m0:00:00\u001b[0m\n",
            "\u001b[?25hRequirement already satisfied: PyYAML>=5.3 in /usr/local/lib/python3.10/dist-packages (from langchain) (6.0.1)\n",
            "Requirement already satisfied: SQLAlchemy<3,>=1.4 in /usr/local/lib/python3.10/dist-packages (from langchain) (2.0.29)\n",
            "Requirement already satisfied: aiohttp<4.0.0,>=3.8.3 in /usr/local/lib/python3.10/dist-packages (from langchain) (3.9.3)\n",
            "Requirement already satisfied: async-timeout<5.0.0,>=4.0.0 in /usr/local/lib/python3.10/dist-packages (from langchain) (4.0.3)\n",
            "Collecting dataclasses-json<0.7,>=0.5.7 (from langchain)\n",
            "  Downloading dataclasses_json-0.6.4-py3-none-any.whl (28 kB)\n",
            "Collecting jsonpatch<2.0,>=1.33 (from langchain)\n",
            "  Downloading jsonpatch-1.33-py2.py3-none-any.whl (12 kB)\n",
            "Collecting langchain-community<0.1,>=0.0.30 (from langchain)\n",
            "  Downloading langchain_community-0.0.30-py3-none-any.whl (1.9 MB)\n",
            "\u001b[2K     \u001b[90m━━━━━━━━━━━━━━━━━━━━━━━━━━━━━━━━━━━━━━━━\u001b[0m \u001b[32m1.9/1.9 MB\u001b[0m \u001b[31m59.7 MB/s\u001b[0m eta \u001b[36m0:00:00\u001b[0m\n",
            "\u001b[?25hCollecting langchain-core<0.2.0,>=0.1.37 (from langchain)\n",
            "  Downloading langchain_core-0.1.37-py3-none-any.whl (274 kB)\n",
            "\u001b[2K     \u001b[90m━━━━━━━━━━━━━━━━━━━━━━━━━━━━━━━━━━━━━━━━\u001b[0m \u001b[32m274.6/274.6 kB\u001b[0m \u001b[31m14.4 MB/s\u001b[0m eta \u001b[36m0:00:00\u001b[0m\n",
            "\u001b[?25hCollecting langchain-text-splitters<0.1,>=0.0.1 (from langchain)\n",
            "  Downloading langchain_text_splitters-0.0.1-py3-none-any.whl (21 kB)\n",
            "Collecting langsmith<0.2.0,>=0.1.17 (from langchain)\n",
            "  Downloading langsmith-0.1.38-py3-none-any.whl (86 kB)\n",
            "\u001b[2K     \u001b[90m━━━━━━━━━━━━━━━━━━━━━━━━━━━━━━━━━━━━━━━━\u001b[0m \u001b[32m86.9/86.9 kB\u001b[0m \u001b[31m7.3 MB/s\u001b[0m eta \u001b[36m0:00:00\u001b[0m\n",
            "\u001b[?25hRequirement already satisfied: numpy<2,>=1 in /usr/local/lib/python3.10/dist-packages (from langchain) (1.25.2)\n",
            "Requirement already satisfied: pydantic<3,>=1 in /usr/local/lib/python3.10/dist-packages (from langchain) (2.6.4)\n",
            "Requirement already satisfied: requests<3,>=2 in /usr/local/lib/python3.10/dist-packages (from langchain) (2.31.0)\n",
            "Requirement already satisfied: tenacity<9.0.0,>=8.1.0 in /usr/local/lib/python3.10/dist-packages (from langchain) (8.2.3)\n",
            "Requirement already satisfied: aiosignal>=1.1.2 in /usr/local/lib/python3.10/dist-packages (from aiohttp<4.0.0,>=3.8.3->langchain) (1.3.1)\n",
            "Requirement already satisfied: attrs>=17.3.0 in /usr/local/lib/python3.10/dist-packages (from aiohttp<4.0.0,>=3.8.3->langchain) (23.2.0)\n",
            "Requirement already satisfied: frozenlist>=1.1.1 in /usr/local/lib/python3.10/dist-packages (from aiohttp<4.0.0,>=3.8.3->langchain) (1.4.1)\n",
            "Requirement already satisfied: multidict<7.0,>=4.5 in /usr/local/lib/python3.10/dist-packages (from aiohttp<4.0.0,>=3.8.3->langchain) (6.0.5)\n",
            "Requirement already satisfied: yarl<2.0,>=1.0 in /usr/local/lib/python3.10/dist-packages (from aiohttp<4.0.0,>=3.8.3->langchain) (1.9.4)\n",
            "Collecting marshmallow<4.0.0,>=3.18.0 (from dataclasses-json<0.7,>=0.5.7->langchain)\n",
            "  Downloading marshmallow-3.21.1-py3-none-any.whl (49 kB)\n",
            "\u001b[2K     \u001b[90m━━━━━━━━━━━━━━━━━━━━━━━━━━━━━━━━━━━━━━━━\u001b[0m \u001b[32m49.4/49.4 kB\u001b[0m \u001b[31m4.1 MB/s\u001b[0m eta \u001b[36m0:00:00\u001b[0m\n",
            "\u001b[?25hCollecting typing-inspect<1,>=0.4.0 (from dataclasses-json<0.7,>=0.5.7->langchain)\n",
            "  Downloading typing_inspect-0.9.0-py3-none-any.whl (8.8 kB)\n",
            "Collecting jsonpointer>=1.9 (from jsonpatch<2.0,>=1.33->langchain)\n",
            "  Downloading jsonpointer-2.4-py2.py3-none-any.whl (7.8 kB)\n",
            "Collecting packaging<24.0,>=23.2 (from langchain-core<0.2.0,>=0.1.37->langchain)\n",
            "  Downloading packaging-23.2-py3-none-any.whl (53 kB)\n",
            "\u001b[2K     \u001b[90m━━━━━━━━━━━━━━━━━━━━━━━━━━━━━━━━━━━━━━━━\u001b[0m \u001b[32m53.0/53.0 kB\u001b[0m \u001b[31m5.5 MB/s\u001b[0m eta \u001b[36m0:00:00\u001b[0m\n",
            "\u001b[?25hCollecting orjson<4.0.0,>=3.9.14 (from langsmith<0.2.0,>=0.1.17->langchain)\n",
            "  Downloading orjson-3.10.0-cp310-cp310-manylinux_2_17_x86_64.manylinux2014_x86_64.whl (144 kB)\n",
            "\u001b[2K     \u001b[90m━━━━━━━━━━━━━━━━━━━━━━━━━━━━━━━━━━━━━━━━\u001b[0m \u001b[32m144.8/144.8 kB\u001b[0m \u001b[31m2.6 MB/s\u001b[0m eta \u001b[36m0:00:00\u001b[0m\n",
            "\u001b[?25hRequirement already satisfied: annotated-types>=0.4.0 in /usr/local/lib/python3.10/dist-packages (from pydantic<3,>=1->langchain) (0.6.0)\n",
            "Requirement already satisfied: pydantic-core==2.16.3 in /usr/local/lib/python3.10/dist-packages (from pydantic<3,>=1->langchain) (2.16.3)\n",
            "Requirement already satisfied: typing-extensions>=4.6.1 in /usr/local/lib/python3.10/dist-packages (from pydantic<3,>=1->langchain) (4.10.0)\n",
            "Requirement already satisfied: charset-normalizer<4,>=2 in /usr/local/lib/python3.10/dist-packages (from requests<3,>=2->langchain) (3.3.2)\n",
            "Requirement already satisfied: idna<4,>=2.5 in /usr/local/lib/python3.10/dist-packages (from requests<3,>=2->langchain) (3.6)\n",
            "Requirement already satisfied: urllib3<3,>=1.21.1 in /usr/local/lib/python3.10/dist-packages (from requests<3,>=2->langchain) (2.0.7)\n",
            "Requirement already satisfied: certifi>=2017.4.17 in /usr/local/lib/python3.10/dist-packages (from requests<3,>=2->langchain) (2024.2.2)\n",
            "Requirement already satisfied: greenlet!=0.4.17 in /usr/local/lib/python3.10/dist-packages (from SQLAlchemy<3,>=1.4->langchain) (3.0.3)\n",
            "Collecting mypy-extensions>=0.3.0 (from typing-inspect<1,>=0.4.0->dataclasses-json<0.7,>=0.5.7->langchain)\n",
            "  Downloading mypy_extensions-1.0.0-py3-none-any.whl (4.7 kB)\n",
            "Installing collected packages: packaging, orjson, mypy-extensions, jsonpointer, typing-inspect, marshmallow, jsonpatch, langsmith, dataclasses-json, langchain-core, langchain-text-splitters, langchain-community, langchain\n",
            "  Attempting uninstall: packaging\n",
            "    Found existing installation: packaging 24.0\n",
            "    Uninstalling packaging-24.0:\n",
            "      Successfully uninstalled packaging-24.0\n",
            "Successfully installed dataclasses-json-0.6.4 jsonpatch-1.33 jsonpointer-2.4 langchain-0.1.14 langchain-community-0.0.30 langchain-core-0.1.37 langchain-text-splitters-0.0.1 langsmith-0.1.38 marshmallow-3.21.1 mypy-extensions-1.0.0 orjson-3.10.0 packaging-23.2 typing-inspect-0.9.0\n"
          ]
        }
      ],
      "source": [
        "import langchain\n",
        "from langchain.llms import OpenAI\n",
        "from langchain.indexes import GraphIndexCreator\n",
        "from langchain.chains import GraphQAChain\n",
        "from openai import OpenAI\n",
        "from langchain_community.document_loaders import TextLoader\n",
        "from langchain.text_splitter import TokenTextSplitter , RecursiveJsonSplitter\n",
        "from dotenv import load_dotenv\n",
        "load_dotenv()\n",
        "import os \n",
        "from langchain.graphs import Neo4jGraph\n",
        "import langchain_experimental\n",
        "from langchain_experimental.graph_transformers import LLMGraphTransformer\n",
        "import os\n",
        "from langchain_core.documents import Document\n",
        "from langchain_openai import ChatOpenAI\n",
        "from langchain_community.vectorstores import Neo4jVector\n",
        "from langchain_openai import OpenAIEmbeddings\n",
        "from langchain_core.pydantic_v1 import BaseModel, Field\n",
        "from typing import Tuple, List, Optional\n",
        "from langchain_core.prompts import ChatPromptTemplate\n",
        "from langchain_community.vectorstores.neo4j_vector import remove_lucene_chars\n",
        "from langchain_core.prompts import ChatPromptTemplate\n",
        "from langchain_core.prompts.prompt import PromptTemplate\n",
        "from langchain_core.runnables import ConfigurableField, RunnableParallel, RunnablePassthrough\n",
        "from langchain_core.runnables import (\n",
        "    RunnableBranch,\n",
        "    RunnableLambda,\n",
        "    RunnableParallel,\n",
        "    RunnablePassthrough,\n",
        ")\n",
        "from typing import Tuple, List, Optional\n",
        "from langchain_openai import ChatOpenAI\n",
        "from langchain_core.output_parsers import StrOutputParser\n",
        "from langchain_core.prompts import ChatPromptTemplate\n",
        "from langchain.memory import ConversationBufferMemory\n"
      ]
    },
    {
      "cell_type": "markdown",
      "metadata": {
        "id": "1lUkcOgS88KE"
      },
      "source": [
        "Clean the dataset to filter out only the noise disturbance classes of conversation."
      ]
    },
    {
      "cell_type": "code",
      "execution_count": 8,
      "metadata": {
        "id": "8059OSo59AgI"
      },
      "outputs": [],
      "source": [
        "conversation = []\n",
        "import json\n",
        "import pandas as pd\n",
        "dataset = pd.DataFrame()\n",
        "with open(r\"./user4.jsonl\", 'r') as file:\n",
        "    for line in file:\n",
        "        data = json.loads(line)\n",
        "        dataset = dataset._append(data , ignore_index = True)\n"
      ]
    },
    {
      "cell_type": "code",
      "execution_count": 9,
      "metadata": {
        "colab": {
          "base_uri": "https://localhost:8080/"
        },
        "id": "-cuGY3WG_t-O",
        "outputId": "199748e8-d51a-4cf2-e63c-808033b49dfb"
      },
      "outputs": [
        {
          "name": "stdout",
          "output_type": "stream",
          "text": [
            "{'SuspiciousActivity', 'NoiseDisturbance', 'DrugsAlcohol', 'AccidentTrafficParking', 'TheftLostItem', 'HarassmentAbuse', 'MentalHealth', 'unknown', 'EmergencyMessage', 'FacilitiesMaintenance'}\n"
          ]
        }
      ],
      "source": [
        "print(set(dataset[\"type\"]))"
      ]
    },
    {
      "cell_type": "code",
      "execution_count": 10,
      "metadata": {
        "id": "RF9iAaVLAPNS"
      },
      "outputs": [],
      "source": [
        "noise_disturbance_db = (dataset[dataset[\"type\"] == \"NoiseDisturbance\"])"
      ]
    },
    {
      "cell_type": "code",
      "execution_count": 11,
      "metadata": {
        "colab": {
          "base_uri": "https://localhost:8080/"
        },
        "id": "c5FQeSbvAWyn",
        "outputId": "a85436fc-6f2f-465f-cb26-64d91514c8cc"
      },
      "outputs": [
        {
          "name": "stdout",
          "output_type": "stream",
          "text": [
            "4931\n"
          ]
        }
      ],
      "source": [
        "conversation = \"\"\n",
        "cnt = 0\n",
        "for iter in (noise_disturbance_db[\"history\"][20:30]):\n",
        "    tc = \"\"\n",
        "    for item in iter:\n",
        "      conversation += (str(item[0])  + \" : \" +  str( item[1]) + \". \")\n",
        "\n",
        "\n",
        "conversations = {\"conversations\"  : conversation}\n",
        "conversations\n",
        "print(len(conversations[\"conversations\"]))"
      ]
    },
    {
      "cell_type": "code",
      "execution_count": 12,
      "metadata": {
        "colab": {
          "base_uri": "https://localhost:8080/"
        },
        "id": "PYLzajJ9TLDQ",
        "outputId": "9bbca6b8-c8d6-4724-c8fa-5979d6b6be35"
      },
      "outputs": [
        {
          "data": {
            "text/plain": [
              "{'conversations': \"User : Hi, could someone please come ask the person in Moffitt ### to turn off their music it is disturbing the people downstairs, beside him, and across the hall. People have asked him to turn it down, however he would not, and turned it up.. Dispatcher : I will notify the police, thank you.. User : Thank you. User : Hi, could someone please come ask the person in Moffitt ### to turn off their music it is disturbing the people downstairs, beside him, and across the hall. People have asked him to turn it down, however he would not, and turned it up.. Dispatcher : I will notify the police, thank you.. User : Thank you. User : Hi, was someone able to be sent out?. Dispatcher : Yes, they are onscene at this time.. Dispatcher : Would you like to speak to the officer?. User : No, but thank you. User : Did they stop and talk to him because it is still extremely loud. Dispatcher : They are still onscene.. User : Okay, thank you. User : I'm not sure who to contact about this, but please tell whoever is in charge to please send out an email telling students to stop replying all to emails! This has been a problem in 2023 past and it was felt with far more quickly. I know you probably get them too and it's annoying you too but now that there were no repercussions it seems they think they can just do it whenever they want. Thanks.. Dispatcher : I believe [University of California, Berkeley] sent out an email concerning this yesterday and took care of the problem. User : I never received that email and I don't think other students did either as they are replying all to a message right now :/. Dispatcher : What original email are they replying all to?. User : Micheal jones email about the delayed opening. Someone challenged him to a [University of California, Berkeley] contest and others are replying now.. Dispatcher : Thanks I let [University of California, Berkeley] know. User : Thank you. And I really never did receive an email to tell us not to. I just checked again.. User : Shrine and 10th. Appears to be intoxicated people were joking about smashing things into cars.. Dispatcher : Thank you for using LiveSafe. Where are they now? Which direction are they walking. User : John past Shrine. Can still hear them outside.. User : Shrine and 10th. Appears to be intoxicated people were joking about smashing things into cars.. Dispatcher : Thank you for using LiveSafe. Where are they now? Which direction are they walking. User : John past Shrine. Can still hear them outside.. Dispatcher : Can you tell me how many people are in the group and their descriptions?. User : I can only hear them from apartment window. And quickly looked out. Sounds like they went inside.. User : Could*. Dispatcher : Did you hear/see any damage?/. User : Didn't see, heard some cans getting thrown around. That's it.. User : No loud cracks, crashes, or loud bangs.. User : lubiak [ACRONYM] being really loud and annoying. i think they're drinking. Dispatcher : ok sending an Officer. User : thank you. it keeps happening in bursts and it’s too much. Dispatcher : ok. Dispatcher : Should be quiet now, let me know if they start up again. User : ok thanks. User : some bang sound a minute ago near the Los Angeles. no visible threat. User : I assume a car backfired or something. User : But felt I should notify. Dispatcher : thank you for contacting LAPD. does it sound like gunshots or something else?. Dispatcher : i apologize. i just saw that you said possibly a vehicle backfiring. Dispatcher : do you want to meet with an officer?. Dispatcher : what is your address please?. User : Ah, sorry, didn't notice the replies. User : I'm at 123 Main St, but there was only one bang, and nothing visibly wrong. User : ####(roughly) 123 Main St. [ACME Corporation] in the top story of the duplex. Extremely loud and disruptive. Intoxicated men yelling loudly and obnoxiously as well. Dispatcher : Thank You for using LiveSafe. Your information will be forwarded to an officer to investigate.. User : Thank you. User : Music disturb and noise from #th floor suite.. Dispatcher : Hi, what building are you in?. User : ### tremont. Dispatcher : I will send an officer over.. User : Thanks. User : There was some loud music and yelling coming from some boys outside my apartment that has woken me up. It has just recently stopped; however, I live at May 12th, 2023, New York City, and I believe it was coming from either 123 Main Street or the local high school. Unfortunately, I couldn't see the source of the noise from the windows in my apartment. These people should be given a highly fined ticket or put on academic probation or something for waking up their neighbors in the middle of the night. It's nearly 2:45 AM! It's terribly rude and disrespectful.. Dispatcher : Thank You for contacting New York City Police Department. Just to confirm the noise has stopped?. User : It continues to go on and off. It has come back on.. \"}"
            ]
          },
          "execution_count": 12,
          "metadata": {},
          "output_type": "execute_result"
        }
      ],
      "source": [
        "conversations"
      ]
    },
    {
      "cell_type": "code",
      "execution_count": 13,
      "metadata": {
        "colab": {
          "base_uri": "https://localhost:8080/"
        },
        "id": "b68lPSvrD8-a",
        "outputId": "f8b48dd3-18fe-4691-fa13-c454d01ce815"
      },
      "outputs": [
        {
          "name": "stdout",
          "output_type": "stream",
          "text": [
            "Collecting OpenAI\n",
            "  Downloading openai-1.14.3-py3-none-any.whl (262 kB)\n",
            "\u001b[?25l     \u001b[90m━━━━━━━━━━━━━━━━━━━━━━━━━━━━━━━━━━━━━━━━\u001b[0m \u001b[32m0.0/262.9 kB\u001b[0m \u001b[31m?\u001b[0m eta \u001b[36m-:--:--\u001b[0m\r\u001b[2K     \u001b[91m━━━━━━━━━━━━━━━━━━━━━━━━━━━━━━━━━━\u001b[0m\u001b[90m╺\u001b[0m\u001b[90m━━━━━\u001b[0m \u001b[32m225.3/262.9 kB\u001b[0m \u001b[31m6.5 MB/s\u001b[0m eta \u001b[36m0:00:01\u001b[0m\r\u001b[2K     \u001b[90m━━━━━━━━━━━━━━━━━━━━━━━━━━━━━━━━━━━━━━━━\u001b[0m \u001b[32m262.9/262.9 kB\u001b[0m \u001b[31m6.0 MB/s\u001b[0m eta \u001b[36m0:00:00\u001b[0m\n",
            "\u001b[?25hRequirement already satisfied: anyio<5,>=3.5.0 in /usr/local/lib/python3.10/dist-packages (from OpenAI) (3.7.1)\n",
            "Requirement already satisfied: distro<2,>=1.7.0 in /usr/lib/python3/dist-packages (from OpenAI) (1.7.0)\n",
            "Collecting httpx<1,>=0.23.0 (from OpenAI)\n",
            "  Downloading httpx-0.27.0-py3-none-any.whl (75 kB)\n",
            "\u001b[2K     \u001b[90m━━━━━━━━━━━━━━━━━━━━━━━━━━━━━━━━━━━━━━━━\u001b[0m \u001b[32m75.6/75.6 kB\u001b[0m \u001b[31m13.3 MB/s\u001b[0m eta \u001b[36m0:00:00\u001b[0m\n",
            "\u001b[?25hRequirement already satisfied: pydantic<3,>=1.9.0 in /usr/local/lib/python3.10/dist-packages (from OpenAI) (2.6.4)\n",
            "Requirement already satisfied: sniffio in /usr/local/lib/python3.10/dist-packages (from OpenAI) (1.3.1)\n",
            "Requirement already satisfied: tqdm>4 in /usr/local/lib/python3.10/dist-packages (from OpenAI) (4.66.2)\n",
            "Requirement already satisfied: typing-extensions<5,>=4.7 in /usr/local/lib/python3.10/dist-packages (from OpenAI) (4.10.0)\n",
            "Requirement already satisfied: idna>=2.8 in /usr/local/lib/python3.10/dist-packages (from anyio<5,>=3.5.0->OpenAI) (3.6)\n",
            "Requirement already satisfied: exceptiongroup in /usr/local/lib/python3.10/dist-packages (from anyio<5,>=3.5.0->OpenAI) (1.2.0)\n",
            "Requirement already satisfied: certifi in /usr/local/lib/python3.10/dist-packages (from httpx<1,>=0.23.0->OpenAI) (2024.2.2)\n",
            "Collecting httpcore==1.* (from httpx<1,>=0.23.0->OpenAI)\n",
            "  Downloading httpcore-1.0.5-py3-none-any.whl (77 kB)\n",
            "\u001b[2K     \u001b[90m━━━━━━━━━━━━━━━━━━━━━━━━━━━━━━━━━━━━━━━━\u001b[0m \u001b[32m77.9/77.9 kB\u001b[0m \u001b[31m11.9 MB/s\u001b[0m eta \u001b[36m0:00:00\u001b[0m\n",
            "\u001b[?25hCollecting h11<0.15,>=0.13 (from httpcore==1.*->httpx<1,>=0.23.0->OpenAI)\n",
            "  Downloading h11-0.14.0-py3-none-any.whl (58 kB)\n",
            "\u001b[2K     \u001b[90m━━━━━━━━━━━━━━━━━━━━━━━━━━━━━━━━━━━━━━━━\u001b[0m \u001b[32m58.3/58.3 kB\u001b[0m \u001b[31m8.8 MB/s\u001b[0m eta \u001b[36m0:00:00\u001b[0m\n",
            "\u001b[?25hRequirement already satisfied: annotated-types>=0.4.0 in /usr/local/lib/python3.10/dist-packages (from pydantic<3,>=1.9.0->OpenAI) (0.6.0)\n",
            "Requirement already satisfied: pydantic-core==2.16.3 in /usr/local/lib/python3.10/dist-packages (from pydantic<3,>=1.9.0->OpenAI) (2.16.3)\n",
            "Installing collected packages: h11, httpcore, httpx, OpenAI\n",
            "Successfully installed OpenAI-1.14.3 h11-0.14.0 httpcore-1.0.5 httpx-0.27.0\n",
            "ChatCompletionMessage(content='Given the dataset, here are the key entities and their relations:\\n\\n1. **Locations:**\\n   - Moffitt\\n   - University of California, Berkeley\\n   - Shrine and 10th\\n   - Los Angeles\\n   - 123 Main St\\n   - ### Tremont\\n   - New York City\\n\\n2. **Incidents:**\\n   - Noise Complaints\\n     - Loud music disturbing residents in Moffitt\\n     - Intoxicated individuals potentially damaging cars at Shrine and 10th\\n     - Noisy and possibly drunk people in the vicinity of ACME Corporation and Los Angeles\\n     - Loud music and yelling near 123 Main St, New York City\\n   - Email Reply-All Issue at the University of California, Berkeley\\n   - Public Intoxication and Disturbance\\n\\n3. **Actions Taken by Dispatcher:**\\n   - Notifying police about loud music in Moffitt\\n   - Confirming police are on the scene\\n   - Acknowledging the issue of excessive email replies at the University of California, Berkeley and reporting it\\n   - Sending an officer to address intoxicated individuals at Shrine and 10th\\n   - Sending an officer to investigate disturbances at ACME Corporation and 123 Main St\\n   - Responding to reports of loud music and yelling in New York City\\n\\n4. **Concerns Reported by Users:**\\n   - Disregard by an individual in Moffitt to lower music volume\\n   - Continuous reply-all to emails among students at the University of California, Berkeley\\n   - Observations of intoxicated individuals making threatening jokes at Shrine and 10th\\n   - Loud and disruptive behavior by intoxicated men at ACME Corporation\\n   - Disturbance due to loud music and yelling in New York City\\n   \\n5. **Requests and Suggestions by Users:**\\n   - Request for police intervention for noise complaints\\n   - Report of excessive reply-all to emails suggesting administrative action\\n   - Request for police to handle intoxicated individuals joking about damaging property\\n   - Suggestion for repercussions such as fines or academic probation for noise disturbances\\n\\nThis structure captures the main entities (locations, incidents, actions by the dispatcher, concerns, and user suggestions) and allows for organizing the data in a way that illustrates the relationships between the incidents reported, the locations they pertain to, the actions taken by the dispatch center, and the concerns or suggestions provided by users.', role='assistant', function_call=None, tool_calls=None)\n"
          ]
        }
      ],
      "source": [
        "#Skip this step\n",
        "!pip install OpenAI\n",
        "\n",
        "client = OpenAI()\n",
        "\n",
        "completion = client.chat.completions.create(\n",
        "  model=\"gpt-4-turbo-preview\",\n",
        "  messages=[\n",
        "    {\"role\": \"system\", \"content\": \"You are an assistant that generates a knowledge graph from the provided dataset.\"},\n",
        "    {\"role\": \"user\", \"content\": conversation}]\n",
        ")\n",
        "\n",
        "print(completion.choices[0].message)"
      ]
    },
    {
      "cell_type": "code",
      "execution_count": 15,
      "metadata": {
        "colab": {
          "base_uri": "https://localhost:8080/",
          "height": 121
        },
        "id": "F6n13cJZvpxr",
        "outputId": "9c9ef0fe-1a67-4010-f2a6-5b92331c9193"
      },
      "outputs": [
        {
          "data": {
            "text/html": [
              "<div style=\"max-width:800px; border: 1px solid var(--colab-border-color);\"><style>\n",
              "      pre.function-repr-contents {\n",
              "        overflow-x: auto;\n",
              "        padding: 8px 12px;\n",
              "        max-height: 500px;\n",
              "      }\n",
              "\n",
              "      pre.function-repr-contents.function-repr-contents-collapsed {\n",
              "        cursor: pointer;\n",
              "        max-height: 100px;\n",
              "      }\n",
              "    </style>\n",
              "    <pre style=\"white-space: initial; background:\n",
              "         var(--colab-secondary-surface-color); padding: 8px 12px;\n",
              "         border-bottom: 1px solid var(--colab-border-color);\"><b>langchain_core.document_loaders.base.BaseLoader.load</b><br/>def load() -&gt; List[Document]</pre><pre class=\"function-repr-contents function-repr-contents-collapsed\" style=\"\"><a class=\"filepath\" style=\"display:none\" href=\"#\">/usr/local/lib/python3.10/dist-packages/langchain_core/document_loaders/base.py</a>Load data into Document objects.</pre>\n",
              "      <script>\n",
              "      if (google.colab.kernel.accessAllowed && google.colab.files && google.colab.files.view) {\n",
              "        for (const element of document.querySelectorAll('.filepath')) {\n",
              "          element.style.display = 'block'\n",
              "          element.onclick = (event) => {\n",
              "            event.preventDefault();\n",
              "            event.stopPropagation();\n",
              "            google.colab.files.view(element.textContent, 27);\n",
              "          };\n",
              "        }\n",
              "      }\n",
              "      for (const element of document.querySelectorAll('.function-repr-contents')) {\n",
              "        element.onclick = (event) => {\n",
              "          event.preventDefault();\n",
              "          event.stopPropagation();\n",
              "          element.classList.toggle('function-repr-contents-collapsed');\n",
              "        };\n",
              "      }\n",
              "      </script>\n",
              "      </div>"
            ],
            "text/plain": [
              "<bound method BaseLoader.load of <langchain_community.document_loaders.text.TextLoader object at 0x7c29f224ba30>>"
            ]
          },
          "execution_count": 15,
          "metadata": {},
          "output_type": "execute_result"
        }
      ],
      "source": [
        "#load the document of the conversation.\n",
        "import json\n",
        "f = open('./convo_intent.json')\n",
        "convo_intent = json.load(f)\n",
        "loader = TextLoader(conversation)\n",
        "raw_documents = loader.load\n",
        "raw_documents\n"
      ]
    },
    {
      "cell_type": "code",
      "execution_count": 16,
      "metadata": {
        "colab": {
          "base_uri": "https://localhost:8080/",
          "height": 157
        },
        "id": "he6VJusRcmSd",
        "outputId": "aef75b0c-05a7-47e1-e209-493416d13b02"
      },
      "outputs": [
        {
          "data": {
            "application/vnd.google.colaboratory.intrinsic+json": {
              "type": "string"
            },
            "text/plain": [
              "\"User : Hi, could someone please come ask the person in Moffitt ### to turn off their music it is disturbing the people downstairs, beside him, and across the hall. People have asked him to turn it down, however he would not, and turned it up.. Dispatcher : I will notify the police, thank you.. User : Thank you. User : Hi, could someone please come ask the person in Moffitt ### to turn off their music it is disturbing the people downstairs, beside him, and across the hall. People have asked him to turn it down, however he would not, and turned it up.. Dispatcher : I will notify the police, thank you.. User : Thank you. User : Hi, was someone able to be sent out?. Dispatcher : Yes, they are onscene at this time.. Dispatcher : Would you like to speak to the officer?. User : No, but thank you. User : Did they stop and talk to him because it is still extremely loud. Dispatcher : They are still onscene.. User : Okay, thank you. User : I'm not sure who to contact about this, but please tell whoever is in charge to please send out an email telling students to stop replying all to emails! This has been a problem in 2023 past and it was felt with far more quickly. I know you probably get them too and it's annoying you too but now that there were no repercussions it seems they think they can just do it whenever they want. Thanks.. Dispatcher : I believe [University of California, Berkeley] sent out an email concerning this yesterday and took care of the problem. User : I never received that email and I don't think other students did either as they are replying all to a message right now :/. Dispatcher : What original email are they replying all to?. User : Micheal jones email about the delayed opening. Someone challenged him to a [University of California, Berkeley] contest and others are replying now.. Dispatcher : Thanks I let [University of California, Berkeley] know. User : Thank you. And I really never did receive an email to tell us not to. I just checked again.. User : Shrine and 10th. Appears to be intoxicated people were joking about smashing things into cars.. Dispatcher : Thank you for using LiveSafe. Where are they now? Which direction are they walking. User : John past Shrine. Can still hear them outside.. User : Shrine and 10th. Appears to be intoxicated people were joking about smashing things into cars.. Dispatcher : Thank you for using LiveSafe. Where are they now? Which direction are they walking. User : John past Shrine. Can still hear them outside.. Dispatcher : Can you tell me how many people are in the group and their descriptions?. User : I can only hear them from apartment window. And quickly looked out. Sounds like they went inside.. User : Could*. Dispatcher : Did you hear/see any damage?/. User : Didn't see, heard some cans getting thrown around. That's it.. User : No loud cracks, crashes, or loud bangs.. User : lubiak [ACRONYM] being really loud and annoying. i think they're drinking. Dispatcher : ok sending an Officer. User : thank you. it keeps happening in bursts and it’s too much. Dispatcher : ok. Dispatcher : Should be quiet now, let me know if they start up again. User : ok thanks. User : some bang sound a minute ago near the Los Angeles. no visible threat. User : I assume a car backfired or something. User : But felt I should notify. Dispatcher : thank you for contacting LAPD. does it sound like gunshots or something else?. Dispatcher : i apologize. i just saw that you said possibly a vehicle backfiring. Dispatcher : do you want to meet with an officer?. Dispatcher : what is your address please?. User : Ah, sorry, didn't notice the replies. User : I'm at 123 Main St, but there was only one bang, and nothing visibly wrong. User : ####(roughly) 123 Main St. [ACME Corporation] in the top story of the duplex. Extremely loud and disruptive. Intoxicated men yelling loudly and obnoxiously as well. Dispatcher : Thank You for using LiveSafe. Your information will be forwarded to an officer to investigate.. User : Thank you. User : Music disturb and noise from #th floor suite.. Dispatcher : Hi, what building are you in?. User : ### tremont. Dispatcher : I will send an officer over.. User : Thanks. User : There was some loud music and yelling coming from some boys outside my apartment that has woken me up. It has just recently stopped; however, I live at May 12th, 2023, New York City, and I believe it was coming from either 123 Main Street or the local high school. Unfortunately, I couldn't see the source of the noise from the windows in my apartment. These people should be given a highly fined ticket or put on academic probation or something for waking up their neighbors in the middle of the night. It's nearly 2:45 AM! It's terribly rude and disrespectful.. Dispatcher : Thank You for contacting New York City Police Department. Just to confirm the noise has stopped?. User : It continues to go on and off. It has come back on.. \""
            ]
          },
          "execution_count": 16,
          "metadata": {},
          "output_type": "execute_result"
        }
      ],
      "source": [
        "conversation\n"
      ]
    },
    {
      "cell_type": "code",
      "execution_count": 14,
      "metadata": {
        "colab": {
          "base_uri": "https://localhost:8080/"
        },
        "id": "qWYtV9_IG4dU",
        "outputId": "55a3704c-5c76-48b4-b390-4fe2bcf41e52"
      },
      "outputs": [
        {
          "name": "stdout",
          "output_type": "stream",
          "text": [
            "Collecting langchain-experimental\n",
            "  Downloading langchain_experimental-0.0.56-py3-none-any.whl (194 kB)\n",
            "\u001b[?25l     \u001b[90m━━━━━━━━━━━━━━━━━━━━━━━━━━━━━━━━━━━━━━━━\u001b[0m \u001b[32m0.0/194.1 kB\u001b[0m \u001b[31m?\u001b[0m eta \u001b[36m-:--:--\u001b[0m\r\u001b[2K     \u001b[91m━━━━━━━━━━━━━━━━━━━━━━━━━━━━━━━━━━━━━\u001b[0m\u001b[91m╸\u001b[0m\u001b[90m━━\u001b[0m \u001b[32m184.3/194.1 kB\u001b[0m \u001b[31m5.5 MB/s\u001b[0m eta \u001b[36m0:00:01\u001b[0m\r\u001b[2K     \u001b[90m━━━━━━━━━━━━━━━━━━━━━━━━━━━━━━━━━━━━━━━━\u001b[0m \u001b[32m194.1/194.1 kB\u001b[0m \u001b[31m4.9 MB/s\u001b[0m eta \u001b[36m0:00:00\u001b[0m\n",
            "\u001b[?25hRequirement already satisfied: langchain<0.2.0,>=0.1.14 in /usr/local/lib/python3.10/dist-packages (from langchain-experimental) (0.1.14)\n",
            "Requirement already satisfied: langchain-core<0.2.0,>=0.1.37 in /usr/local/lib/python3.10/dist-packages (from langchain-experimental) (0.1.37)\n",
            "Requirement already satisfied: PyYAML>=5.3 in /usr/local/lib/python3.10/dist-packages (from langchain<0.2.0,>=0.1.14->langchain-experimental) (6.0.1)\n",
            "Requirement already satisfied: SQLAlchemy<3,>=1.4 in /usr/local/lib/python3.10/dist-packages (from langchain<0.2.0,>=0.1.14->langchain-experimental) (2.0.29)\n",
            "Requirement already satisfied: aiohttp<4.0.0,>=3.8.3 in /usr/local/lib/python3.10/dist-packages (from langchain<0.2.0,>=0.1.14->langchain-experimental) (3.9.3)\n",
            "Requirement already satisfied: async-timeout<5.0.0,>=4.0.0 in /usr/local/lib/python3.10/dist-packages (from langchain<0.2.0,>=0.1.14->langchain-experimental) (4.0.3)\n",
            "Requirement already satisfied: dataclasses-json<0.7,>=0.5.7 in /usr/local/lib/python3.10/dist-packages (from langchain<0.2.0,>=0.1.14->langchain-experimental) (0.6.4)\n",
            "Requirement already satisfied: jsonpatch<2.0,>=1.33 in /usr/local/lib/python3.10/dist-packages (from langchain<0.2.0,>=0.1.14->langchain-experimental) (1.33)\n",
            "Requirement already satisfied: langchain-community<0.1,>=0.0.30 in /usr/local/lib/python3.10/dist-packages (from langchain<0.2.0,>=0.1.14->langchain-experimental) (0.0.30)\n",
            "Requirement already satisfied: langchain-text-splitters<0.1,>=0.0.1 in /usr/local/lib/python3.10/dist-packages (from langchain<0.2.0,>=0.1.14->langchain-experimental) (0.0.1)\n",
            "Requirement already satisfied: langsmith<0.2.0,>=0.1.17 in /usr/local/lib/python3.10/dist-packages (from langchain<0.2.0,>=0.1.14->langchain-experimental) (0.1.38)\n",
            "Requirement already satisfied: numpy<2,>=1 in /usr/local/lib/python3.10/dist-packages (from langchain<0.2.0,>=0.1.14->langchain-experimental) (1.25.2)\n",
            "Requirement already satisfied: pydantic<3,>=1 in /usr/local/lib/python3.10/dist-packages (from langchain<0.2.0,>=0.1.14->langchain-experimental) (2.6.4)\n",
            "Requirement already satisfied: requests<3,>=2 in /usr/local/lib/python3.10/dist-packages (from langchain<0.2.0,>=0.1.14->langchain-experimental) (2.31.0)\n",
            "Requirement already satisfied: tenacity<9.0.0,>=8.1.0 in /usr/local/lib/python3.10/dist-packages (from langchain<0.2.0,>=0.1.14->langchain-experimental) (8.2.3)\n",
            "Requirement already satisfied: packaging<24.0,>=23.2 in /usr/local/lib/python3.10/dist-packages (from langchain-core<0.2.0,>=0.1.37->langchain-experimental) (23.2)\n",
            "Requirement already satisfied: aiosignal>=1.1.2 in /usr/local/lib/python3.10/dist-packages (from aiohttp<4.0.0,>=3.8.3->langchain<0.2.0,>=0.1.14->langchain-experimental) (1.3.1)\n",
            "Requirement already satisfied: attrs>=17.3.0 in /usr/local/lib/python3.10/dist-packages (from aiohttp<4.0.0,>=3.8.3->langchain<0.2.0,>=0.1.14->langchain-experimental) (23.2.0)\n",
            "Requirement already satisfied: frozenlist>=1.1.1 in /usr/local/lib/python3.10/dist-packages (from aiohttp<4.0.0,>=3.8.3->langchain<0.2.0,>=0.1.14->langchain-experimental) (1.4.1)\n",
            "Requirement already satisfied: multidict<7.0,>=4.5 in /usr/local/lib/python3.10/dist-packages (from aiohttp<4.0.0,>=3.8.3->langchain<0.2.0,>=0.1.14->langchain-experimental) (6.0.5)\n",
            "Requirement already satisfied: yarl<2.0,>=1.0 in /usr/local/lib/python3.10/dist-packages (from aiohttp<4.0.0,>=3.8.3->langchain<0.2.0,>=0.1.14->langchain-experimental) (1.9.4)\n",
            "Requirement already satisfied: marshmallow<4.0.0,>=3.18.0 in /usr/local/lib/python3.10/dist-packages (from dataclasses-json<0.7,>=0.5.7->langchain<0.2.0,>=0.1.14->langchain-experimental) (3.21.1)\n",
            "Requirement already satisfied: typing-inspect<1,>=0.4.0 in /usr/local/lib/python3.10/dist-packages (from dataclasses-json<0.7,>=0.5.7->langchain<0.2.0,>=0.1.14->langchain-experimental) (0.9.0)\n",
            "Requirement already satisfied: jsonpointer>=1.9 in /usr/local/lib/python3.10/dist-packages (from jsonpatch<2.0,>=1.33->langchain<0.2.0,>=0.1.14->langchain-experimental) (2.4)\n",
            "Requirement already satisfied: orjson<4.0.0,>=3.9.14 in /usr/local/lib/python3.10/dist-packages (from langsmith<0.2.0,>=0.1.17->langchain<0.2.0,>=0.1.14->langchain-experimental) (3.10.0)\n",
            "Requirement already satisfied: annotated-types>=0.4.0 in /usr/local/lib/python3.10/dist-packages (from pydantic<3,>=1->langchain<0.2.0,>=0.1.14->langchain-experimental) (0.6.0)\n",
            "Requirement already satisfied: pydantic-core==2.16.3 in /usr/local/lib/python3.10/dist-packages (from pydantic<3,>=1->langchain<0.2.0,>=0.1.14->langchain-experimental) (2.16.3)\n",
            "Requirement already satisfied: typing-extensions>=4.6.1 in /usr/local/lib/python3.10/dist-packages (from pydantic<3,>=1->langchain<0.2.0,>=0.1.14->langchain-experimental) (4.10.0)\n",
            "Requirement already satisfied: charset-normalizer<4,>=2 in /usr/local/lib/python3.10/dist-packages (from requests<3,>=2->langchain<0.2.0,>=0.1.14->langchain-experimental) (3.3.2)\n",
            "Requirement already satisfied: idna<4,>=2.5 in /usr/local/lib/python3.10/dist-packages (from requests<3,>=2->langchain<0.2.0,>=0.1.14->langchain-experimental) (3.6)\n",
            "Requirement already satisfied: urllib3<3,>=1.21.1 in /usr/local/lib/python3.10/dist-packages (from requests<3,>=2->langchain<0.2.0,>=0.1.14->langchain-experimental) (2.0.7)\n",
            "Requirement already satisfied: certifi>=2017.4.17 in /usr/local/lib/python3.10/dist-packages (from requests<3,>=2->langchain<0.2.0,>=0.1.14->langchain-experimental) (2024.2.2)\n",
            "Requirement already satisfied: greenlet!=0.4.17 in /usr/local/lib/python3.10/dist-packages (from SQLAlchemy<3,>=1.4->langchain<0.2.0,>=0.1.14->langchain-experimental) (3.0.3)\n",
            "Requirement already satisfied: mypy-extensions>=0.3.0 in /usr/local/lib/python3.10/dist-packages (from typing-inspect<1,>=0.4.0->dataclasses-json<0.7,>=0.5.7->langchain<0.2.0,>=0.1.14->langchain-experimental) (1.0.0)\n",
            "Installing collected packages: langchain-experimental\n",
            "Successfully installed langchain-experimental-0.0.56\n",
            "Requirement already satisfied: openai in /usr/local/lib/python3.10/dist-packages (1.14.3)\n",
            "Requirement already satisfied: anyio<5,>=3.5.0 in /usr/local/lib/python3.10/dist-packages (from openai) (3.7.1)\n",
            "Requirement already satisfied: distro<2,>=1.7.0 in /usr/lib/python3/dist-packages (from openai) (1.7.0)\n",
            "Requirement already satisfied: httpx<1,>=0.23.0 in /usr/local/lib/python3.10/dist-packages (from openai) (0.27.0)\n",
            "Requirement already satisfied: pydantic<3,>=1.9.0 in /usr/local/lib/python3.10/dist-packages (from openai) (2.6.4)\n",
            "Requirement already satisfied: sniffio in /usr/local/lib/python3.10/dist-packages (from openai) (1.3.1)\n",
            "Requirement already satisfied: tqdm>4 in /usr/local/lib/python3.10/dist-packages (from openai) (4.66.2)\n",
            "Requirement already satisfied: typing-extensions<5,>=4.7 in /usr/local/lib/python3.10/dist-packages (from openai) (4.10.0)\n",
            "Requirement already satisfied: idna>=2.8 in /usr/local/lib/python3.10/dist-packages (from anyio<5,>=3.5.0->openai) (3.6)\n",
            "Requirement already satisfied: exceptiongroup in /usr/local/lib/python3.10/dist-packages (from anyio<5,>=3.5.0->openai) (1.2.0)\n",
            "Requirement already satisfied: certifi in /usr/local/lib/python3.10/dist-packages (from httpx<1,>=0.23.0->openai) (2024.2.2)\n",
            "Requirement already satisfied: httpcore==1.* in /usr/local/lib/python3.10/dist-packages (from httpx<1,>=0.23.0->openai) (1.0.5)\n",
            "Requirement already satisfied: h11<0.15,>=0.13 in /usr/local/lib/python3.10/dist-packages (from httpcore==1.*->httpx<1,>=0.23.0->openai) (0.14.0)\n",
            "Requirement already satisfied: annotated-types>=0.4.0 in /usr/local/lib/python3.10/dist-packages (from pydantic<3,>=1.9.0->openai) (0.6.0)\n",
            "Requirement already satisfied: pydantic-core==2.16.3 in /usr/local/lib/python3.10/dist-packages (from pydantic<3,>=1.9.0->openai) (2.16.3)\n",
            "Collecting langchain_openai\n",
            "  Downloading langchain_openai-0.1.1-py3-none-any.whl (32 kB)\n",
            "Requirement already satisfied: langchain-core<0.2.0,>=0.1.33 in /usr/local/lib/python3.10/dist-packages (from langchain_openai) (0.1.37)\n",
            "Requirement already satisfied: openai<2.0.0,>=1.10.0 in /usr/local/lib/python3.10/dist-packages (from langchain_openai) (1.14.3)\n",
            "Collecting tiktoken<1,>=0.5.2 (from langchain_openai)\n",
            "  Downloading tiktoken-0.6.0-cp310-cp310-manylinux_2_17_x86_64.manylinux2014_x86_64.whl (1.8 MB)\n",
            "\u001b[2K     \u001b[90m━━━━━━━━━━━━━━━━━━━━━━━━━━━━━━━━━━━━━━━━\u001b[0m \u001b[32m1.8/1.8 MB\u001b[0m \u001b[31m26.0 MB/s\u001b[0m eta \u001b[36m0:00:00\u001b[0m\n",
            "\u001b[?25hRequirement already satisfied: PyYAML>=5.3 in /usr/local/lib/python3.10/dist-packages (from langchain-core<0.2.0,>=0.1.33->langchain_openai) (6.0.1)\n",
            "Requirement already satisfied: jsonpatch<2.0,>=1.33 in /usr/local/lib/python3.10/dist-packages (from langchain-core<0.2.0,>=0.1.33->langchain_openai) (1.33)\n",
            "Requirement already satisfied: langsmith<0.2.0,>=0.1.0 in /usr/local/lib/python3.10/dist-packages (from langchain-core<0.2.0,>=0.1.33->langchain_openai) (0.1.38)\n",
            "Requirement already satisfied: packaging<24.0,>=23.2 in /usr/local/lib/python3.10/dist-packages (from langchain-core<0.2.0,>=0.1.33->langchain_openai) (23.2)\n",
            "Requirement already satisfied: pydantic<3,>=1 in /usr/local/lib/python3.10/dist-packages (from langchain-core<0.2.0,>=0.1.33->langchain_openai) (2.6.4)\n",
            "Requirement already satisfied: requests<3,>=2 in /usr/local/lib/python3.10/dist-packages (from langchain-core<0.2.0,>=0.1.33->langchain_openai) (2.31.0)\n",
            "Requirement already satisfied: tenacity<9.0.0,>=8.1.0 in /usr/local/lib/python3.10/dist-packages (from langchain-core<0.2.0,>=0.1.33->langchain_openai) (8.2.3)\n",
            "Requirement already satisfied: anyio<5,>=3.5.0 in /usr/local/lib/python3.10/dist-packages (from openai<2.0.0,>=1.10.0->langchain_openai) (3.7.1)\n",
            "Requirement already satisfied: distro<2,>=1.7.0 in /usr/lib/python3/dist-packages (from openai<2.0.0,>=1.10.0->langchain_openai) (1.7.0)\n",
            "Requirement already satisfied: httpx<1,>=0.23.0 in /usr/local/lib/python3.10/dist-packages (from openai<2.0.0,>=1.10.0->langchain_openai) (0.27.0)\n",
            "Requirement already satisfied: sniffio in /usr/local/lib/python3.10/dist-packages (from openai<2.0.0,>=1.10.0->langchain_openai) (1.3.1)\n",
            "Requirement already satisfied: tqdm>4 in /usr/local/lib/python3.10/dist-packages (from openai<2.0.0,>=1.10.0->langchain_openai) (4.66.2)\n",
            "Requirement already satisfied: typing-extensions<5,>=4.7 in /usr/local/lib/python3.10/dist-packages (from openai<2.0.0,>=1.10.0->langchain_openai) (4.10.0)\n",
            "Requirement already satisfied: regex>=2022.1.18 in /usr/local/lib/python3.10/dist-packages (from tiktoken<1,>=0.5.2->langchain_openai) (2023.12.25)\n",
            "Requirement already satisfied: idna>=2.8 in /usr/local/lib/python3.10/dist-packages (from anyio<5,>=3.5.0->openai<2.0.0,>=1.10.0->langchain_openai) (3.6)\n",
            "Requirement already satisfied: exceptiongroup in /usr/local/lib/python3.10/dist-packages (from anyio<5,>=3.5.0->openai<2.0.0,>=1.10.0->langchain_openai) (1.2.0)\n",
            "Requirement already satisfied: certifi in /usr/local/lib/python3.10/dist-packages (from httpx<1,>=0.23.0->openai<2.0.0,>=1.10.0->langchain_openai) (2024.2.2)\n",
            "Requirement already satisfied: httpcore==1.* in /usr/local/lib/python3.10/dist-packages (from httpx<1,>=0.23.0->openai<2.0.0,>=1.10.0->langchain_openai) (1.0.5)\n",
            "Requirement already satisfied: h11<0.15,>=0.13 in /usr/local/lib/python3.10/dist-packages (from httpcore==1.*->httpx<1,>=0.23.0->openai<2.0.0,>=1.10.0->langchain_openai) (0.14.0)\n",
            "Requirement already satisfied: jsonpointer>=1.9 in /usr/local/lib/python3.10/dist-packages (from jsonpatch<2.0,>=1.33->langchain-core<0.2.0,>=0.1.33->langchain_openai) (2.4)\n",
            "Requirement already satisfied: orjson<4.0.0,>=3.9.14 in /usr/local/lib/python3.10/dist-packages (from langsmith<0.2.0,>=0.1.0->langchain-core<0.2.0,>=0.1.33->langchain_openai) (3.10.0)\n",
            "Requirement already satisfied: annotated-types>=0.4.0 in /usr/local/lib/python3.10/dist-packages (from pydantic<3,>=1->langchain-core<0.2.0,>=0.1.33->langchain_openai) (0.6.0)\n",
            "Requirement already satisfied: pydantic-core==2.16.3 in /usr/local/lib/python3.10/dist-packages (from pydantic<3,>=1->langchain-core<0.2.0,>=0.1.33->langchain_openai) (2.16.3)\n",
            "Requirement already satisfied: charset-normalizer<4,>=2 in /usr/local/lib/python3.10/dist-packages (from requests<3,>=2->langchain-core<0.2.0,>=0.1.33->langchain_openai) (3.3.2)\n",
            "Requirement already satisfied: urllib3<3,>=1.21.1 in /usr/local/lib/python3.10/dist-packages (from requests<3,>=2->langchain-core<0.2.0,>=0.1.33->langchain_openai) (2.0.7)\n",
            "Installing collected packages: tiktoken, langchain_openai\n",
            "Successfully installed langchain_openai-0.1.1 tiktoken-0.6.0\n"
          ]
        }
      ],
      "source": [
        "!pip install langchain-experimental\n",
        "!pip install openai\n",
        "!pip install langchain_openai"
      ]
    },
    {
      "cell_type": "code",
      "execution_count": 15,
      "metadata": {
        "colab": {
          "base_uri": "https://localhost:8080/"
        },
        "id": "jIhi6g2B3Saw",
        "outputId": "8e22eec7-0f85-4fdf-f143-45de80105a2e"
      },
      "outputs": [
        {
          "name": "stdout",
          "output_type": "stream",
          "text": [
            "Requirement already satisfied: tiktoken in /usr/local/lib/python3.10/dist-packages (0.6.0)\n",
            "Requirement already satisfied: regex>=2022.1.18 in /usr/local/lib/python3.10/dist-packages (from tiktoken) (2023.12.25)\n",
            "Requirement already satisfied: requests>=2.26.0 in /usr/local/lib/python3.10/dist-packages (from tiktoken) (2.31.0)\n",
            "Requirement already satisfied: charset-normalizer<4,>=2 in /usr/local/lib/python3.10/dist-packages (from requests>=2.26.0->tiktoken) (3.3.2)\n",
            "Requirement already satisfied: idna<4,>=2.5 in /usr/local/lib/python3.10/dist-packages (from requests>=2.26.0->tiktoken) (3.6)\n",
            "Requirement already satisfied: urllib3<3,>=1.21.1 in /usr/local/lib/python3.10/dist-packages (from requests>=2.26.0->tiktoken) (2.0.7)\n",
            "Requirement already satisfied: certifi>=2017.4.17 in /usr/local/lib/python3.10/dist-packages (from requests>=2.26.0->tiktoken) (2024.2.2)\n"
          ]
        },
        {
          "data": {
            "text/plain": [
              "[Document(page_content='U'),\n",
              " Document(page_content='s'),\n",
              " Document(page_content='e'),\n",
              " Document(page_content='r'),\n",
              " Document(page_content=' '),\n",
              " Document(page_content=':'),\n",
              " Document(page_content=' '),\n",
              " Document(page_content='H'),\n",
              " Document(page_content='i'),\n",
              " Document(page_content=','),\n",
              " Document(page_content=' '),\n",
              " Document(page_content='c'),\n",
              " Document(page_content='o'),\n",
              " Document(page_content='u'),\n",
              " Document(page_content='l'),\n",
              " Document(page_content='d'),\n",
              " Document(page_content=' '),\n",
              " Document(page_content='s'),\n",
              " Document(page_content='o'),\n",
              " Document(page_content='m'),\n",
              " Document(page_content='e'),\n",
              " Document(page_content='o'),\n",
              " Document(page_content='n'),\n",
              " Document(page_content='e'),\n",
              " Document(page_content=' '),\n",
              " Document(page_content='p'),\n",
              " Document(page_content='l'),\n",
              " Document(page_content='e'),\n",
              " Document(page_content='a'),\n",
              " Document(page_content='s'),\n",
              " Document(page_content='e'),\n",
              " Document(page_content=' '),\n",
              " Document(page_content='c'),\n",
              " Document(page_content='o'),\n",
              " Document(page_content='m'),\n",
              " Document(page_content='e'),\n",
              " Document(page_content=' '),\n",
              " Document(page_content='a'),\n",
              " Document(page_content='s'),\n",
              " Document(page_content='k'),\n",
              " Document(page_content=' '),\n",
              " Document(page_content='t'),\n",
              " Document(page_content='h'),\n",
              " Document(page_content='e'),\n",
              " Document(page_content=' '),\n",
              " Document(page_content='p'),\n",
              " Document(page_content='e'),\n",
              " Document(page_content='r'),\n",
              " Document(page_content='s'),\n",
              " Document(page_content='o'),\n",
              " Document(page_content='n'),\n",
              " Document(page_content=' '),\n",
              " Document(page_content='i'),\n",
              " Document(page_content='n'),\n",
              " Document(page_content=' '),\n",
              " Document(page_content='M'),\n",
              " Document(page_content='o'),\n",
              " Document(page_content='f'),\n",
              " Document(page_content='f'),\n",
              " Document(page_content='i'),\n",
              " Document(page_content='t'),\n",
              " Document(page_content='t'),\n",
              " Document(page_content=' '),\n",
              " Document(page_content='#'),\n",
              " Document(page_content='#'),\n",
              " Document(page_content='#'),\n",
              " Document(page_content=' '),\n",
              " Document(page_content='t'),\n",
              " Document(page_content='o'),\n",
              " Document(page_content=' '),\n",
              " Document(page_content='t'),\n",
              " Document(page_content='u'),\n",
              " Document(page_content='r'),\n",
              " Document(page_content='n'),\n",
              " Document(page_content=' '),\n",
              " Document(page_content='o'),\n",
              " Document(page_content='f'),\n",
              " Document(page_content='f'),\n",
              " Document(page_content=' '),\n",
              " Document(page_content='t'),\n",
              " Document(page_content='h'),\n",
              " Document(page_content='e'),\n",
              " Document(page_content='i'),\n",
              " Document(page_content='r'),\n",
              " Document(page_content=' '),\n",
              " Document(page_content='m'),\n",
              " Document(page_content='u'),\n",
              " Document(page_content='s'),\n",
              " Document(page_content='i'),\n",
              " Document(page_content='c'),\n",
              " Document(page_content=' '),\n",
              " Document(page_content='i'),\n",
              " Document(page_content='t'),\n",
              " Document(page_content=' '),\n",
              " Document(page_content='i'),\n",
              " Document(page_content='s'),\n",
              " Document(page_content=' '),\n",
              " Document(page_content='d'),\n",
              " Document(page_content='i'),\n",
              " Document(page_content='s'),\n",
              " Document(page_content='t'),\n",
              " Document(page_content='u'),\n",
              " Document(page_content='r'),\n",
              " Document(page_content='b'),\n",
              " Document(page_content='i'),\n",
              " Document(page_content='n'),\n",
              " Document(page_content='g'),\n",
              " Document(page_content=' '),\n",
              " Document(page_content='t'),\n",
              " Document(page_content='h'),\n",
              " Document(page_content='e'),\n",
              " Document(page_content=' '),\n",
              " Document(page_content='p'),\n",
              " Document(page_content='e'),\n",
              " Document(page_content='o'),\n",
              " Document(page_content='p'),\n",
              " Document(page_content='l'),\n",
              " Document(page_content='e'),\n",
              " Document(page_content=' '),\n",
              " Document(page_content='d'),\n",
              " Document(page_content='o'),\n",
              " Document(page_content='w'),\n",
              " Document(page_content='n'),\n",
              " Document(page_content='s'),\n",
              " Document(page_content='t'),\n",
              " Document(page_content='a'),\n",
              " Document(page_content='i'),\n",
              " Document(page_content='r'),\n",
              " Document(page_content='s'),\n",
              " Document(page_content=','),\n",
              " Document(page_content=' '),\n",
              " Document(page_content='b'),\n",
              " Document(page_content='e'),\n",
              " Document(page_content='s'),\n",
              " Document(page_content='i'),\n",
              " Document(page_content='d'),\n",
              " Document(page_content='e'),\n",
              " Document(page_content=' '),\n",
              " Document(page_content='h'),\n",
              " Document(page_content='i'),\n",
              " Document(page_content='m'),\n",
              " Document(page_content=','),\n",
              " Document(page_content=' '),\n",
              " Document(page_content='a'),\n",
              " Document(page_content='n'),\n",
              " Document(page_content='d'),\n",
              " Document(page_content=' '),\n",
              " Document(page_content='a'),\n",
              " Document(page_content='c'),\n",
              " Document(page_content='r'),\n",
              " Document(page_content='o'),\n",
              " Document(page_content='s'),\n",
              " Document(page_content='s'),\n",
              " Document(page_content=' '),\n",
              " Document(page_content='t'),\n",
              " Document(page_content='h'),\n",
              " Document(page_content='e'),\n",
              " Document(page_content=' '),\n",
              " Document(page_content='h'),\n",
              " Document(page_content='a'),\n",
              " Document(page_content='l'),\n",
              " Document(page_content='l'),\n",
              " Document(page_content='.'),\n",
              " Document(page_content=' '),\n",
              " Document(page_content='P'),\n",
              " Document(page_content='e'),\n",
              " Document(page_content='o'),\n",
              " Document(page_content='p'),\n",
              " Document(page_content='l'),\n",
              " Document(page_content='e'),\n",
              " Document(page_content=' '),\n",
              " Document(page_content='h'),\n",
              " Document(page_content='a'),\n",
              " Document(page_content='v'),\n",
              " Document(page_content='e'),\n",
              " Document(page_content=' '),\n",
              " Document(page_content='a'),\n",
              " Document(page_content='s'),\n",
              " Document(page_content='k'),\n",
              " Document(page_content='e'),\n",
              " Document(page_content='d'),\n",
              " Document(page_content=' '),\n",
              " Document(page_content='h'),\n",
              " Document(page_content='i'),\n",
              " Document(page_content='m'),\n",
              " Document(page_content=' '),\n",
              " Document(page_content='t'),\n",
              " Document(page_content='o'),\n",
              " Document(page_content=' '),\n",
              " Document(page_content='t'),\n",
              " Document(page_content='u'),\n",
              " Document(page_content='r'),\n",
              " Document(page_content='n'),\n",
              " Document(page_content=' '),\n",
              " Document(page_content='i'),\n",
              " Document(page_content='t'),\n",
              " Document(page_content=' '),\n",
              " Document(page_content='d'),\n",
              " Document(page_content='o'),\n",
              " Document(page_content='w'),\n",
              " Document(page_content='n'),\n",
              " Document(page_content=','),\n",
              " Document(page_content=' '),\n",
              " Document(page_content='h'),\n",
              " Document(page_content='o'),\n",
              " Document(page_content='w'),\n",
              " Document(page_content='e'),\n",
              " Document(page_content='v'),\n",
              " Document(page_content='e'),\n",
              " Document(page_content='r'),\n",
              " Document(page_content=' '),\n",
              " Document(page_content='h'),\n",
              " Document(page_content='e'),\n",
              " Document(page_content=' '),\n",
              " Document(page_content='w'),\n",
              " Document(page_content='o'),\n",
              " Document(page_content='u'),\n",
              " Document(page_content='l'),\n",
              " Document(page_content='d'),\n",
              " Document(page_content=' '),\n",
              " Document(page_content='n'),\n",
              " Document(page_content='o'),\n",
              " Document(page_content='t'),\n",
              " Document(page_content=','),\n",
              " Document(page_content=' '),\n",
              " Document(page_content='a'),\n",
              " Document(page_content='n'),\n",
              " Document(page_content='d'),\n",
              " Document(page_content=' '),\n",
              " Document(page_content='t'),\n",
              " Document(page_content='u'),\n",
              " Document(page_content='r'),\n",
              " Document(page_content='n'),\n",
              " Document(page_content='e'),\n",
              " Document(page_content='d'),\n",
              " Document(page_content=' '),\n",
              " Document(page_content='i'),\n",
              " Document(page_content='t'),\n",
              " Document(page_content=' '),\n",
              " Document(page_content='u'),\n",
              " Document(page_content='p'),\n",
              " Document(page_content='.'),\n",
              " Document(page_content='.'),\n",
              " Document(page_content=' '),\n",
              " Document(page_content='D'),\n",
              " Document(page_content='i'),\n",
              " Document(page_content='s'),\n",
              " Document(page_content='p'),\n",
              " Document(page_content='a'),\n",
              " Document(page_content='t'),\n",
              " Document(page_content='c'),\n",
              " Document(page_content='h'),\n",
              " Document(page_content='e'),\n",
              " Document(page_content='r'),\n",
              " Document(page_content=' '),\n",
              " Document(page_content=':'),\n",
              " Document(page_content=' '),\n",
              " Document(page_content='I'),\n",
              " Document(page_content=' '),\n",
              " Document(page_content='w'),\n",
              " Document(page_content='i'),\n",
              " Document(page_content='l'),\n",
              " Document(page_content='l'),\n",
              " Document(page_content=' '),\n",
              " Document(page_content='n'),\n",
              " Document(page_content='o'),\n",
              " Document(page_content='t'),\n",
              " Document(page_content='i'),\n",
              " Document(page_content='f'),\n",
              " Document(page_content='y'),\n",
              " Document(page_content=' '),\n",
              " Document(page_content='t'),\n",
              " Document(page_content='h'),\n",
              " Document(page_content='e'),\n",
              " Document(page_content=' '),\n",
              " Document(page_content='p'),\n",
              " Document(page_content='o'),\n",
              " Document(page_content='l'),\n",
              " Document(page_content='i'),\n",
              " Document(page_content='c'),\n",
              " Document(page_content='e'),\n",
              " Document(page_content=','),\n",
              " Document(page_content=' '),\n",
              " Document(page_content='t'),\n",
              " Document(page_content='h'),\n",
              " Document(page_content='a'),\n",
              " Document(page_content='n'),\n",
              " Document(page_content='k'),\n",
              " Document(page_content=' '),\n",
              " Document(page_content='y'),\n",
              " Document(page_content='o'),\n",
              " Document(page_content='u'),\n",
              " Document(page_content='.'),\n",
              " Document(page_content='.'),\n",
              " Document(page_content=' '),\n",
              " Document(page_content='U'),\n",
              " Document(page_content='s'),\n",
              " Document(page_content='e'),\n",
              " Document(page_content='r'),\n",
              " Document(page_content=' '),\n",
              " Document(page_content=':'),\n",
              " Document(page_content=' '),\n",
              " Document(page_content='T'),\n",
              " Document(page_content='h'),\n",
              " Document(page_content='a'),\n",
              " Document(page_content='n'),\n",
              " Document(page_content='k'),\n",
              " Document(page_content=' '),\n",
              " Document(page_content='y'),\n",
              " Document(page_content='o'),\n",
              " Document(page_content='u'),\n",
              " Document(page_content='.'),\n",
              " Document(page_content=' '),\n",
              " Document(page_content='U'),\n",
              " Document(page_content='s'),\n",
              " Document(page_content='e'),\n",
              " Document(page_content='r'),\n",
              " Document(page_content=' '),\n",
              " Document(page_content=':'),\n",
              " Document(page_content=' '),\n",
              " Document(page_content='H'),\n",
              " Document(page_content='i'),\n",
              " Document(page_content=','),\n",
              " Document(page_content=' '),\n",
              " Document(page_content='c'),\n",
              " Document(page_content='o'),\n",
              " Document(page_content='u'),\n",
              " Document(page_content='l'),\n",
              " Document(page_content='d'),\n",
              " Document(page_content=' '),\n",
              " Document(page_content='s'),\n",
              " Document(page_content='o'),\n",
              " Document(page_content='m'),\n",
              " Document(page_content='e'),\n",
              " Document(page_content='o'),\n",
              " Document(page_content='n'),\n",
              " Document(page_content='e'),\n",
              " Document(page_content=' '),\n",
              " Document(page_content='p'),\n",
              " Document(page_content='l'),\n",
              " Document(page_content='e'),\n",
              " Document(page_content='a'),\n",
              " Document(page_content='s'),\n",
              " Document(page_content='e'),\n",
              " Document(page_content=' '),\n",
              " Document(page_content='c'),\n",
              " Document(page_content='o'),\n",
              " Document(page_content='m'),\n",
              " Document(page_content='e'),\n",
              " Document(page_content=' '),\n",
              " Document(page_content='a'),\n",
              " Document(page_content='s'),\n",
              " Document(page_content='k'),\n",
              " Document(page_content=' '),\n",
              " Document(page_content='t'),\n",
              " Document(page_content='h'),\n",
              " Document(page_content='e'),\n",
              " Document(page_content=' '),\n",
              " Document(page_content='p'),\n",
              " Document(page_content='e'),\n",
              " Document(page_content='r'),\n",
              " Document(page_content='s'),\n",
              " Document(page_content='o'),\n",
              " Document(page_content='n'),\n",
              " Document(page_content=' '),\n",
              " Document(page_content='i'),\n",
              " Document(page_content='n'),\n",
              " Document(page_content=' '),\n",
              " Document(page_content='M'),\n",
              " Document(page_content='o'),\n",
              " Document(page_content='f'),\n",
              " Document(page_content='f'),\n",
              " Document(page_content='i'),\n",
              " Document(page_content='t'),\n",
              " Document(page_content='t'),\n",
              " Document(page_content=' '),\n",
              " Document(page_content='#'),\n",
              " Document(page_content='#'),\n",
              " Document(page_content='#'),\n",
              " Document(page_content=' '),\n",
              " Document(page_content='t'),\n",
              " Document(page_content='o'),\n",
              " Document(page_content=' '),\n",
              " Document(page_content='t'),\n",
              " Document(page_content='u'),\n",
              " Document(page_content='r'),\n",
              " Document(page_content='n'),\n",
              " Document(page_content=' '),\n",
              " Document(page_content='o'),\n",
              " Document(page_content='f'),\n",
              " Document(page_content='f'),\n",
              " Document(page_content=' '),\n",
              " Document(page_content='t'),\n",
              " Document(page_content='h'),\n",
              " Document(page_content='e'),\n",
              " Document(page_content='i'),\n",
              " Document(page_content='r'),\n",
              " Document(page_content=' '),\n",
              " Document(page_content='m'),\n",
              " Document(page_content='u'),\n",
              " Document(page_content='s'),\n",
              " Document(page_content='i'),\n",
              " Document(page_content='c'),\n",
              " Document(page_content=' '),\n",
              " Document(page_content='i'),\n",
              " Document(page_content='t'),\n",
              " Document(page_content=' '),\n",
              " Document(page_content='i'),\n",
              " Document(page_content='s'),\n",
              " Document(page_content=' '),\n",
              " Document(page_content='d'),\n",
              " Document(page_content='i'),\n",
              " Document(page_content='s'),\n",
              " Document(page_content='t'),\n",
              " Document(page_content='u'),\n",
              " Document(page_content='r'),\n",
              " Document(page_content='b'),\n",
              " Document(page_content='i'),\n",
              " Document(page_content='n'),\n",
              " Document(page_content='g'),\n",
              " Document(page_content=' '),\n",
              " Document(page_content='t'),\n",
              " Document(page_content='h'),\n",
              " Document(page_content='e'),\n",
              " Document(page_content=' '),\n",
              " Document(page_content='p'),\n",
              " Document(page_content='e'),\n",
              " Document(page_content='o'),\n",
              " Document(page_content='p'),\n",
              " Document(page_content='l'),\n",
              " Document(page_content='e'),\n",
              " Document(page_content=' '),\n",
              " Document(page_content='d'),\n",
              " Document(page_content='o'),\n",
              " Document(page_content='w'),\n",
              " Document(page_content='n'),\n",
              " Document(page_content='s'),\n",
              " Document(page_content='t'),\n",
              " Document(page_content='a'),\n",
              " Document(page_content='i'),\n",
              " Document(page_content='r'),\n",
              " Document(page_content='s'),\n",
              " Document(page_content=','),\n",
              " Document(page_content=' '),\n",
              " Document(page_content='b'),\n",
              " Document(page_content='e'),\n",
              " Document(page_content='s'),\n",
              " Document(page_content='i'),\n",
              " Document(page_content='d'),\n",
              " Document(page_content='e'),\n",
              " Document(page_content=' '),\n",
              " Document(page_content='h'),\n",
              " Document(page_content='i'),\n",
              " Document(page_content='m'),\n",
              " Document(page_content=','),\n",
              " Document(page_content=' '),\n",
              " Document(page_content='a'),\n",
              " Document(page_content='n'),\n",
              " Document(page_content='d'),\n",
              " Document(page_content=' '),\n",
              " Document(page_content='a'),\n",
              " Document(page_content='c'),\n",
              " Document(page_content='r'),\n",
              " Document(page_content='o'),\n",
              " Document(page_content='s'),\n",
              " Document(page_content='s'),\n",
              " Document(page_content=' '),\n",
              " Document(page_content='t'),\n",
              " Document(page_content='h'),\n",
              " Document(page_content='e'),\n",
              " Document(page_content=' '),\n",
              " Document(page_content='h'),\n",
              " Document(page_content='a'),\n",
              " Document(page_content='l'),\n",
              " Document(page_content='l'),\n",
              " Document(page_content='.'),\n",
              " Document(page_content=' '),\n",
              " Document(page_content='P'),\n",
              " Document(page_content='e'),\n",
              " Document(page_content='o'),\n",
              " Document(page_content='p'),\n",
              " Document(page_content='l'),\n",
              " Document(page_content='e'),\n",
              " Document(page_content=' '),\n",
              " Document(page_content='h'),\n",
              " Document(page_content='a'),\n",
              " Document(page_content='v'),\n",
              " Document(page_content='e'),\n",
              " Document(page_content=' '),\n",
              " Document(page_content='a'),\n",
              " Document(page_content='s'),\n",
              " Document(page_content='k'),\n",
              " Document(page_content='e'),\n",
              " Document(page_content='d'),\n",
              " Document(page_content=' '),\n",
              " Document(page_content='h'),\n",
              " Document(page_content='i'),\n",
              " Document(page_content='m'),\n",
              " Document(page_content=' '),\n",
              " Document(page_content='t'),\n",
              " Document(page_content='o'),\n",
              " Document(page_content=' '),\n",
              " Document(page_content='t'),\n",
              " Document(page_content='u'),\n",
              " Document(page_content='r'),\n",
              " Document(page_content='n'),\n",
              " Document(page_content=' '),\n",
              " Document(page_content='i'),\n",
              " Document(page_content='t'),\n",
              " Document(page_content=' '),\n",
              " Document(page_content='d'),\n",
              " Document(page_content='o'),\n",
              " Document(page_content='w'),\n",
              " Document(page_content='n'),\n",
              " Document(page_content=','),\n",
              " Document(page_content=' '),\n",
              " Document(page_content='h'),\n",
              " Document(page_content='o'),\n",
              " Document(page_content='w'),\n",
              " Document(page_content='e'),\n",
              " Document(page_content='v'),\n",
              " Document(page_content='e'),\n",
              " Document(page_content='r'),\n",
              " Document(page_content=' '),\n",
              " Document(page_content='h'),\n",
              " Document(page_content='e'),\n",
              " Document(page_content=' '),\n",
              " Document(page_content='w'),\n",
              " Document(page_content='o'),\n",
              " Document(page_content='u'),\n",
              " Document(page_content='l'),\n",
              " Document(page_content='d'),\n",
              " Document(page_content=' '),\n",
              " Document(page_content='n'),\n",
              " Document(page_content='o'),\n",
              " Document(page_content='t'),\n",
              " Document(page_content=','),\n",
              " Document(page_content=' '),\n",
              " Document(page_content='a'),\n",
              " Document(page_content='n'),\n",
              " Document(page_content='d'),\n",
              " Document(page_content=' '),\n",
              " Document(page_content='t'),\n",
              " Document(page_content='u'),\n",
              " Document(page_content='r'),\n",
              " Document(page_content='n'),\n",
              " Document(page_content='e'),\n",
              " Document(page_content='d'),\n",
              " Document(page_content=' '),\n",
              " Document(page_content='i'),\n",
              " Document(page_content='t'),\n",
              " Document(page_content=' '),\n",
              " Document(page_content='u'),\n",
              " Document(page_content='p'),\n",
              " Document(page_content='.'),\n",
              " Document(page_content='.'),\n",
              " Document(page_content=' '),\n",
              " Document(page_content='D'),\n",
              " Document(page_content='i'),\n",
              " Document(page_content='s'),\n",
              " Document(page_content='p'),\n",
              " Document(page_content='a'),\n",
              " Document(page_content='t'),\n",
              " Document(page_content='c'),\n",
              " Document(page_content='h'),\n",
              " Document(page_content='e'),\n",
              " Document(page_content='r'),\n",
              " Document(page_content=' '),\n",
              " Document(page_content=':'),\n",
              " Document(page_content=' '),\n",
              " Document(page_content='I'),\n",
              " Document(page_content=' '),\n",
              " Document(page_content='w'),\n",
              " Document(page_content='i'),\n",
              " Document(page_content='l'),\n",
              " Document(page_content='l'),\n",
              " Document(page_content=' '),\n",
              " Document(page_content='n'),\n",
              " Document(page_content='o'),\n",
              " Document(page_content='t'),\n",
              " Document(page_content='i'),\n",
              " Document(page_content='f'),\n",
              " Document(page_content='y'),\n",
              " Document(page_content=' '),\n",
              " Document(page_content='t'),\n",
              " Document(page_content='h'),\n",
              " Document(page_content='e'),\n",
              " Document(page_content=' '),\n",
              " Document(page_content='p'),\n",
              " Document(page_content='o'),\n",
              " Document(page_content='l'),\n",
              " Document(page_content='i'),\n",
              " Document(page_content='c'),\n",
              " Document(page_content='e'),\n",
              " Document(page_content=','),\n",
              " Document(page_content=' '),\n",
              " Document(page_content='t'),\n",
              " Document(page_content='h'),\n",
              " Document(page_content='a'),\n",
              " Document(page_content='n'),\n",
              " Document(page_content='k'),\n",
              " Document(page_content=' '),\n",
              " Document(page_content='y'),\n",
              " Document(page_content='o'),\n",
              " Document(page_content='u'),\n",
              " Document(page_content='.'),\n",
              " Document(page_content='.'),\n",
              " Document(page_content=' '),\n",
              " Document(page_content='U'),\n",
              " Document(page_content='s'),\n",
              " Document(page_content='e'),\n",
              " Document(page_content='r'),\n",
              " Document(page_content=' '),\n",
              " Document(page_content=':'),\n",
              " Document(page_content=' '),\n",
              " Document(page_content='T'),\n",
              " Document(page_content='h'),\n",
              " Document(page_content='a'),\n",
              " Document(page_content='n'),\n",
              " Document(page_content='k'),\n",
              " Document(page_content=' '),\n",
              " Document(page_content='y'),\n",
              " Document(page_content='o'),\n",
              " Document(page_content='u'),\n",
              " Document(page_content='.'),\n",
              " Document(page_content=' '),\n",
              " Document(page_content='U'),\n",
              " Document(page_content='s'),\n",
              " Document(page_content='e'),\n",
              " Document(page_content='r'),\n",
              " Document(page_content=' '),\n",
              " Document(page_content=':'),\n",
              " Document(page_content=' '),\n",
              " Document(page_content='H'),\n",
              " Document(page_content='i'),\n",
              " Document(page_content=','),\n",
              " Document(page_content=' '),\n",
              " Document(page_content='w'),\n",
              " Document(page_content='a'),\n",
              " Document(page_content='s'),\n",
              " Document(page_content=' '),\n",
              " Document(page_content='s'),\n",
              " Document(page_content='o'),\n",
              " Document(page_content='m'),\n",
              " Document(page_content='e'),\n",
              " Document(page_content='o'),\n",
              " Document(page_content='n'),\n",
              " Document(page_content='e'),\n",
              " Document(page_content=' '),\n",
              " Document(page_content='a'),\n",
              " Document(page_content='b'),\n",
              " Document(page_content='l'),\n",
              " Document(page_content='e'),\n",
              " Document(page_content=' '),\n",
              " Document(page_content='t'),\n",
              " Document(page_content='o'),\n",
              " Document(page_content=' '),\n",
              " Document(page_content='b'),\n",
              " Document(page_content='e'),\n",
              " Document(page_content=' '),\n",
              " Document(page_content='s'),\n",
              " Document(page_content='e'),\n",
              " Document(page_content='n'),\n",
              " Document(page_content='t'),\n",
              " Document(page_content=' '),\n",
              " Document(page_content='o'),\n",
              " Document(page_content='u'),\n",
              " Document(page_content='t'),\n",
              " Document(page_content='?'),\n",
              " Document(page_content='.'),\n",
              " Document(page_content=' '),\n",
              " Document(page_content='D'),\n",
              " Document(page_content='i'),\n",
              " Document(page_content='s'),\n",
              " Document(page_content='p'),\n",
              " Document(page_content='a'),\n",
              " Document(page_content='t'),\n",
              " Document(page_content='c'),\n",
              " Document(page_content='h'),\n",
              " Document(page_content='e'),\n",
              " Document(page_content='r'),\n",
              " Document(page_content=' '),\n",
              " Document(page_content=':'),\n",
              " Document(page_content=' '),\n",
              " Document(page_content='Y'),\n",
              " Document(page_content='e'),\n",
              " Document(page_content='s'),\n",
              " Document(page_content=','),\n",
              " Document(page_content=' '),\n",
              " Document(page_content='t'),\n",
              " Document(page_content='h'),\n",
              " Document(page_content='e'),\n",
              " Document(page_content='y'),\n",
              " Document(page_content=' '),\n",
              " Document(page_content='a'),\n",
              " Document(page_content='r'),\n",
              " Document(page_content='e'),\n",
              " Document(page_content=' '),\n",
              " Document(page_content='o'),\n",
              " Document(page_content='n'),\n",
              " Document(page_content='s'),\n",
              " Document(page_content='c'),\n",
              " Document(page_content='e'),\n",
              " Document(page_content='n'),\n",
              " Document(page_content='e'),\n",
              " Document(page_content=' '),\n",
              " Document(page_content='a'),\n",
              " Document(page_content='t'),\n",
              " Document(page_content=' '),\n",
              " Document(page_content='t'),\n",
              " Document(page_content='h'),\n",
              " Document(page_content='i'),\n",
              " Document(page_content='s'),\n",
              " Document(page_content=' '),\n",
              " Document(page_content='t'),\n",
              " Document(page_content='i'),\n",
              " Document(page_content='m'),\n",
              " Document(page_content='e'),\n",
              " Document(page_content='.'),\n",
              " Document(page_content='.'),\n",
              " Document(page_content=' '),\n",
              " Document(page_content='D'),\n",
              " Document(page_content='i'),\n",
              " Document(page_content='s'),\n",
              " Document(page_content='p'),\n",
              " Document(page_content='a'),\n",
              " Document(page_content='t'),\n",
              " Document(page_content='c'),\n",
              " Document(page_content='h'),\n",
              " Document(page_content='e'),\n",
              " Document(page_content='r'),\n",
              " Document(page_content=' '),\n",
              " Document(page_content=':'),\n",
              " Document(page_content=' '),\n",
              " Document(page_content='W'),\n",
              " Document(page_content='o'),\n",
              " Document(page_content='u'),\n",
              " Document(page_content='l'),\n",
              " Document(page_content='d'),\n",
              " Document(page_content=' '),\n",
              " Document(page_content='y'),\n",
              " Document(page_content='o'),\n",
              " Document(page_content='u'),\n",
              " Document(page_content=' '),\n",
              " Document(page_content='l'),\n",
              " Document(page_content='i'),\n",
              " Document(page_content='k'),\n",
              " Document(page_content='e'),\n",
              " Document(page_content=' '),\n",
              " Document(page_content='t'),\n",
              " Document(page_content='o'),\n",
              " Document(page_content=' '),\n",
              " Document(page_content='s'),\n",
              " Document(page_content='p'),\n",
              " Document(page_content='e'),\n",
              " Document(page_content='a'),\n",
              " Document(page_content='k'),\n",
              " Document(page_content=' '),\n",
              " Document(page_content='t'),\n",
              " Document(page_content='o'),\n",
              " Document(page_content=' '),\n",
              " Document(page_content='t'),\n",
              " Document(page_content='h'),\n",
              " Document(page_content='e'),\n",
              " Document(page_content=' '),\n",
              " Document(page_content='o'),\n",
              " Document(page_content='f'),\n",
              " Document(page_content='f'),\n",
              " Document(page_content='i'),\n",
              " Document(page_content='c'),\n",
              " Document(page_content='e'),\n",
              " Document(page_content='r'),\n",
              " Document(page_content='?'),\n",
              " Document(page_content='.'),\n",
              " Document(page_content=' '),\n",
              " Document(page_content='U'),\n",
              " Document(page_content='s'),\n",
              " Document(page_content='e'),\n",
              " Document(page_content='r'),\n",
              " Document(page_content=' '),\n",
              " Document(page_content=':'),\n",
              " Document(page_content=' '),\n",
              " Document(page_content='N'),\n",
              " Document(page_content='o'),\n",
              " Document(page_content=','),\n",
              " Document(page_content=' '),\n",
              " Document(page_content='b'),\n",
              " Document(page_content='u'),\n",
              " Document(page_content='t'),\n",
              " Document(page_content=' '),\n",
              " Document(page_content='t'),\n",
              " Document(page_content='h'),\n",
              " Document(page_content='a'),\n",
              " Document(page_content='n'),\n",
              " Document(page_content='k'),\n",
              " Document(page_content=' '),\n",
              " Document(page_content='y'),\n",
              " Document(page_content='o'),\n",
              " Document(page_content='u'),\n",
              " Document(page_content='.'),\n",
              " Document(page_content=' '),\n",
              " Document(page_content='U'),\n",
              " Document(page_content='s'),\n",
              " Document(page_content='e'),\n",
              " Document(page_content='r'),\n",
              " Document(page_content=' '),\n",
              " Document(page_content=':'),\n",
              " Document(page_content=' '),\n",
              " Document(page_content='D'),\n",
              " Document(page_content='i'),\n",
              " Document(page_content='d'),\n",
              " Document(page_content=' '),\n",
              " Document(page_content='t'),\n",
              " Document(page_content='h'),\n",
              " Document(page_content='e'),\n",
              " Document(page_content='y'),\n",
              " Document(page_content=' '),\n",
              " Document(page_content='s'),\n",
              " Document(page_content='t'),\n",
              " Document(page_content='o'),\n",
              " Document(page_content='p'),\n",
              " Document(page_content=' '),\n",
              " Document(page_content='a'),\n",
              " Document(page_content='n'),\n",
              " Document(page_content='d'),\n",
              " Document(page_content=' '),\n",
              " Document(page_content='t'),\n",
              " Document(page_content='a'),\n",
              " Document(page_content='l'),\n",
              " Document(page_content='k'),\n",
              " Document(page_content=' '),\n",
              " Document(page_content='t'),\n",
              " Document(page_content='o'),\n",
              " Document(page_content=' '),\n",
              " Document(page_content='h'),\n",
              " Document(page_content='i'),\n",
              " Document(page_content='m'),\n",
              " Document(page_content=' '),\n",
              " Document(page_content='b'),\n",
              " Document(page_content='e'),\n",
              " Document(page_content='c'),\n",
              " Document(page_content='a'),\n",
              " Document(page_content='u'),\n",
              " Document(page_content='s'),\n",
              " Document(page_content='e'),\n",
              " Document(page_content=' '),\n",
              " Document(page_content='i'),\n",
              " Document(page_content='t'),\n",
              " Document(page_content=' '),\n",
              " Document(page_content='i'),\n",
              " Document(page_content='s'),\n",
              " Document(page_content=' '),\n",
              " Document(page_content='s'),\n",
              " Document(page_content='t'),\n",
              " Document(page_content='i'),\n",
              " Document(page_content='l'),\n",
              " Document(page_content='l'),\n",
              " Document(page_content=' '),\n",
              " Document(page_content='e'),\n",
              " Document(page_content='x'),\n",
              " Document(page_content='t'),\n",
              " Document(page_content='r'),\n",
              " Document(page_content='e'),\n",
              " Document(page_content='m'),\n",
              " Document(page_content='e'),\n",
              " Document(page_content='l'),\n",
              " Document(page_content='y'),\n",
              " Document(page_content=' '),\n",
              " Document(page_content='l'),\n",
              " Document(page_content='o'),\n",
              " Document(page_content='u'),\n",
              " Document(page_content='d'),\n",
              " Document(page_content='.'),\n",
              " Document(page_content=' '),\n",
              " Document(page_content='D'),\n",
              " Document(page_content='i'),\n",
              " Document(page_content='s'),\n",
              " Document(page_content='p'),\n",
              " Document(page_content='a'),\n",
              " Document(page_content='t'),\n",
              " Document(page_content='c'),\n",
              " Document(page_content='h'),\n",
              " Document(page_content='e'),\n",
              " Document(page_content='r'),\n",
              " Document(page_content=' '),\n",
              " Document(page_content=':'),\n",
              " Document(page_content=' '),\n",
              " Document(page_content='T'),\n",
              " Document(page_content='h'),\n",
              " Document(page_content='e'),\n",
              " Document(page_content='y'),\n",
              " Document(page_content=' '),\n",
              " Document(page_content='a'),\n",
              " Document(page_content='r'),\n",
              " Document(page_content='e'),\n",
              " Document(page_content=' '),\n",
              " Document(page_content='s'),\n",
              " Document(page_content='t'),\n",
              " Document(page_content='i'),\n",
              " Document(page_content='l'),\n",
              " Document(page_content='l'),\n",
              " Document(page_content=' '),\n",
              " Document(page_content='o'),\n",
              " Document(page_content='n'),\n",
              " Document(page_content='s'),\n",
              " Document(page_content='c'),\n",
              " Document(page_content='e'),\n",
              " Document(page_content='n'),\n",
              " Document(page_content='e'),\n",
              " Document(page_content='.'),\n",
              " Document(page_content='.'),\n",
              " Document(page_content=' '),\n",
              " Document(page_content='U'),\n",
              " Document(page_content='s'),\n",
              " Document(page_content='e'),\n",
              " Document(page_content='r'),\n",
              " Document(page_content=' '),\n",
              " Document(page_content=':'),\n",
              " Document(page_content=' '),\n",
              " Document(page_content='O'),\n",
              " Document(page_content='k'),\n",
              " Document(page_content='a'),\n",
              " Document(page_content='y'),\n",
              " Document(page_content=','),\n",
              " Document(page_content=' '),\n",
              " Document(page_content='t'),\n",
              " Document(page_content='h'),\n",
              " Document(page_content='a'),\n",
              " Document(page_content='n'),\n",
              " Document(page_content='k'),\n",
              " Document(page_content=' '),\n",
              " Document(page_content='y'),\n",
              " Document(page_content='o'),\n",
              " Document(page_content='u'),\n",
              " Document(page_content='.'),\n",
              " Document(page_content=' '),\n",
              " Document(page_content='U'),\n",
              " Document(page_content='s'),\n",
              " Document(page_content='e'),\n",
              " Document(page_content='r'),\n",
              " Document(page_content=' '),\n",
              " Document(page_content=':'),\n",
              " Document(page_content=' '),\n",
              " Document(page_content='I'),\n",
              " Document(page_content=\"'\"),\n",
              " Document(page_content='m'),\n",
              " Document(page_content=' '),\n",
              " Document(page_content='n'),\n",
              " Document(page_content='o'),\n",
              " Document(page_content='t'),\n",
              " Document(page_content=' '),\n",
              " Document(page_content='s'),\n",
              " Document(page_content='u'),\n",
              " Document(page_content='r'),\n",
              " Document(page_content='e'),\n",
              " Document(page_content=' '),\n",
              " Document(page_content='w'),\n",
              " Document(page_content='h'),\n",
              " Document(page_content='o'),\n",
              " Document(page_content=' '),\n",
              " Document(page_content='t'),\n",
              " Document(page_content='o'),\n",
              " Document(page_content=' '),\n",
              " Document(page_content='c'),\n",
              " Document(page_content='o'),\n",
              " Document(page_content='n'),\n",
              " Document(page_content='t'),\n",
              " Document(page_content='a'),\n",
              " Document(page_content='c'),\n",
              " Document(page_content='t'),\n",
              " Document(page_content=' '),\n",
              " Document(page_content='a'),\n",
              " Document(page_content='b'),\n",
              " Document(page_content='o'),\n",
              " Document(page_content='u'),\n",
              " Document(page_content='t'),\n",
              " Document(page_content=' '),\n",
              " Document(page_content='t'),\n",
              " Document(page_content='h'),\n",
              " Document(page_content='i'),\n",
              " Document(page_content='s'),\n",
              " Document(page_content=','),\n",
              " Document(page_content=' '),\n",
              " Document(page_content='b'),\n",
              " Document(page_content='u'),\n",
              " Document(page_content='t'),\n",
              " Document(page_content=' '),\n",
              " Document(page_content='p'),\n",
              " Document(page_content='l'),\n",
              " Document(page_content='e'),\n",
              " Document(page_content='a'),\n",
              " Document(page_content='s'),\n",
              " Document(page_content='e'),\n",
              " Document(page_content=' '),\n",
              " Document(page_content='t'),\n",
              " Document(page_content='e'),\n",
              " Document(page_content='l'),\n",
              " Document(page_content='l'),\n",
              " Document(page_content=' '),\n",
              " Document(page_content='w'),\n",
              " ...]"
            ]
          },
          "execution_count": 15,
          "metadata": {},
          "output_type": "execute_result"
        }
      ],
      "source": [
        "#Run a text splitter\n",
        "!pip install tiktoken\n",
        "text_splitter = TokenTextSplitter()\n",
        "documents = text_splitter.create_documents(conversation)\n",
        "documents"
      ]
    },
    {
      "cell_type": "markdown",
      "metadata": {
        "id": "zWAMNzdHV4Zp"
      },
      "source": [
        "Create a graph database in the vector database"
      ]
    },
    {
      "cell_type": "code",
      "execution_count": 16,
      "metadata": {
        "colab": {
          "base_uri": "https://localhost:8080/"
        },
        "id": "wZKrQDRaV3bR",
        "outputId": "2bb0ffd0-9bc3-4ace-9189-0fe2ce55ed6f"
      },
      "outputs": [
        {
          "name": "stdout",
          "output_type": "stream",
          "text": [
            "Requirement already satisfied: neo4j in /usr/local/lib/python3.10/dist-packages (5.18.0)\n",
            "Requirement already satisfied: pytz in /usr/local/lib/python3.10/dist-packages (from neo4j) (2023.4)\n"
          ]
        }
      ],
      "source": [
        "!pip install neo4j\n",
        "\n",
        "url = os.getenv(\"NEO4J_URI\")\n",
        "username =os.getenv(\"NEO4J_USERNAME\")\n",
        "password = os.getenv(\"NEO4J_PASSWORD\")\n",
        "\n",
        "graph = Neo4jGraph(\n",
        "    url=url,\n",
        "    username=username,\n",
        "    password=password\n",
        ")"
      ]
    },
    {
      "cell_type": "code",
      "execution_count": 22,
      "metadata": {
        "id": "9i6dwmlQML-V"
      },
      "outputs": [],
      "source": [
        "\n",
        "llm = ChatOpenAI(temperature=0, model_name=\"gpt-4-turbo-preview\")"
      ]
    },
    {
      "cell_type": "code",
      "execution_count": 104,
      "metadata": {
        "id": "cAw6RmMg3fbj"
      },
      "outputs": [],
      "source": [
        "#convert the docucments to a graph structure. Skip its aldready has been done\n",
        "\n",
        "documents = [Document(page_content=conversation)]\n",
        "llm_transformer = LLMGraphTransformer(llm=llm)\n",
        "graph_documents = llm_transformer.convert_to_graph_documents(documents)\n",
        "graph.add_graph_documents(\n",
        "    graph_documents,\n",
        "    baseEntityLabel=True,\n",
        "    include_source=True\n",
        ")"
      ]
    },
    {
      "cell_type": "code",
      "execution_count": 17,
      "metadata": {
        "colab": {
          "base_uri": "https://localhost:8080/",
          "height": 1000,
          "referenced_widgets": [
            "25d6df10e9f846bab3d0ada89b9c1840"
          ]
        },
        "id": "r9KL5cghhH3V",
        "outputId": "f4d36689-f804-49a5-afff-f644ac8ad704"
      },
      "outputs": [
        {
          "name": "stdout",
          "output_type": "stream",
          "text": [
            "Collecting yfiles_jupyter_graphs\n",
            "  Downloading yfiles_jupyter_graphs-1.6.2-py2.py3-none-any.whl (15.3 MB)\n",
            "\u001b[2K     \u001b[90m━━━━━━━━━━━━━━━━━━━━━━━━━━━━━━━━━━━━━━━━\u001b[0m \u001b[32m15.3/15.3 MB\u001b[0m \u001b[31m44.4 MB/s\u001b[0m eta \u001b[36m0:00:00\u001b[0m\n",
            "\u001b[?25hRequirement already satisfied: ipywidgets>=7.6.0 in /usr/local/lib/python3.10/dist-packages (from yfiles_jupyter_graphs) (7.7.1)\n",
            "Requirement already satisfied: ipykernel>=4.5.1 in /usr/local/lib/python3.10/dist-packages (from ipywidgets>=7.6.0->yfiles_jupyter_graphs) (5.5.6)\n",
            "Requirement already satisfied: ipython-genutils~=0.2.0 in /usr/local/lib/python3.10/dist-packages (from ipywidgets>=7.6.0->yfiles_jupyter_graphs) (0.2.0)\n",
            "Requirement already satisfied: traitlets>=4.3.1 in /usr/local/lib/python3.10/dist-packages (from ipywidgets>=7.6.0->yfiles_jupyter_graphs) (5.7.1)\n",
            "Requirement already satisfied: widgetsnbextension~=3.6.0 in /usr/local/lib/python3.10/dist-packages (from ipywidgets>=7.6.0->yfiles_jupyter_graphs) (3.6.6)\n",
            "Requirement already satisfied: ipython>=4.0.0 in /usr/local/lib/python3.10/dist-packages (from ipywidgets>=7.6.0->yfiles_jupyter_graphs) (7.34.0)\n",
            "Requirement already satisfied: jupyterlab-widgets>=1.0.0 in /usr/local/lib/python3.10/dist-packages (from ipywidgets>=7.6.0->yfiles_jupyter_graphs) (3.0.10)\n",
            "Requirement already satisfied: jupyter-client in /usr/local/lib/python3.10/dist-packages (from ipykernel>=4.5.1->ipywidgets>=7.6.0->yfiles_jupyter_graphs) (6.1.12)\n",
            "Requirement already satisfied: tornado>=4.2 in /usr/local/lib/python3.10/dist-packages (from ipykernel>=4.5.1->ipywidgets>=7.6.0->yfiles_jupyter_graphs) (6.3.3)\n",
            "Requirement already satisfied: setuptools>=18.5 in /usr/local/lib/python3.10/dist-packages (from ipython>=4.0.0->ipywidgets>=7.6.0->yfiles_jupyter_graphs) (67.7.2)\n",
            "Collecting jedi>=0.16 (from ipython>=4.0.0->ipywidgets>=7.6.0->yfiles_jupyter_graphs)\n",
            "  Downloading jedi-0.19.1-py2.py3-none-any.whl (1.6 MB)\n",
            "\u001b[2K     \u001b[90m━━━━━━━━━━━━━━━━━━━━━━━━━━━━━━━━━━━━━━━━\u001b[0m \u001b[32m1.6/1.6 MB\u001b[0m \u001b[31m35.1 MB/s\u001b[0m eta \u001b[36m0:00:00\u001b[0m\n",
            "\u001b[?25hRequirement already satisfied: decorator in /usr/local/lib/python3.10/dist-packages (from ipython>=4.0.0->ipywidgets>=7.6.0->yfiles_jupyter_graphs) (4.4.2)\n",
            "Requirement already satisfied: pickleshare in /usr/local/lib/python3.10/dist-packages (from ipython>=4.0.0->ipywidgets>=7.6.0->yfiles_jupyter_graphs) (0.7.5)\n",
            "Requirement already satisfied: prompt-toolkit!=3.0.0,!=3.0.1,<3.1.0,>=2.0.0 in /usr/local/lib/python3.10/dist-packages (from ipython>=4.0.0->ipywidgets>=7.6.0->yfiles_jupyter_graphs) (3.0.43)\n",
            "Requirement already satisfied: pygments in /usr/local/lib/python3.10/dist-packages (from ipython>=4.0.0->ipywidgets>=7.6.0->yfiles_jupyter_graphs) (2.16.1)\n",
            "Requirement already satisfied: backcall in /usr/local/lib/python3.10/dist-packages (from ipython>=4.0.0->ipywidgets>=7.6.0->yfiles_jupyter_graphs) (0.2.0)\n",
            "Requirement already satisfied: matplotlib-inline in /usr/local/lib/python3.10/dist-packages (from ipython>=4.0.0->ipywidgets>=7.6.0->yfiles_jupyter_graphs) (0.1.6)\n",
            "Requirement already satisfied: pexpect>4.3 in /usr/local/lib/python3.10/dist-packages (from ipython>=4.0.0->ipywidgets>=7.6.0->yfiles_jupyter_graphs) (4.9.0)\n",
            "Requirement already satisfied: notebook>=4.4.1 in /usr/local/lib/python3.10/dist-packages (from widgetsnbextension~=3.6.0->ipywidgets>=7.6.0->yfiles_jupyter_graphs) (6.5.5)\n",
            "Requirement already satisfied: parso<0.9.0,>=0.8.3 in /usr/local/lib/python3.10/dist-packages (from jedi>=0.16->ipython>=4.0.0->ipywidgets>=7.6.0->yfiles_jupyter_graphs) (0.8.3)\n",
            "Requirement already satisfied: jinja2 in /usr/local/lib/python3.10/dist-packages (from notebook>=4.4.1->widgetsnbextension~=3.6.0->ipywidgets>=7.6.0->yfiles_jupyter_graphs) (3.1.3)\n",
            "Requirement already satisfied: pyzmq<25,>=17 in /usr/local/lib/python3.10/dist-packages (from notebook>=4.4.1->widgetsnbextension~=3.6.0->ipywidgets>=7.6.0->yfiles_jupyter_graphs) (23.2.1)\n",
            "Requirement already satisfied: argon2-cffi in /usr/local/lib/python3.10/dist-packages (from notebook>=4.4.1->widgetsnbextension~=3.6.0->ipywidgets>=7.6.0->yfiles_jupyter_graphs) (23.1.0)\n",
            "Requirement already satisfied: jupyter-core>=4.6.1 in /usr/local/lib/python3.10/dist-packages (from notebook>=4.4.1->widgetsnbextension~=3.6.0->ipywidgets>=7.6.0->yfiles_jupyter_graphs) (5.7.2)\n",
            "Requirement already satisfied: nbformat in /usr/local/lib/python3.10/dist-packages (from notebook>=4.4.1->widgetsnbextension~=3.6.0->ipywidgets>=7.6.0->yfiles_jupyter_graphs) (5.10.3)\n",
            "Requirement already satisfied: nbconvert>=5 in /usr/local/lib/python3.10/dist-packages (from notebook>=4.4.1->widgetsnbextension~=3.6.0->ipywidgets>=7.6.0->yfiles_jupyter_graphs) (6.5.4)\n",
            "Requirement already satisfied: nest-asyncio>=1.5 in /usr/local/lib/python3.10/dist-packages (from notebook>=4.4.1->widgetsnbextension~=3.6.0->ipywidgets>=7.6.0->yfiles_jupyter_graphs) (1.6.0)\n",
            "Requirement already satisfied: Send2Trash>=1.8.0 in /usr/local/lib/python3.10/dist-packages (from notebook>=4.4.1->widgetsnbextension~=3.6.0->ipywidgets>=7.6.0->yfiles_jupyter_graphs) (1.8.2)\n",
            "Requirement already satisfied: terminado>=0.8.3 in /usr/local/lib/python3.10/dist-packages (from notebook>=4.4.1->widgetsnbextension~=3.6.0->ipywidgets>=7.6.0->yfiles_jupyter_graphs) (0.18.1)\n",
            "Requirement already satisfied: prometheus-client in /usr/local/lib/python3.10/dist-packages (from notebook>=4.4.1->widgetsnbextension~=3.6.0->ipywidgets>=7.6.0->yfiles_jupyter_graphs) (0.20.0)\n",
            "Requirement already satisfied: nbclassic>=0.4.7 in /usr/local/lib/python3.10/dist-packages (from notebook>=4.4.1->widgetsnbextension~=3.6.0->ipywidgets>=7.6.0->yfiles_jupyter_graphs) (1.0.0)\n",
            "Requirement already satisfied: python-dateutil>=2.1 in /usr/local/lib/python3.10/dist-packages (from jupyter-client->ipykernel>=4.5.1->ipywidgets>=7.6.0->yfiles_jupyter_graphs) (2.8.2)\n",
            "Requirement already satisfied: ptyprocess>=0.5 in /usr/local/lib/python3.10/dist-packages (from pexpect>4.3->ipython>=4.0.0->ipywidgets>=7.6.0->yfiles_jupyter_graphs) (0.7.0)\n",
            "Requirement already satisfied: wcwidth in /usr/local/lib/python3.10/dist-packages (from prompt-toolkit!=3.0.0,!=3.0.1,<3.1.0,>=2.0.0->ipython>=4.0.0->ipywidgets>=7.6.0->yfiles_jupyter_graphs) (0.2.13)\n",
            "Requirement already satisfied: platformdirs>=2.5 in /usr/local/lib/python3.10/dist-packages (from jupyter-core>=4.6.1->notebook>=4.4.1->widgetsnbextension~=3.6.0->ipywidgets>=7.6.0->yfiles_jupyter_graphs) (4.2.0)\n",
            "Requirement already satisfied: jupyter-server>=1.8 in /usr/local/lib/python3.10/dist-packages (from nbclassic>=0.4.7->notebook>=4.4.1->widgetsnbextension~=3.6.0->ipywidgets>=7.6.0->yfiles_jupyter_graphs) (1.24.0)\n",
            "Requirement already satisfied: notebook-shim>=0.2.3 in /usr/local/lib/python3.10/dist-packages (from nbclassic>=0.4.7->notebook>=4.4.1->widgetsnbextension~=3.6.0->ipywidgets>=7.6.0->yfiles_jupyter_graphs) (0.2.4)\n",
            "Requirement already satisfied: lxml in /usr/local/lib/python3.10/dist-packages (from nbconvert>=5->notebook>=4.4.1->widgetsnbextension~=3.6.0->ipywidgets>=7.6.0->yfiles_jupyter_graphs) (4.9.4)\n",
            "Requirement already satisfied: beautifulsoup4 in /usr/local/lib/python3.10/dist-packages (from nbconvert>=5->notebook>=4.4.1->widgetsnbextension~=3.6.0->ipywidgets>=7.6.0->yfiles_jupyter_graphs) (4.12.3)\n",
            "Requirement already satisfied: bleach in /usr/local/lib/python3.10/dist-packages (from nbconvert>=5->notebook>=4.4.1->widgetsnbextension~=3.6.0->ipywidgets>=7.6.0->yfiles_jupyter_graphs) (6.1.0)\n",
            "Requirement already satisfied: defusedxml in /usr/local/lib/python3.10/dist-packages (from nbconvert>=5->notebook>=4.4.1->widgetsnbextension~=3.6.0->ipywidgets>=7.6.0->yfiles_jupyter_graphs) (0.7.1)\n",
            "Requirement already satisfied: entrypoints>=0.2.2 in /usr/local/lib/python3.10/dist-packages (from nbconvert>=5->notebook>=4.4.1->widgetsnbextension~=3.6.0->ipywidgets>=7.6.0->yfiles_jupyter_graphs) (0.4)\n",
            "Requirement already satisfied: jupyterlab-pygments in /usr/local/lib/python3.10/dist-packages (from nbconvert>=5->notebook>=4.4.1->widgetsnbextension~=3.6.0->ipywidgets>=7.6.0->yfiles_jupyter_graphs) (0.3.0)\n",
            "Requirement already satisfied: MarkupSafe>=2.0 in /usr/local/lib/python3.10/dist-packages (from nbconvert>=5->notebook>=4.4.1->widgetsnbextension~=3.6.0->ipywidgets>=7.6.0->yfiles_jupyter_graphs) (2.1.5)\n",
            "Requirement already satisfied: mistune<2,>=0.8.1 in /usr/local/lib/python3.10/dist-packages (from nbconvert>=5->notebook>=4.4.1->widgetsnbextension~=3.6.0->ipywidgets>=7.6.0->yfiles_jupyter_graphs) (0.8.4)\n",
            "Requirement already satisfied: nbclient>=0.5.0 in /usr/local/lib/python3.10/dist-packages (from nbconvert>=5->notebook>=4.4.1->widgetsnbextension~=3.6.0->ipywidgets>=7.6.0->yfiles_jupyter_graphs) (0.10.0)\n",
            "Requirement already satisfied: packaging in /usr/local/lib/python3.10/dist-packages (from nbconvert>=5->notebook>=4.4.1->widgetsnbextension~=3.6.0->ipywidgets>=7.6.0->yfiles_jupyter_graphs) (23.2)\n",
            "Requirement already satisfied: pandocfilters>=1.4.1 in /usr/local/lib/python3.10/dist-packages (from nbconvert>=5->notebook>=4.4.1->widgetsnbextension~=3.6.0->ipywidgets>=7.6.0->yfiles_jupyter_graphs) (1.5.1)\n",
            "Requirement already satisfied: tinycss2 in /usr/local/lib/python3.10/dist-packages (from nbconvert>=5->notebook>=4.4.1->widgetsnbextension~=3.6.0->ipywidgets>=7.6.0->yfiles_jupyter_graphs) (1.2.1)\n",
            "Requirement already satisfied: fastjsonschema in /usr/local/lib/python3.10/dist-packages (from nbformat->notebook>=4.4.1->widgetsnbextension~=3.6.0->ipywidgets>=7.6.0->yfiles_jupyter_graphs) (2.19.1)\n",
            "Requirement already satisfied: jsonschema>=2.6 in /usr/local/lib/python3.10/dist-packages (from nbformat->notebook>=4.4.1->widgetsnbextension~=3.6.0->ipywidgets>=7.6.0->yfiles_jupyter_graphs) (4.19.2)\n",
            "Requirement already satisfied: six>=1.5 in /usr/local/lib/python3.10/dist-packages (from python-dateutil>=2.1->jupyter-client->ipykernel>=4.5.1->ipywidgets>=7.6.0->yfiles_jupyter_graphs) (1.16.0)\n",
            "Requirement already satisfied: argon2-cffi-bindings in /usr/local/lib/python3.10/dist-packages (from argon2-cffi->notebook>=4.4.1->widgetsnbextension~=3.6.0->ipywidgets>=7.6.0->yfiles_jupyter_graphs) (21.2.0)\n",
            "Requirement already satisfied: attrs>=22.2.0 in /usr/local/lib/python3.10/dist-packages (from jsonschema>=2.6->nbformat->notebook>=4.4.1->widgetsnbextension~=3.6.0->ipywidgets>=7.6.0->yfiles_jupyter_graphs) (23.2.0)\n",
            "Requirement already satisfied: jsonschema-specifications>=2023.03.6 in /usr/local/lib/python3.10/dist-packages (from jsonschema>=2.6->nbformat->notebook>=4.4.1->widgetsnbextension~=3.6.0->ipywidgets>=7.6.0->yfiles_jupyter_graphs) (2023.12.1)\n",
            "Requirement already satisfied: referencing>=0.28.4 in /usr/local/lib/python3.10/dist-packages (from jsonschema>=2.6->nbformat->notebook>=4.4.1->widgetsnbextension~=3.6.0->ipywidgets>=7.6.0->yfiles_jupyter_graphs) (0.34.0)\n",
            "Requirement already satisfied: rpds-py>=0.7.1 in /usr/local/lib/python3.10/dist-packages (from jsonschema>=2.6->nbformat->notebook>=4.4.1->widgetsnbextension~=3.6.0->ipywidgets>=7.6.0->yfiles_jupyter_graphs) (0.18.0)\n",
            "Requirement already satisfied: anyio<4,>=3.1.0 in /usr/local/lib/python3.10/dist-packages (from jupyter-server>=1.8->nbclassic>=0.4.7->notebook>=4.4.1->widgetsnbextension~=3.6.0->ipywidgets>=7.6.0->yfiles_jupyter_graphs) (3.7.1)\n",
            "Requirement already satisfied: websocket-client in /usr/local/lib/python3.10/dist-packages (from jupyter-server>=1.8->nbclassic>=0.4.7->notebook>=4.4.1->widgetsnbextension~=3.6.0->ipywidgets>=7.6.0->yfiles_jupyter_graphs) (1.7.0)\n",
            "Requirement already satisfied: cffi>=1.0.1 in /usr/local/lib/python3.10/dist-packages (from argon2-cffi-bindings->argon2-cffi->notebook>=4.4.1->widgetsnbextension~=3.6.0->ipywidgets>=7.6.0->yfiles_jupyter_graphs) (1.16.0)\n",
            "Requirement already satisfied: soupsieve>1.2 in /usr/local/lib/python3.10/dist-packages (from beautifulsoup4->nbconvert>=5->notebook>=4.4.1->widgetsnbextension~=3.6.0->ipywidgets>=7.6.0->yfiles_jupyter_graphs) (2.5)\n",
            "Requirement already satisfied: webencodings in /usr/local/lib/python3.10/dist-packages (from bleach->nbconvert>=5->notebook>=4.4.1->widgetsnbextension~=3.6.0->ipywidgets>=7.6.0->yfiles_jupyter_graphs) (0.5.1)\n",
            "Requirement already satisfied: idna>=2.8 in /usr/local/lib/python3.10/dist-packages (from anyio<4,>=3.1.0->jupyter-server>=1.8->nbclassic>=0.4.7->notebook>=4.4.1->widgetsnbextension~=3.6.0->ipywidgets>=7.6.0->yfiles_jupyter_graphs) (3.6)\n",
            "Requirement already satisfied: sniffio>=1.1 in /usr/local/lib/python3.10/dist-packages (from anyio<4,>=3.1.0->jupyter-server>=1.8->nbclassic>=0.4.7->notebook>=4.4.1->widgetsnbextension~=3.6.0->ipywidgets>=7.6.0->yfiles_jupyter_graphs) (1.3.1)\n",
            "Requirement already satisfied: exceptiongroup in /usr/local/lib/python3.10/dist-packages (from anyio<4,>=3.1.0->jupyter-server>=1.8->nbclassic>=0.4.7->notebook>=4.4.1->widgetsnbextension~=3.6.0->ipywidgets>=7.6.0->yfiles_jupyter_graphs) (1.2.0)\n",
            "Requirement already satisfied: pycparser in /usr/local/lib/python3.10/dist-packages (from cffi>=1.0.1->argon2-cffi-bindings->argon2-cffi->notebook>=4.4.1->widgetsnbextension~=3.6.0->ipywidgets>=7.6.0->yfiles_jupyter_graphs) (2.21)\n",
            "Installing collected packages: jedi, yfiles_jupyter_graphs\n",
            "Successfully installed jedi-0.19.1 yfiles_jupyter_graphs-1.6.2\n"
          ]
        },
        {
          "data": {
            "application/vnd.jupyter.widget-view+json": {
              "model_id": "25d6df10e9f846bab3d0ada89b9c1840",
              "version_major": 2,
              "version_minor": 0
            },
            "text/plain": [
              "GraphWidget(layout=Layout(height='800px', width='100%'))"
            ]
          },
          "metadata": {},
          "output_type": "display_data"
        }
      ],
      "source": [
        "!pip install yfiles_jupyter_graphs\n",
        "from neo4j import GraphDatabase\n",
        "from yfiles_jupyter_graphs import GraphWidget\n",
        "default_cypher = \"MATCH (s)-[r:!MENTIONS]->(t) RETURN s,r,t\"\n",
        "\n",
        "\n",
        "def showGraph(cypher: str = default_cypher):\n",
        "    # create a neo4j session to run queries\n",
        "    driver = GraphDatabase.driver(\n",
        "        uri = os.getenv(\"NEO4J_URI\"),\n",
        "        auth = (os.getenv(\"NEO4J_USERNAME\"),\n",
        "                os.getenv(\"NEO4J_PASSWORD\")))\n",
        "    session = driver.session()\n",
        "    widget = GraphWidget(graph = session.run(cypher).graph())\n",
        "    widget.node_label_mapping = 'id'\n",
        "    #display(widget)\n",
        "    return widget\n",
        "\n",
        "showGraph()\n"
      ]
    },
    {
      "cell_type": "code",
      "execution_count": null,
      "metadata": {
        "id": "8jVE_Wbv4fIW"
      },
      "outputs": [],
      "source": [
        "showGraph()"
      ]
    },
    {
      "cell_type": "code",
      "execution_count": 18,
      "metadata": {
        "colab": {
          "base_uri": "https://localhost:8080/"
        },
        "id": "FZcXt0Dh5Yk1",
        "outputId": "a1f3a452-0320-483f-d00e-cc030f2d4186"
      },
      "outputs": [
        {
          "name": "stdout",
          "output_type": "stream",
          "text": [
            "Requirement already satisfied: langchain_community in /usr/local/lib/python3.10/dist-packages (0.0.30)\n",
            "Requirement already satisfied: PyYAML>=5.3 in /usr/local/lib/python3.10/dist-packages (from langchain_community) (6.0.1)\n",
            "Requirement already satisfied: SQLAlchemy<3,>=1.4 in /usr/local/lib/python3.10/dist-packages (from langchain_community) (2.0.29)\n",
            "Requirement already satisfied: aiohttp<4.0.0,>=3.8.3 in /usr/local/lib/python3.10/dist-packages (from langchain_community) (3.9.3)\n",
            "Requirement already satisfied: dataclasses-json<0.7,>=0.5.7 in /usr/local/lib/python3.10/dist-packages (from langchain_community) (0.6.4)\n",
            "Requirement already satisfied: langchain-core<0.2.0,>=0.1.37 in /usr/local/lib/python3.10/dist-packages (from langchain_community) (0.1.37)\n",
            "Requirement already satisfied: langsmith<0.2.0,>=0.1.0 in /usr/local/lib/python3.10/dist-packages (from langchain_community) (0.1.38)\n",
            "Requirement already satisfied: numpy<2,>=1 in /usr/local/lib/python3.10/dist-packages (from langchain_community) (1.25.2)\n",
            "Requirement already satisfied: requests<3,>=2 in /usr/local/lib/python3.10/dist-packages (from langchain_community) (2.31.0)\n",
            "Requirement already satisfied: tenacity<9.0.0,>=8.1.0 in /usr/local/lib/python3.10/dist-packages (from langchain_community) (8.2.3)\n",
            "Requirement already satisfied: aiosignal>=1.1.2 in /usr/local/lib/python3.10/dist-packages (from aiohttp<4.0.0,>=3.8.3->langchain_community) (1.3.1)\n",
            "Requirement already satisfied: attrs>=17.3.0 in /usr/local/lib/python3.10/dist-packages (from aiohttp<4.0.0,>=3.8.3->langchain_community) (23.2.0)\n",
            "Requirement already satisfied: frozenlist>=1.1.1 in /usr/local/lib/python3.10/dist-packages (from aiohttp<4.0.0,>=3.8.3->langchain_community) (1.4.1)\n",
            "Requirement already satisfied: multidict<7.0,>=4.5 in /usr/local/lib/python3.10/dist-packages (from aiohttp<4.0.0,>=3.8.3->langchain_community) (6.0.5)\n",
            "Requirement already satisfied: yarl<2.0,>=1.0 in /usr/local/lib/python3.10/dist-packages (from aiohttp<4.0.0,>=3.8.3->langchain_community) (1.9.4)\n",
            "Requirement already satisfied: async-timeout<5.0,>=4.0 in /usr/local/lib/python3.10/dist-packages (from aiohttp<4.0.0,>=3.8.3->langchain_community) (4.0.3)\n",
            "Requirement already satisfied: marshmallow<4.0.0,>=3.18.0 in /usr/local/lib/python3.10/dist-packages (from dataclasses-json<0.7,>=0.5.7->langchain_community) (3.21.1)\n",
            "Requirement already satisfied: typing-inspect<1,>=0.4.0 in /usr/local/lib/python3.10/dist-packages (from dataclasses-json<0.7,>=0.5.7->langchain_community) (0.9.0)\n",
            "Requirement already satisfied: jsonpatch<2.0,>=1.33 in /usr/local/lib/python3.10/dist-packages (from langchain-core<0.2.0,>=0.1.37->langchain_community) (1.33)\n",
            "Requirement already satisfied: packaging<24.0,>=23.2 in /usr/local/lib/python3.10/dist-packages (from langchain-core<0.2.0,>=0.1.37->langchain_community) (23.2)\n",
            "Requirement already satisfied: pydantic<3,>=1 in /usr/local/lib/python3.10/dist-packages (from langchain-core<0.2.0,>=0.1.37->langchain_community) (2.6.4)\n",
            "Requirement already satisfied: orjson<4.0.0,>=3.9.14 in /usr/local/lib/python3.10/dist-packages (from langsmith<0.2.0,>=0.1.0->langchain_community) (3.10.0)\n",
            "Requirement already satisfied: charset-normalizer<4,>=2 in /usr/local/lib/python3.10/dist-packages (from requests<3,>=2->langchain_community) (3.3.2)\n",
            "Requirement already satisfied: idna<4,>=2.5 in /usr/local/lib/python3.10/dist-packages (from requests<3,>=2->langchain_community) (3.6)\n",
            "Requirement already satisfied: urllib3<3,>=1.21.1 in /usr/local/lib/python3.10/dist-packages (from requests<3,>=2->langchain_community) (2.0.7)\n",
            "Requirement already satisfied: certifi>=2017.4.17 in /usr/local/lib/python3.10/dist-packages (from requests<3,>=2->langchain_community) (2024.2.2)\n",
            "Requirement already satisfied: typing-extensions>=4.6.0 in /usr/local/lib/python3.10/dist-packages (from SQLAlchemy<3,>=1.4->langchain_community) (4.10.0)\n",
            "Requirement already satisfied: greenlet!=0.4.17 in /usr/local/lib/python3.10/dist-packages (from SQLAlchemy<3,>=1.4->langchain_community) (3.0.3)\n",
            "Requirement already satisfied: jsonpointer>=1.9 in /usr/local/lib/python3.10/dist-packages (from jsonpatch<2.0,>=1.33->langchain-core<0.2.0,>=0.1.37->langchain_community) (2.4)\n",
            "Requirement already satisfied: annotated-types>=0.4.0 in /usr/local/lib/python3.10/dist-packages (from pydantic<3,>=1->langchain-core<0.2.0,>=0.1.37->langchain_community) (0.6.0)\n",
            "Requirement already satisfied: pydantic-core==2.16.3 in /usr/local/lib/python3.10/dist-packages (from pydantic<3,>=1->langchain-core<0.2.0,>=0.1.37->langchain_community) (2.16.3)\n",
            "Requirement already satisfied: mypy-extensions>=0.3.0 in /usr/local/lib/python3.10/dist-packages (from typing-inspect<1,>=0.4.0->dataclasses-json<0.7,>=0.5.7->langchain_community) (1.0.0)\n",
            "Requirement already satisfied: langchain_openai in /usr/local/lib/python3.10/dist-packages (0.1.1)\n",
            "Requirement already satisfied: langchain-core<0.2.0,>=0.1.33 in /usr/local/lib/python3.10/dist-packages (from langchain_openai) (0.1.37)\n",
            "Requirement already satisfied: openai<2.0.0,>=1.10.0 in /usr/local/lib/python3.10/dist-packages (from langchain_openai) (1.14.3)\n",
            "Requirement already satisfied: tiktoken<1,>=0.5.2 in /usr/local/lib/python3.10/dist-packages (from langchain_openai) (0.6.0)\n",
            "Requirement already satisfied: PyYAML>=5.3 in /usr/local/lib/python3.10/dist-packages (from langchain-core<0.2.0,>=0.1.33->langchain_openai) (6.0.1)\n",
            "Requirement already satisfied: jsonpatch<2.0,>=1.33 in /usr/local/lib/python3.10/dist-packages (from langchain-core<0.2.0,>=0.1.33->langchain_openai) (1.33)\n",
            "Requirement already satisfied: langsmith<0.2.0,>=0.1.0 in /usr/local/lib/python3.10/dist-packages (from langchain-core<0.2.0,>=0.1.33->langchain_openai) (0.1.38)\n",
            "Requirement already satisfied: packaging<24.0,>=23.2 in /usr/local/lib/python3.10/dist-packages (from langchain-core<0.2.0,>=0.1.33->langchain_openai) (23.2)\n",
            "Requirement already satisfied: pydantic<3,>=1 in /usr/local/lib/python3.10/dist-packages (from langchain-core<0.2.0,>=0.1.33->langchain_openai) (2.6.4)\n",
            "Requirement already satisfied: requests<3,>=2 in /usr/local/lib/python3.10/dist-packages (from langchain-core<0.2.0,>=0.1.33->langchain_openai) (2.31.0)\n",
            "Requirement already satisfied: tenacity<9.0.0,>=8.1.0 in /usr/local/lib/python3.10/dist-packages (from langchain-core<0.2.0,>=0.1.33->langchain_openai) (8.2.3)\n",
            "Requirement already satisfied: anyio<5,>=3.5.0 in /usr/local/lib/python3.10/dist-packages (from openai<2.0.0,>=1.10.0->langchain_openai) (3.7.1)\n",
            "Requirement already satisfied: distro<2,>=1.7.0 in /usr/lib/python3/dist-packages (from openai<2.0.0,>=1.10.0->langchain_openai) (1.7.0)\n",
            "Requirement already satisfied: httpx<1,>=0.23.0 in /usr/local/lib/python3.10/dist-packages (from openai<2.0.0,>=1.10.0->langchain_openai) (0.27.0)\n",
            "Requirement already satisfied: sniffio in /usr/local/lib/python3.10/dist-packages (from openai<2.0.0,>=1.10.0->langchain_openai) (1.3.1)\n",
            "Requirement already satisfied: tqdm>4 in /usr/local/lib/python3.10/dist-packages (from openai<2.0.0,>=1.10.0->langchain_openai) (4.66.2)\n",
            "Requirement already satisfied: typing-extensions<5,>=4.7 in /usr/local/lib/python3.10/dist-packages (from openai<2.0.0,>=1.10.0->langchain_openai) (4.10.0)\n",
            "Requirement already satisfied: regex>=2022.1.18 in /usr/local/lib/python3.10/dist-packages (from tiktoken<1,>=0.5.2->langchain_openai) (2023.12.25)\n",
            "Requirement already satisfied: idna>=2.8 in /usr/local/lib/python3.10/dist-packages (from anyio<5,>=3.5.0->openai<2.0.0,>=1.10.0->langchain_openai) (3.6)\n",
            "Requirement already satisfied: exceptiongroup in /usr/local/lib/python3.10/dist-packages (from anyio<5,>=3.5.0->openai<2.0.0,>=1.10.0->langchain_openai) (1.2.0)\n",
            "Requirement already satisfied: certifi in /usr/local/lib/python3.10/dist-packages (from httpx<1,>=0.23.0->openai<2.0.0,>=1.10.0->langchain_openai) (2024.2.2)\n",
            "Requirement already satisfied: httpcore==1.* in /usr/local/lib/python3.10/dist-packages (from httpx<1,>=0.23.0->openai<2.0.0,>=1.10.0->langchain_openai) (1.0.5)\n",
            "Requirement already satisfied: h11<0.15,>=0.13 in /usr/local/lib/python3.10/dist-packages (from httpcore==1.*->httpx<1,>=0.23.0->openai<2.0.0,>=1.10.0->langchain_openai) (0.14.0)\n",
            "Requirement already satisfied: jsonpointer>=1.9 in /usr/local/lib/python3.10/dist-packages (from jsonpatch<2.0,>=1.33->langchain-core<0.2.0,>=0.1.33->langchain_openai) (2.4)\n",
            "Requirement already satisfied: orjson<4.0.0,>=3.9.14 in /usr/local/lib/python3.10/dist-packages (from langsmith<0.2.0,>=0.1.0->langchain-core<0.2.0,>=0.1.33->langchain_openai) (3.10.0)\n",
            "Requirement already satisfied: annotated-types>=0.4.0 in /usr/local/lib/python3.10/dist-packages (from pydantic<3,>=1->langchain-core<0.2.0,>=0.1.33->langchain_openai) (0.6.0)\n",
            "Requirement already satisfied: pydantic-core==2.16.3 in /usr/local/lib/python3.10/dist-packages (from pydantic<3,>=1->langchain-core<0.2.0,>=0.1.33->langchain_openai) (2.16.3)\n",
            "Requirement already satisfied: charset-normalizer<4,>=2 in /usr/local/lib/python3.10/dist-packages (from requests<3,>=2->langchain-core<0.2.0,>=0.1.33->langchain_openai) (3.3.2)\n",
            "Requirement already satisfied: urllib3<3,>=1.21.1 in /usr/local/lib/python3.10/dist-packages (from requests<3,>=2->langchain-core<0.2.0,>=0.1.33->langchain_openai) (2.0.7)\n"
          ]
        }
      ],
      "source": [
        "!pip install langchain_community\n",
        "!pip install langchain_openai\n",
        "\n",
        "vector_index = Neo4jVector.from_existing_graph(\n",
        "    OpenAIEmbeddings(),\n",
        "    search_type=\"hybrid\",\n",
        "    node_label=\"Document\",\n",
        "    text_node_properties=[\"text\"],\n",
        "    embedding_node_property=\"embedding\"\n",
        ")"
      ]
    },
    {
      "cell_type": "code",
      "execution_count": 23,
      "metadata": {
        "colab": {
          "base_uri": "https://localhost:8080/"
        },
        "id": "pRHkowoJ2Lfo",
        "outputId": "e1b1e396-ba35-49fa-c4b7-162d4405d8ab"
      },
      "outputs": [
        {
          "name": "stderr",
          "output_type": "stream",
          "text": [
            "/usr/local/lib/python3.10/dist-packages/langchain_core/_api/beta_decorator.py:87: LangChainBetaWarning: The function `with_structured_output` is in beta. It is actively being worked on, so the API may change.\n",
            "  warn_beta(\n"
          ]
        }
      ],
      "source": [
        "# Retriever\n",
        "\n",
        "\n",
        "graph.query(\n",
        "    \"CREATE FULLTEXT INDEX entity IF NOT EXISTS FOR (e:__Entity__) ON EACH [e.id]\")\n",
        "\n",
        "# Extract entities from text\n",
        "class Entities(BaseModel):\n",
        "    \"\"\"Identifying information about entities.\"\"\"\n",
        "\n",
        "    names: List[str] = Field(\n",
        "        ...,\n",
        "        description=\"All the person, organization, or business entities that \"\n",
        "        \"appear in the text\",\n",
        "    )\n",
        "\n",
        "prompt = ChatPromptTemplate.from_messages(\n",
        "    [\n",
        "        (\n",
        "            \"system\",\n",
        "            \"You are extracting organization and person entities from the text.\",\n",
        "        ),\n",
        "        (\n",
        "            \"human\",\n",
        "            \"Use the given format to extract information from the following \"\n",
        "            \"input: {question}\",\n",
        "        ),\n",
        "    ]\n",
        ")\n",
        "\n",
        "entity_chain = prompt | llm.with_structured_output(Entities)"
      ]
    },
    {
      "cell_type": "code",
      "execution_count": 24,
      "metadata": {
        "colab": {
          "base_uri": "https://localhost:8080/"
        },
        "id": "ug1w2EeZxp2K",
        "outputId": "bc399e82-9d3a-4261-c566-5430a2e044e7"
      },
      "outputs": [
        {
          "data": {
            "text/plain": [
              "Entities(names=['noise disturbance'])"
            ]
          },
          "execution_count": 24,
          "metadata": {},
          "output_type": "execute_result"
        }
      ],
      "source": [
        "entity_chain.invoke({\"question\": \"How to resolve noise disturbance\"})"
      ]
    },
    {
      "cell_type": "code",
      "execution_count": 109,
      "metadata": {
        "colab": {
          "base_uri": "https://localhost:8080/"
        },
        "id": "v9OaTGFQ8rPJ",
        "outputId": "fa15370a-bcf7-4832-ec83-86e5d91d1b54"
      },
      "outputs": [
        {
          "data": {
            "text/plain": [
              "[{'id': 4,\n",
              "  'name': 'vector',\n",
              "  'state': 'ONLINE',\n",
              "  'populationPercent': 100.0,\n",
              "  'type': 'VECTOR',\n",
              "  'entityType': 'NODE',\n",
              "  'labelsOrTypes': ['Document'],\n",
              "  'properties': ['embedding'],\n",
              "  'indexProvider': 'vector-2.0',\n",
              "  'owningConstraint': None,\n",
              "  'lastRead': neo4j.time.DateTime(2024, 3, 31, 21, 12, 21, 236000000, tzinfo=<UTC>),\n",
              "  'readCount': 6}]"
            ]
          },
          "execution_count": 109,
          "metadata": {},
          "output_type": "execute_result"
        }
      ],
      "source": [
        "graph.query(\"SHOW VECTOR INDEX\")"
      ]
    },
    {
      "cell_type": "code",
      "execution_count": 25,
      "metadata": {
        "id": "OcLsC1ZB9NCu"
      },
      "outputs": [],
      "source": [
        "\n",
        "def generate_full_text_query(input: str) -> str:\n",
        "    \"\"\"\n",
        "    Generate a full-text search query for a given input string.\n",
        "\n",
        "    This function constructs a query string suitable for a full-text search.\n",
        "    It processes the input string by splitting it into words and appending a\n",
        "    similarity threshold (~2 changed characters) to each word, then combines\n",
        "    them using the AND operator. Useful for mapping entities from user questions\n",
        "    to database values, and allows for some misspelings.\n",
        "    \"\"\"\n",
        "    full_text_query = \"\"\n",
        "    words = [el for el in remove_lucene_chars(input).split() if el]\n",
        "    for word in words[:-1]:\n",
        "        full_text_query += f\" {word}~2 AND\"\n",
        "    full_text_query += f\" {words[-1]}~2\"\n",
        "    return full_text_query.strip()\n",
        "\n",
        "# Fulltext index query\n",
        "def structured_retriever(question: str) -> str:\n",
        "    \"\"\"\n",
        "    Collects the neighborhood of entities mentioned\n",
        "    in the question\n",
        "    \"\"\"\n",
        "    result = \"\"\n",
        "    entities = entity_chain.invoke({\"question\": question})\n",
        "    for entity in entities.names:\n",
        "        response = graph.query(\n",
        "            \"\"\"CALL db.index.fulltext.queryNodes('entity', $query, {limit:2})\n",
        "            YIELD node,score\n",
        "            CALL {\n",
        "              MATCH (node)-[r:!MENTIONS]->(neighbor)\n",
        "              RETURN node.id + ' - ' + type(r) + ' -> ' + neighbor.id AS output\n",
        "              UNION\n",
        "              MATCH (node)<-[r:!MENTIONS]-(neighbor)\n",
        "              RETURN neighbor.id + ' - ' + type(r) + ' -> ' +  node.id AS output\n",
        "            }\n",
        "            RETURN output LIMIT 50\n",
        "            \"\"\",\n",
        "            {\"query\": generate_full_text_query(entity)},\n",
        "        )\n",
        "        result += \"\\n\".join([el['output'] for el in response])\n",
        "    return result"
      ]
    },
    {
      "cell_type": "code",
      "execution_count": 26,
      "metadata": {
        "colab": {
          "base_uri": "https://localhost:8080/"
        },
        "id": "iLc47PZERyuw",
        "outputId": "524e609f-d584-4139-a3a7-2858629e23a1"
      },
      "outputs": [
        {
          "name": "stdout",
          "output_type": "stream",
          "text": [
            "\n"
          ]
        }
      ],
      "source": [
        "print(structured_retriever(\"What is the name of the dispatcher\"))\n"
      ]
    },
    {
      "cell_type": "code",
      "execution_count": 27,
      "metadata": {
        "id": "ioHaRGM_R3k4"
      },
      "outputs": [],
      "source": [
        "def retriever(question: str):\n",
        "    print(f\"Search query: {question}\")\n",
        "    structured_data = structured_retriever(question)\n",
        "    unstructured_data = [el.page_content for el in vector_index.similarity_search(question)]\n",
        "    final_data = f\"\"\"Structured data:\n",
        "{structured_data}\n",
        "Unstructured data:\n",
        "{\"#Document \". join(unstructured_data)}\n",
        "    \"\"\"\n",
        "    return final_data"
      ]
    },
    {
      "cell_type": "code",
      "execution_count": 28,
      "metadata": {
        "id": "T77eara_R8Ao"
      },
      "outputs": [],
      "source": [
        "\n",
        "\n",
        "_template = \"\"\"Given the following conversation and a follow up question, rephrase the follow up question to be a standalone question,\n",
        "in its original language.\n",
        "Chat History:\n",
        "{chat_history}\n",
        "Follow Up Input: {question}\n",
        "Standalone question:\"\"\"  # noqa: E501\n",
        "CONDENSE_QUESTION_PROMPT = PromptTemplate.from_template(_template)\n",
        "\n",
        "def _format_chat_history(chat_history: List[Tuple[str, str]]) -> List:\n",
        "    buffer = []\n",
        "    for human, ai in chat_history:\n",
        "        buffer.append(HumanMessage(content=human))\n",
        "        buffer.append(AIMessage(content=ai))\n",
        "    return buffer\n",
        "\n",
        "_search_query = RunnableBranch(\n",
        "    # If input includes chat_history, we condense it with the follow-up question\n",
        "    (\n",
        "        RunnableLambda(lambda x: bool(x.get(\"chat_history\"))).with_config(\n",
        "            run_name=\"HasChatHistoryCheck\"\n",
        "        ),  # Condense follow-up question and chat into a standalone_question\n",
        "        RunnablePassthrough.assign(\n",
        "            chat_history=lambda x: _format_chat_history(x[\"chat_history\"])\n",
        "        )\n",
        "        | CONDENSE_QUESTION_PROMPT\n",
        "        | ChatOpenAI(temperature=0)\n",
        "        | StrOutputParser(),\n",
        "    ),\n",
        "    # Else, we have no chat history, so just pass through the question\n",
        "    RunnableLambda(lambda x : x[\"question\"]),\n",
        ")"
      ]
    },
    {
      "cell_type": "code",
      "execution_count": 122,
      "metadata": {
        "id": "HFfBc24R5u9B"
      },
      "outputs": [],
      "source": [
        "#do not run this\n",
        "class ChatPromptTemplate:\n",
        "    def __init__(self, template, memory=None, messagesplaceholder=None):\n",
        "        self.template = template\n",
        "        self.memory = memory\n",
        "        self.messagesplaceholder = messagesplaceholder\n",
        "\n",
        "    @classmethod\n",
        "    def from_template(cls, template, memory=None, messagesplaceholder=None):\n",
        "        return cls(template, memory, messagesplaceholder)\n"
      ]
    },
    {
      "cell_type": "code",
      "execution_count": 29,
      "metadata": {
        "colab": {
          "base_uri": "https://localhost:8080/"
        },
        "id": "YokNgXe9R--J",
        "outputId": "85bdd890-e375-4da8-9b20-4ffdd4728654"
      },
      "outputs": [
        {
          "name": "stdout",
          "output_type": "stream",
          "text": [
            "Requirement already satisfied: langchain_core in /usr/local/lib/python3.10/dist-packages (0.1.37)\n",
            "Requirement already satisfied: PyYAML>=5.3 in /usr/local/lib/python3.10/dist-packages (from langchain_core) (6.0.1)\n",
            "Requirement already satisfied: jsonpatch<2.0,>=1.33 in /usr/local/lib/python3.10/dist-packages (from langchain_core) (1.33)\n",
            "Requirement already satisfied: langsmith<0.2.0,>=0.1.0 in /usr/local/lib/python3.10/dist-packages (from langchain_core) (0.1.38)\n",
            "Requirement already satisfied: packaging<24.0,>=23.2 in /usr/local/lib/python3.10/dist-packages (from langchain_core) (23.2)\n",
            "Requirement already satisfied: pydantic<3,>=1 in /usr/local/lib/python3.10/dist-packages (from langchain_core) (2.6.4)\n",
            "Requirement already satisfied: requests<3,>=2 in /usr/local/lib/python3.10/dist-packages (from langchain_core) (2.31.0)\n",
            "Requirement already satisfied: tenacity<9.0.0,>=8.1.0 in /usr/local/lib/python3.10/dist-packages (from langchain_core) (8.2.3)\n",
            "Requirement already satisfied: jsonpointer>=1.9 in /usr/local/lib/python3.10/dist-packages (from jsonpatch<2.0,>=1.33->langchain_core) (2.4)\n",
            "Requirement already satisfied: orjson<4.0.0,>=3.9.14 in /usr/local/lib/python3.10/dist-packages (from langsmith<0.2.0,>=0.1.0->langchain_core) (3.10.0)\n",
            "Requirement already satisfied: annotated-types>=0.4.0 in /usr/local/lib/python3.10/dist-packages (from pydantic<3,>=1->langchain_core) (0.6.0)\n",
            "Requirement already satisfied: pydantic-core==2.16.3 in /usr/local/lib/python3.10/dist-packages (from pydantic<3,>=1->langchain_core) (2.16.3)\n",
            "Requirement already satisfied: typing-extensions>=4.6.1 in /usr/local/lib/python3.10/dist-packages (from pydantic<3,>=1->langchain_core) (4.10.0)\n",
            "Requirement already satisfied: charset-normalizer<4,>=2 in /usr/local/lib/python3.10/dist-packages (from requests<3,>=2->langchain_core) (3.3.2)\n",
            "Requirement already satisfied: idna<4,>=2.5 in /usr/local/lib/python3.10/dist-packages (from requests<3,>=2->langchain_core) (3.6)\n",
            "Requirement already satisfied: urllib3<3,>=1.21.1 in /usr/local/lib/python3.10/dist-packages (from requests<3,>=2->langchain_core) (2.0.7)\n",
            "Requirement already satisfied: certifi>=2017.4.17 in /usr/local/lib/python3.10/dist-packages (from requests<3,>=2->langchain_core) (2024.2.2)\n"
          ]
        }
      ],
      "source": [
        "!pip install langchain_core\n",
        "\n",
        "llm = ChatOpenAI(temperature=0, model_name=\"gpt-4-turbo-preview\")\n",
        "template = \"\"\"Answer the question based only on the following context:\n",
        "{context}\n",
        "\n",
        "Question: {question}\n",
        "Use natural language and be concise.\n",
        "Answer:\"\"\"\n",
        "prompt = ChatPromptTemplate.from_template(template)\n",
        "\n",
        "chain = (\n",
        "    RunnableParallel(\n",
        "        {\n",
        "            \"context\": _search_query | retriever,\n",
        "            \"question\": RunnablePassthrough(),\n",
        "        }\n",
        "    )\n",
        "    | prompt\n",
        "    | llm\n",
        "    | StrOutputParser()\n",
        ")"
      ]
    },
    {
      "cell_type": "code",
      "execution_count": 49,
      "metadata": {
        "id": "rzmuaW_9NNsa"
      },
      "outputs": [],
      "source": [
        "mem = []\n",
        "prev_context = \"\"\"\n",
        "This is the previous history of the conversation and respond to the last line in the conversation.\n",
        "\n",
        "\"\"\"\n",
        "\n",
        "def prompt_from_memory(input , mem , prev_context):\n",
        "  mem.append((\"user\" , str(input)))\n",
        "  for conv in mem:\n",
        "    prev_context += (str(conv[0]) + \" : \" + str(conv[1])) + \" \"\n",
        "\n",
        "  x = chain.invoke({\"question\" : str(input)})\n",
        "\n",
        "  mem.append((\"bot\" , str(x)))\n",
        "  print(x)\n",
        "  print(prev_context)"
      ]
    },
    {
      "cell_type": "markdown",
      "metadata": {
        "id": "4IxHnTJtWpMv"
      },
      "source": []
    },
    {
      "cell_type": "code",
      "execution_count": 50,
      "metadata": {
        "colab": {
          "base_uri": "https://localhost:8080/"
        },
        "id": "8Np_TKGzSQsT",
        "outputId": "fda21527-52b5-450d-acbf-cbcee2a4e4ff"
      },
      "outputs": [
        {
          "name": "stdout",
          "output_type": "stream",
          "text": [
            "Search query: There is noise disturbance in my locality. Could you please help me with?\n",
            "Yes, I can help with noise disturbances. Please provide details such as your location and the nature of the disturbance, and I will notify the appropriate authorities for you.\n",
            "\n",
            "This is the previous history of the conversation and respond to the last line in the conversation.\n",
            "\n",
            "user : There is noise disturbance in my locality. Could you please help me with? \n"
          ]
        }
      ],
      "source": [
        "prompt_from_memory( \"There is noise disturbance in my locality. Could you please help me with?\" , mem , prev_context)"
      ]
    }
  ],
  "metadata": {
    "accelerator": "GPU",
    "colab": {
      "gpuType": "T4",
      "provenance": []
    },
    "kernelspec": {
      "display_name": "Python 3",
      "name": "python3"
    },
    "language_info": {
      "name": "python"
    },
    "widgets": {
      "application/vnd.jupyter.widget-state+json": {
        "25d6df10e9f846bab3d0ada89b9c1840": {
          "model_module": "yfiles-jupyter-graphs",
          "model_module_version": "^1.6.2",
          "model_name": "GraphModel",
          "state": {
            "_context_pane_mapping": [
              {
                "id": "Neighborhood",
                "title": "Neighborhood"
              },
              {
                "id": "Data",
                "title": "Data"
              },
              {
                "id": "Search",
                "title": "Search"
              },
              {
                "id": "About",
                "title": "About"
              }
            ],
            "_data_importer": "neo4j",
            "_directed": true,
            "_dom_classes": [],
            "_edges": [
              {
                "color": "#CDDC39",
                "directed": true,
                "end": 14,
                "id": 1152921504606847000,
                "label": "FOLLOWS",
                "properties": {
                  "label": "FOLLOWS"
                },
                "start": 13,
                "thickness_factor": 1
              },
              {
                "color": "#CDDC39",
                "directed": true,
                "end": 15,
                "id": 1152921504606847000,
                "label": "FOLLOWS",
                "properties": {
                  "label": "FOLLOWS"
                },
                "start": 14,
                "thickness_factor": 1
              },
              {
                "color": "#CDDC39",
                "directed": true,
                "end": 16,
                "id": 1152921504606847000,
                "label": "FOLLOWS",
                "properties": {
                  "label": "FOLLOWS"
                },
                "start": 15,
                "thickness_factor": 1
              },
              {
                "color": "#CDDC39",
                "directed": true,
                "end": 17,
                "id": 1152921504606847000,
                "label": "FOLLOWS",
                "properties": {
                  "label": "FOLLOWS"
                },
                "start": 16,
                "thickness_factor": 1
              },
              {
                "color": "#CDDC39",
                "directed": true,
                "end": 18,
                "id": 1152921504606847000,
                "label": "FOLLOWS",
                "properties": {
                  "label": "FOLLOWS"
                },
                "start": 17,
                "thickness_factor": 1
              },
              {
                "color": "#CDDC39",
                "directed": true,
                "end": 19,
                "id": 1152921504606847000,
                "label": "FOLLOWS",
                "properties": {
                  "label": "FOLLOWS"
                },
                "start": 18,
                "thickness_factor": 1
              },
              {
                "color": "#CDDC39",
                "directed": true,
                "end": 20,
                "id": 1152921504606847000,
                "label": "FOLLOWS",
                "properties": {
                  "label": "FOLLOWS"
                },
                "start": 19,
                "thickness_factor": 1
              },
              {
                "color": "#CDDC39",
                "directed": true,
                "end": 21,
                "id": 1152921504606847000,
                "label": "FOLLOWS",
                "properties": {
                  "label": "FOLLOWS"
                },
                "start": 20,
                "thickness_factor": 1
              },
              {
                "color": "#CDDC39",
                "directed": true,
                "end": 22,
                "id": 1152921504606847000,
                "label": "FOLLOWS",
                "properties": {
                  "label": "FOLLOWS"
                },
                "start": 21,
                "thickness_factor": 1
              },
              {
                "color": "#CDDC39",
                "directed": true,
                "end": 23,
                "id": 1152921504606847000,
                "label": "FOLLOWS",
                "properties": {
                  "label": "FOLLOWS"
                },
                "start": 22,
                "thickness_factor": 1
              },
              {
                "color": "#CDDC39",
                "directed": true,
                "end": 24,
                "id": 1152921504606847000,
                "label": "FOLLOWS",
                "properties": {
                  "label": "FOLLOWS"
                },
                "start": 23,
                "thickness_factor": 1
              },
              {
                "color": "#CDDC39",
                "directed": true,
                "end": 25,
                "id": 1152921504606847000,
                "label": "FOLLOWS",
                "properties": {
                  "label": "FOLLOWS"
                },
                "start": 24,
                "thickness_factor": 1
              },
              {
                "color": "#9E9E9E",
                "directed": true,
                "end": 32,
                "id": 1152922604118474800,
                "label": "Name",
                "properties": {
                  "label": "Name",
                  "name": "Hars"
                },
                "start": 27,
                "thickness_factor": 1
              },
              {
                "color": "#9C27B0",
                "directed": true,
                "end": 30,
                "id": 6960320920682496000,
                "label": "NEXT",
                "properties": {
                  "label": "NEXT"
                },
                "start": 29,
                "thickness_factor": 1
              },
              {
                "color": "#9C27B0",
                "directed": true,
                "end": 30,
                "id": 7111191508199408000,
                "label": "NEXT",
                "properties": {
                  "label": "NEXT"
                },
                "start": 29,
                "thickness_factor": 1
              },
              {
                "color": "#9C27B0",
                "directed": true,
                "end": 30,
                "id": 7257558496088949000,
                "label": "NEXT",
                "properties": {
                  "label": "NEXT"
                },
                "start": 29,
                "thickness_factor": 1
              },
              {
                "color": "#9C27B0",
                "directed": true,
                "end": 30,
                "id": 7406177283792175000,
                "label": "NEXT",
                "properties": {
                  "label": "NEXT"
                },
                "start": 29,
                "thickness_factor": 1
              },
              {
                "color": "#9C27B0",
                "directed": true,
                "end": 37,
                "id": 6969328119937237000,
                "label": "NEXT",
                "properties": {
                  "label": "NEXT"
                },
                "start": 29,
                "thickness_factor": 1
              },
              {
                "color": "#9C27B0",
                "directed": true,
                "end": 37,
                "id": 7120198707454149000,
                "label": "NEXT",
                "properties": {
                  "label": "NEXT"
                },
                "start": 29,
                "thickness_factor": 1
              },
              {
                "color": "#9C27B0",
                "directed": true,
                "end": 37,
                "id": 7266565695343690000,
                "label": "NEXT",
                "properties": {
                  "label": "NEXT"
                },
                "start": 29,
                "thickness_factor": 1
              },
              {
                "color": "#9C27B0",
                "directed": true,
                "end": 37,
                "id": 7415184483046916000,
                "label": "NEXT",
                "properties": {
                  "label": "NEXT"
                },
                "start": 29,
                "thickness_factor": 1
              },
              {
                "color": "#9C27B0",
                "directed": true,
                "end": 44,
                "id": 6978335319191978000,
                "label": "NEXT",
                "properties": {
                  "label": "NEXT"
                },
                "start": 29,
                "thickness_factor": 1
              },
              {
                "color": "#9C27B0",
                "directed": true,
                "end": 44,
                "id": 7129205906708890000,
                "label": "NEXT",
                "properties": {
                  "label": "NEXT"
                },
                "start": 29,
                "thickness_factor": 1
              },
              {
                "color": "#9C27B0",
                "directed": true,
                "end": 44,
                "id": 7275572894598431000,
                "label": "NEXT",
                "properties": {
                  "label": "NEXT"
                },
                "start": 29,
                "thickness_factor": 1
              },
              {
                "color": "#9C27B0",
                "directed": true,
                "end": 44,
                "id": 7424191682301657000,
                "label": "NEXT",
                "properties": {
                  "label": "NEXT"
                },
                "start": 29,
                "thickness_factor": 1
              },
              {
                "color": "#9C27B0",
                "directed": true,
                "end": 51,
                "id": 6953565521241440000,
                "label": "NEXT",
                "properties": {
                  "label": "NEXT"
                },
                "start": 29,
                "thickness_factor": 1
              },
              {
                "color": "#9C27B0",
                "directed": true,
                "end": 51,
                "id": 7104436108758352000,
                "label": "NEXT",
                "properties": {
                  "label": "NEXT"
                },
                "start": 29,
                "thickness_factor": 1
              },
              {
                "color": "#9C27B0",
                "directed": true,
                "end": 51,
                "id": 7255306696275263000,
                "label": "NEXT",
                "properties": {
                  "label": "NEXT"
                },
                "start": 29,
                "thickness_factor": 1
              },
              {
                "color": "#9C27B0",
                "directed": true,
                "end": 51,
                "id": 7401673684164805000,
                "label": "NEXT",
                "properties": {
                  "label": "NEXT"
                },
                "start": 29,
                "thickness_factor": 1
              },
              {
                "color": "#9C27B0",
                "directed": true,
                "end": 31,
                "id": 1152929201188241400,
                "label": "NEXT",
                "properties": {
                  "label": "NEXT"
                },
                "start": 30,
                "thickness_factor": 1
              },
              {
                "color": "#9C27B0",
                "directed": true,
                "end": 31,
                "id": 1161936400442982400,
                "label": "NEXT",
                "properties": {
                  "label": "NEXT"
                },
                "start": 30,
                "thickness_factor": 1
              },
              {
                "color": "#9C27B0",
                "directed": true,
                "end": 31,
                "id": 1170943599697723400,
                "label": "NEXT",
                "properties": {
                  "label": "NEXT"
                },
                "start": 30,
                "thickness_factor": 1
              },
              {
                "color": "#9C27B0",
                "directed": true,
                "end": 31,
                "id": 1179950798952464400,
                "label": "NEXT",
                "properties": {
                  "label": "NEXT"
                },
                "start": 30,
                "thickness_factor": 1
              },
              {
                "color": "#9C27B0",
                "directed": true,
                "end": 31,
                "id": 1188957998207205400,
                "label": "NEXT",
                "properties": {
                  "label": "NEXT"
                },
                "start": 30,
                "thickness_factor": 1
              },
              {
                "color": "#9C27B0",
                "directed": true,
                "end": 31,
                "id": 1200216997275631600,
                "label": "NEXT",
                "properties": {
                  "label": "NEXT"
                },
                "start": 30,
                "thickness_factor": 1
              },
              {
                "color": "#9C27B0",
                "directed": true,
                "end": 31,
                "id": 1209224196530372600,
                "label": "NEXT",
                "properties": {
                  "label": "NEXT"
                },
                "start": 30,
                "thickness_factor": 1
              },
              {
                "color": "#9C27B0",
                "directed": true,
                "end": 31,
                "id": 1218231395785113600,
                "label": "NEXT",
                "properties": {
                  "label": "NEXT"
                },
                "start": 30,
                "thickness_factor": 1
              },
              {
                "color": "#9C27B0",
                "directed": true,
                "end": 31,
                "id": 1227238595039854600,
                "label": "NEXT",
                "properties": {
                  "label": "NEXT"
                },
                "start": 30,
                "thickness_factor": 1
              },
              {
                "color": "#9C27B0",
                "directed": true,
                "end": 31,
                "id": 1238497594108280800,
                "label": "NEXT",
                "properties": {
                  "label": "NEXT"
                },
                "start": 30,
                "thickness_factor": 1
              },
              {
                "color": "#9C27B0",
                "directed": true,
                "end": 31,
                "id": 1247504793363021800,
                "label": "NEXT",
                "properties": {
                  "label": "NEXT"
                },
                "start": 30,
                "thickness_factor": 1
              },
              {
                "color": "#9C27B0",
                "directed": true,
                "end": 31,
                "id": 1256511992617762800,
                "label": "NEXT",
                "properties": {
                  "label": "NEXT"
                },
                "start": 30,
                "thickness_factor": 1
              },
              {
                "color": "#9C27B0",
                "directed": true,
                "end": 31,
                "id": 1265519191872503800,
                "label": "NEXT",
                "properties": {
                  "label": "NEXT"
                },
                "start": 30,
                "thickness_factor": 1
              },
              {
                "color": "#9C27B0",
                "directed": true,
                "end": 31,
                "id": 1276778190940930000,
                "label": "NEXT",
                "properties": {
                  "label": "NEXT"
                },
                "start": 30,
                "thickness_factor": 1
              },
              {
                "color": "#9C27B0",
                "directed": true,
                "end": 31,
                "id": 1285785390195671000,
                "label": "NEXT",
                "properties": {
                  "label": "NEXT"
                },
                "start": 30,
                "thickness_factor": 1
              },
              {
                "color": "#9C27B0",
                "directed": true,
                "end": 31,
                "id": 1294792589450412000,
                "label": "NEXT",
                "properties": {
                  "label": "NEXT"
                },
                "start": 30,
                "thickness_factor": 1
              },
              {
                "color": "#9C27B0",
                "directed": true,
                "end": 31,
                "id": 1303799788705153000,
                "label": "NEXT",
                "properties": {
                  "label": "NEXT"
                },
                "start": 30,
                "thickness_factor": 1
              },
              {
                "color": "#9C27B0",
                "directed": true,
                "end": 31,
                "id": 1312806987959894000,
                "label": "NEXT",
                "properties": {
                  "label": "NEXT"
                },
                "start": 30,
                "thickness_factor": 1
              },
              {
                "color": "#9C27B0",
                "directed": true,
                "end": 31,
                "id": 1321814187214635000,
                "label": "NEXT",
                "properties": {
                  "label": "NEXT"
                },
                "start": 30,
                "thickness_factor": 1
              },
              {
                "color": "#9C27B0",
                "directed": true,
                "end": 31,
                "id": 1330821386469376000,
                "label": "NEXT",
                "properties": {
                  "label": "NEXT"
                },
                "start": 30,
                "thickness_factor": 1
              },
              {
                "color": "#9C27B0",
                "directed": true,
                "end": 31,
                "id": 1339828585724117000,
                "label": "NEXT",
                "properties": {
                  "label": "NEXT"
                },
                "start": 30,
                "thickness_factor": 1
              },
              {
                "color": "#9C27B0",
                "directed": true,
                "end": 31,
                "id": 1351087584792543200,
                "label": "NEXT",
                "properties": {
                  "label": "NEXT"
                },
                "start": 30,
                "thickness_factor": 1
              },
              {
                "color": "#9C27B0",
                "directed": true,
                "end": 31,
                "id": 1360094784047284200,
                "label": "NEXT",
                "properties": {
                  "label": "NEXT"
                },
                "start": 30,
                "thickness_factor": 1
              },
              {
                "color": "#9C27B0",
                "directed": true,
                "end": 31,
                "id": 1369101983302025200,
                "label": "NEXT",
                "properties": {
                  "label": "NEXT"
                },
                "start": 30,
                "thickness_factor": 1
              },
              {
                "color": "#9C27B0",
                "directed": true,
                "end": 31,
                "id": 1378109182556766200,
                "label": "NEXT",
                "properties": {
                  "label": "NEXT"
                },
                "start": 30,
                "thickness_factor": 1
              },
              {
                "color": "#9C27B0",
                "directed": true,
                "end": 31,
                "id": 1389368181625192400,
                "label": "NEXT",
                "properties": {
                  "label": "NEXT"
                },
                "start": 30,
                "thickness_factor": 1
              },
              {
                "color": "#9C27B0",
                "directed": true,
                "end": 31,
                "id": 1398375380879933400,
                "label": "NEXT",
                "properties": {
                  "label": "NEXT"
                },
                "start": 30,
                "thickness_factor": 1
              },
              {
                "color": "#9C27B0",
                "directed": true,
                "end": 31,
                "id": 1407382580134674400,
                "label": "NEXT",
                "properties": {
                  "label": "NEXT"
                },
                "start": 30,
                "thickness_factor": 1
              },
              {
                "color": "#9C27B0",
                "directed": true,
                "end": 31,
                "id": 1416389779389415400,
                "label": "NEXT",
                "properties": {
                  "label": "NEXT"
                },
                "start": 30,
                "thickness_factor": 1
              },
              {
                "color": "#9C27B0",
                "directed": true,
                "end": 31,
                "id": 1423145178830471200,
                "label": "NEXT",
                "properties": {
                  "label": "NEXT"
                },
                "start": 30,
                "thickness_factor": 1
              },
              {
                "color": "#9C27B0",
                "directed": true,
                "end": 31,
                "id": 1432152378085212200,
                "label": "NEXT",
                "properties": {
                  "label": "NEXT"
                },
                "start": 30,
                "thickness_factor": 1
              },
              {
                "color": "#9C27B0",
                "directed": true,
                "end": 31,
                "id": 1441159577339953200,
                "label": "NEXT",
                "properties": {
                  "label": "NEXT"
                },
                "start": 30,
                "thickness_factor": 1
              },
              {
                "color": "#9C27B0",
                "directed": true,
                "end": 31,
                "id": 1450166776594694100,
                "label": "NEXT",
                "properties": {
                  "label": "NEXT"
                },
                "start": 30,
                "thickness_factor": 1
              },
              {
                "color": "#9C27B0",
                "directed": true,
                "end": 31,
                "id": 1459173975849435100,
                "label": "NEXT",
                "properties": {
                  "label": "NEXT"
                },
                "start": 30,
                "thickness_factor": 1
              },
              {
                "color": "#9C27B0",
                "directed": true,
                "end": 31,
                "id": 1468181175104176000,
                "label": "NEXT",
                "properties": {
                  "label": "NEXT"
                },
                "start": 30,
                "thickness_factor": 1
              },
              {
                "color": "#9C27B0",
                "directed": true,
                "end": 31,
                "id": 1477188374358917000,
                "label": "NEXT",
                "properties": {
                  "label": "NEXT"
                },
                "start": 30,
                "thickness_factor": 1
              },
              {
                "color": "#9C27B0",
                "directed": true,
                "end": 31,
                "id": 1486195573613658000,
                "label": "NEXT",
                "properties": {
                  "label": "NEXT"
                },
                "start": 30,
                "thickness_factor": 1
              },
              {
                "color": "#9C27B0",
                "directed": true,
                "end": 31,
                "id": 1497454572682084400,
                "label": "NEXT",
                "properties": {
                  "label": "NEXT"
                },
                "start": 30,
                "thickness_factor": 1
              },
              {
                "color": "#9C27B0",
                "directed": true,
                "end": 31,
                "id": 1506461771936825300,
                "label": "NEXT",
                "properties": {
                  "label": "NEXT"
                },
                "start": 30,
                "thickness_factor": 1
              },
              {
                "color": "#9C27B0",
                "directed": true,
                "end": 31,
                "id": 1515468971191566300,
                "label": "NEXT",
                "properties": {
                  "label": "NEXT"
                },
                "start": 30,
                "thickness_factor": 1
              },
              {
                "color": "#9C27B0",
                "directed": true,
                "end": 31,
                "id": 1524476170446307300,
                "label": "NEXT",
                "properties": {
                  "label": "NEXT"
                },
                "start": 30,
                "thickness_factor": 1
              },
              {
                "color": "#9C27B0",
                "directed": true,
                "end": 31,
                "id": 1535735169514733600,
                "label": "NEXT",
                "properties": {
                  "label": "NEXT"
                },
                "start": 30,
                "thickness_factor": 1
              },
              {
                "color": "#9C27B0",
                "directed": true,
                "end": 31,
                "id": 1544742368769474600,
                "label": "NEXT",
                "properties": {
                  "label": "NEXT"
                },
                "start": 30,
                "thickness_factor": 1
              },
              {
                "color": "#9C27B0",
                "directed": true,
                "end": 31,
                "id": 1553749568024215600,
                "label": "NEXT",
                "properties": {
                  "label": "NEXT"
                },
                "start": 30,
                "thickness_factor": 1
              },
              {
                "color": "#9C27B0",
                "directed": true,
                "end": 31,
                "id": 1562756767278956500,
                "label": "NEXT",
                "properties": {
                  "label": "NEXT"
                },
                "start": 30,
                "thickness_factor": 1
              },
              {
                "color": "#9C27B0",
                "directed": true,
                "end": 31,
                "id": 1571763966533697500,
                "label": "NEXT",
                "properties": {
                  "label": "NEXT"
                },
                "start": 30,
                "thickness_factor": 1
              },
              {
                "color": "#9C27B0",
                "directed": true,
                "end": 31,
                "id": 1580771165788438500,
                "label": "NEXT",
                "properties": {
                  "label": "NEXT"
                },
                "start": 30,
                "thickness_factor": 1
              },
              {
                "color": "#9C27B0",
                "directed": true,
                "end": 31,
                "id": 1589778365043179500,
                "label": "NEXT",
                "properties": {
                  "label": "NEXT"
                },
                "start": 30,
                "thickness_factor": 1
              },
              {
                "color": "#9C27B0",
                "directed": true,
                "end": 31,
                "id": 1598785564297920500,
                "label": "NEXT",
                "properties": {
                  "label": "NEXT"
                },
                "start": 30,
                "thickness_factor": 1
              },
              {
                "color": "#9C27B0",
                "directed": true,
                "end": 31,
                "id": 1607792763552661500,
                "label": "NEXT",
                "properties": {
                  "label": "NEXT"
                },
                "start": 30,
                "thickness_factor": 1
              },
              {
                "color": "#9C27B0",
                "directed": true,
                "end": 31,
                "id": 1616799962807402500,
                "label": "NEXT",
                "properties": {
                  "label": "NEXT"
                },
                "start": 30,
                "thickness_factor": 1
              },
              {
                "color": "#9C27B0",
                "directed": true,
                "end": 31,
                "id": 1625807162062143500,
                "label": "NEXT",
                "properties": {
                  "label": "NEXT"
                },
                "start": 30,
                "thickness_factor": 1
              },
              {
                "color": "#9C27B0",
                "directed": true,
                "end": 31,
                "id": 1634814361316884500,
                "label": "NEXT",
                "properties": {
                  "label": "NEXT"
                },
                "start": 30,
                "thickness_factor": 1
              },
              {
                "color": "#9C27B0",
                "directed": true,
                "end": 31,
                "id": 1646073360385310700,
                "label": "NEXT",
                "properties": {
                  "label": "NEXT"
                },
                "start": 30,
                "thickness_factor": 1
              },
              {
                "color": "#9C27B0",
                "directed": true,
                "end": 31,
                "id": 1655080559640051700,
                "label": "NEXT",
                "properties": {
                  "label": "NEXT"
                },
                "start": 30,
                "thickness_factor": 1
              },
              {
                "color": "#9C27B0",
                "directed": true,
                "end": 31,
                "id": 1664087758894792700,
                "label": "NEXT",
                "properties": {
                  "label": "NEXT"
                },
                "start": 30,
                "thickness_factor": 1
              },
              {
                "color": "#9C27B0",
                "directed": true,
                "end": 31,
                "id": 1673094958149533700,
                "label": "NEXT",
                "properties": {
                  "label": "NEXT"
                },
                "start": 30,
                "thickness_factor": 1
              },
              {
                "color": "#9C27B0",
                "directed": true,
                "end": 31,
                "id": 1684353957217960000,
                "label": "NEXT",
                "properties": {
                  "label": "NEXT"
                },
                "start": 30,
                "thickness_factor": 1
              },
              {
                "color": "#9C27B0",
                "directed": true,
                "end": 31,
                "id": 1693361156472701000,
                "label": "NEXT",
                "properties": {
                  "label": "NEXT"
                },
                "start": 30,
                "thickness_factor": 1
              },
              {
                "color": "#9C27B0",
                "directed": true,
                "end": 31,
                "id": 1702368355727442000,
                "label": "NEXT",
                "properties": {
                  "label": "NEXT"
                },
                "start": 30,
                "thickness_factor": 1
              },
              {
                "color": "#9C27B0",
                "directed": true,
                "end": 31,
                "id": 1711375554982183000,
                "label": "NEXT",
                "properties": {
                  "label": "NEXT"
                },
                "start": 30,
                "thickness_factor": 1
              },
              {
                "color": "#9C27B0",
                "directed": true,
                "end": 31,
                "id": 1720382754236924000,
                "label": "NEXT",
                "properties": {
                  "label": "NEXT"
                },
                "start": 30,
                "thickness_factor": 1
              },
              {
                "color": "#9C27B0",
                "directed": true,
                "end": 31,
                "id": 1729389953491665000,
                "label": "NEXT",
                "properties": {
                  "label": "NEXT"
                },
                "start": 30,
                "thickness_factor": 1
              },
              {
                "color": "#9C27B0",
                "directed": true,
                "end": 31,
                "id": 1738397152746406000,
                "label": "NEXT",
                "properties": {
                  "label": "NEXT"
                },
                "start": 30,
                "thickness_factor": 1
              },
              {
                "color": "#9C27B0",
                "directed": true,
                "end": 38,
                "id": 1155181001001926700,
                "label": "NEXT",
                "properties": {
                  "label": "NEXT"
                },
                "start": 30,
                "thickness_factor": 1
              },
              {
                "color": "#9C27B0",
                "directed": true,
                "end": 38,
                "id": 1164188200256667600,
                "label": "NEXT",
                "properties": {
                  "label": "NEXT"
                },
                "start": 30,
                "thickness_factor": 1
              },
              {
                "color": "#9C27B0",
                "directed": true,
                "end": 38,
                "id": 1173195399511408600,
                "label": "NEXT",
                "properties": {
                  "label": "NEXT"
                },
                "start": 30,
                "thickness_factor": 1
              },
              {
                "color": "#9C27B0",
                "directed": true,
                "end": 38,
                "id": 1182202598766149600,
                "label": "NEXT",
                "properties": {
                  "label": "NEXT"
                },
                "start": 30,
                "thickness_factor": 1
              },
              {
                "color": "#9C27B0",
                "directed": true,
                "end": 38,
                "id": 1191209798020890600,
                "label": "NEXT",
                "properties": {
                  "label": "NEXT"
                },
                "start": 30,
                "thickness_factor": 1
              },
              {
                "color": "#9C27B0",
                "directed": true,
                "end": 38,
                "id": 1202468797089316900,
                "label": "NEXT",
                "properties": {
                  "label": "NEXT"
                },
                "start": 30,
                "thickness_factor": 1
              },
              {
                "color": "#9C27B0",
                "directed": true,
                "end": 38,
                "id": 1211475996344057900,
                "label": "NEXT",
                "properties": {
                  "label": "NEXT"
                },
                "start": 30,
                "thickness_factor": 1
              },
              {
                "color": "#9C27B0",
                "directed": true,
                "end": 38,
                "id": 1220483195598798800,
                "label": "NEXT",
                "properties": {
                  "label": "NEXT"
                },
                "start": 30,
                "thickness_factor": 1
              },
              {
                "color": "#9C27B0",
                "directed": true,
                "end": 38,
                "id": 1229490394853539800,
                "label": "NEXT",
                "properties": {
                  "label": "NEXT"
                },
                "start": 30,
                "thickness_factor": 1
              },
              {
                "color": "#9C27B0",
                "directed": true,
                "end": 38,
                "id": 1240749393921966000,
                "label": "NEXT",
                "properties": {
                  "label": "NEXT"
                },
                "start": 30,
                "thickness_factor": 1
              },
              {
                "color": "#9C27B0",
                "directed": true,
                "end": 38,
                "id": 1249756593176707000,
                "label": "NEXT",
                "properties": {
                  "label": "NEXT"
                },
                "start": 30,
                "thickness_factor": 1
              },
              {
                "color": "#9C27B0",
                "directed": true,
                "end": 38,
                "id": 1258763792431448000,
                "label": "NEXT",
                "properties": {
                  "label": "NEXT"
                },
                "start": 30,
                "thickness_factor": 1
              },
              {
                "color": "#9C27B0",
                "directed": true,
                "end": 38,
                "id": 1267770991686189000,
                "label": "NEXT",
                "properties": {
                  "label": "NEXT"
                },
                "start": 30,
                "thickness_factor": 1
              },
              {
                "color": "#9C27B0",
                "directed": true,
                "end": 38,
                "id": 1279029990754615300,
                "label": "NEXT",
                "properties": {
                  "label": "NEXT"
                },
                "start": 30,
                "thickness_factor": 1
              },
              {
                "color": "#9C27B0",
                "directed": true,
                "end": 38,
                "id": 1288037190009356300,
                "label": "NEXT",
                "properties": {
                  "label": "NEXT"
                },
                "start": 30,
                "thickness_factor": 1
              },
              {
                "color": "#9C27B0",
                "directed": true,
                "end": 38,
                "id": 1297044389264097300,
                "label": "NEXT",
                "properties": {
                  "label": "NEXT"
                },
                "start": 30,
                "thickness_factor": 1
              },
              {
                "color": "#9C27B0",
                "directed": true,
                "end": 38,
                "id": 1306051588518838300,
                "label": "NEXT",
                "properties": {
                  "label": "NEXT"
                },
                "start": 30,
                "thickness_factor": 1
              },
              {
                "color": "#9C27B0",
                "directed": true,
                "end": 38,
                "id": 1315058787773579300,
                "label": "NEXT",
                "properties": {
                  "label": "NEXT"
                },
                "start": 30,
                "thickness_factor": 1
              },
              {
                "color": "#9C27B0",
                "directed": true,
                "end": 38,
                "id": 1324065987028320300,
                "label": "NEXT",
                "properties": {
                  "label": "NEXT"
                },
                "start": 30,
                "thickness_factor": 1
              },
              {
                "color": "#9C27B0",
                "directed": true,
                "end": 38,
                "id": 1333073186283061200,
                "label": "NEXT",
                "properties": {
                  "label": "NEXT"
                },
                "start": 30,
                "thickness_factor": 1
              },
              {
                "color": "#9C27B0",
                "directed": true,
                "end": 38,
                "id": 1342080385537802200,
                "label": "NEXT",
                "properties": {
                  "label": "NEXT"
                },
                "start": 30,
                "thickness_factor": 1
              },
              {
                "color": "#9C27B0",
                "directed": true,
                "end": 38,
                "id": 1353339384606228500,
                "label": "NEXT",
                "properties": {
                  "label": "NEXT"
                },
                "start": 30,
                "thickness_factor": 1
              },
              {
                "color": "#9C27B0",
                "directed": true,
                "end": 38,
                "id": 1362346583860969500,
                "label": "NEXT",
                "properties": {
                  "label": "NEXT"
                },
                "start": 30,
                "thickness_factor": 1
              },
              {
                "color": "#9C27B0",
                "directed": true,
                "end": 38,
                "id": 1371353783115710500,
                "label": "NEXT",
                "properties": {
                  "label": "NEXT"
                },
                "start": 30,
                "thickness_factor": 1
              },
              {
                "color": "#9C27B0",
                "directed": true,
                "end": 38,
                "id": 1380360982370451500,
                "label": "NEXT",
                "properties": {
                  "label": "NEXT"
                },
                "start": 30,
                "thickness_factor": 1
              },
              {
                "color": "#9C27B0",
                "directed": true,
                "end": 38,
                "id": 1391619981438877700,
                "label": "NEXT",
                "properties": {
                  "label": "NEXT"
                },
                "start": 30,
                "thickness_factor": 1
              },
              {
                "color": "#9C27B0",
                "directed": true,
                "end": 38,
                "id": 1400627180693618700,
                "label": "NEXT",
                "properties": {
                  "label": "NEXT"
                },
                "start": 30,
                "thickness_factor": 1
              },
              {
                "color": "#9C27B0",
                "directed": true,
                "end": 38,
                "id": 1409634379948359700,
                "label": "NEXT",
                "properties": {
                  "label": "NEXT"
                },
                "start": 30,
                "thickness_factor": 1
              },
              {
                "color": "#9C27B0",
                "directed": true,
                "end": 38,
                "id": 1418641579203100700,
                "label": "NEXT",
                "properties": {
                  "label": "NEXT"
                },
                "start": 30,
                "thickness_factor": 1
              },
              {
                "color": "#9C27B0",
                "directed": true,
                "end": 38,
                "id": 1425396978644156400,
                "label": "NEXT",
                "properties": {
                  "label": "NEXT"
                },
                "start": 30,
                "thickness_factor": 1
              },
              {
                "color": "#9C27B0",
                "directed": true,
                "end": 38,
                "id": 1434404177898897400,
                "label": "NEXT",
                "properties": {
                  "label": "NEXT"
                },
                "start": 30,
                "thickness_factor": 1
              },
              {
                "color": "#9C27B0",
                "directed": true,
                "end": 38,
                "id": 1443411377153638400,
                "label": "NEXT",
                "properties": {
                  "label": "NEXT"
                },
                "start": 30,
                "thickness_factor": 1
              },
              {
                "color": "#9C27B0",
                "directed": true,
                "end": 38,
                "id": 1452418576408379400,
                "label": "NEXT",
                "properties": {
                  "label": "NEXT"
                },
                "start": 30,
                "thickness_factor": 1
              },
              {
                "color": "#9C27B0",
                "directed": true,
                "end": 38,
                "id": 1461425775663120400,
                "label": "NEXT",
                "properties": {
                  "label": "NEXT"
                },
                "start": 30,
                "thickness_factor": 1
              },
              {
                "color": "#9C27B0",
                "directed": true,
                "end": 38,
                "id": 1470432974917861400,
                "label": "NEXT",
                "properties": {
                  "label": "NEXT"
                },
                "start": 30,
                "thickness_factor": 1
              },
              {
                "color": "#9C27B0",
                "directed": true,
                "end": 38,
                "id": 1479440174172602400,
                "label": "NEXT",
                "properties": {
                  "label": "NEXT"
                },
                "start": 30,
                "thickness_factor": 1
              },
              {
                "color": "#9C27B0",
                "directed": true,
                "end": 38,
                "id": 1488447373427343400,
                "label": "NEXT",
                "properties": {
                  "label": "NEXT"
                },
                "start": 30,
                "thickness_factor": 1
              },
              {
                "color": "#9C27B0",
                "directed": true,
                "end": 38,
                "id": 1499706372495769600,
                "label": "NEXT",
                "properties": {
                  "label": "NEXT"
                },
                "start": 30,
                "thickness_factor": 1
              },
              {
                "color": "#9C27B0",
                "directed": true,
                "end": 38,
                "id": 1508713571750510600,
                "label": "NEXT",
                "properties": {
                  "label": "NEXT"
                },
                "start": 30,
                "thickness_factor": 1
              },
              {
                "color": "#9C27B0",
                "directed": true,
                "end": 38,
                "id": 1517720771005251600,
                "label": "NEXT",
                "properties": {
                  "label": "NEXT"
                },
                "start": 30,
                "thickness_factor": 1
              },
              {
                "color": "#9C27B0",
                "directed": true,
                "end": 38,
                "id": 1526727970259992600,
                "label": "NEXT",
                "properties": {
                  "label": "NEXT"
                },
                "start": 30,
                "thickness_factor": 1
              },
              {
                "color": "#9C27B0",
                "directed": true,
                "end": 38,
                "id": 1537986969328418800,
                "label": "NEXT",
                "properties": {
                  "label": "NEXT"
                },
                "start": 30,
                "thickness_factor": 1
              },
              {
                "color": "#9C27B0",
                "directed": true,
                "end": 38,
                "id": 1546994168583159800,
                "label": "NEXT",
                "properties": {
                  "label": "NEXT"
                },
                "start": 30,
                "thickness_factor": 1
              },
              {
                "color": "#9C27B0",
                "directed": true,
                "end": 38,
                "id": 1556001367837900800,
                "label": "NEXT",
                "properties": {
                  "label": "NEXT"
                },
                "start": 30,
                "thickness_factor": 1
              },
              {
                "color": "#9C27B0",
                "directed": true,
                "end": 38,
                "id": 1565008567092641800,
                "label": "NEXT",
                "properties": {
                  "label": "NEXT"
                },
                "start": 30,
                "thickness_factor": 1
              },
              {
                "color": "#9C27B0",
                "directed": true,
                "end": 38,
                "id": 1574015766347382800,
                "label": "NEXT",
                "properties": {
                  "label": "NEXT"
                },
                "start": 30,
                "thickness_factor": 1
              },
              {
                "color": "#9C27B0",
                "directed": true,
                "end": 38,
                "id": 1583022965602123800,
                "label": "NEXT",
                "properties": {
                  "label": "NEXT"
                },
                "start": 30,
                "thickness_factor": 1
              },
              {
                "color": "#9C27B0",
                "directed": true,
                "end": 38,
                "id": 1592030164856864800,
                "label": "NEXT",
                "properties": {
                  "label": "NEXT"
                },
                "start": 30,
                "thickness_factor": 1
              },
              {
                "color": "#9C27B0",
                "directed": true,
                "end": 38,
                "id": 1601037364111605800,
                "label": "NEXT",
                "properties": {
                  "label": "NEXT"
                },
                "start": 30,
                "thickness_factor": 1
              },
              {
                "color": "#9C27B0",
                "directed": true,
                "end": 38,
                "id": 1610044563366346800,
                "label": "NEXT",
                "properties": {
                  "label": "NEXT"
                },
                "start": 30,
                "thickness_factor": 1
              },
              {
                "color": "#9C27B0",
                "directed": true,
                "end": 38,
                "id": 1619051762621087700,
                "label": "NEXT",
                "properties": {
                  "label": "NEXT"
                },
                "start": 30,
                "thickness_factor": 1
              },
              {
                "color": "#9C27B0",
                "directed": true,
                "end": 38,
                "id": 1628058961875828700,
                "label": "NEXT",
                "properties": {
                  "label": "NEXT"
                },
                "start": 30,
                "thickness_factor": 1
              },
              {
                "color": "#9C27B0",
                "directed": true,
                "end": 38,
                "id": 1637066161130569700,
                "label": "NEXT",
                "properties": {
                  "label": "NEXT"
                },
                "start": 30,
                "thickness_factor": 1
              },
              {
                "color": "#9C27B0",
                "directed": true,
                "end": 38,
                "id": 1648325160198996000,
                "label": "NEXT",
                "properties": {
                  "label": "NEXT"
                },
                "start": 30,
                "thickness_factor": 1
              },
              {
                "color": "#9C27B0",
                "directed": true,
                "end": 38,
                "id": 1657332359453737000,
                "label": "NEXT",
                "properties": {
                  "label": "NEXT"
                },
                "start": 30,
                "thickness_factor": 1
              },
              {
                "color": "#9C27B0",
                "directed": true,
                "end": 38,
                "id": 1666339558708478000,
                "label": "NEXT",
                "properties": {
                  "label": "NEXT"
                },
                "start": 30,
                "thickness_factor": 1
              },
              {
                "color": "#9C27B0",
                "directed": true,
                "end": 38,
                "id": 1675346757963219000,
                "label": "NEXT",
                "properties": {
                  "label": "NEXT"
                },
                "start": 30,
                "thickness_factor": 1
              },
              {
                "color": "#9C27B0",
                "directed": true,
                "end": 38,
                "id": 1686605757031645200,
                "label": "NEXT",
                "properties": {
                  "label": "NEXT"
                },
                "start": 30,
                "thickness_factor": 1
              },
              {
                "color": "#9C27B0",
                "directed": true,
                "end": 38,
                "id": 1695612956286386200,
                "label": "NEXT",
                "properties": {
                  "label": "NEXT"
                },
                "start": 30,
                "thickness_factor": 1
              },
              {
                "color": "#9C27B0",
                "directed": true,
                "end": 38,
                "id": 1704620155541127200,
                "label": "NEXT",
                "properties": {
                  "label": "NEXT"
                },
                "start": 30,
                "thickness_factor": 1
              },
              {
                "color": "#9C27B0",
                "directed": true,
                "end": 38,
                "id": 1713627354795868200,
                "label": "NEXT",
                "properties": {
                  "label": "NEXT"
                },
                "start": 30,
                "thickness_factor": 1
              },
              {
                "color": "#9C27B0",
                "directed": true,
                "end": 38,
                "id": 1722634554050609200,
                "label": "NEXT",
                "properties": {
                  "label": "NEXT"
                },
                "start": 30,
                "thickness_factor": 1
              },
              {
                "color": "#9C27B0",
                "directed": true,
                "end": 38,
                "id": 1731641753305350100,
                "label": "NEXT",
                "properties": {
                  "label": "NEXT"
                },
                "start": 30,
                "thickness_factor": 1
              },
              {
                "color": "#9C27B0",
                "directed": true,
                "end": 38,
                "id": 1740648952560091100,
                "label": "NEXT",
                "properties": {
                  "label": "NEXT"
                },
                "start": 30,
                "thickness_factor": 1
              },
              {
                "color": "#9C27B0",
                "directed": true,
                "end": 45,
                "id": 1157432800815612000,
                "label": "NEXT",
                "properties": {
                  "label": "NEXT"
                },
                "start": 30,
                "thickness_factor": 1
              },
              {
                "color": "#9C27B0",
                "directed": true,
                "end": 45,
                "id": 1166440000070353000,
                "label": "NEXT",
                "properties": {
                  "label": "NEXT"
                },
                "start": 30,
                "thickness_factor": 1
              },
              {
                "color": "#9C27B0",
                "directed": true,
                "end": 45,
                "id": 1175447199325094000,
                "label": "NEXT",
                "properties": {
                  "label": "NEXT"
                },
                "start": 30,
                "thickness_factor": 1
              },
              {
                "color": "#9C27B0",
                "directed": true,
                "end": 45,
                "id": 1184454398579835000,
                "label": "NEXT",
                "properties": {
                  "label": "NEXT"
                },
                "start": 30,
                "thickness_factor": 1
              },
              {
                "color": "#9C27B0",
                "directed": true,
                "end": 45,
                "id": 1193461597834576000,
                "label": "NEXT",
                "properties": {
                  "label": "NEXT"
                },
                "start": 30,
                "thickness_factor": 1
              },
              {
                "color": "#9C27B0",
                "directed": true,
                "end": 45,
                "id": 1204720596903002000,
                "label": "NEXT",
                "properties": {
                  "label": "NEXT"
                },
                "start": 30,
                "thickness_factor": 1
              },
              {
                "color": "#9C27B0",
                "directed": true,
                "end": 45,
                "id": 1213727796157743000,
                "label": "NEXT",
                "properties": {
                  "label": "NEXT"
                },
                "start": 30,
                "thickness_factor": 1
              },
              {
                "color": "#9C27B0",
                "directed": true,
                "end": 45,
                "id": 1222734995412484000,
                "label": "NEXT",
                "properties": {
                  "label": "NEXT"
                },
                "start": 30,
                "thickness_factor": 1
              },
              {
                "color": "#9C27B0",
                "directed": true,
                "end": 45,
                "id": 1231742194667225000,
                "label": "NEXT",
                "properties": {
                  "label": "NEXT"
                },
                "start": 30,
                "thickness_factor": 1
              },
              {
                "color": "#9C27B0",
                "directed": true,
                "end": 45,
                "id": 1243001193735651300,
                "label": "NEXT",
                "properties": {
                  "label": "NEXT"
                },
                "start": 30,
                "thickness_factor": 1
              },
              {
                "color": "#9C27B0",
                "directed": true,
                "end": 45,
                "id": 1252008392990392300,
                "label": "NEXT",
                "properties": {
                  "label": "NEXT"
                },
                "start": 30,
                "thickness_factor": 1
              },
              {
                "color": "#9C27B0",
                "directed": true,
                "end": 45,
                "id": 1261015592245133300,
                "label": "NEXT",
                "properties": {
                  "label": "NEXT"
                },
                "start": 30,
                "thickness_factor": 1
              },
              {
                "color": "#9C27B0",
                "directed": true,
                "end": 45,
                "id": 1270022791499874300,
                "label": "NEXT",
                "properties": {
                  "label": "NEXT"
                },
                "start": 30,
                "thickness_factor": 1
              },
              {
                "color": "#9C27B0",
                "directed": true,
                "end": 45,
                "id": 1281281790568300500,
                "label": "NEXT",
                "properties": {
                  "label": "NEXT"
                },
                "start": 30,
                "thickness_factor": 1
              },
              {
                "color": "#9C27B0",
                "directed": true,
                "end": 45,
                "id": 1290288989823041500,
                "label": "NEXT",
                "properties": {
                  "label": "NEXT"
                },
                "start": 30,
                "thickness_factor": 1
              },
              {
                "color": "#9C27B0",
                "directed": true,
                "end": 45,
                "id": 1299296189077782500,
                "label": "NEXT",
                "properties": {
                  "label": "NEXT"
                },
                "start": 30,
                "thickness_factor": 1
              },
              {
                "color": "#9C27B0",
                "directed": true,
                "end": 45,
                "id": 1308303388332523500,
                "label": "NEXT",
                "properties": {
                  "label": "NEXT"
                },
                "start": 30,
                "thickness_factor": 1
              },
              {
                "color": "#9C27B0",
                "directed": true,
                "end": 45,
                "id": 1317310587587264500,
                "label": "NEXT",
                "properties": {
                  "label": "NEXT"
                },
                "start": 30,
                "thickness_factor": 1
              },
              {
                "color": "#9C27B0",
                "directed": true,
                "end": 45,
                "id": 1326317786842005500,
                "label": "NEXT",
                "properties": {
                  "label": "NEXT"
                },
                "start": 30,
                "thickness_factor": 1
              },
              {
                "color": "#9C27B0",
                "directed": true,
                "end": 45,
                "id": 1335324986096746500,
                "label": "NEXT",
                "properties": {
                  "label": "NEXT"
                },
                "start": 30,
                "thickness_factor": 1
              },
              {
                "color": "#9C27B0",
                "directed": true,
                "end": 45,
                "id": 1344332185351487500,
                "label": "NEXT",
                "properties": {
                  "label": "NEXT"
                },
                "start": 30,
                "thickness_factor": 1
              },
              {
                "color": "#9C27B0",
                "directed": true,
                "end": 45,
                "id": 1355591184419913700,
                "label": "NEXT",
                "properties": {
                  "label": "NEXT"
                },
                "start": 30,
                "thickness_factor": 1
              },
              {
                "color": "#9C27B0",
                "directed": true,
                "end": 45,
                "id": 1364598383674654700,
                "label": "NEXT",
                "properties": {
                  "label": "NEXT"
                },
                "start": 30,
                "thickness_factor": 1
              },
              {
                "color": "#9C27B0",
                "directed": true,
                "end": 45,
                "id": 1373605582929395700,
                "label": "NEXT",
                "properties": {
                  "label": "NEXT"
                },
                "start": 30,
                "thickness_factor": 1
              },
              {
                "color": "#9C27B0",
                "directed": true,
                "end": 45,
                "id": 1382612782184136700,
                "label": "NEXT",
                "properties": {
                  "label": "NEXT"
                },
                "start": 30,
                "thickness_factor": 1
              },
              {
                "color": "#9C27B0",
                "directed": true,
                "end": 45,
                "id": 1393871781252563000,
                "label": "NEXT",
                "properties": {
                  "label": "NEXT"
                },
                "start": 30,
                "thickness_factor": 1
              },
              {
                "color": "#9C27B0",
                "directed": true,
                "end": 45,
                "id": 1402878980507304000,
                "label": "NEXT",
                "properties": {
                  "label": "NEXT"
                },
                "start": 30,
                "thickness_factor": 1
              },
              {
                "color": "#9C27B0",
                "directed": true,
                "end": 45,
                "id": 1411886179762045000,
                "label": "NEXT",
                "properties": {
                  "label": "NEXT"
                },
                "start": 30,
                "thickness_factor": 1
              },
              {
                "color": "#9C27B0",
                "directed": true,
                "end": 45,
                "id": 1420893379016786000,
                "label": "NEXT",
                "properties": {
                  "label": "NEXT"
                },
                "start": 30,
                "thickness_factor": 1
              },
              {
                "color": "#9C27B0",
                "directed": true,
                "end": 45,
                "id": 1427648778457841700,
                "label": "NEXT",
                "properties": {
                  "label": "NEXT"
                },
                "start": 30,
                "thickness_factor": 1
              },
              {
                "color": "#9C27B0",
                "directed": true,
                "end": 45,
                "id": 1436655977712582700,
                "label": "NEXT",
                "properties": {
                  "label": "NEXT"
                },
                "start": 30,
                "thickness_factor": 1
              },
              {
                "color": "#9C27B0",
                "directed": true,
                "end": 45,
                "id": 1445663176967323600,
                "label": "NEXT",
                "properties": {
                  "label": "NEXT"
                },
                "start": 30,
                "thickness_factor": 1
              },
              {
                "color": "#9C27B0",
                "directed": true,
                "end": 45,
                "id": 1454670376222064600,
                "label": "NEXT",
                "properties": {
                  "label": "NEXT"
                },
                "start": 30,
                "thickness_factor": 1
              },
              {
                "color": "#9C27B0",
                "directed": true,
                "end": 45,
                "id": 1463677575476805600,
                "label": "NEXT",
                "properties": {
                  "label": "NEXT"
                },
                "start": 30,
                "thickness_factor": 1
              },
              {
                "color": "#9C27B0",
                "directed": true,
                "end": 45,
                "id": 1472684774731546600,
                "label": "NEXT",
                "properties": {
                  "label": "NEXT"
                },
                "start": 30,
                "thickness_factor": 1
              },
              {
                "color": "#9C27B0",
                "directed": true,
                "end": 45,
                "id": 1481691973986287600,
                "label": "NEXT",
                "properties": {
                  "label": "NEXT"
                },
                "start": 30,
                "thickness_factor": 1
              },
              {
                "color": "#9C27B0",
                "directed": true,
                "end": 45,
                "id": 1490699173241028600,
                "label": "NEXT",
                "properties": {
                  "label": "NEXT"
                },
                "start": 30,
                "thickness_factor": 1
              },
              {
                "color": "#9C27B0",
                "directed": true,
                "end": 45,
                "id": 1501958172309454800,
                "label": "NEXT",
                "properties": {
                  "label": "NEXT"
                },
                "start": 30,
                "thickness_factor": 1
              },
              {
                "color": "#9C27B0",
                "directed": true,
                "end": 45,
                "id": 1510965371564195800,
                "label": "NEXT",
                "properties": {
                  "label": "NEXT"
                },
                "start": 30,
                "thickness_factor": 1
              },
              {
                "color": "#9C27B0",
                "directed": true,
                "end": 45,
                "id": 1519972570818936800,
                "label": "NEXT",
                "properties": {
                  "label": "NEXT"
                },
                "start": 30,
                "thickness_factor": 1
              },
              {
                "color": "#9C27B0",
                "directed": true,
                "end": 45,
                "id": 1528979770073677800,
                "label": "NEXT",
                "properties": {
                  "label": "NEXT"
                },
                "start": 30,
                "thickness_factor": 1
              },
              {
                "color": "#9C27B0",
                "directed": true,
                "end": 45,
                "id": 1540238769142104000,
                "label": "NEXT",
                "properties": {
                  "label": "NEXT"
                },
                "start": 30,
                "thickness_factor": 1
              },
              {
                "color": "#9C27B0",
                "directed": true,
                "end": 45,
                "id": 1549245968396845000,
                "label": "NEXT",
                "properties": {
                  "label": "NEXT"
                },
                "start": 30,
                "thickness_factor": 1
              },
              {
                "color": "#9C27B0",
                "directed": true,
                "end": 45,
                "id": 1558253167651586000,
                "label": "NEXT",
                "properties": {
                  "label": "NEXT"
                },
                "start": 30,
                "thickness_factor": 1
              },
              {
                "color": "#9C27B0",
                "directed": true,
                "end": 45,
                "id": 1567260366906327000,
                "label": "NEXT",
                "properties": {
                  "label": "NEXT"
                },
                "start": 30,
                "thickness_factor": 1
              },
              {
                "color": "#9C27B0",
                "directed": true,
                "end": 45,
                "id": 1576267566161068000,
                "label": "NEXT",
                "properties": {
                  "label": "NEXT"
                },
                "start": 30,
                "thickness_factor": 1
              },
              {
                "color": "#9C27B0",
                "directed": true,
                "end": 45,
                "id": 1585274765415809000,
                "label": "NEXT",
                "properties": {
                  "label": "NEXT"
                },
                "start": 30,
                "thickness_factor": 1
              },
              {
                "color": "#9C27B0",
                "directed": true,
                "end": 45,
                "id": 1594281964670550000,
                "label": "NEXT",
                "properties": {
                  "label": "NEXT"
                },
                "start": 30,
                "thickness_factor": 1
              },
              {
                "color": "#9C27B0",
                "directed": true,
                "end": 45,
                "id": 1603289163925291000,
                "label": "NEXT",
                "properties": {
                  "label": "NEXT"
                },
                "start": 30,
                "thickness_factor": 1
              },
              {
                "color": "#9C27B0",
                "directed": true,
                "end": 45,
                "id": 1612296363180032000,
                "label": "NEXT",
                "properties": {
                  "label": "NEXT"
                },
                "start": 30,
                "thickness_factor": 1
              },
              {
                "color": "#9C27B0",
                "directed": true,
                "end": 45,
                "id": 1621303562434773000,
                "label": "NEXT",
                "properties": {
                  "label": "NEXT"
                },
                "start": 30,
                "thickness_factor": 1
              },
              {
                "color": "#9C27B0",
                "directed": true,
                "end": 45,
                "id": 1630310761689514000,
                "label": "NEXT",
                "properties": {
                  "label": "NEXT"
                },
                "start": 30,
                "thickness_factor": 1
              },
              {
                "color": "#9C27B0",
                "directed": true,
                "end": 45,
                "id": 1639317960944255000,
                "label": "NEXT",
                "properties": {
                  "label": "NEXT"
                },
                "start": 30,
                "thickness_factor": 1
              },
              {
                "color": "#9C27B0",
                "directed": true,
                "end": 45,
                "id": 1650576960012681200,
                "label": "NEXT",
                "properties": {
                  "label": "NEXT"
                },
                "start": 30,
                "thickness_factor": 1
              },
              {
                "color": "#9C27B0",
                "directed": true,
                "end": 45,
                "id": 1659584159267422200,
                "label": "NEXT",
                "properties": {
                  "label": "NEXT"
                },
                "start": 30,
                "thickness_factor": 1
              },
              {
                "color": "#9C27B0",
                "directed": true,
                "end": 45,
                "id": 1668591358522163200,
                "label": "NEXT",
                "properties": {
                  "label": "NEXT"
                },
                "start": 30,
                "thickness_factor": 1
              },
              {
                "color": "#9C27B0",
                "directed": true,
                "end": 45,
                "id": 1677598557776904200,
                "label": "NEXT",
                "properties": {
                  "label": "NEXT"
                },
                "start": 30,
                "thickness_factor": 1
              },
              {
                "color": "#9C27B0",
                "directed": true,
                "end": 45,
                "id": 1688857556845330400,
                "label": "NEXT",
                "properties": {
                  "label": "NEXT"
                },
                "start": 30,
                "thickness_factor": 1
              },
              {
                "color": "#9C27B0",
                "directed": true,
                "end": 45,
                "id": 1697864756100071400,
                "label": "NEXT",
                "properties": {
                  "label": "NEXT"
                },
                "start": 30,
                "thickness_factor": 1
              },
              {
                "color": "#9C27B0",
                "directed": true,
                "end": 45,
                "id": 1706871955354812400,
                "label": "NEXT",
                "properties": {
                  "label": "NEXT"
                },
                "start": 30,
                "thickness_factor": 1
              },
              {
                "color": "#9C27B0",
                "directed": true,
                "end": 45,
                "id": 1715879154609553400,
                "label": "NEXT",
                "properties": {
                  "label": "NEXT"
                },
                "start": 30,
                "thickness_factor": 1
              },
              {
                "color": "#9C27B0",
                "directed": true,
                "end": 45,
                "id": 1724886353864294400,
                "label": "NEXT",
                "properties": {
                  "label": "NEXT"
                },
                "start": 30,
                "thickness_factor": 1
              },
              {
                "color": "#9C27B0",
                "directed": true,
                "end": 45,
                "id": 1733893553119035400,
                "label": "NEXT",
                "properties": {
                  "label": "NEXT"
                },
                "start": 30,
                "thickness_factor": 1
              },
              {
                "color": "#9C27B0",
                "directed": true,
                "end": 45,
                "id": 1742900752373776400,
                "label": "NEXT",
                "properties": {
                  "label": "NEXT"
                },
                "start": 30,
                "thickness_factor": 1
              },
              {
                "color": "#9C27B0",
                "directed": true,
                "end": 52,
                "id": 6917536724222476000,
                "label": "NEXT",
                "properties": {
                  "label": "NEXT"
                },
                "start": 30,
                "thickness_factor": 1
              },
              {
                "color": "#9C27B0",
                "directed": true,
                "end": 52,
                "id": 1159684600629297200,
                "label": "NEXT",
                "properties": {
                  "label": "NEXT"
                },
                "start": 30,
                "thickness_factor": 1
              },
              {
                "color": "#9C27B0",
                "directed": true,
                "end": 52,
                "id": 6924292123663532000,
                "label": "NEXT",
                "properties": {
                  "label": "NEXT"
                },
                "start": 30,
                "thickness_factor": 1
              },
              {
                "color": "#9C27B0",
                "directed": true,
                "end": 52,
                "id": 1168691799884038100,
                "label": "NEXT",
                "properties": {
                  "label": "NEXT"
                },
                "start": 30,
                "thickness_factor": 1
              },
              {
                "color": "#9C27B0",
                "directed": true,
                "end": 52,
                "id": 1177698999138779100,
                "label": "NEXT",
                "properties": {
                  "label": "NEXT"
                },
                "start": 30,
                "thickness_factor": 1
              },
              {
                "color": "#9C27B0",
                "directed": true,
                "end": 52,
                "id": 1186706198393520000,
                "label": "NEXT",
                "properties": {
                  "label": "NEXT"
                },
                "start": 30,
                "thickness_factor": 1
              },
              {
                "color": "#9C27B0",
                "directed": true,
                "end": 52,
                "id": 1197965197461946400,
                "label": "NEXT",
                "properties": {
                  "label": "NEXT"
                },
                "start": 30,
                "thickness_factor": 1
              },
              {
                "color": "#9C27B0",
                "directed": true,
                "end": 52,
                "id": 1206972396716687400,
                "label": "NEXT",
                "properties": {
                  "label": "NEXT"
                },
                "start": 30,
                "thickness_factor": 1
              },
              {
                "color": "#9C27B0",
                "directed": true,
                "end": 52,
                "id": 1215979595971428400,
                "label": "NEXT",
                "properties": {
                  "label": "NEXT"
                },
                "start": 30,
                "thickness_factor": 1
              },
              {
                "color": "#9C27B0",
                "directed": true,
                "end": 52,
                "id": 1224986795226169300,
                "label": "NEXT",
                "properties": {
                  "label": "NEXT"
                },
                "start": 30,
                "thickness_factor": 1
              },
              {
                "color": "#9C27B0",
                "directed": true,
                "end": 52,
                "id": 1236245794294595600,
                "label": "NEXT",
                "properties": {
                  "label": "NEXT"
                },
                "start": 30,
                "thickness_factor": 1
              },
              {
                "color": "#9C27B0",
                "directed": true,
                "end": 52,
                "id": 1245252993549336600,
                "label": "NEXT",
                "properties": {
                  "label": "NEXT"
                },
                "start": 30,
                "thickness_factor": 1
              },
              {
                "color": "#9C27B0",
                "directed": true,
                "end": 52,
                "id": 1254260192804077600,
                "label": "NEXT",
                "properties": {
                  "label": "NEXT"
                },
                "start": 30,
                "thickness_factor": 1
              },
              {
                "color": "#9C27B0",
                "directed": true,
                "end": 52,
                "id": 1263267392058818600,
                "label": "NEXT",
                "properties": {
                  "label": "NEXT"
                },
                "start": 30,
                "thickness_factor": 1
              },
              {
                "color": "#9C27B0",
                "directed": true,
                "end": 52,
                "id": 1274526391127244800,
                "label": "NEXT",
                "properties": {
                  "label": "NEXT"
                },
                "start": 30,
                "thickness_factor": 1
              },
              {
                "color": "#9C27B0",
                "directed": true,
                "end": 52,
                "id": 1283533590381985800,
                "label": "NEXT",
                "properties": {
                  "label": "NEXT"
                },
                "start": 30,
                "thickness_factor": 1
              },
              {
                "color": "#9C27B0",
                "directed": true,
                "end": 52,
                "id": 1292540789636726800,
                "label": "NEXT",
                "properties": {
                  "label": "NEXT"
                },
                "start": 30,
                "thickness_factor": 1
              },
              {
                "color": "#9C27B0",
                "directed": true,
                "end": 52,
                "id": 1301547988891467800,
                "label": "NEXT",
                "properties": {
                  "label": "NEXT"
                },
                "start": 30,
                "thickness_factor": 1
              },
              {
                "color": "#9C27B0",
                "directed": true,
                "end": 52,
                "id": 1310555188146208800,
                "label": "NEXT",
                "properties": {
                  "label": "NEXT"
                },
                "start": 30,
                "thickness_factor": 1
              },
              {
                "color": "#9C27B0",
                "directed": true,
                "end": 52,
                "id": 1319562387400949800,
                "label": "NEXT",
                "properties": {
                  "label": "NEXT"
                },
                "start": 30,
                "thickness_factor": 1
              },
              {
                "color": "#9C27B0",
                "directed": true,
                "end": 52,
                "id": 1328569586655690800,
                "label": "NEXT",
                "properties": {
                  "label": "NEXT"
                },
                "start": 30,
                "thickness_factor": 1
              },
              {
                "color": "#9C27B0",
                "directed": true,
                "end": 52,
                "id": 1337576785910431700,
                "label": "NEXT",
                "properties": {
                  "label": "NEXT"
                },
                "start": 30,
                "thickness_factor": 1
              },
              {
                "color": "#9C27B0",
                "directed": true,
                "end": 52,
                "id": 1348835784978858000,
                "label": "NEXT",
                "properties": {
                  "label": "NEXT"
                },
                "start": 30,
                "thickness_factor": 1
              },
              {
                "color": "#9C27B0",
                "directed": true,
                "end": 52,
                "id": 1357842984233599000,
                "label": "NEXT",
                "properties": {
                  "label": "NEXT"
                },
                "start": 30,
                "thickness_factor": 1
              },
              {
                "color": "#9C27B0",
                "directed": true,
                "end": 52,
                "id": 1366850183488340000,
                "label": "NEXT",
                "properties": {
                  "label": "NEXT"
                },
                "start": 30,
                "thickness_factor": 1
              },
              {
                "color": "#9C27B0",
                "directed": true,
                "end": 52,
                "id": 1375857382743081000,
                "label": "NEXT",
                "properties": {
                  "label": "NEXT"
                },
                "start": 30,
                "thickness_factor": 1
              },
              {
                "color": "#9C27B0",
                "directed": true,
                "end": 52,
                "id": 1387116381811507200,
                "label": "NEXT",
                "properties": {
                  "label": "NEXT"
                },
                "start": 30,
                "thickness_factor": 1
              },
              {
                "color": "#9C27B0",
                "directed": true,
                "end": 52,
                "id": 1396123581066248200,
                "label": "NEXT",
                "properties": {
                  "label": "NEXT"
                },
                "start": 30,
                "thickness_factor": 1
              },
              {
                "color": "#9C27B0",
                "directed": true,
                "end": 52,
                "id": 1405130780320989200,
                "label": "NEXT",
                "properties": {
                  "label": "NEXT"
                },
                "start": 30,
                "thickness_factor": 1
              },
              {
                "color": "#9C27B0",
                "directed": true,
                "end": 52,
                "id": 1414137979575730200,
                "label": "NEXT",
                "properties": {
                  "label": "NEXT"
                },
                "start": 30,
                "thickness_factor": 1
              },
              {
                "color": "#9C27B0",
                "directed": true,
                "end": 52,
                "id": 1429900578271527000,
                "label": "NEXT",
                "properties": {
                  "label": "NEXT"
                },
                "start": 30,
                "thickness_factor": 1
              },
              {
                "color": "#9C27B0",
                "directed": true,
                "end": 52,
                "id": 1438907777526268000,
                "label": "NEXT",
                "properties": {
                  "label": "NEXT"
                },
                "start": 30,
                "thickness_factor": 1
              },
              {
                "color": "#9C27B0",
                "directed": true,
                "end": 52,
                "id": 1447914976781009000,
                "label": "NEXT",
                "properties": {
                  "label": "NEXT"
                },
                "start": 30,
                "thickness_factor": 1
              },
              {
                "color": "#9C27B0",
                "directed": true,
                "end": 52,
                "id": 1456922176035750000,
                "label": "NEXT",
                "properties": {
                  "label": "NEXT"
                },
                "start": 30,
                "thickness_factor": 1
              },
              {
                "color": "#9C27B0",
                "directed": true,
                "end": 52,
                "id": 1465929375290491000,
                "label": "NEXT",
                "properties": {
                  "label": "NEXT"
                },
                "start": 30,
                "thickness_factor": 1
              },
              {
                "color": "#9C27B0",
                "directed": true,
                "end": 52,
                "id": 1474936574545232000,
                "label": "NEXT",
                "properties": {
                  "label": "NEXT"
                },
                "start": 30,
                "thickness_factor": 1
              },
              {
                "color": "#9C27B0",
                "directed": true,
                "end": 52,
                "id": 1483943773799972900,
                "label": "NEXT",
                "properties": {
                  "label": "NEXT"
                },
                "start": 30,
                "thickness_factor": 1
              },
              {
                "color": "#9C27B0",
                "directed": true,
                "end": 52,
                "id": 1495202772868399000,
                "label": "NEXT",
                "properties": {
                  "label": "NEXT"
                },
                "start": 30,
                "thickness_factor": 1
              },
              {
                "color": "#9C27B0",
                "directed": true,
                "end": 52,
                "id": 1504209972123140000,
                "label": "NEXT",
                "properties": {
                  "label": "NEXT"
                },
                "start": 30,
                "thickness_factor": 1
              },
              {
                "color": "#9C27B0",
                "directed": true,
                "end": 52,
                "id": 1513217171377881000,
                "label": "NEXT",
                "properties": {
                  "label": "NEXT"
                },
                "start": 30,
                "thickness_factor": 1
              },
              {
                "color": "#9C27B0",
                "directed": true,
                "end": 52,
                "id": 1522224370632622000,
                "label": "NEXT",
                "properties": {
                  "label": "NEXT"
                },
                "start": 30,
                "thickness_factor": 1
              },
              {
                "color": "#9C27B0",
                "directed": true,
                "end": 52,
                "id": 1533483369701048300,
                "label": "NEXT",
                "properties": {
                  "label": "NEXT"
                },
                "start": 30,
                "thickness_factor": 1
              },
              {
                "color": "#9C27B0",
                "directed": true,
                "end": 52,
                "id": 1542490568955789300,
                "label": "NEXT",
                "properties": {
                  "label": "NEXT"
                },
                "start": 30,
                "thickness_factor": 1
              },
              {
                "color": "#9C27B0",
                "directed": true,
                "end": 52,
                "id": 1551497768210530300,
                "label": "NEXT",
                "properties": {
                  "label": "NEXT"
                },
                "start": 30,
                "thickness_factor": 1
              },
              {
                "color": "#9C27B0",
                "directed": true,
                "end": 52,
                "id": 1560504967465271300,
                "label": "NEXT",
                "properties": {
                  "label": "NEXT"
                },
                "start": 30,
                "thickness_factor": 1
              },
              {
                "color": "#9C27B0",
                "directed": true,
                "end": 52,
                "id": 1569512166720012300,
                "label": "NEXT",
                "properties": {
                  "label": "NEXT"
                },
                "start": 30,
                "thickness_factor": 1
              },
              {
                "color": "#9C27B0",
                "directed": true,
                "end": 52,
                "id": 1578519365974753300,
                "label": "NEXT",
                "properties": {
                  "label": "NEXT"
                },
                "start": 30,
                "thickness_factor": 1
              },
              {
                "color": "#9C27B0",
                "directed": true,
                "end": 52,
                "id": 1587526565229494300,
                "label": "NEXT",
                "properties": {
                  "label": "NEXT"
                },
                "start": 30,
                "thickness_factor": 1
              },
              {
                "color": "#9C27B0",
                "directed": true,
                "end": 52,
                "id": 1596533764484235300,
                "label": "NEXT",
                "properties": {
                  "label": "NEXT"
                },
                "start": 30,
                "thickness_factor": 1
              },
              {
                "color": "#9C27B0",
                "directed": true,
                "end": 52,
                "id": 1605540963738976300,
                "label": "NEXT",
                "properties": {
                  "label": "NEXT"
                },
                "start": 30,
                "thickness_factor": 1
              },
              {
                "color": "#9C27B0",
                "directed": true,
                "end": 52,
                "id": 1614548162993717200,
                "label": "NEXT",
                "properties": {
                  "label": "NEXT"
                },
                "start": 30,
                "thickness_factor": 1
              },
              {
                "color": "#9C27B0",
                "directed": true,
                "end": 52,
                "id": 1623555362248458200,
                "label": "NEXT",
                "properties": {
                  "label": "NEXT"
                },
                "start": 30,
                "thickness_factor": 1
              },
              {
                "color": "#9C27B0",
                "directed": true,
                "end": 52,
                "id": 1632562561503199200,
                "label": "NEXT",
                "properties": {
                  "label": "NEXT"
                },
                "start": 30,
                "thickness_factor": 1
              },
              {
                "color": "#9C27B0",
                "directed": true,
                "end": 52,
                "id": 1643821560571625500,
                "label": "NEXT",
                "properties": {
                  "label": "NEXT"
                },
                "start": 30,
                "thickness_factor": 1
              },
              {
                "color": "#9C27B0",
                "directed": true,
                "end": 52,
                "id": 1652828759826366500,
                "label": "NEXT",
                "properties": {
                  "label": "NEXT"
                },
                "start": 30,
                "thickness_factor": 1
              },
              {
                "color": "#9C27B0",
                "directed": true,
                "end": 52,
                "id": 1661835959081107500,
                "label": "NEXT",
                "properties": {
                  "label": "NEXT"
                },
                "start": 30,
                "thickness_factor": 1
              },
              {
                "color": "#9C27B0",
                "directed": true,
                "end": 52,
                "id": 1670843158335848400,
                "label": "NEXT",
                "properties": {
                  "label": "NEXT"
                },
                "start": 30,
                "thickness_factor": 1
              },
              {
                "color": "#9C27B0",
                "directed": true,
                "end": 52,
                "id": 1682102157404274700,
                "label": "NEXT",
                "properties": {
                  "label": "NEXT"
                },
                "start": 30,
                "thickness_factor": 1
              },
              {
                "color": "#9C27B0",
                "directed": true,
                "end": 52,
                "id": 1691109356659015700,
                "label": "NEXT",
                "properties": {
                  "label": "NEXT"
                },
                "start": 30,
                "thickness_factor": 1
              },
              {
                "color": "#9C27B0",
                "directed": true,
                "end": 52,
                "id": 1700116555913756700,
                "label": "NEXT",
                "properties": {
                  "label": "NEXT"
                },
                "start": 30,
                "thickness_factor": 1
              },
              {
                "color": "#9C27B0",
                "directed": true,
                "end": 52,
                "id": 1709123755168497700,
                "label": "NEXT",
                "properties": {
                  "label": "NEXT"
                },
                "start": 30,
                "thickness_factor": 1
              },
              {
                "color": "#9C27B0",
                "directed": true,
                "end": 52,
                "id": 1718130954423238700,
                "label": "NEXT",
                "properties": {
                  "label": "NEXT"
                },
                "start": 30,
                "thickness_factor": 1
              },
              {
                "color": "#9C27B0",
                "directed": true,
                "end": 52,
                "id": 1727138153677979600,
                "label": "NEXT",
                "properties": {
                  "label": "NEXT"
                },
                "start": 30,
                "thickness_factor": 1
              },
              {
                "color": "#9C27B0",
                "directed": true,
                "end": 52,
                "id": 1736145352932720600,
                "label": "NEXT",
                "properties": {
                  "label": "NEXT"
                },
                "start": 30,
                "thickness_factor": 1
              },
              {
                "color": "#9E9E9E",
                "directed": true,
                "end": 39,
                "id": 1152922604118474800,
                "label": "Name",
                "properties": {
                  "label": "Name",
                  "name": "Hars"
                },
                "start": 34,
                "thickness_factor": 1
              },
              {
                "color": "#9C27B0",
                "directed": true,
                "end": 30,
                "id": 6998601517515145000,
                "label": "NEXT",
                "properties": {
                  "label": "NEXT"
                },
                "start": 36,
                "thickness_factor": 1
              },
              {
                "color": "#9C27B0",
                "directed": true,
                "end": 30,
                "id": 7149472105032057000,
                "label": "NEXT",
                "properties": {
                  "label": "NEXT"
                },
                "start": 36,
                "thickness_factor": 1
              },
              {
                "color": "#9C27B0",
                "directed": true,
                "end": 30,
                "id": 7295839092921598000,
                "label": "NEXT",
                "properties": {
                  "label": "NEXT"
                },
                "start": 36,
                "thickness_factor": 1
              },
              {
                "color": "#9C27B0",
                "directed": true,
                "end": 30,
                "id": 7444457880624824000,
                "label": "NEXT",
                "properties": {
                  "label": "NEXT"
                },
                "start": 36,
                "thickness_factor": 1
              },
              {
                "color": "#9C27B0",
                "directed": true,
                "end": 37,
                "id": 7007608716769886000,
                "label": "NEXT",
                "properties": {
                  "label": "NEXT"
                },
                "start": 36,
                "thickness_factor": 1
              },
              {
                "color": "#9C27B0",
                "directed": true,
                "end": 37,
                "id": 7158479304286798000,
                "label": "NEXT",
                "properties": {
                  "label": "NEXT"
                },
                "start": 36,
                "thickness_factor": 1
              },
              {
                "color": "#9C27B0",
                "directed": true,
                "end": 37,
                "id": 7304846292176339000,
                "label": "NEXT",
                "properties": {
                  "label": "NEXT"
                },
                "start": 36,
                "thickness_factor": 1
              },
              {
                "color": "#9C27B0",
                "directed": true,
                "end": 37,
                "id": 7453465079879565000,
                "label": "NEXT",
                "properties": {
                  "label": "NEXT"
                },
                "start": 36,
                "thickness_factor": 1
              },
              {
                "color": "#9C27B0",
                "directed": true,
                "end": 44,
                "id": 7016615916024627000,
                "label": "NEXT",
                "properties": {
                  "label": "NEXT"
                },
                "start": 36,
                "thickness_factor": 1
              },
              {
                "color": "#9C27B0",
                "directed": true,
                "end": 44,
                "id": 7167486503541539000,
                "label": "NEXT",
                "properties": {
                  "label": "NEXT"
                },
                "start": 36,
                "thickness_factor": 1
              },
              {
                "color": "#9C27B0",
                "directed": true,
                "end": 44,
                "id": 7313853491431080000,
                "label": "NEXT",
                "properties": {
                  "label": "NEXT"
                },
                "start": 36,
                "thickness_factor": 1
              },
              {
                "color": "#9C27B0",
                "directed": true,
                "end": 44,
                "id": 7462472279134306000,
                "label": "NEXT",
                "properties": {
                  "label": "NEXT"
                },
                "start": 36,
                "thickness_factor": 1
              },
              {
                "color": "#9C27B0",
                "directed": true,
                "end": 51,
                "id": 6991846118074089000,
                "label": "NEXT",
                "properties": {
                  "label": "NEXT"
                },
                "start": 36,
                "thickness_factor": 1
              },
              {
                "color": "#9C27B0",
                "directed": true,
                "end": 51,
                "id": 7142716705591001000,
                "label": "NEXT",
                "properties": {
                  "label": "NEXT"
                },
                "start": 36,
                "thickness_factor": 1
              },
              {
                "color": "#9C27B0",
                "directed": true,
                "end": 51,
                "id": 7293587293107913000,
                "label": "NEXT",
                "properties": {
                  "label": "NEXT"
                },
                "start": 36,
                "thickness_factor": 1
              },
              {
                "color": "#9C27B0",
                "directed": true,
                "end": 51,
                "id": 7439954280997454000,
                "label": "NEXT",
                "properties": {
                  "label": "NEXT"
                },
                "start": 36,
                "thickness_factor": 1
              },
              {
                "color": "#9C27B0",
                "directed": true,
                "end": 31,
                "id": 1152929201188241400,
                "label": "NEXT",
                "properties": {
                  "label": "NEXT"
                },
                "start": 37,
                "thickness_factor": 1
              },
              {
                "color": "#9C27B0",
                "directed": true,
                "end": 31,
                "id": 1161936400442982400,
                "label": "NEXT",
                "properties": {
                  "label": "NEXT"
                },
                "start": 37,
                "thickness_factor": 1
              },
              {
                "color": "#9C27B0",
                "directed": true,
                "end": 31,
                "id": 1170943599697723400,
                "label": "NEXT",
                "properties": {
                  "label": "NEXT"
                },
                "start": 37,
                "thickness_factor": 1
              },
              {
                "color": "#9C27B0",
                "directed": true,
                "end": 31,
                "id": 1179950798952464400,
                "label": "NEXT",
                "properties": {
                  "label": "NEXT"
                },
                "start": 37,
                "thickness_factor": 1
              },
              {
                "color": "#9C27B0",
                "directed": true,
                "end": 31,
                "id": 1188957998207205400,
                "label": "NEXT",
                "properties": {
                  "label": "NEXT"
                },
                "start": 37,
                "thickness_factor": 1
              },
              {
                "color": "#9C27B0",
                "directed": true,
                "end": 31,
                "id": 1197965197461946400,
                "label": "NEXT",
                "properties": {
                  "label": "NEXT"
                },
                "start": 37,
                "thickness_factor": 1
              },
              {
                "color": "#9C27B0",
                "directed": true,
                "end": 31,
                "id": 1209224196530372600,
                "label": "NEXT",
                "properties": {
                  "label": "NEXT"
                },
                "start": 37,
                "thickness_factor": 1
              },
              {
                "color": "#9C27B0",
                "directed": true,
                "end": 31,
                "id": 1218231395785113600,
                "label": "NEXT",
                "properties": {
                  "label": "NEXT"
                },
                "start": 37,
                "thickness_factor": 1
              },
              {
                "color": "#9C27B0",
                "directed": true,
                "end": 31,
                "id": 1227238595039854600,
                "label": "NEXT",
                "properties": {
                  "label": "NEXT"
                },
                "start": 37,
                "thickness_factor": 1
              },
              {
                "color": "#9C27B0",
                "directed": true,
                "end": 31,
                "id": 1236245794294595600,
                "label": "NEXT",
                "properties": {
                  "label": "NEXT"
                },
                "start": 37,
                "thickness_factor": 1
              },
              {
                "color": "#9C27B0",
                "directed": true,
                "end": 31,
                "id": 1247504793363021800,
                "label": "NEXT",
                "properties": {
                  "label": "NEXT"
                },
                "start": 37,
                "thickness_factor": 1
              },
              {
                "color": "#9C27B0",
                "directed": true,
                "end": 31,
                "id": 1256511992617762800,
                "label": "NEXT",
                "properties": {
                  "label": "NEXT"
                },
                "start": 37,
                "thickness_factor": 1
              },
              {
                "color": "#9C27B0",
                "directed": true,
                "end": 31,
                "id": 1265519191872503800,
                "label": "NEXT",
                "properties": {
                  "label": "NEXT"
                },
                "start": 37,
                "thickness_factor": 1
              },
              {
                "color": "#9C27B0",
                "directed": true,
                "end": 31,
                "id": 1274526391127244800,
                "label": "NEXT",
                "properties": {
                  "label": "NEXT"
                },
                "start": 37,
                "thickness_factor": 1
              },
              {
                "color": "#9C27B0",
                "directed": true,
                "end": 31,
                "id": 1285785390195671000,
                "label": "NEXT",
                "properties": {
                  "label": "NEXT"
                },
                "start": 37,
                "thickness_factor": 1
              },
              {
                "color": "#9C27B0",
                "directed": true,
                "end": 31,
                "id": 1294792589450412000,
                "label": "NEXT",
                "properties": {
                  "label": "NEXT"
                },
                "start": 37,
                "thickness_factor": 1
              },
              {
                "color": "#9C27B0",
                "directed": true,
                "end": 31,
                "id": 1303799788705153000,
                "label": "NEXT",
                "properties": {
                  "label": "NEXT"
                },
                "start": 37,
                "thickness_factor": 1
              },
              {
                "color": "#9C27B0",
                "directed": true,
                "end": 31,
                "id": 1312806987959894000,
                "label": "NEXT",
                "properties": {
                  "label": "NEXT"
                },
                "start": 37,
                "thickness_factor": 1
              },
              {
                "color": "#9C27B0",
                "directed": true,
                "end": 31,
                "id": 1321814187214635000,
                "label": "NEXT",
                "properties": {
                  "label": "NEXT"
                },
                "start": 37,
                "thickness_factor": 1
              },
              {
                "color": "#9C27B0",
                "directed": true,
                "end": 31,
                "id": 1330821386469376000,
                "label": "NEXT",
                "properties": {
                  "label": "NEXT"
                },
                "start": 37,
                "thickness_factor": 1
              },
              {
                "color": "#9C27B0",
                "directed": true,
                "end": 31,
                "id": 1339828585724117000,
                "label": "NEXT",
                "properties": {
                  "label": "NEXT"
                },
                "start": 37,
                "thickness_factor": 1
              },
              {
                "color": "#9C27B0",
                "directed": true,
                "end": 31,
                "id": 1348835784978858000,
                "label": "NEXT",
                "properties": {
                  "label": "NEXT"
                },
                "start": 37,
                "thickness_factor": 1
              },
              {
                "color": "#9C27B0",
                "directed": true,
                "end": 31,
                "id": 1360094784047284200,
                "label": "NEXT",
                "properties": {
                  "label": "NEXT"
                },
                "start": 37,
                "thickness_factor": 1
              },
              {
                "color": "#9C27B0",
                "directed": true,
                "end": 31,
                "id": 1369101983302025200,
                "label": "NEXT",
                "properties": {
                  "label": "NEXT"
                },
                "start": 37,
                "thickness_factor": 1
              },
              {
                "color": "#9C27B0",
                "directed": true,
                "end": 31,
                "id": 1378109182556766200,
                "label": "NEXT",
                "properties": {
                  "label": "NEXT"
                },
                "start": 37,
                "thickness_factor": 1
              },
              {
                "color": "#9C27B0",
                "directed": true,
                "end": 31,
                "id": 1387116381811507200,
                "label": "NEXT",
                "properties": {
                  "label": "NEXT"
                },
                "start": 37,
                "thickness_factor": 1
              },
              {
                "color": "#9C27B0",
                "directed": true,
                "end": 31,
                "id": 1398375380879933400,
                "label": "NEXT",
                "properties": {
                  "label": "NEXT"
                },
                "start": 37,
                "thickness_factor": 1
              },
              {
                "color": "#9C27B0",
                "directed": true,
                "end": 31,
                "id": 1407382580134674400,
                "label": "NEXT",
                "properties": {
                  "label": "NEXT"
                },
                "start": 37,
                "thickness_factor": 1
              },
              {
                "color": "#9C27B0",
                "directed": true,
                "end": 31,
                "id": 1416389779389415400,
                "label": "NEXT",
                "properties": {
                  "label": "NEXT"
                },
                "start": 37,
                "thickness_factor": 1
              },
              {
                "color": "#9C27B0",
                "directed": true,
                "end": 31,
                "id": 1423145178830471200,
                "label": "NEXT",
                "properties": {
                  "label": "NEXT"
                },
                "start": 37,
                "thickness_factor": 1
              },
              {
                "color": "#9C27B0",
                "directed": true,
                "end": 31,
                "id": 1432152378085212200,
                "label": "NEXT",
                "properties": {
                  "label": "NEXT"
                },
                "start": 37,
                "thickness_factor": 1
              },
              {
                "color": "#9C27B0",
                "directed": true,
                "end": 31,
                "id": 1441159577339953200,
                "label": "NEXT",
                "properties": {
                  "label": "NEXT"
                },
                "start": 37,
                "thickness_factor": 1
              },
              {
                "color": "#9C27B0",
                "directed": true,
                "end": 31,
                "id": 1450166776594694100,
                "label": "NEXT",
                "properties": {
                  "label": "NEXT"
                },
                "start": 37,
                "thickness_factor": 1
              },
              {
                "color": "#9C27B0",
                "directed": true,
                "end": 31,
                "id": 1459173975849435100,
                "label": "NEXT",
                "properties": {
                  "label": "NEXT"
                },
                "start": 37,
                "thickness_factor": 1
              },
              {
                "color": "#9C27B0",
                "directed": true,
                "end": 31,
                "id": 1468181175104176000,
                "label": "NEXT",
                "properties": {
                  "label": "NEXT"
                },
                "start": 37,
                "thickness_factor": 1
              },
              {
                "color": "#9C27B0",
                "directed": true,
                "end": 31,
                "id": 1477188374358917000,
                "label": "NEXT",
                "properties": {
                  "label": "NEXT"
                },
                "start": 37,
                "thickness_factor": 1
              },
              {
                "color": "#9C27B0",
                "directed": true,
                "end": 31,
                "id": 1486195573613658000,
                "label": "NEXT",
                "properties": {
                  "label": "NEXT"
                },
                "start": 37,
                "thickness_factor": 1
              },
              {
                "color": "#9C27B0",
                "directed": true,
                "end": 31,
                "id": 1495202772868399000,
                "label": "NEXT",
                "properties": {
                  "label": "NEXT"
                },
                "start": 37,
                "thickness_factor": 1
              },
              {
                "color": "#9C27B0",
                "directed": true,
                "end": 31,
                "id": 1506461771936825300,
                "label": "NEXT",
                "properties": {
                  "label": "NEXT"
                },
                "start": 37,
                "thickness_factor": 1
              },
              {
                "color": "#9C27B0",
                "directed": true,
                "end": 31,
                "id": 1515468971191566300,
                "label": "NEXT",
                "properties": {
                  "label": "NEXT"
                },
                "start": 37,
                "thickness_factor": 1
              },
              {
                "color": "#9C27B0",
                "directed": true,
                "end": 31,
                "id": 1524476170446307300,
                "label": "NEXT",
                "properties": {
                  "label": "NEXT"
                },
                "start": 37,
                "thickness_factor": 1
              },
              {
                "color": "#9C27B0",
                "directed": true,
                "end": 31,
                "id": 1533483369701048300,
                "label": "NEXT",
                "properties": {
                  "label": "NEXT"
                },
                "start": 37,
                "thickness_factor": 1
              },
              {
                "color": "#9C27B0",
                "directed": true,
                "end": 31,
                "id": 1544742368769474600,
                "label": "NEXT",
                "properties": {
                  "label": "NEXT"
                },
                "start": 37,
                "thickness_factor": 1
              },
              {
                "color": "#9C27B0",
                "directed": true,
                "end": 31,
                "id": 1553749568024215600,
                "label": "NEXT",
                "properties": {
                  "label": "NEXT"
                },
                "start": 37,
                "thickness_factor": 1
              },
              {
                "color": "#9C27B0",
                "directed": true,
                "end": 31,
                "id": 1562756767278956500,
                "label": "NEXT",
                "properties": {
                  "label": "NEXT"
                },
                "start": 37,
                "thickness_factor": 1
              },
              {
                "color": "#9C27B0",
                "directed": true,
                "end": 31,
                "id": 1571763966533697500,
                "label": "NEXT",
                "properties": {
                  "label": "NEXT"
                },
                "start": 37,
                "thickness_factor": 1
              },
              {
                "color": "#9C27B0",
                "directed": true,
                "end": 31,
                "id": 1580771165788438500,
                "label": "NEXT",
                "properties": {
                  "label": "NEXT"
                },
                "start": 37,
                "thickness_factor": 1
              },
              {
                "color": "#9C27B0",
                "directed": true,
                "end": 31,
                "id": 1589778365043179500,
                "label": "NEXT",
                "properties": {
                  "label": "NEXT"
                },
                "start": 37,
                "thickness_factor": 1
              },
              {
                "color": "#9C27B0",
                "directed": true,
                "end": 31,
                "id": 1598785564297920500,
                "label": "NEXT",
                "properties": {
                  "label": "NEXT"
                },
                "start": 37,
                "thickness_factor": 1
              },
              {
                "color": "#9C27B0",
                "directed": true,
                "end": 31,
                "id": 1607792763552661500,
                "label": "NEXT",
                "properties": {
                  "label": "NEXT"
                },
                "start": 37,
                "thickness_factor": 1
              },
              {
                "color": "#9C27B0",
                "directed": true,
                "end": 31,
                "id": 1616799962807402500,
                "label": "NEXT",
                "properties": {
                  "label": "NEXT"
                },
                "start": 37,
                "thickness_factor": 1
              },
              {
                "color": "#9C27B0",
                "directed": true,
                "end": 31,
                "id": 1625807162062143500,
                "label": "NEXT",
                "properties": {
                  "label": "NEXT"
                },
                "start": 37,
                "thickness_factor": 1
              },
              {
                "color": "#9C27B0",
                "directed": true,
                "end": 31,
                "id": 1634814361316884500,
                "label": "NEXT",
                "properties": {
                  "label": "NEXT"
                },
                "start": 37,
                "thickness_factor": 1
              },
              {
                "color": "#9C27B0",
                "directed": true,
                "end": 31,
                "id": 1643821560571625500,
                "label": "NEXT",
                "properties": {
                  "label": "NEXT"
                },
                "start": 37,
                "thickness_factor": 1
              },
              {
                "color": "#9C27B0",
                "directed": true,
                "end": 31,
                "id": 1655080559640051700,
                "label": "NEXT",
                "properties": {
                  "label": "NEXT"
                },
                "start": 37,
                "thickness_factor": 1
              },
              {
                "color": "#9C27B0",
                "directed": true,
                "end": 31,
                "id": 1664087758894792700,
                "label": "NEXT",
                "properties": {
                  "label": "NEXT"
                },
                "start": 37,
                "thickness_factor": 1
              },
              {
                "color": "#9C27B0",
                "directed": true,
                "end": 31,
                "id": 1673094958149533700,
                "label": "NEXT",
                "properties": {
                  "label": "NEXT"
                },
                "start": 37,
                "thickness_factor": 1
              },
              {
                "color": "#9C27B0",
                "directed": true,
                "end": 31,
                "id": 1682102157404274700,
                "label": "NEXT",
                "properties": {
                  "label": "NEXT"
                },
                "start": 37,
                "thickness_factor": 1
              },
              {
                "color": "#9C27B0",
                "directed": true,
                "end": 31,
                "id": 1693361156472701000,
                "label": "NEXT",
                "properties": {
                  "label": "NEXT"
                },
                "start": 37,
                "thickness_factor": 1
              },
              {
                "color": "#9C27B0",
                "directed": true,
                "end": 31,
                "id": 1702368355727442000,
                "label": "NEXT",
                "properties": {
                  "label": "NEXT"
                },
                "start": 37,
                "thickness_factor": 1
              },
              {
                "color": "#9C27B0",
                "directed": true,
                "end": 31,
                "id": 1711375554982183000,
                "label": "NEXT",
                "properties": {
                  "label": "NEXT"
                },
                "start": 37,
                "thickness_factor": 1
              },
              {
                "color": "#9C27B0",
                "directed": true,
                "end": 31,
                "id": 1720382754236924000,
                "label": "NEXT",
                "properties": {
                  "label": "NEXT"
                },
                "start": 37,
                "thickness_factor": 1
              },
              {
                "color": "#9C27B0",
                "directed": true,
                "end": 31,
                "id": 1729389953491665000,
                "label": "NEXT",
                "properties": {
                  "label": "NEXT"
                },
                "start": 37,
                "thickness_factor": 1
              },
              {
                "color": "#9C27B0",
                "directed": true,
                "end": 31,
                "id": 1738397152746406000,
                "label": "NEXT",
                "properties": {
                  "label": "NEXT"
                },
                "start": 37,
                "thickness_factor": 1
              },
              {
                "color": "#9C27B0",
                "directed": true,
                "end": 38,
                "id": 1155181001001926700,
                "label": "NEXT",
                "properties": {
                  "label": "NEXT"
                },
                "start": 37,
                "thickness_factor": 1
              },
              {
                "color": "#9C27B0",
                "directed": true,
                "end": 38,
                "id": 1164188200256667600,
                "label": "NEXT",
                "properties": {
                  "label": "NEXT"
                },
                "start": 37,
                "thickness_factor": 1
              },
              {
                "color": "#9C27B0",
                "directed": true,
                "end": 38,
                "id": 1173195399511408600,
                "label": "NEXT",
                "properties": {
                  "label": "NEXT"
                },
                "start": 37,
                "thickness_factor": 1
              },
              {
                "color": "#9C27B0",
                "directed": true,
                "end": 38,
                "id": 1182202598766149600,
                "label": "NEXT",
                "properties": {
                  "label": "NEXT"
                },
                "start": 37,
                "thickness_factor": 1
              },
              {
                "color": "#9C27B0",
                "directed": true,
                "end": 38,
                "id": 1191209798020890600,
                "label": "NEXT",
                "properties": {
                  "label": "NEXT"
                },
                "start": 37,
                "thickness_factor": 1
              },
              {
                "color": "#9C27B0",
                "directed": true,
                "end": 38,
                "id": 1200216997275631600,
                "label": "NEXT",
                "properties": {
                  "label": "NEXT"
                },
                "start": 37,
                "thickness_factor": 1
              },
              {
                "color": "#9C27B0",
                "directed": true,
                "end": 38,
                "id": 1211475996344057900,
                "label": "NEXT",
                "properties": {
                  "label": "NEXT"
                },
                "start": 37,
                "thickness_factor": 1
              },
              {
                "color": "#9C27B0",
                "directed": true,
                "end": 38,
                "id": 1220483195598798800,
                "label": "NEXT",
                "properties": {
                  "label": "NEXT"
                },
                "start": 37,
                "thickness_factor": 1
              },
              {
                "color": "#9C27B0",
                "directed": true,
                "end": 38,
                "id": 1229490394853539800,
                "label": "NEXT",
                "properties": {
                  "label": "NEXT"
                },
                "start": 37,
                "thickness_factor": 1
              },
              {
                "color": "#9C27B0",
                "directed": true,
                "end": 38,
                "id": 1238497594108280800,
                "label": "NEXT",
                "properties": {
                  "label": "NEXT"
                },
                "start": 37,
                "thickness_factor": 1
              },
              {
                "color": "#9C27B0",
                "directed": true,
                "end": 38,
                "id": 1249756593176707000,
                "label": "NEXT",
                "properties": {
                  "label": "NEXT"
                },
                "start": 37,
                "thickness_factor": 1
              },
              {
                "color": "#9C27B0",
                "directed": true,
                "end": 38,
                "id": 1258763792431448000,
                "label": "NEXT",
                "properties": {
                  "label": "NEXT"
                },
                "start": 37,
                "thickness_factor": 1
              },
              {
                "color": "#9C27B0",
                "directed": true,
                "end": 38,
                "id": 1267770991686189000,
                "label": "NEXT",
                "properties": {
                  "label": "NEXT"
                },
                "start": 37,
                "thickness_factor": 1
              },
              {
                "color": "#9C27B0",
                "directed": true,
                "end": 38,
                "id": 1276778190940930000,
                "label": "NEXT",
                "properties": {
                  "label": "NEXT"
                },
                "start": 37,
                "thickness_factor": 1
              },
              {
                "color": "#9C27B0",
                "directed": true,
                "end": 38,
                "id": 1288037190009356300,
                "label": "NEXT",
                "properties": {
                  "label": "NEXT"
                },
                "start": 37,
                "thickness_factor": 1
              },
              {
                "color": "#9C27B0",
                "directed": true,
                "end": 38,
                "id": 1297044389264097300,
                "label": "NEXT",
                "properties": {
                  "label": "NEXT"
                },
                "start": 37,
                "thickness_factor": 1
              },
              {
                "color": "#9C27B0",
                "directed": true,
                "end": 38,
                "id": 1306051588518838300,
                "label": "NEXT",
                "properties": {
                  "label": "NEXT"
                },
                "start": 37,
                "thickness_factor": 1
              },
              {
                "color": "#9C27B0",
                "directed": true,
                "end": 38,
                "id": 1315058787773579300,
                "label": "NEXT",
                "properties": {
                  "label": "NEXT"
                },
                "start": 37,
                "thickness_factor": 1
              },
              {
                "color": "#9C27B0",
                "directed": true,
                "end": 38,
                "id": 1324065987028320300,
                "label": "NEXT",
                "properties": {
                  "label": "NEXT"
                },
                "start": 37,
                "thickness_factor": 1
              },
              {
                "color": "#9C27B0",
                "directed": true,
                "end": 38,
                "id": 1333073186283061200,
                "label": "NEXT",
                "properties": {
                  "label": "NEXT"
                },
                "start": 37,
                "thickness_factor": 1
              },
              {
                "color": "#9C27B0",
                "directed": true,
                "end": 38,
                "id": 1342080385537802200,
                "label": "NEXT",
                "properties": {
                  "label": "NEXT"
                },
                "start": 37,
                "thickness_factor": 1
              },
              {
                "color": "#9C27B0",
                "directed": true,
                "end": 38,
                "id": 1351087584792543200,
                "label": "NEXT",
                "properties": {
                  "label": "NEXT"
                },
                "start": 37,
                "thickness_factor": 1
              },
              {
                "color": "#9C27B0",
                "directed": true,
                "end": 38,
                "id": 1362346583860969500,
                "label": "NEXT",
                "properties": {
                  "label": "NEXT"
                },
                "start": 37,
                "thickness_factor": 1
              },
              {
                "color": "#9C27B0",
                "directed": true,
                "end": 38,
                "id": 1371353783115710500,
                "label": "NEXT",
                "properties": {
                  "label": "NEXT"
                },
                "start": 37,
                "thickness_factor": 1
              },
              {
                "color": "#9C27B0",
                "directed": true,
                "end": 38,
                "id": 1380360982370451500,
                "label": "NEXT",
                "properties": {
                  "label": "NEXT"
                },
                "start": 37,
                "thickness_factor": 1
              },
              {
                "color": "#9C27B0",
                "directed": true,
                "end": 38,
                "id": 1389368181625192400,
                "label": "NEXT",
                "properties": {
                  "label": "NEXT"
                },
                "start": 37,
                "thickness_factor": 1
              },
              {
                "color": "#9C27B0",
                "directed": true,
                "end": 38,
                "id": 1400627180693618700,
                "label": "NEXT",
                "properties": {
                  "label": "NEXT"
                },
                "start": 37,
                "thickness_factor": 1
              },
              {
                "color": "#9C27B0",
                "directed": true,
                "end": 38,
                "id": 1409634379948359700,
                "label": "NEXT",
                "properties": {
                  "label": "NEXT"
                },
                "start": 37,
                "thickness_factor": 1
              },
              {
                "color": "#9C27B0",
                "directed": true,
                "end": 38,
                "id": 1418641579203100700,
                "label": "NEXT",
                "properties": {
                  "label": "NEXT"
                },
                "start": 37,
                "thickness_factor": 1
              },
              {
                "color": "#9C27B0",
                "directed": true,
                "end": 38,
                "id": 1425396978644156400,
                "label": "NEXT",
                "properties": {
                  "label": "NEXT"
                },
                "start": 37,
                "thickness_factor": 1
              },
              {
                "color": "#9C27B0",
                "directed": true,
                "end": 38,
                "id": 1434404177898897400,
                "label": "NEXT",
                "properties": {
                  "label": "NEXT"
                },
                "start": 37,
                "thickness_factor": 1
              },
              {
                "color": "#9C27B0",
                "directed": true,
                "end": 38,
                "id": 1443411377153638400,
                "label": "NEXT",
                "properties": {
                  "label": "NEXT"
                },
                "start": 37,
                "thickness_factor": 1
              },
              {
                "color": "#9C27B0",
                "directed": true,
                "end": 38,
                "id": 1452418576408379400,
                "label": "NEXT",
                "properties": {
                  "label": "NEXT"
                },
                "start": 37,
                "thickness_factor": 1
              },
              {
                "color": "#9C27B0",
                "directed": true,
                "end": 38,
                "id": 1461425775663120400,
                "label": "NEXT",
                "properties": {
                  "label": "NEXT"
                },
                "start": 37,
                "thickness_factor": 1
              },
              {
                "color": "#9C27B0",
                "directed": true,
                "end": 38,
                "id": 1470432974917861400,
                "label": "NEXT",
                "properties": {
                  "label": "NEXT"
                },
                "start": 37,
                "thickness_factor": 1
              },
              {
                "color": "#9C27B0",
                "directed": true,
                "end": 38,
                "id": 1479440174172602400,
                "label": "NEXT",
                "properties": {
                  "label": "NEXT"
                },
                "start": 37,
                "thickness_factor": 1
              },
              {
                "color": "#9C27B0",
                "directed": true,
                "end": 38,
                "id": 1488447373427343400,
                "label": "NEXT",
                "properties": {
                  "label": "NEXT"
                },
                "start": 37,
                "thickness_factor": 1
              },
              {
                "color": "#9C27B0",
                "directed": true,
                "end": 38,
                "id": 1497454572682084400,
                "label": "NEXT",
                "properties": {
                  "label": "NEXT"
                },
                "start": 37,
                "thickness_factor": 1
              },
              {
                "color": "#9C27B0",
                "directed": true,
                "end": 38,
                "id": 1508713571750510600,
                "label": "NEXT",
                "properties": {
                  "label": "NEXT"
                },
                "start": 37,
                "thickness_factor": 1
              },
              {
                "color": "#9C27B0",
                "directed": true,
                "end": 38,
                "id": 1517720771005251600,
                "label": "NEXT",
                "properties": {
                  "label": "NEXT"
                },
                "start": 37,
                "thickness_factor": 1
              },
              {
                "color": "#9C27B0",
                "directed": true,
                "end": 38,
                "id": 1526727970259992600,
                "label": "NEXT",
                "properties": {
                  "label": "NEXT"
                },
                "start": 37,
                "thickness_factor": 1
              },
              {
                "color": "#9C27B0",
                "directed": true,
                "end": 38,
                "id": 1535735169514733600,
                "label": "NEXT",
                "properties": {
                  "label": "NEXT"
                },
                "start": 37,
                "thickness_factor": 1
              },
              {
                "color": "#9C27B0",
                "directed": true,
                "end": 38,
                "id": 1546994168583159800,
                "label": "NEXT",
                "properties": {
                  "label": "NEXT"
                },
                "start": 37,
                "thickness_factor": 1
              },
              {
                "color": "#9C27B0",
                "directed": true,
                "end": 38,
                "id": 1556001367837900800,
                "label": "NEXT",
                "properties": {
                  "label": "NEXT"
                },
                "start": 37,
                "thickness_factor": 1
              },
              {
                "color": "#9C27B0",
                "directed": true,
                "end": 38,
                "id": 1565008567092641800,
                "label": "NEXT",
                "properties": {
                  "label": "NEXT"
                },
                "start": 37,
                "thickness_factor": 1
              },
              {
                "color": "#9C27B0",
                "directed": true,
                "end": 38,
                "id": 1574015766347382800,
                "label": "NEXT",
                "properties": {
                  "label": "NEXT"
                },
                "start": 37,
                "thickness_factor": 1
              },
              {
                "color": "#9C27B0",
                "directed": true,
                "end": 38,
                "id": 1583022965602123800,
                "label": "NEXT",
                "properties": {
                  "label": "NEXT"
                },
                "start": 37,
                "thickness_factor": 1
              },
              {
                "color": "#9C27B0",
                "directed": true,
                "end": 38,
                "id": 1592030164856864800,
                "label": "NEXT",
                "properties": {
                  "label": "NEXT"
                },
                "start": 37,
                "thickness_factor": 1
              },
              {
                "color": "#9C27B0",
                "directed": true,
                "end": 38,
                "id": 1601037364111605800,
                "label": "NEXT",
                "properties": {
                  "label": "NEXT"
                },
                "start": 37,
                "thickness_factor": 1
              },
              {
                "color": "#9C27B0",
                "directed": true,
                "end": 38,
                "id": 1610044563366346800,
                "label": "NEXT",
                "properties": {
                  "label": "NEXT"
                },
                "start": 37,
                "thickness_factor": 1
              },
              {
                "color": "#9C27B0",
                "directed": true,
                "end": 38,
                "id": 1619051762621087700,
                "label": "NEXT",
                "properties": {
                  "label": "NEXT"
                },
                "start": 37,
                "thickness_factor": 1
              },
              {
                "color": "#9C27B0",
                "directed": true,
                "end": 38,
                "id": 1628058961875828700,
                "label": "NEXT",
                "properties": {
                  "label": "NEXT"
                },
                "start": 37,
                "thickness_factor": 1
              },
              {
                "color": "#9C27B0",
                "directed": true,
                "end": 38,
                "id": 1637066161130569700,
                "label": "NEXT",
                "properties": {
                  "label": "NEXT"
                },
                "start": 37,
                "thickness_factor": 1
              },
              {
                "color": "#9C27B0",
                "directed": true,
                "end": 38,
                "id": 1646073360385310700,
                "label": "NEXT",
                "properties": {
                  "label": "NEXT"
                },
                "start": 37,
                "thickness_factor": 1
              },
              {
                "color": "#9C27B0",
                "directed": true,
                "end": 38,
                "id": 1657332359453737000,
                "label": "NEXT",
                "properties": {
                  "label": "NEXT"
                },
                "start": 37,
                "thickness_factor": 1
              },
              {
                "color": "#9C27B0",
                "directed": true,
                "end": 38,
                "id": 1666339558708478000,
                "label": "NEXT",
                "properties": {
                  "label": "NEXT"
                },
                "start": 37,
                "thickness_factor": 1
              },
              {
                "color": "#9C27B0",
                "directed": true,
                "end": 38,
                "id": 1675346757963219000,
                "label": "NEXT",
                "properties": {
                  "label": "NEXT"
                },
                "start": 37,
                "thickness_factor": 1
              },
              {
                "color": "#9C27B0",
                "directed": true,
                "end": 38,
                "id": 1684353957217960000,
                "label": "NEXT",
                "properties": {
                  "label": "NEXT"
                },
                "start": 37,
                "thickness_factor": 1
              },
              {
                "color": "#9C27B0",
                "directed": true,
                "end": 38,
                "id": 1695612956286386200,
                "label": "NEXT",
                "properties": {
                  "label": "NEXT"
                },
                "start": 37,
                "thickness_factor": 1
              },
              {
                "color": "#9C27B0",
                "directed": true,
                "end": 38,
                "id": 1704620155541127200,
                "label": "NEXT",
                "properties": {
                  "label": "NEXT"
                },
                "start": 37,
                "thickness_factor": 1
              },
              {
                "color": "#9C27B0",
                "directed": true,
                "end": 38,
                "id": 1713627354795868200,
                "label": "NEXT",
                "properties": {
                  "label": "NEXT"
                },
                "start": 37,
                "thickness_factor": 1
              },
              {
                "color": "#9C27B0",
                "directed": true,
                "end": 38,
                "id": 1722634554050609200,
                "label": "NEXT",
                "properties": {
                  "label": "NEXT"
                },
                "start": 37,
                "thickness_factor": 1
              },
              {
                "color": "#9C27B0",
                "directed": true,
                "end": 38,
                "id": 1731641753305350100,
                "label": "NEXT",
                "properties": {
                  "label": "NEXT"
                },
                "start": 37,
                "thickness_factor": 1
              },
              {
                "color": "#9C27B0",
                "directed": true,
                "end": 38,
                "id": 1740648952560091100,
                "label": "NEXT",
                "properties": {
                  "label": "NEXT"
                },
                "start": 37,
                "thickness_factor": 1
              },
              {
                "color": "#9C27B0",
                "directed": true,
                "end": 45,
                "id": 1157432800815612000,
                "label": "NEXT",
                "properties": {
                  "label": "NEXT"
                },
                "start": 37,
                "thickness_factor": 1
              },
              {
                "color": "#9C27B0",
                "directed": true,
                "end": 45,
                "id": 1166440000070353000,
                "label": "NEXT",
                "properties": {
                  "label": "NEXT"
                },
                "start": 37,
                "thickness_factor": 1
              },
              {
                "color": "#9C27B0",
                "directed": true,
                "end": 45,
                "id": 1175447199325094000,
                "label": "NEXT",
                "properties": {
                  "label": "NEXT"
                },
                "start": 37,
                "thickness_factor": 1
              },
              {
                "color": "#9C27B0",
                "directed": true,
                "end": 45,
                "id": 1184454398579835000,
                "label": "NEXT",
                "properties": {
                  "label": "NEXT"
                },
                "start": 37,
                "thickness_factor": 1
              },
              {
                "color": "#9C27B0",
                "directed": true,
                "end": 45,
                "id": 1193461597834576000,
                "label": "NEXT",
                "properties": {
                  "label": "NEXT"
                },
                "start": 37,
                "thickness_factor": 1
              },
              {
                "color": "#9C27B0",
                "directed": true,
                "end": 45,
                "id": 1202468797089316900,
                "label": "NEXT",
                "properties": {
                  "label": "NEXT"
                },
                "start": 37,
                "thickness_factor": 1
              },
              {
                "color": "#9C27B0",
                "directed": true,
                "end": 45,
                "id": 1213727796157743000,
                "label": "NEXT",
                "properties": {
                  "label": "NEXT"
                },
                "start": 37,
                "thickness_factor": 1
              },
              {
                "color": "#9C27B0",
                "directed": true,
                "end": 45,
                "id": 1222734995412484000,
                "label": "NEXT",
                "properties": {
                  "label": "NEXT"
                },
                "start": 37,
                "thickness_factor": 1
              },
              {
                "color": "#9C27B0",
                "directed": true,
                "end": 45,
                "id": 1231742194667225000,
                "label": "NEXT",
                "properties": {
                  "label": "NEXT"
                },
                "start": 37,
                "thickness_factor": 1
              },
              {
                "color": "#9C27B0",
                "directed": true,
                "end": 45,
                "id": 1240749393921966000,
                "label": "NEXT",
                "properties": {
                  "label": "NEXT"
                },
                "start": 37,
                "thickness_factor": 1
              },
              {
                "color": "#9C27B0",
                "directed": true,
                "end": 45,
                "id": 1252008392990392300,
                "label": "NEXT",
                "properties": {
                  "label": "NEXT"
                },
                "start": 37,
                "thickness_factor": 1
              },
              {
                "color": "#9C27B0",
                "directed": true,
                "end": 45,
                "id": 1261015592245133300,
                "label": "NEXT",
                "properties": {
                  "label": "NEXT"
                },
                "start": 37,
                "thickness_factor": 1
              },
              {
                "color": "#9C27B0",
                "directed": true,
                "end": 45,
                "id": 1270022791499874300,
                "label": "NEXT",
                "properties": {
                  "label": "NEXT"
                },
                "start": 37,
                "thickness_factor": 1
              },
              {
                "color": "#9C27B0",
                "directed": true,
                "end": 45,
                "id": 1279029990754615300,
                "label": "NEXT",
                "properties": {
                  "label": "NEXT"
                },
                "start": 37,
                "thickness_factor": 1
              },
              {
                "color": "#9C27B0",
                "directed": true,
                "end": 45,
                "id": 1290288989823041500,
                "label": "NEXT",
                "properties": {
                  "label": "NEXT"
                },
                "start": 37,
                "thickness_factor": 1
              },
              {
                "color": "#9C27B0",
                "directed": true,
                "end": 45,
                "id": 1299296189077782500,
                "label": "NEXT",
                "properties": {
                  "label": "NEXT"
                },
                "start": 37,
                "thickness_factor": 1
              },
              {
                "color": "#9C27B0",
                "directed": true,
                "end": 45,
                "id": 1308303388332523500,
                "label": "NEXT",
                "properties": {
                  "label": "NEXT"
                },
                "start": 37,
                "thickness_factor": 1
              },
              {
                "color": "#9C27B0",
                "directed": true,
                "end": 45,
                "id": 1317310587587264500,
                "label": "NEXT",
                "properties": {
                  "label": "NEXT"
                },
                "start": 37,
                "thickness_factor": 1
              },
              {
                "color": "#9C27B0",
                "directed": true,
                "end": 45,
                "id": 1326317786842005500,
                "label": "NEXT",
                "properties": {
                  "label": "NEXT"
                },
                "start": 37,
                "thickness_factor": 1
              },
              {
                "color": "#9C27B0",
                "directed": true,
                "end": 45,
                "id": 1335324986096746500,
                "label": "NEXT",
                "properties": {
                  "label": "NEXT"
                },
                "start": 37,
                "thickness_factor": 1
              },
              {
                "color": "#9C27B0",
                "directed": true,
                "end": 45,
                "id": 1344332185351487500,
                "label": "NEXT",
                "properties": {
                  "label": "NEXT"
                },
                "start": 37,
                "thickness_factor": 1
              },
              {
                "color": "#9C27B0",
                "directed": true,
                "end": 45,
                "id": 1353339384606228500,
                "label": "NEXT",
                "properties": {
                  "label": "NEXT"
                },
                "start": 37,
                "thickness_factor": 1
              },
              {
                "color": "#9C27B0",
                "directed": true,
                "end": 45,
                "id": 1364598383674654700,
                "label": "NEXT",
                "properties": {
                  "label": "NEXT"
                },
                "start": 37,
                "thickness_factor": 1
              },
              {
                "color": "#9C27B0",
                "directed": true,
                "end": 45,
                "id": 1373605582929395700,
                "label": "NEXT",
                "properties": {
                  "label": "NEXT"
                },
                "start": 37,
                "thickness_factor": 1
              },
              {
                "color": "#9C27B0",
                "directed": true,
                "end": 45,
                "id": 1382612782184136700,
                "label": "NEXT",
                "properties": {
                  "label": "NEXT"
                },
                "start": 37,
                "thickness_factor": 1
              },
              {
                "color": "#9C27B0",
                "directed": true,
                "end": 45,
                "id": 1391619981438877700,
                "label": "NEXT",
                "properties": {
                  "label": "NEXT"
                },
                "start": 37,
                "thickness_factor": 1
              },
              {
                "color": "#9C27B0",
                "directed": true,
                "end": 45,
                "id": 1402878980507304000,
                "label": "NEXT",
                "properties": {
                  "label": "NEXT"
                },
                "start": 37,
                "thickness_factor": 1
              },
              {
                "color": "#9C27B0",
                "directed": true,
                "end": 45,
                "id": 1411886179762045000,
                "label": "NEXT",
                "properties": {
                  "label": "NEXT"
                },
                "start": 37,
                "thickness_factor": 1
              },
              {
                "color": "#9C27B0",
                "directed": true,
                "end": 45,
                "id": 1420893379016786000,
                "label": "NEXT",
                "properties": {
                  "label": "NEXT"
                },
                "start": 37,
                "thickness_factor": 1
              },
              {
                "color": "#9C27B0",
                "directed": true,
                "end": 45,
                "id": 1427648778457841700,
                "label": "NEXT",
                "properties": {
                  "label": "NEXT"
                },
                "start": 37,
                "thickness_factor": 1
              },
              {
                "color": "#9C27B0",
                "directed": true,
                "end": 45,
                "id": 1436655977712582700,
                "label": "NEXT",
                "properties": {
                  "label": "NEXT"
                },
                "start": 37,
                "thickness_factor": 1
              },
              {
                "color": "#9C27B0",
                "directed": true,
                "end": 45,
                "id": 1445663176967323600,
                "label": "NEXT",
                "properties": {
                  "label": "NEXT"
                },
                "start": 37,
                "thickness_factor": 1
              },
              {
                "color": "#9C27B0",
                "directed": true,
                "end": 45,
                "id": 1454670376222064600,
                "label": "NEXT",
                "properties": {
                  "label": "NEXT"
                },
                "start": 37,
                "thickness_factor": 1
              },
              {
                "color": "#9C27B0",
                "directed": true,
                "end": 45,
                "id": 1463677575476805600,
                "label": "NEXT",
                "properties": {
                  "label": "NEXT"
                },
                "start": 37,
                "thickness_factor": 1
              },
              {
                "color": "#9C27B0",
                "directed": true,
                "end": 45,
                "id": 1472684774731546600,
                "label": "NEXT",
                "properties": {
                  "label": "NEXT"
                },
                "start": 37,
                "thickness_factor": 1
              },
              {
                "color": "#9C27B0",
                "directed": true,
                "end": 45,
                "id": 1481691973986287600,
                "label": "NEXT",
                "properties": {
                  "label": "NEXT"
                },
                "start": 37,
                "thickness_factor": 1
              },
              {
                "color": "#9C27B0",
                "directed": true,
                "end": 45,
                "id": 1490699173241028600,
                "label": "NEXT",
                "properties": {
                  "label": "NEXT"
                },
                "start": 37,
                "thickness_factor": 1
              },
              {
                "color": "#9C27B0",
                "directed": true,
                "end": 45,
                "id": 1499706372495769600,
                "label": "NEXT",
                "properties": {
                  "label": "NEXT"
                },
                "start": 37,
                "thickness_factor": 1
              },
              {
                "color": "#9C27B0",
                "directed": true,
                "end": 45,
                "id": 1510965371564195800,
                "label": "NEXT",
                "properties": {
                  "label": "NEXT"
                },
                "start": 37,
                "thickness_factor": 1
              },
              {
                "color": "#9C27B0",
                "directed": true,
                "end": 45,
                "id": 1519972570818936800,
                "label": "NEXT",
                "properties": {
                  "label": "NEXT"
                },
                "start": 37,
                "thickness_factor": 1
              },
              {
                "color": "#9C27B0",
                "directed": true,
                "end": 45,
                "id": 1528979770073677800,
                "label": "NEXT",
                "properties": {
                  "label": "NEXT"
                },
                "start": 37,
                "thickness_factor": 1
              },
              {
                "color": "#9C27B0",
                "directed": true,
                "end": 45,
                "id": 1537986969328418800,
                "label": "NEXT",
                "properties": {
                  "label": "NEXT"
                },
                "start": 37,
                "thickness_factor": 1
              },
              {
                "color": "#9C27B0",
                "directed": true,
                "end": 45,
                "id": 1549245968396845000,
                "label": "NEXT",
                "properties": {
                  "label": "NEXT"
                },
                "start": 37,
                "thickness_factor": 1
              },
              {
                "color": "#9C27B0",
                "directed": true,
                "end": 45,
                "id": 1558253167651586000,
                "label": "NEXT",
                "properties": {
                  "label": "NEXT"
                },
                "start": 37,
                "thickness_factor": 1
              },
              {
                "color": "#9C27B0",
                "directed": true,
                "end": 45,
                "id": 1567260366906327000,
                "label": "NEXT",
                "properties": {
                  "label": "NEXT"
                },
                "start": 37,
                "thickness_factor": 1
              },
              {
                "color": "#9C27B0",
                "directed": true,
                "end": 45,
                "id": 1576267566161068000,
                "label": "NEXT",
                "properties": {
                  "label": "NEXT"
                },
                "start": 37,
                "thickness_factor": 1
              },
              {
                "color": "#9C27B0",
                "directed": true,
                "end": 45,
                "id": 1585274765415809000,
                "label": "NEXT",
                "properties": {
                  "label": "NEXT"
                },
                "start": 37,
                "thickness_factor": 1
              },
              {
                "color": "#9C27B0",
                "directed": true,
                "end": 45,
                "id": 1594281964670550000,
                "label": "NEXT",
                "properties": {
                  "label": "NEXT"
                },
                "start": 37,
                "thickness_factor": 1
              },
              {
                "color": "#9C27B0",
                "directed": true,
                "end": 45,
                "id": 1603289163925291000,
                "label": "NEXT",
                "properties": {
                  "label": "NEXT"
                },
                "start": 37,
                "thickness_factor": 1
              },
              {
                "color": "#9C27B0",
                "directed": true,
                "end": 45,
                "id": 1612296363180032000,
                "label": "NEXT",
                "properties": {
                  "label": "NEXT"
                },
                "start": 37,
                "thickness_factor": 1
              },
              {
                "color": "#9C27B0",
                "directed": true,
                "end": 45,
                "id": 1621303562434773000,
                "label": "NEXT",
                "properties": {
                  "label": "NEXT"
                },
                "start": 37,
                "thickness_factor": 1
              },
              {
                "color": "#9C27B0",
                "directed": true,
                "end": 45,
                "id": 1630310761689514000,
                "label": "NEXT",
                "properties": {
                  "label": "NEXT"
                },
                "start": 37,
                "thickness_factor": 1
              },
              {
                "color": "#9C27B0",
                "directed": true,
                "end": 45,
                "id": 1639317960944255000,
                "label": "NEXT",
                "properties": {
                  "label": "NEXT"
                },
                "start": 37,
                "thickness_factor": 1
              },
              {
                "color": "#9C27B0",
                "directed": true,
                "end": 45,
                "id": 1648325160198996000,
                "label": "NEXT",
                "properties": {
                  "label": "NEXT"
                },
                "start": 37,
                "thickness_factor": 1
              },
              {
                "color": "#9C27B0",
                "directed": true,
                "end": 45,
                "id": 1659584159267422200,
                "label": "NEXT",
                "properties": {
                  "label": "NEXT"
                },
                "start": 37,
                "thickness_factor": 1
              },
              {
                "color": "#9C27B0",
                "directed": true,
                "end": 45,
                "id": 1668591358522163200,
                "label": "NEXT",
                "properties": {
                  "label": "NEXT"
                },
                "start": 37,
                "thickness_factor": 1
              },
              {
                "color": "#9C27B0",
                "directed": true,
                "end": 45,
                "id": 1677598557776904200,
                "label": "NEXT",
                "properties": {
                  "label": "NEXT"
                },
                "start": 37,
                "thickness_factor": 1
              },
              {
                "color": "#9C27B0",
                "directed": true,
                "end": 45,
                "id": 1686605757031645200,
                "label": "NEXT",
                "properties": {
                  "label": "NEXT"
                },
                "start": 37,
                "thickness_factor": 1
              },
              {
                "color": "#9C27B0",
                "directed": true,
                "end": 45,
                "id": 1697864756100071400,
                "label": "NEXT",
                "properties": {
                  "label": "NEXT"
                },
                "start": 37,
                "thickness_factor": 1
              },
              {
                "color": "#9C27B0",
                "directed": true,
                "end": 45,
                "id": 1706871955354812400,
                "label": "NEXT",
                "properties": {
                  "label": "NEXT"
                },
                "start": 37,
                "thickness_factor": 1
              },
              {
                "color": "#9C27B0",
                "directed": true,
                "end": 45,
                "id": 1715879154609553400,
                "label": "NEXT",
                "properties": {
                  "label": "NEXT"
                },
                "start": 37,
                "thickness_factor": 1
              },
              {
                "color": "#9C27B0",
                "directed": true,
                "end": 45,
                "id": 1724886353864294400,
                "label": "NEXT",
                "properties": {
                  "label": "NEXT"
                },
                "start": 37,
                "thickness_factor": 1
              },
              {
                "color": "#9C27B0",
                "directed": true,
                "end": 45,
                "id": 1733893553119035400,
                "label": "NEXT",
                "properties": {
                  "label": "NEXT"
                },
                "start": 37,
                "thickness_factor": 1
              },
              {
                "color": "#9C27B0",
                "directed": true,
                "end": 45,
                "id": 1742900752373776400,
                "label": "NEXT",
                "properties": {
                  "label": "NEXT"
                },
                "start": 37,
                "thickness_factor": 1
              },
              {
                "color": "#9C27B0",
                "directed": true,
                "end": 52,
                "id": 6919788524036162000,
                "label": "NEXT",
                "properties": {
                  "label": "NEXT"
                },
                "start": 37,
                "thickness_factor": 1
              },
              {
                "color": "#9C27B0",
                "directed": true,
                "end": 52,
                "id": 1159684600629297200,
                "label": "NEXT",
                "properties": {
                  "label": "NEXT"
                },
                "start": 37,
                "thickness_factor": 1
              },
              {
                "color": "#9C27B0",
                "directed": true,
                "end": 52,
                "id": 6926543923477217000,
                "label": "NEXT",
                "properties": {
                  "label": "NEXT"
                },
                "start": 37,
                "thickness_factor": 1
              },
              {
                "color": "#9C27B0",
                "directed": true,
                "end": 52,
                "id": 1168691799884038100,
                "label": "NEXT",
                "properties": {
                  "label": "NEXT"
                },
                "start": 37,
                "thickness_factor": 1
              },
              {
                "color": "#9C27B0",
                "directed": true,
                "end": 52,
                "id": 1177698999138779100,
                "label": "NEXT",
                "properties": {
                  "label": "NEXT"
                },
                "start": 37,
                "thickness_factor": 1
              },
              {
                "color": "#9C27B0",
                "directed": true,
                "end": 52,
                "id": 1186706198393520000,
                "label": "NEXT",
                "properties": {
                  "label": "NEXT"
                },
                "start": 37,
                "thickness_factor": 1
              },
              {
                "color": "#9C27B0",
                "directed": true,
                "end": 52,
                "id": 1195713397648261000,
                "label": "NEXT",
                "properties": {
                  "label": "NEXT"
                },
                "start": 37,
                "thickness_factor": 1
              },
              {
                "color": "#9C27B0",
                "directed": true,
                "end": 52,
                "id": 1206972396716687400,
                "label": "NEXT",
                "properties": {
                  "label": "NEXT"
                },
                "start": 37,
                "thickness_factor": 1
              },
              {
                "color": "#9C27B0",
                "directed": true,
                "end": 52,
                "id": 1215979595971428400,
                "label": "NEXT",
                "properties": {
                  "label": "NEXT"
                },
                "start": 37,
                "thickness_factor": 1
              },
              {
                "color": "#9C27B0",
                "directed": true,
                "end": 52,
                "id": 1224986795226169300,
                "label": "NEXT",
                "properties": {
                  "label": "NEXT"
                },
                "start": 37,
                "thickness_factor": 1
              },
              {
                "color": "#9C27B0",
                "directed": true,
                "end": 52,
                "id": 1233993994480910300,
                "label": "NEXT",
                "properties": {
                  "label": "NEXT"
                },
                "start": 37,
                "thickness_factor": 1
              },
              {
                "color": "#9C27B0",
                "directed": true,
                "end": 52,
                "id": 1245252993549336600,
                "label": "NEXT",
                "properties": {
                  "label": "NEXT"
                },
                "start": 37,
                "thickness_factor": 1
              },
              {
                "color": "#9C27B0",
                "directed": true,
                "end": 52,
                "id": 1254260192804077600,
                "label": "NEXT",
                "properties": {
                  "label": "NEXT"
                },
                "start": 37,
                "thickness_factor": 1
              },
              {
                "color": "#9C27B0",
                "directed": true,
                "end": 52,
                "id": 1263267392058818600,
                "label": "NEXT",
                "properties": {
                  "label": "NEXT"
                },
                "start": 37,
                "thickness_factor": 1
              },
              {
                "color": "#9C27B0",
                "directed": true,
                "end": 52,
                "id": 1272274591313559600,
                "label": "NEXT",
                "properties": {
                  "label": "NEXT"
                },
                "start": 37,
                "thickness_factor": 1
              },
              {
                "color": "#9C27B0",
                "directed": true,
                "end": 52,
                "id": 1283533590381985800,
                "label": "NEXT",
                "properties": {
                  "label": "NEXT"
                },
                "start": 37,
                "thickness_factor": 1
              },
              {
                "color": "#9C27B0",
                "directed": true,
                "end": 52,
                "id": 1292540789636726800,
                "label": "NEXT",
                "properties": {
                  "label": "NEXT"
                },
                "start": 37,
                "thickness_factor": 1
              },
              {
                "color": "#9C27B0",
                "directed": true,
                "end": 52,
                "id": 1301547988891467800,
                "label": "NEXT",
                "properties": {
                  "label": "NEXT"
                },
                "start": 37,
                "thickness_factor": 1
              },
              {
                "color": "#9C27B0",
                "directed": true,
                "end": 52,
                "id": 1310555188146208800,
                "label": "NEXT",
                "properties": {
                  "label": "NEXT"
                },
                "start": 37,
                "thickness_factor": 1
              },
              {
                "color": "#9C27B0",
                "directed": true,
                "end": 52,
                "id": 1319562387400949800,
                "label": "NEXT",
                "properties": {
                  "label": "NEXT"
                },
                "start": 37,
                "thickness_factor": 1
              },
              {
                "color": "#9C27B0",
                "directed": true,
                "end": 52,
                "id": 1328569586655690800,
                "label": "NEXT",
                "properties": {
                  "label": "NEXT"
                },
                "start": 37,
                "thickness_factor": 1
              },
              {
                "color": "#9C27B0",
                "directed": true,
                "end": 52,
                "id": 1337576785910431700,
                "label": "NEXT",
                "properties": {
                  "label": "NEXT"
                },
                "start": 37,
                "thickness_factor": 1
              },
              {
                "color": "#9C27B0",
                "directed": true,
                "end": 52,
                "id": 1346583985165172700,
                "label": "NEXT",
                "properties": {
                  "label": "NEXT"
                },
                "start": 37,
                "thickness_factor": 1
              },
              {
                "color": "#9C27B0",
                "directed": true,
                "end": 52,
                "id": 1357842984233599000,
                "label": "NEXT",
                "properties": {
                  "label": "NEXT"
                },
                "start": 37,
                "thickness_factor": 1
              },
              {
                "color": "#9C27B0",
                "directed": true,
                "end": 52,
                "id": 1366850183488340000,
                "label": "NEXT",
                "properties": {
                  "label": "NEXT"
                },
                "start": 37,
                "thickness_factor": 1
              },
              {
                "color": "#9C27B0",
                "directed": true,
                "end": 52,
                "id": 1375857382743081000,
                "label": "NEXT",
                "properties": {
                  "label": "NEXT"
                },
                "start": 37,
                "thickness_factor": 1
              },
              {
                "color": "#9C27B0",
                "directed": true,
                "end": 52,
                "id": 1384864581997822000,
                "label": "NEXT",
                "properties": {
                  "label": "NEXT"
                },
                "start": 37,
                "thickness_factor": 1
              },
              {
                "color": "#9C27B0",
                "directed": true,
                "end": 52,
                "id": 1396123581066248200,
                "label": "NEXT",
                "properties": {
                  "label": "NEXT"
                },
                "start": 37,
                "thickness_factor": 1
              },
              {
                "color": "#9C27B0",
                "directed": true,
                "end": 52,
                "id": 1405130780320989200,
                "label": "NEXT",
                "properties": {
                  "label": "NEXT"
                },
                "start": 37,
                "thickness_factor": 1
              },
              {
                "color": "#9C27B0",
                "directed": true,
                "end": 52,
                "id": 1414137979575730200,
                "label": "NEXT",
                "properties": {
                  "label": "NEXT"
                },
                "start": 37,
                "thickness_factor": 1
              },
              {
                "color": "#9C27B0",
                "directed": true,
                "end": 52,
                "id": 1429900578271527000,
                "label": "NEXT",
                "properties": {
                  "label": "NEXT"
                },
                "start": 37,
                "thickness_factor": 1
              },
              {
                "color": "#9C27B0",
                "directed": true,
                "end": 52,
                "id": 1438907777526268000,
                "label": "NEXT",
                "properties": {
                  "label": "NEXT"
                },
                "start": 37,
                "thickness_factor": 1
              },
              {
                "color": "#9C27B0",
                "directed": true,
                "end": 52,
                "id": 1447914976781009000,
                "label": "NEXT",
                "properties": {
                  "label": "NEXT"
                },
                "start": 37,
                "thickness_factor": 1
              },
              {
                "color": "#9C27B0",
                "directed": true,
                "end": 52,
                "id": 1456922176035750000,
                "label": "NEXT",
                "properties": {
                  "label": "NEXT"
                },
                "start": 37,
                "thickness_factor": 1
              },
              {
                "color": "#9C27B0",
                "directed": true,
                "end": 52,
                "id": 1465929375290491000,
                "label": "NEXT",
                "properties": {
                  "label": "NEXT"
                },
                "start": 37,
                "thickness_factor": 1
              },
              {
                "color": "#9C27B0",
                "directed": true,
                "end": 52,
                "id": 1474936574545232000,
                "label": "NEXT",
                "properties": {
                  "label": "NEXT"
                },
                "start": 37,
                "thickness_factor": 1
              },
              {
                "color": "#9C27B0",
                "directed": true,
                "end": 52,
                "id": 1483943773799972900,
                "label": "NEXT",
                "properties": {
                  "label": "NEXT"
                },
                "start": 37,
                "thickness_factor": 1
              },
              {
                "color": "#9C27B0",
                "directed": true,
                "end": 52,
                "id": 1492950973054713900,
                "label": "NEXT",
                "properties": {
                  "label": "NEXT"
                },
                "start": 37,
                "thickness_factor": 1
              },
              {
                "color": "#9C27B0",
                "directed": true,
                "end": 52,
                "id": 1504209972123140000,
                "label": "NEXT",
                "properties": {
                  "label": "NEXT"
                },
                "start": 37,
                "thickness_factor": 1
              },
              {
                "color": "#9C27B0",
                "directed": true,
                "end": 52,
                "id": 1513217171377881000,
                "label": "NEXT",
                "properties": {
                  "label": "NEXT"
                },
                "start": 37,
                "thickness_factor": 1
              },
              {
                "color": "#9C27B0",
                "directed": true,
                "end": 52,
                "id": 1522224370632622000,
                "label": "NEXT",
                "properties": {
                  "label": "NEXT"
                },
                "start": 37,
                "thickness_factor": 1
              },
              {
                "color": "#9C27B0",
                "directed": true,
                "end": 52,
                "id": 1531231569887363000,
                "label": "NEXT",
                "properties": {
                  "label": "NEXT"
                },
                "start": 37,
                "thickness_factor": 1
              },
              {
                "color": "#9C27B0",
                "directed": true,
                "end": 52,
                "id": 1542490568955789300,
                "label": "NEXT",
                "properties": {
                  "label": "NEXT"
                },
                "start": 37,
                "thickness_factor": 1
              },
              {
                "color": "#9C27B0",
                "directed": true,
                "end": 52,
                "id": 1551497768210530300,
                "label": "NEXT",
                "properties": {
                  "label": "NEXT"
                },
                "start": 37,
                "thickness_factor": 1
              },
              {
                "color": "#9C27B0",
                "directed": true,
                "end": 52,
                "id": 1560504967465271300,
                "label": "NEXT",
                "properties": {
                  "label": "NEXT"
                },
                "start": 37,
                "thickness_factor": 1
              },
              {
                "color": "#9C27B0",
                "directed": true,
                "end": 52,
                "id": 1569512166720012300,
                "label": "NEXT",
                "properties": {
                  "label": "NEXT"
                },
                "start": 37,
                "thickness_factor": 1
              },
              {
                "color": "#9C27B0",
                "directed": true,
                "end": 52,
                "id": 1578519365974753300,
                "label": "NEXT",
                "properties": {
                  "label": "NEXT"
                },
                "start": 37,
                "thickness_factor": 1
              },
              {
                "color": "#9C27B0",
                "directed": true,
                "end": 52,
                "id": 1587526565229494300,
                "label": "NEXT",
                "properties": {
                  "label": "NEXT"
                },
                "start": 37,
                "thickness_factor": 1
              },
              {
                "color": "#9C27B0",
                "directed": true,
                "end": 52,
                "id": 1596533764484235300,
                "label": "NEXT",
                "properties": {
                  "label": "NEXT"
                },
                "start": 37,
                "thickness_factor": 1
              },
              {
                "color": "#9C27B0",
                "directed": true,
                "end": 52,
                "id": 1605540963738976300,
                "label": "NEXT",
                "properties": {
                  "label": "NEXT"
                },
                "start": 37,
                "thickness_factor": 1
              },
              {
                "color": "#9C27B0",
                "directed": true,
                "end": 52,
                "id": 1614548162993717200,
                "label": "NEXT",
                "properties": {
                  "label": "NEXT"
                },
                "start": 37,
                "thickness_factor": 1
              },
              {
                "color": "#9C27B0",
                "directed": true,
                "end": 52,
                "id": 1623555362248458200,
                "label": "NEXT",
                "properties": {
                  "label": "NEXT"
                },
                "start": 37,
                "thickness_factor": 1
              },
              {
                "color": "#9C27B0",
                "directed": true,
                "end": 52,
                "id": 1632562561503199200,
                "label": "NEXT",
                "properties": {
                  "label": "NEXT"
                },
                "start": 37,
                "thickness_factor": 1
              },
              {
                "color": "#9C27B0",
                "directed": true,
                "end": 52,
                "id": 1641569760757940200,
                "label": "NEXT",
                "properties": {
                  "label": "NEXT"
                },
                "start": 37,
                "thickness_factor": 1
              },
              {
                "color": "#9C27B0",
                "directed": true,
                "end": 52,
                "id": 1652828759826366500,
                "label": "NEXT",
                "properties": {
                  "label": "NEXT"
                },
                "start": 37,
                "thickness_factor": 1
              },
              {
                "color": "#9C27B0",
                "directed": true,
                "end": 52,
                "id": 1661835959081107500,
                "label": "NEXT",
                "properties": {
                  "label": "NEXT"
                },
                "start": 37,
                "thickness_factor": 1
              },
              {
                "color": "#9C27B0",
                "directed": true,
                "end": 52,
                "id": 1670843158335848400,
                "label": "NEXT",
                "properties": {
                  "label": "NEXT"
                },
                "start": 37,
                "thickness_factor": 1
              },
              {
                "color": "#9C27B0",
                "directed": true,
                "end": 52,
                "id": 1679850357590589400,
                "label": "NEXT",
                "properties": {
                  "label": "NEXT"
                },
                "start": 37,
                "thickness_factor": 1
              },
              {
                "color": "#9C27B0",
                "directed": true,
                "end": 52,
                "id": 1691109356659015700,
                "label": "NEXT",
                "properties": {
                  "label": "NEXT"
                },
                "start": 37,
                "thickness_factor": 1
              },
              {
                "color": "#9C27B0",
                "directed": true,
                "end": 52,
                "id": 1700116555913756700,
                "label": "NEXT",
                "properties": {
                  "label": "NEXT"
                },
                "start": 37,
                "thickness_factor": 1
              },
              {
                "color": "#9C27B0",
                "directed": true,
                "end": 52,
                "id": 1709123755168497700,
                "label": "NEXT",
                "properties": {
                  "label": "NEXT"
                },
                "start": 37,
                "thickness_factor": 1
              },
              {
                "color": "#9C27B0",
                "directed": true,
                "end": 52,
                "id": 1718130954423238700,
                "label": "NEXT",
                "properties": {
                  "label": "NEXT"
                },
                "start": 37,
                "thickness_factor": 1
              },
              {
                "color": "#9C27B0",
                "directed": true,
                "end": 52,
                "id": 1727138153677979600,
                "label": "NEXT",
                "properties": {
                  "label": "NEXT"
                },
                "start": 37,
                "thickness_factor": 1
              },
              {
                "color": "#9C27B0",
                "directed": true,
                "end": 52,
                "id": 1736145352932720600,
                "label": "NEXT",
                "properties": {
                  "label": "NEXT"
                },
                "start": 37,
                "thickness_factor": 1
              },
              {
                "color": "#2196F3",
                "directed": true,
                "end": 41,
                "id": 1152923703630102500,
                "label": "name",
                "properties": {
                  "label": "name",
                  "name": "Hars"
                },
                "start": 40,
                "thickness_factor": 1
              },
              {
                "color": "#4CAF50",
                "directed": true,
                "end": 42,
                "id": 1152924803141730300,
                "label": "Age",
                "properties": {
                  "age": "32",
                  "label": "Age"
                },
                "start": 40,
                "thickness_factor": 1
              },
              {
                "color": "#F44336",
                "directed": true,
                "end": 43,
                "id": 1152925902653358000,
                "label": "src",
                "properties": {
                  "Source": "Friday Party",
                  "label": "src"
                },
                "start": 41,
                "thickness_factor": 1
              },
              {
                "color": "#9C27B0",
                "directed": true,
                "end": 30,
                "id": 1152929201188241400,
                "label": "NEXT",
                "properties": {
                  "label": "NEXT"
                },
                "start": 43,
                "thickness_factor": 1
              },
              {
                "color": "#9C27B0",
                "directed": true,
                "end": 30,
                "id": 1161936400442982400,
                "label": "NEXT",
                "properties": {
                  "label": "NEXT"
                },
                "start": 43,
                "thickness_factor": 1
              },
              {
                "color": "#9C27B0",
                "directed": true,
                "end": 30,
                "id": 1170943599697723400,
                "label": "NEXT",
                "properties": {
                  "label": "NEXT"
                },
                "start": 43,
                "thickness_factor": 1
              },
              {
                "color": "#9C27B0",
                "directed": true,
                "end": 30,
                "id": 7036882114347794000,
                "label": "NEXT",
                "properties": {
                  "label": "NEXT"
                },
                "start": 43,
                "thickness_factor": 1
              },
              {
                "color": "#9C27B0",
                "directed": true,
                "end": 37,
                "id": 1155181001001926700,
                "label": "NEXT",
                "properties": {
                  "label": "NEXT"
                },
                "start": 43,
                "thickness_factor": 1
              },
              {
                "color": "#9C27B0",
                "directed": true,
                "end": 37,
                "id": 1164188200256667600,
                "label": "NEXT",
                "properties": {
                  "label": "NEXT"
                },
                "start": 43,
                "thickness_factor": 1
              },
              {
                "color": "#9C27B0",
                "directed": true,
                "end": 37,
                "id": 1173195399511408600,
                "label": "NEXT",
                "properties": {
                  "label": "NEXT"
                },
                "start": 43,
                "thickness_factor": 1
              },
              {
                "color": "#9C27B0",
                "directed": true,
                "end": 37,
                "id": 7045889313602535000,
                "label": "NEXT",
                "properties": {
                  "label": "NEXT"
                },
                "start": 43,
                "thickness_factor": 1
              },
              {
                "color": "#9C27B0",
                "directed": true,
                "end": 44,
                "id": 1157432800815612000,
                "label": "NEXT",
                "properties": {
                  "label": "NEXT"
                },
                "start": 43,
                "thickness_factor": 1
              },
              {
                "color": "#9C27B0",
                "directed": true,
                "end": 44,
                "id": 1166440000070353000,
                "label": "NEXT",
                "properties": {
                  "label": "NEXT"
                },
                "start": 43,
                "thickness_factor": 1
              },
              {
                "color": "#9C27B0",
                "directed": true,
                "end": 44,
                "id": 1175447199325094000,
                "label": "NEXT",
                "properties": {
                  "label": "NEXT"
                },
                "start": 43,
                "thickness_factor": 1
              },
              {
                "color": "#9C27B0",
                "directed": true,
                "end": 44,
                "id": 7054896512857276000,
                "label": "NEXT",
                "properties": {
                  "label": "NEXT"
                },
                "start": 43,
                "thickness_factor": 1
              },
              {
                "color": "#9C27B0",
                "directed": true,
                "end": 51,
                "id": 1159684600629297200,
                "label": "NEXT",
                "properties": {
                  "label": "NEXT"
                },
                "start": 43,
                "thickness_factor": 1
              },
              {
                "color": "#9C27B0",
                "directed": true,
                "end": 51,
                "id": 1168691799884038100,
                "label": "NEXT",
                "properties": {
                  "label": "NEXT"
                },
                "start": 43,
                "thickness_factor": 1
              },
              {
                "color": "#9C27B0",
                "directed": true,
                "end": 51,
                "id": 7030126714906739000,
                "label": "NEXT",
                "properties": {
                  "label": "NEXT"
                },
                "start": 43,
                "thickness_factor": 1
              },
              {
                "color": "#9C27B0",
                "directed": true,
                "end": 51,
                "id": 7180997302423650000,
                "label": "NEXT",
                "properties": {
                  "label": "NEXT"
                },
                "start": 43,
                "thickness_factor": 1
              },
              {
                "color": "#607D8B",
                "directed": true,
                "end": 47,
                "id": 1152928101676613600,
                "label": "impli",
                "properties": {
                  "Implications": "It is not hurting my ears but the thumping is really loud which can be controlled. ",
                  "label": "impli"
                },
                "start": 44,
                "thickness_factor": 1
              },
              {
                "color": "#9C27B0",
                "directed": true,
                "end": 31,
                "id": 1152929201188241400,
                "label": "NEXT",
                "properties": {
                  "label": "NEXT"
                },
                "start": 44,
                "thickness_factor": 1
              },
              {
                "color": "#9C27B0",
                "directed": true,
                "end": 31,
                "id": 1161936400442982400,
                "label": "NEXT",
                "properties": {
                  "label": "NEXT"
                },
                "start": 44,
                "thickness_factor": 1
              },
              {
                "color": "#9C27B0",
                "directed": true,
                "end": 31,
                "id": 1170943599697723400,
                "label": "NEXT",
                "properties": {
                  "label": "NEXT"
                },
                "start": 44,
                "thickness_factor": 1
              },
              {
                "color": "#9C27B0",
                "directed": true,
                "end": 31,
                "id": 1179950798952464400,
                "label": "NEXT",
                "properties": {
                  "label": "NEXT"
                },
                "start": 44,
                "thickness_factor": 1
              },
              {
                "color": "#9C27B0",
                "directed": true,
                "end": 31,
                "id": 1188957998207205400,
                "label": "NEXT",
                "properties": {
                  "label": "NEXT"
                },
                "start": 44,
                "thickness_factor": 1
              },
              {
                "color": "#9C27B0",
                "directed": true,
                "end": 31,
                "id": 1197965197461946400,
                "label": "NEXT",
                "properties": {
                  "label": "NEXT"
                },
                "start": 44,
                "thickness_factor": 1
              },
              {
                "color": "#9C27B0",
                "directed": true,
                "end": 31,
                "id": 1206972396716687400,
                "label": "NEXT",
                "properties": {
                  "label": "NEXT"
                },
                "start": 44,
                "thickness_factor": 1
              },
              {
                "color": "#9C27B0",
                "directed": true,
                "end": 31,
                "id": 1218231395785113600,
                "label": "NEXT",
                "properties": {
                  "label": "NEXT"
                },
                "start": 44,
                "thickness_factor": 1
              },
              {
                "color": "#9C27B0",
                "directed": true,
                "end": 31,
                "id": 1227238595039854600,
                "label": "NEXT",
                "properties": {
                  "label": "NEXT"
                },
                "start": 44,
                "thickness_factor": 1
              },
              {
                "color": "#9C27B0",
                "directed": true,
                "end": 31,
                "id": 1236245794294595600,
                "label": "NEXT",
                "properties": {
                  "label": "NEXT"
                },
                "start": 44,
                "thickness_factor": 1
              },
              {
                "color": "#9C27B0",
                "directed": true,
                "end": 31,
                "id": 1245252993549336600,
                "label": "NEXT",
                "properties": {
                  "label": "NEXT"
                },
                "start": 44,
                "thickness_factor": 1
              },
              {
                "color": "#9C27B0",
                "directed": true,
                "end": 31,
                "id": 1256511992617762800,
                "label": "NEXT",
                "properties": {
                  "label": "NEXT"
                },
                "start": 44,
                "thickness_factor": 1
              },
              {
                "color": "#9C27B0",
                "directed": true,
                "end": 31,
                "id": 1265519191872503800,
                "label": "NEXT",
                "properties": {
                  "label": "NEXT"
                },
                "start": 44,
                "thickness_factor": 1
              },
              {
                "color": "#9C27B0",
                "directed": true,
                "end": 31,
                "id": 1274526391127244800,
                "label": "NEXT",
                "properties": {
                  "label": "NEXT"
                },
                "start": 44,
                "thickness_factor": 1
              },
              {
                "color": "#9C27B0",
                "directed": true,
                "end": 31,
                "id": 1283533590381985800,
                "label": "NEXT",
                "properties": {
                  "label": "NEXT"
                },
                "start": 44,
                "thickness_factor": 1
              },
              {
                "color": "#9C27B0",
                "directed": true,
                "end": 31,
                "id": 1294792589450412000,
                "label": "NEXT",
                "properties": {
                  "label": "NEXT"
                },
                "start": 44,
                "thickness_factor": 1
              },
              {
                "color": "#9C27B0",
                "directed": true,
                "end": 31,
                "id": 1303799788705153000,
                "label": "NEXT",
                "properties": {
                  "label": "NEXT"
                },
                "start": 44,
                "thickness_factor": 1
              },
              {
                "color": "#9C27B0",
                "directed": true,
                "end": 31,
                "id": 1312806987959894000,
                "label": "NEXT",
                "properties": {
                  "label": "NEXT"
                },
                "start": 44,
                "thickness_factor": 1
              },
              {
                "color": "#9C27B0",
                "directed": true,
                "end": 31,
                "id": 1321814187214635000,
                "label": "NEXT",
                "properties": {
                  "label": "NEXT"
                },
                "start": 44,
                "thickness_factor": 1
              },
              {
                "color": "#9C27B0",
                "directed": true,
                "end": 31,
                "id": 1330821386469376000,
                "label": "NEXT",
                "properties": {
                  "label": "NEXT"
                },
                "start": 44,
                "thickness_factor": 1
              },
              {
                "color": "#9C27B0",
                "directed": true,
                "end": 31,
                "id": 1339828585724117000,
                "label": "NEXT",
                "properties": {
                  "label": "NEXT"
                },
                "start": 44,
                "thickness_factor": 1
              },
              {
                "color": "#9C27B0",
                "directed": true,
                "end": 31,
                "id": 1348835784978858000,
                "label": "NEXT",
                "properties": {
                  "label": "NEXT"
                },
                "start": 44,
                "thickness_factor": 1
              },
              {
                "color": "#9C27B0",
                "directed": true,
                "end": 31,
                "id": 1357842984233599000,
                "label": "NEXT",
                "properties": {
                  "label": "NEXT"
                },
                "start": 44,
                "thickness_factor": 1
              },
              {
                "color": "#9C27B0",
                "directed": true,
                "end": 31,
                "id": 1369101983302025200,
                "label": "NEXT",
                "properties": {
                  "label": "NEXT"
                },
                "start": 44,
                "thickness_factor": 1
              },
              {
                "color": "#9C27B0",
                "directed": true,
                "end": 31,
                "id": 1378109182556766200,
                "label": "NEXT",
                "properties": {
                  "label": "NEXT"
                },
                "start": 44,
                "thickness_factor": 1
              },
              {
                "color": "#9C27B0",
                "directed": true,
                "end": 31,
                "id": 1387116381811507200,
                "label": "NEXT",
                "properties": {
                  "label": "NEXT"
                },
                "start": 44,
                "thickness_factor": 1
              },
              {
                "color": "#9C27B0",
                "directed": true,
                "end": 31,
                "id": 1396123581066248200,
                "label": "NEXT",
                "properties": {
                  "label": "NEXT"
                },
                "start": 44,
                "thickness_factor": 1
              },
              {
                "color": "#9C27B0",
                "directed": true,
                "end": 31,
                "id": 1407382580134674400,
                "label": "NEXT",
                "properties": {
                  "label": "NEXT"
                },
                "start": 44,
                "thickness_factor": 1
              },
              {
                "color": "#9C27B0",
                "directed": true,
                "end": 31,
                "id": 1416389779389415400,
                "label": "NEXT",
                "properties": {
                  "label": "NEXT"
                },
                "start": 44,
                "thickness_factor": 1
              },
              {
                "color": "#9C27B0",
                "directed": true,
                "end": 31,
                "id": 1423145178830471200,
                "label": "NEXT",
                "properties": {
                  "label": "NEXT"
                },
                "start": 44,
                "thickness_factor": 1
              },
              {
                "color": "#9C27B0",
                "directed": true,
                "end": 31,
                "id": 1432152378085212200,
                "label": "NEXT",
                "properties": {
                  "label": "NEXT"
                },
                "start": 44,
                "thickness_factor": 1
              },
              {
                "color": "#9C27B0",
                "directed": true,
                "end": 31,
                "id": 1441159577339953200,
                "label": "NEXT",
                "properties": {
                  "label": "NEXT"
                },
                "start": 44,
                "thickness_factor": 1
              },
              {
                "color": "#9C27B0",
                "directed": true,
                "end": 31,
                "id": 1450166776594694100,
                "label": "NEXT",
                "properties": {
                  "label": "NEXT"
                },
                "start": 44,
                "thickness_factor": 1
              },
              {
                "color": "#9C27B0",
                "directed": true,
                "end": 31,
                "id": 1459173975849435100,
                "label": "NEXT",
                "properties": {
                  "label": "NEXT"
                },
                "start": 44,
                "thickness_factor": 1
              },
              {
                "color": "#9C27B0",
                "directed": true,
                "end": 31,
                "id": 1468181175104176000,
                "label": "NEXT",
                "properties": {
                  "label": "NEXT"
                },
                "start": 44,
                "thickness_factor": 1
              },
              {
                "color": "#9C27B0",
                "directed": true,
                "end": 31,
                "id": 1477188374358917000,
                "label": "NEXT",
                "properties": {
                  "label": "NEXT"
                },
                "start": 44,
                "thickness_factor": 1
              },
              {
                "color": "#9C27B0",
                "directed": true,
                "end": 31,
                "id": 1486195573613658000,
                "label": "NEXT",
                "properties": {
                  "label": "NEXT"
                },
                "start": 44,
                "thickness_factor": 1
              },
              {
                "color": "#9C27B0",
                "directed": true,
                "end": 31,
                "id": 1495202772868399000,
                "label": "NEXT",
                "properties": {
                  "label": "NEXT"
                },
                "start": 44,
                "thickness_factor": 1
              },
              {
                "color": "#9C27B0",
                "directed": true,
                "end": 31,
                "id": 1504209972123140000,
                "label": "NEXT",
                "properties": {
                  "label": "NEXT"
                },
                "start": 44,
                "thickness_factor": 1
              },
              {
                "color": "#9C27B0",
                "directed": true,
                "end": 31,
                "id": 1515468971191566300,
                "label": "NEXT",
                "properties": {
                  "label": "NEXT"
                },
                "start": 44,
                "thickness_factor": 1
              },
              {
                "color": "#9C27B0",
                "directed": true,
                "end": 31,
                "id": 1524476170446307300,
                "label": "NEXT",
                "properties": {
                  "label": "NEXT"
                },
                "start": 44,
                "thickness_factor": 1
              },
              {
                "color": "#9C27B0",
                "directed": true,
                "end": 31,
                "id": 1533483369701048300,
                "label": "NEXT",
                "properties": {
                  "label": "NEXT"
                },
                "start": 44,
                "thickness_factor": 1
              },
              {
                "color": "#9C27B0",
                "directed": true,
                "end": 31,
                "id": 1542490568955789300,
                "label": "NEXT",
                "properties": {
                  "label": "NEXT"
                },
                "start": 44,
                "thickness_factor": 1
              },
              {
                "color": "#9C27B0",
                "directed": true,
                "end": 31,
                "id": 1553749568024215600,
                "label": "NEXT",
                "properties": {
                  "label": "NEXT"
                },
                "start": 44,
                "thickness_factor": 1
              },
              {
                "color": "#9C27B0",
                "directed": true,
                "end": 31,
                "id": 1562756767278956500,
                "label": "NEXT",
                "properties": {
                  "label": "NEXT"
                },
                "start": 44,
                "thickness_factor": 1
              },
              {
                "color": "#9C27B0",
                "directed": true,
                "end": 31,
                "id": 1571763966533697500,
                "label": "NEXT",
                "properties": {
                  "label": "NEXT"
                },
                "start": 44,
                "thickness_factor": 1
              },
              {
                "color": "#9C27B0",
                "directed": true,
                "end": 31,
                "id": 1580771165788438500,
                "label": "NEXT",
                "properties": {
                  "label": "NEXT"
                },
                "start": 44,
                "thickness_factor": 1
              },
              {
                "color": "#9C27B0",
                "directed": true,
                "end": 31,
                "id": 1589778365043179500,
                "label": "NEXT",
                "properties": {
                  "label": "NEXT"
                },
                "start": 44,
                "thickness_factor": 1
              },
              {
                "color": "#9C27B0",
                "directed": true,
                "end": 31,
                "id": 1598785564297920500,
                "label": "NEXT",
                "properties": {
                  "label": "NEXT"
                },
                "start": 44,
                "thickness_factor": 1
              },
              {
                "color": "#9C27B0",
                "directed": true,
                "end": 31,
                "id": 1607792763552661500,
                "label": "NEXT",
                "properties": {
                  "label": "NEXT"
                },
                "start": 44,
                "thickness_factor": 1
              },
              {
                "color": "#9C27B0",
                "directed": true,
                "end": 31,
                "id": 1616799962807402500,
                "label": "NEXT",
                "properties": {
                  "label": "NEXT"
                },
                "start": 44,
                "thickness_factor": 1
              },
              {
                "color": "#9C27B0",
                "directed": true,
                "end": 31,
                "id": 1625807162062143500,
                "label": "NEXT",
                "properties": {
                  "label": "NEXT"
                },
                "start": 44,
                "thickness_factor": 1
              },
              {
                "color": "#9C27B0",
                "directed": true,
                "end": 31,
                "id": 1634814361316884500,
                "label": "NEXT",
                "properties": {
                  "label": "NEXT"
                },
                "start": 44,
                "thickness_factor": 1
              },
              {
                "color": "#9C27B0",
                "directed": true,
                "end": 31,
                "id": 1643821560571625500,
                "label": "NEXT",
                "properties": {
                  "label": "NEXT"
                },
                "start": 44,
                "thickness_factor": 1
              },
              {
                "color": "#9C27B0",
                "directed": true,
                "end": 31,
                "id": 1652828759826366500,
                "label": "NEXT",
                "properties": {
                  "label": "NEXT"
                },
                "start": 44,
                "thickness_factor": 1
              },
              {
                "color": "#9C27B0",
                "directed": true,
                "end": 31,
                "id": 1664087758894792700,
                "label": "NEXT",
                "properties": {
                  "label": "NEXT"
                },
                "start": 44,
                "thickness_factor": 1
              },
              {
                "color": "#9C27B0",
                "directed": true,
                "end": 31,
                "id": 1673094958149533700,
                "label": "NEXT",
                "properties": {
                  "label": "NEXT"
                },
                "start": 44,
                "thickness_factor": 1
              },
              {
                "color": "#9C27B0",
                "directed": true,
                "end": 31,
                "id": 1682102157404274700,
                "label": "NEXT",
                "properties": {
                  "label": "NEXT"
                },
                "start": 44,
                "thickness_factor": 1
              },
              {
                "color": "#9C27B0",
                "directed": true,
                "end": 31,
                "id": 1691109356659015700,
                "label": "NEXT",
                "properties": {
                  "label": "NEXT"
                },
                "start": 44,
                "thickness_factor": 1
              },
              {
                "color": "#9C27B0",
                "directed": true,
                "end": 31,
                "id": 1702368355727442000,
                "label": "NEXT",
                "properties": {
                  "label": "NEXT"
                },
                "start": 44,
                "thickness_factor": 1
              },
              {
                "color": "#9C27B0",
                "directed": true,
                "end": 31,
                "id": 1711375554982183000,
                "label": "NEXT",
                "properties": {
                  "label": "NEXT"
                },
                "start": 44,
                "thickness_factor": 1
              },
              {
                "color": "#9C27B0",
                "directed": true,
                "end": 31,
                "id": 1720382754236924000,
                "label": "NEXT",
                "properties": {
                  "label": "NEXT"
                },
                "start": 44,
                "thickness_factor": 1
              },
              {
                "color": "#9C27B0",
                "directed": true,
                "end": 31,
                "id": 1729389953491665000,
                "label": "NEXT",
                "properties": {
                  "label": "NEXT"
                },
                "start": 44,
                "thickness_factor": 1
              },
              {
                "color": "#9C27B0",
                "directed": true,
                "end": 31,
                "id": 1738397152746406000,
                "label": "NEXT",
                "properties": {
                  "label": "NEXT"
                },
                "start": 44,
                "thickness_factor": 1
              },
              {
                "color": "#9C27B0",
                "directed": true,
                "end": 38,
                "id": 1155181001001926700,
                "label": "NEXT",
                "properties": {
                  "label": "NEXT"
                },
                "start": 44,
                "thickness_factor": 1
              },
              {
                "color": "#9C27B0",
                "directed": true,
                "end": 38,
                "id": 1164188200256667600,
                "label": "NEXT",
                "properties": {
                  "label": "NEXT"
                },
                "start": 44,
                "thickness_factor": 1
              },
              {
                "color": "#9C27B0",
                "directed": true,
                "end": 38,
                "id": 1173195399511408600,
                "label": "NEXT",
                "properties": {
                  "label": "NEXT"
                },
                "start": 44,
                "thickness_factor": 1
              },
              {
                "color": "#9C27B0",
                "directed": true,
                "end": 38,
                "id": 1182202598766149600,
                "label": "NEXT",
                "properties": {
                  "label": "NEXT"
                },
                "start": 44,
                "thickness_factor": 1
              },
              {
                "color": "#9C27B0",
                "directed": true,
                "end": 38,
                "id": 1191209798020890600,
                "label": "NEXT",
                "properties": {
                  "label": "NEXT"
                },
                "start": 44,
                "thickness_factor": 1
              },
              {
                "color": "#9C27B0",
                "directed": true,
                "end": 38,
                "id": 1200216997275631600,
                "label": "NEXT",
                "properties": {
                  "label": "NEXT"
                },
                "start": 44,
                "thickness_factor": 1
              },
              {
                "color": "#9C27B0",
                "directed": true,
                "end": 38,
                "id": 1209224196530372600,
                "label": "NEXT",
                "properties": {
                  "label": "NEXT"
                },
                "start": 44,
                "thickness_factor": 1
              },
              {
                "color": "#9C27B0",
                "directed": true,
                "end": 38,
                "id": 1220483195598798800,
                "label": "NEXT",
                "properties": {
                  "label": "NEXT"
                },
                "start": 44,
                "thickness_factor": 1
              },
              {
                "color": "#9C27B0",
                "directed": true,
                "end": 38,
                "id": 1229490394853539800,
                "label": "NEXT",
                "properties": {
                  "label": "NEXT"
                },
                "start": 44,
                "thickness_factor": 1
              },
              {
                "color": "#9C27B0",
                "directed": true,
                "end": 38,
                "id": 1238497594108280800,
                "label": "NEXT",
                "properties": {
                  "label": "NEXT"
                },
                "start": 44,
                "thickness_factor": 1
              },
              {
                "color": "#9C27B0",
                "directed": true,
                "end": 38,
                "id": 1247504793363021800,
                "label": "NEXT",
                "properties": {
                  "label": "NEXT"
                },
                "start": 44,
                "thickness_factor": 1
              },
              {
                "color": "#9C27B0",
                "directed": true,
                "end": 38,
                "id": 1258763792431448000,
                "label": "NEXT",
                "properties": {
                  "label": "NEXT"
                },
                "start": 44,
                "thickness_factor": 1
              },
              {
                "color": "#9C27B0",
                "directed": true,
                "end": 38,
                "id": 1267770991686189000,
                "label": "NEXT",
                "properties": {
                  "label": "NEXT"
                },
                "start": 44,
                "thickness_factor": 1
              },
              {
                "color": "#9C27B0",
                "directed": true,
                "end": 38,
                "id": 1276778190940930000,
                "label": "NEXT",
                "properties": {
                  "label": "NEXT"
                },
                "start": 44,
                "thickness_factor": 1
              },
              {
                "color": "#9C27B0",
                "directed": true,
                "end": 38,
                "id": 1285785390195671000,
                "label": "NEXT",
                "properties": {
                  "label": "NEXT"
                },
                "start": 44,
                "thickness_factor": 1
              },
              {
                "color": "#9C27B0",
                "directed": true,
                "end": 38,
                "id": 1297044389264097300,
                "label": "NEXT",
                "properties": {
                  "label": "NEXT"
                },
                "start": 44,
                "thickness_factor": 1
              },
              {
                "color": "#9C27B0",
                "directed": true,
                "end": 38,
                "id": 1306051588518838300,
                "label": "NEXT",
                "properties": {
                  "label": "NEXT"
                },
                "start": 44,
                "thickness_factor": 1
              },
              {
                "color": "#9C27B0",
                "directed": true,
                "end": 38,
                "id": 1315058787773579300,
                "label": "NEXT",
                "properties": {
                  "label": "NEXT"
                },
                "start": 44,
                "thickness_factor": 1
              },
              {
                "color": "#9C27B0",
                "directed": true,
                "end": 38,
                "id": 1324065987028320300,
                "label": "NEXT",
                "properties": {
                  "label": "NEXT"
                },
                "start": 44,
                "thickness_factor": 1
              },
              {
                "color": "#9C27B0",
                "directed": true,
                "end": 38,
                "id": 1333073186283061200,
                "label": "NEXT",
                "properties": {
                  "label": "NEXT"
                },
                "start": 44,
                "thickness_factor": 1
              },
              {
                "color": "#9C27B0",
                "directed": true,
                "end": 38,
                "id": 1342080385537802200,
                "label": "NEXT",
                "properties": {
                  "label": "NEXT"
                },
                "start": 44,
                "thickness_factor": 1
              },
              {
                "color": "#9C27B0",
                "directed": true,
                "end": 38,
                "id": 1351087584792543200,
                "label": "NEXT",
                "properties": {
                  "label": "NEXT"
                },
                "start": 44,
                "thickness_factor": 1
              },
              {
                "color": "#9C27B0",
                "directed": true,
                "end": 38,
                "id": 1360094784047284200,
                "label": "NEXT",
                "properties": {
                  "label": "NEXT"
                },
                "start": 44,
                "thickness_factor": 1
              },
              {
                "color": "#9C27B0",
                "directed": true,
                "end": 38,
                "id": 1371353783115710500,
                "label": "NEXT",
                "properties": {
                  "label": "NEXT"
                },
                "start": 44,
                "thickness_factor": 1
              },
              {
                "color": "#9C27B0",
                "directed": true,
                "end": 38,
                "id": 1380360982370451500,
                "label": "NEXT",
                "properties": {
                  "label": "NEXT"
                },
                "start": 44,
                "thickness_factor": 1
              },
              {
                "color": "#9C27B0",
                "directed": true,
                "end": 38,
                "id": 1389368181625192400,
                "label": "NEXT",
                "properties": {
                  "label": "NEXT"
                },
                "start": 44,
                "thickness_factor": 1
              },
              {
                "color": "#9C27B0",
                "directed": true,
                "end": 38,
                "id": 1398375380879933400,
                "label": "NEXT",
                "properties": {
                  "label": "NEXT"
                },
                "start": 44,
                "thickness_factor": 1
              },
              {
                "color": "#9C27B0",
                "directed": true,
                "end": 38,
                "id": 1409634379948359700,
                "label": "NEXT",
                "properties": {
                  "label": "NEXT"
                },
                "start": 44,
                "thickness_factor": 1
              },
              {
                "color": "#9C27B0",
                "directed": true,
                "end": 38,
                "id": 1418641579203100700,
                "label": "NEXT",
                "properties": {
                  "label": "NEXT"
                },
                "start": 44,
                "thickness_factor": 1
              },
              {
                "color": "#9C27B0",
                "directed": true,
                "end": 38,
                "id": 1425396978644156400,
                "label": "NEXT",
                "properties": {
                  "label": "NEXT"
                },
                "start": 44,
                "thickness_factor": 1
              },
              {
                "color": "#9C27B0",
                "directed": true,
                "end": 38,
                "id": 1434404177898897400,
                "label": "NEXT",
                "properties": {
                  "label": "NEXT"
                },
                "start": 44,
                "thickness_factor": 1
              },
              {
                "color": "#9C27B0",
                "directed": true,
                "end": 38,
                "id": 1443411377153638400,
                "label": "NEXT",
                "properties": {
                  "label": "NEXT"
                },
                "start": 44,
                "thickness_factor": 1
              },
              {
                "color": "#9C27B0",
                "directed": true,
                "end": 38,
                "id": 1452418576408379400,
                "label": "NEXT",
                "properties": {
                  "label": "NEXT"
                },
                "start": 44,
                "thickness_factor": 1
              },
              {
                "color": "#9C27B0",
                "directed": true,
                "end": 38,
                "id": 1461425775663120400,
                "label": "NEXT",
                "properties": {
                  "label": "NEXT"
                },
                "start": 44,
                "thickness_factor": 1
              },
              {
                "color": "#9C27B0",
                "directed": true,
                "end": 38,
                "id": 1470432974917861400,
                "label": "NEXT",
                "properties": {
                  "label": "NEXT"
                },
                "start": 44,
                "thickness_factor": 1
              },
              {
                "color": "#9C27B0",
                "directed": true,
                "end": 38,
                "id": 1479440174172602400,
                "label": "NEXT",
                "properties": {
                  "label": "NEXT"
                },
                "start": 44,
                "thickness_factor": 1
              },
              {
                "color": "#9C27B0",
                "directed": true,
                "end": 38,
                "id": 1488447373427343400,
                "label": "NEXT",
                "properties": {
                  "label": "NEXT"
                },
                "start": 44,
                "thickness_factor": 1
              },
              {
                "color": "#9C27B0",
                "directed": true,
                "end": 38,
                "id": 1497454572682084400,
                "label": "NEXT",
                "properties": {
                  "label": "NEXT"
                },
                "start": 44,
                "thickness_factor": 1
              },
              {
                "color": "#9C27B0",
                "directed": true,
                "end": 38,
                "id": 1506461771936825300,
                "label": "NEXT",
                "properties": {
                  "label": "NEXT"
                },
                "start": 44,
                "thickness_factor": 1
              },
              {
                "color": "#9C27B0",
                "directed": true,
                "end": 38,
                "id": 1517720771005251600,
                "label": "NEXT",
                "properties": {
                  "label": "NEXT"
                },
                "start": 44,
                "thickness_factor": 1
              },
              {
                "color": "#9C27B0",
                "directed": true,
                "end": 38,
                "id": 1526727970259992600,
                "label": "NEXT",
                "properties": {
                  "label": "NEXT"
                },
                "start": 44,
                "thickness_factor": 1
              },
              {
                "color": "#9C27B0",
                "directed": true,
                "end": 38,
                "id": 1535735169514733600,
                "label": "NEXT",
                "properties": {
                  "label": "NEXT"
                },
                "start": 44,
                "thickness_factor": 1
              },
              {
                "color": "#9C27B0",
                "directed": true,
                "end": 38,
                "id": 1544742368769474600,
                "label": "NEXT",
                "properties": {
                  "label": "NEXT"
                },
                "start": 44,
                "thickness_factor": 1
              },
              {
                "color": "#9C27B0",
                "directed": true,
                "end": 38,
                "id": 1556001367837900800,
                "label": "NEXT",
                "properties": {
                  "label": "NEXT"
                },
                "start": 44,
                "thickness_factor": 1
              },
              {
                "color": "#9C27B0",
                "directed": true,
                "end": 38,
                "id": 1565008567092641800,
                "label": "NEXT",
                "properties": {
                  "label": "NEXT"
                },
                "start": 44,
                "thickness_factor": 1
              },
              {
                "color": "#9C27B0",
                "directed": true,
                "end": 38,
                "id": 1574015766347382800,
                "label": "NEXT",
                "properties": {
                  "label": "NEXT"
                },
                "start": 44,
                "thickness_factor": 1
              },
              {
                "color": "#9C27B0",
                "directed": true,
                "end": 38,
                "id": 1583022965602123800,
                "label": "NEXT",
                "properties": {
                  "label": "NEXT"
                },
                "start": 44,
                "thickness_factor": 1
              },
              {
                "color": "#9C27B0",
                "directed": true,
                "end": 38,
                "id": 1592030164856864800,
                "label": "NEXT",
                "properties": {
                  "label": "NEXT"
                },
                "start": 44,
                "thickness_factor": 1
              },
              {
                "color": "#9C27B0",
                "directed": true,
                "end": 38,
                "id": 1601037364111605800,
                "label": "NEXT",
                "properties": {
                  "label": "NEXT"
                },
                "start": 44,
                "thickness_factor": 1
              },
              {
                "color": "#9C27B0",
                "directed": true,
                "end": 38,
                "id": 1610044563366346800,
                "label": "NEXT",
                "properties": {
                  "label": "NEXT"
                },
                "start": 44,
                "thickness_factor": 1
              },
              {
                "color": "#9C27B0",
                "directed": true,
                "end": 38,
                "id": 1619051762621087700,
                "label": "NEXT",
                "properties": {
                  "label": "NEXT"
                },
                "start": 44,
                "thickness_factor": 1
              },
              {
                "color": "#9C27B0",
                "directed": true,
                "end": 38,
                "id": 1628058961875828700,
                "label": "NEXT",
                "properties": {
                  "label": "NEXT"
                },
                "start": 44,
                "thickness_factor": 1
              },
              {
                "color": "#9C27B0",
                "directed": true,
                "end": 38,
                "id": 1637066161130569700,
                "label": "NEXT",
                "properties": {
                  "label": "NEXT"
                },
                "start": 44,
                "thickness_factor": 1
              },
              {
                "color": "#9C27B0",
                "directed": true,
                "end": 38,
                "id": 1646073360385310700,
                "label": "NEXT",
                "properties": {
                  "label": "NEXT"
                },
                "start": 44,
                "thickness_factor": 1
              },
              {
                "color": "#9C27B0",
                "directed": true,
                "end": 38,
                "id": 1655080559640051700,
                "label": "NEXT",
                "properties": {
                  "label": "NEXT"
                },
                "start": 44,
                "thickness_factor": 1
              },
              {
                "color": "#9C27B0",
                "directed": true,
                "end": 38,
                "id": 1666339558708478000,
                "label": "NEXT",
                "properties": {
                  "label": "NEXT"
                },
                "start": 44,
                "thickness_factor": 1
              },
              {
                "color": "#9C27B0",
                "directed": true,
                "end": 38,
                "id": 1675346757963219000,
                "label": "NEXT",
                "properties": {
                  "label": "NEXT"
                },
                "start": 44,
                "thickness_factor": 1
              },
              {
                "color": "#9C27B0",
                "directed": true,
                "end": 38,
                "id": 1684353957217960000,
                "label": "NEXT",
                "properties": {
                  "label": "NEXT"
                },
                "start": 44,
                "thickness_factor": 1
              },
              {
                "color": "#9C27B0",
                "directed": true,
                "end": 38,
                "id": 1693361156472701000,
                "label": "NEXT",
                "properties": {
                  "label": "NEXT"
                },
                "start": 44,
                "thickness_factor": 1
              },
              {
                "color": "#9C27B0",
                "directed": true,
                "end": 38,
                "id": 1704620155541127200,
                "label": "NEXT",
                "properties": {
                  "label": "NEXT"
                },
                "start": 44,
                "thickness_factor": 1
              },
              {
                "color": "#9C27B0",
                "directed": true,
                "end": 38,
                "id": 1713627354795868200,
                "label": "NEXT",
                "properties": {
                  "label": "NEXT"
                },
                "start": 44,
                "thickness_factor": 1
              },
              {
                "color": "#9C27B0",
                "directed": true,
                "end": 38,
                "id": 1722634554050609200,
                "label": "NEXT",
                "properties": {
                  "label": "NEXT"
                },
                "start": 44,
                "thickness_factor": 1
              },
              {
                "color": "#9C27B0",
                "directed": true,
                "end": 38,
                "id": 1731641753305350100,
                "label": "NEXT",
                "properties": {
                  "label": "NEXT"
                },
                "start": 44,
                "thickness_factor": 1
              },
              {
                "color": "#9C27B0",
                "directed": true,
                "end": 38,
                "id": 1740648952560091100,
                "label": "NEXT",
                "properties": {
                  "label": "NEXT"
                },
                "start": 44,
                "thickness_factor": 1
              },
              {
                "color": "#9C27B0",
                "directed": true,
                "end": 45,
                "id": 1157432800815612000,
                "label": "NEXT",
                "properties": {
                  "label": "NEXT"
                },
                "start": 44,
                "thickness_factor": 1
              },
              {
                "color": "#9C27B0",
                "directed": true,
                "end": 45,
                "id": 1166440000070353000,
                "label": "NEXT",
                "properties": {
                  "label": "NEXT"
                },
                "start": 44,
                "thickness_factor": 1
              },
              {
                "color": "#9C27B0",
                "directed": true,
                "end": 45,
                "id": 1175447199325094000,
                "label": "NEXT",
                "properties": {
                  "label": "NEXT"
                },
                "start": 44,
                "thickness_factor": 1
              },
              {
                "color": "#9C27B0",
                "directed": true,
                "end": 45,
                "id": 1184454398579835000,
                "label": "NEXT",
                "properties": {
                  "label": "NEXT"
                },
                "start": 44,
                "thickness_factor": 1
              },
              {
                "color": "#9C27B0",
                "directed": true,
                "end": 45,
                "id": 1193461597834576000,
                "label": "NEXT",
                "properties": {
                  "label": "NEXT"
                },
                "start": 44,
                "thickness_factor": 1
              },
              {
                "color": "#9C27B0",
                "directed": true,
                "end": 45,
                "id": 1202468797089316900,
                "label": "NEXT",
                "properties": {
                  "label": "NEXT"
                },
                "start": 44,
                "thickness_factor": 1
              },
              {
                "color": "#9C27B0",
                "directed": true,
                "end": 45,
                "id": 1211475996344057900,
                "label": "NEXT",
                "properties": {
                  "label": "NEXT"
                },
                "start": 44,
                "thickness_factor": 1
              },
              {
                "color": "#9C27B0",
                "directed": true,
                "end": 45,
                "id": 1222734995412484000,
                "label": "NEXT",
                "properties": {
                  "label": "NEXT"
                },
                "start": 44,
                "thickness_factor": 1
              },
              {
                "color": "#9C27B0",
                "directed": true,
                "end": 45,
                "id": 1231742194667225000,
                "label": "NEXT",
                "properties": {
                  "label": "NEXT"
                },
                "start": 44,
                "thickness_factor": 1
              },
              {
                "color": "#9C27B0",
                "directed": true,
                "end": 45,
                "id": 1240749393921966000,
                "label": "NEXT",
                "properties": {
                  "label": "NEXT"
                },
                "start": 44,
                "thickness_factor": 1
              },
              {
                "color": "#9C27B0",
                "directed": true,
                "end": 45,
                "id": 1249756593176707000,
                "label": "NEXT",
                "properties": {
                  "label": "NEXT"
                },
                "start": 44,
                "thickness_factor": 1
              },
              {
                "color": "#9C27B0",
                "directed": true,
                "end": 45,
                "id": 1261015592245133300,
                "label": "NEXT",
                "properties": {
                  "label": "NEXT"
                },
                "start": 44,
                "thickness_factor": 1
              },
              {
                "color": "#9C27B0",
                "directed": true,
                "end": 45,
                "id": 1270022791499874300,
                "label": "NEXT",
                "properties": {
                  "label": "NEXT"
                },
                "start": 44,
                "thickness_factor": 1
              },
              {
                "color": "#9C27B0",
                "directed": true,
                "end": 45,
                "id": 1279029990754615300,
                "label": "NEXT",
                "properties": {
                  "label": "NEXT"
                },
                "start": 44,
                "thickness_factor": 1
              },
              {
                "color": "#9C27B0",
                "directed": true,
                "end": 45,
                "id": 1288037190009356300,
                "label": "NEXT",
                "properties": {
                  "label": "NEXT"
                },
                "start": 44,
                "thickness_factor": 1
              },
              {
                "color": "#9C27B0",
                "directed": true,
                "end": 45,
                "id": 1299296189077782500,
                "label": "NEXT",
                "properties": {
                  "label": "NEXT"
                },
                "start": 44,
                "thickness_factor": 1
              },
              {
                "color": "#9C27B0",
                "directed": true,
                "end": 45,
                "id": 1308303388332523500,
                "label": "NEXT",
                "properties": {
                  "label": "NEXT"
                },
                "start": 44,
                "thickness_factor": 1
              },
              {
                "color": "#9C27B0",
                "directed": true,
                "end": 45,
                "id": 1317310587587264500,
                "label": "NEXT",
                "properties": {
                  "label": "NEXT"
                },
                "start": 44,
                "thickness_factor": 1
              },
              {
                "color": "#9C27B0",
                "directed": true,
                "end": 45,
                "id": 1326317786842005500,
                "label": "NEXT",
                "properties": {
                  "label": "NEXT"
                },
                "start": 44,
                "thickness_factor": 1
              },
              {
                "color": "#9C27B0",
                "directed": true,
                "end": 45,
                "id": 1335324986096746500,
                "label": "NEXT",
                "properties": {
                  "label": "NEXT"
                },
                "start": 44,
                "thickness_factor": 1
              },
              {
                "color": "#9C27B0",
                "directed": true,
                "end": 45,
                "id": 1344332185351487500,
                "label": "NEXT",
                "properties": {
                  "label": "NEXT"
                },
                "start": 44,
                "thickness_factor": 1
              },
              {
                "color": "#9C27B0",
                "directed": true,
                "end": 45,
                "id": 1353339384606228500,
                "label": "NEXT",
                "properties": {
                  "label": "NEXT"
                },
                "start": 44,
                "thickness_factor": 1
              },
              {
                "color": "#9C27B0",
                "directed": true,
                "end": 45,
                "id": 1362346583860969500,
                "label": "NEXT",
                "properties": {
                  "label": "NEXT"
                },
                "start": 44,
                "thickness_factor": 1
              },
              {
                "color": "#9C27B0",
                "directed": true,
                "end": 45,
                "id": 1373605582929395700,
                "label": "NEXT",
                "properties": {
                  "label": "NEXT"
                },
                "start": 44,
                "thickness_factor": 1
              },
              {
                "color": "#9C27B0",
                "directed": true,
                "end": 45,
                "id": 1382612782184136700,
                "label": "NEXT",
                "properties": {
                  "label": "NEXT"
                },
                "start": 44,
                "thickness_factor": 1
              },
              {
                "color": "#9C27B0",
                "directed": true,
                "end": 45,
                "id": 1391619981438877700,
                "label": "NEXT",
                "properties": {
                  "label": "NEXT"
                },
                "start": 44,
                "thickness_factor": 1
              },
              {
                "color": "#9C27B0",
                "directed": true,
                "end": 45,
                "id": 1400627180693618700,
                "label": "NEXT",
                "properties": {
                  "label": "NEXT"
                },
                "start": 44,
                "thickness_factor": 1
              },
              {
                "color": "#9C27B0",
                "directed": true,
                "end": 45,
                "id": 1411886179762045000,
                "label": "NEXT",
                "properties": {
                  "label": "NEXT"
                },
                "start": 44,
                "thickness_factor": 1
              },
              {
                "color": "#9C27B0",
                "directed": true,
                "end": 45,
                "id": 1420893379016786000,
                "label": "NEXT",
                "properties": {
                  "label": "NEXT"
                },
                "start": 44,
                "thickness_factor": 1
              },
              {
                "color": "#9C27B0",
                "directed": true,
                "end": 45,
                "id": 1427648778457841700,
                "label": "NEXT",
                "properties": {
                  "label": "NEXT"
                },
                "start": 44,
                "thickness_factor": 1
              },
              {
                "color": "#9C27B0",
                "directed": true,
                "end": 45,
                "id": 1436655977712582700,
                "label": "NEXT",
                "properties": {
                  "label": "NEXT"
                },
                "start": 44,
                "thickness_factor": 1
              },
              {
                "color": "#9C27B0",
                "directed": true,
                "end": 45,
                "id": 1445663176967323600,
                "label": "NEXT",
                "properties": {
                  "label": "NEXT"
                },
                "start": 44,
                "thickness_factor": 1
              },
              {
                "color": "#9C27B0",
                "directed": true,
                "end": 45,
                "id": 1454670376222064600,
                "label": "NEXT",
                "properties": {
                  "label": "NEXT"
                },
                "start": 44,
                "thickness_factor": 1
              },
              {
                "color": "#9C27B0",
                "directed": true,
                "end": 45,
                "id": 1463677575476805600,
                "label": "NEXT",
                "properties": {
                  "label": "NEXT"
                },
                "start": 44,
                "thickness_factor": 1
              },
              {
                "color": "#9C27B0",
                "directed": true,
                "end": 45,
                "id": 1472684774731546600,
                "label": "NEXT",
                "properties": {
                  "label": "NEXT"
                },
                "start": 44,
                "thickness_factor": 1
              },
              {
                "color": "#9C27B0",
                "directed": true,
                "end": 45,
                "id": 1481691973986287600,
                "label": "NEXT",
                "properties": {
                  "label": "NEXT"
                },
                "start": 44,
                "thickness_factor": 1
              },
              {
                "color": "#9C27B0",
                "directed": true,
                "end": 45,
                "id": 1490699173241028600,
                "label": "NEXT",
                "properties": {
                  "label": "NEXT"
                },
                "start": 44,
                "thickness_factor": 1
              },
              {
                "color": "#9C27B0",
                "directed": true,
                "end": 45,
                "id": 1499706372495769600,
                "label": "NEXT",
                "properties": {
                  "label": "NEXT"
                },
                "start": 44,
                "thickness_factor": 1
              },
              {
                "color": "#9C27B0",
                "directed": true,
                "end": 45,
                "id": 1508713571750510600,
                "label": "NEXT",
                "properties": {
                  "label": "NEXT"
                },
                "start": 44,
                "thickness_factor": 1
              },
              {
                "color": "#9C27B0",
                "directed": true,
                "end": 45,
                "id": 1519972570818936800,
                "label": "NEXT",
                "properties": {
                  "label": "NEXT"
                },
                "start": 44,
                "thickness_factor": 1
              },
              {
                "color": "#9C27B0",
                "directed": true,
                "end": 45,
                "id": 1528979770073677800,
                "label": "NEXT",
                "properties": {
                  "label": "NEXT"
                },
                "start": 44,
                "thickness_factor": 1
              },
              {
                "color": "#9C27B0",
                "directed": true,
                "end": 45,
                "id": 1537986969328418800,
                "label": "NEXT",
                "properties": {
                  "label": "NEXT"
                },
                "start": 44,
                "thickness_factor": 1
              },
              {
                "color": "#9C27B0",
                "directed": true,
                "end": 45,
                "id": 1546994168583159800,
                "label": "NEXT",
                "properties": {
                  "label": "NEXT"
                },
                "start": 44,
                "thickness_factor": 1
              },
              {
                "color": "#9C27B0",
                "directed": true,
                "end": 45,
                "id": 1558253167651586000,
                "label": "NEXT",
                "properties": {
                  "label": "NEXT"
                },
                "start": 44,
                "thickness_factor": 1
              },
              {
                "color": "#9C27B0",
                "directed": true,
                "end": 45,
                "id": 1567260366906327000,
                "label": "NEXT",
                "properties": {
                  "label": "NEXT"
                },
                "start": 44,
                "thickness_factor": 1
              },
              {
                "color": "#9C27B0",
                "directed": true,
                "end": 45,
                "id": 1576267566161068000,
                "label": "NEXT",
                "properties": {
                  "label": "NEXT"
                },
                "start": 44,
                "thickness_factor": 1
              },
              {
                "color": "#9C27B0",
                "directed": true,
                "end": 45,
                "id": 1585274765415809000,
                "label": "NEXT",
                "properties": {
                  "label": "NEXT"
                },
                "start": 44,
                "thickness_factor": 1
              },
              {
                "color": "#9C27B0",
                "directed": true,
                "end": 45,
                "id": 1594281964670550000,
                "label": "NEXT",
                "properties": {
                  "label": "NEXT"
                },
                "start": 44,
                "thickness_factor": 1
              },
              {
                "color": "#9C27B0",
                "directed": true,
                "end": 45,
                "id": 1603289163925291000,
                "label": "NEXT",
                "properties": {
                  "label": "NEXT"
                },
                "start": 44,
                "thickness_factor": 1
              },
              {
                "color": "#9C27B0",
                "directed": true,
                "end": 45,
                "id": 1612296363180032000,
                "label": "NEXT",
                "properties": {
                  "label": "NEXT"
                },
                "start": 44,
                "thickness_factor": 1
              },
              {
                "color": "#9C27B0",
                "directed": true,
                "end": 45,
                "id": 1621303562434773000,
                "label": "NEXT",
                "properties": {
                  "label": "NEXT"
                },
                "start": 44,
                "thickness_factor": 1
              },
              {
                "color": "#9C27B0",
                "directed": true,
                "end": 45,
                "id": 1630310761689514000,
                "label": "NEXT",
                "properties": {
                  "label": "NEXT"
                },
                "start": 44,
                "thickness_factor": 1
              },
              {
                "color": "#9C27B0",
                "directed": true,
                "end": 45,
                "id": 1639317960944255000,
                "label": "NEXT",
                "properties": {
                  "label": "NEXT"
                },
                "start": 44,
                "thickness_factor": 1
              },
              {
                "color": "#9C27B0",
                "directed": true,
                "end": 45,
                "id": 1648325160198996000,
                "label": "NEXT",
                "properties": {
                  "label": "NEXT"
                },
                "start": 44,
                "thickness_factor": 1
              },
              {
                "color": "#9C27B0",
                "directed": true,
                "end": 45,
                "id": 1657332359453737000,
                "label": "NEXT",
                "properties": {
                  "label": "NEXT"
                },
                "start": 44,
                "thickness_factor": 1
              },
              {
                "color": "#9C27B0",
                "directed": true,
                "end": 45,
                "id": 1668591358522163200,
                "label": "NEXT",
                "properties": {
                  "label": "NEXT"
                },
                "start": 44,
                "thickness_factor": 1
              },
              {
                "color": "#9C27B0",
                "directed": true,
                "end": 45,
                "id": 1677598557776904200,
                "label": "NEXT",
                "properties": {
                  "label": "NEXT"
                },
                "start": 44,
                "thickness_factor": 1
              },
              {
                "color": "#9C27B0",
                "directed": true,
                "end": 45,
                "id": 1686605757031645200,
                "label": "NEXT",
                "properties": {
                  "label": "NEXT"
                },
                "start": 44,
                "thickness_factor": 1
              },
              {
                "color": "#9C27B0",
                "directed": true,
                "end": 45,
                "id": 1695612956286386200,
                "label": "NEXT",
                "properties": {
                  "label": "NEXT"
                },
                "start": 44,
                "thickness_factor": 1
              },
              {
                "color": "#9C27B0",
                "directed": true,
                "end": 45,
                "id": 1706871955354812400,
                "label": "NEXT",
                "properties": {
                  "label": "NEXT"
                },
                "start": 44,
                "thickness_factor": 1
              },
              {
                "color": "#9C27B0",
                "directed": true,
                "end": 45,
                "id": 1715879154609553400,
                "label": "NEXT",
                "properties": {
                  "label": "NEXT"
                },
                "start": 44,
                "thickness_factor": 1
              },
              {
                "color": "#9C27B0",
                "directed": true,
                "end": 45,
                "id": 1724886353864294400,
                "label": "NEXT",
                "properties": {
                  "label": "NEXT"
                },
                "start": 44,
                "thickness_factor": 1
              },
              {
                "color": "#9C27B0",
                "directed": true,
                "end": 45,
                "id": 1733893553119035400,
                "label": "NEXT",
                "properties": {
                  "label": "NEXT"
                },
                "start": 44,
                "thickness_factor": 1
              },
              {
                "color": "#9C27B0",
                "directed": true,
                "end": 45,
                "id": 1742900752373776400,
                "label": "NEXT",
                "properties": {
                  "label": "NEXT"
                },
                "start": 44,
                "thickness_factor": 1
              },
              {
                "color": "#9C27B0",
                "directed": true,
                "end": 52,
                "id": 6922040323849847000,
                "label": "NEXT",
                "properties": {
                  "label": "NEXT"
                },
                "start": 44,
                "thickness_factor": 1
              },
              {
                "color": "#9C27B0",
                "directed": true,
                "end": 52,
                "id": 1159684600629297200,
                "label": "NEXT",
                "properties": {
                  "label": "NEXT"
                },
                "start": 44,
                "thickness_factor": 1
              },
              {
                "color": "#9C27B0",
                "directed": true,
                "end": 52,
                "id": 6928795723290903000,
                "label": "NEXT",
                "properties": {
                  "label": "NEXT"
                },
                "start": 44,
                "thickness_factor": 1
              },
              {
                "color": "#9C27B0",
                "directed": true,
                "end": 52,
                "id": 1168691799884038100,
                "label": "NEXT",
                "properties": {
                  "label": "NEXT"
                },
                "start": 44,
                "thickness_factor": 1
              },
              {
                "color": "#9C27B0",
                "directed": true,
                "end": 52,
                "id": 1177698999138779100,
                "label": "NEXT",
                "properties": {
                  "label": "NEXT"
                },
                "start": 44,
                "thickness_factor": 1
              },
              {
                "color": "#9C27B0",
                "directed": true,
                "end": 52,
                "id": 1186706198393520000,
                "label": "NEXT",
                "properties": {
                  "label": "NEXT"
                },
                "start": 44,
                "thickness_factor": 1
              },
              {
                "color": "#9C27B0",
                "directed": true,
                "end": 52,
                "id": 1195713397648261000,
                "label": "NEXT",
                "properties": {
                  "label": "NEXT"
                },
                "start": 44,
                "thickness_factor": 1
              },
              {
                "color": "#9C27B0",
                "directed": true,
                "end": 52,
                "id": 1204720596903002000,
                "label": "NEXT",
                "properties": {
                  "label": "NEXT"
                },
                "start": 44,
                "thickness_factor": 1
              },
              {
                "color": "#9C27B0",
                "directed": true,
                "end": 52,
                "id": 1215979595971428400,
                "label": "NEXT",
                "properties": {
                  "label": "NEXT"
                },
                "start": 44,
                "thickness_factor": 1
              },
              {
                "color": "#9C27B0",
                "directed": true,
                "end": 52,
                "id": 1224986795226169300,
                "label": "NEXT",
                "properties": {
                  "label": "NEXT"
                },
                "start": 44,
                "thickness_factor": 1
              },
              {
                "color": "#9C27B0",
                "directed": true,
                "end": 52,
                "id": 1233993994480910300,
                "label": "NEXT",
                "properties": {
                  "label": "NEXT"
                },
                "start": 44,
                "thickness_factor": 1
              },
              {
                "color": "#9C27B0",
                "directed": true,
                "end": 52,
                "id": 1243001193735651300,
                "label": "NEXT",
                "properties": {
                  "label": "NEXT"
                },
                "start": 44,
                "thickness_factor": 1
              },
              {
                "color": "#9C27B0",
                "directed": true,
                "end": 52,
                "id": 1254260192804077600,
                "label": "NEXT",
                "properties": {
                  "label": "NEXT"
                },
                "start": 44,
                "thickness_factor": 1
              },
              {
                "color": "#9C27B0",
                "directed": true,
                "end": 52,
                "id": 1263267392058818600,
                "label": "NEXT",
                "properties": {
                  "label": "NEXT"
                },
                "start": 44,
                "thickness_factor": 1
              },
              {
                "color": "#9C27B0",
                "directed": true,
                "end": 52,
                "id": 1272274591313559600,
                "label": "NEXT",
                "properties": {
                  "label": "NEXT"
                },
                "start": 44,
                "thickness_factor": 1
              },
              {
                "color": "#9C27B0",
                "directed": true,
                "end": 52,
                "id": 1281281790568300500,
                "label": "NEXT",
                "properties": {
                  "label": "NEXT"
                },
                "start": 44,
                "thickness_factor": 1
              },
              {
                "color": "#9C27B0",
                "directed": true,
                "end": 52,
                "id": 1292540789636726800,
                "label": "NEXT",
                "properties": {
                  "label": "NEXT"
                },
                "start": 44,
                "thickness_factor": 1
              },
              {
                "color": "#9C27B0",
                "directed": true,
                "end": 52,
                "id": 1301547988891467800,
                "label": "NEXT",
                "properties": {
                  "label": "NEXT"
                },
                "start": 44,
                "thickness_factor": 1
              },
              {
                "color": "#9C27B0",
                "directed": true,
                "end": 52,
                "id": 1310555188146208800,
                "label": "NEXT",
                "properties": {
                  "label": "NEXT"
                },
                "start": 44,
                "thickness_factor": 1
              },
              {
                "color": "#9C27B0",
                "directed": true,
                "end": 52,
                "id": 1319562387400949800,
                "label": "NEXT",
                "properties": {
                  "label": "NEXT"
                },
                "start": 44,
                "thickness_factor": 1
              },
              {
                "color": "#9C27B0",
                "directed": true,
                "end": 52,
                "id": 1328569586655690800,
                "label": "NEXT",
                "properties": {
                  "label": "NEXT"
                },
                "start": 44,
                "thickness_factor": 1
              },
              {
                "color": "#9C27B0",
                "directed": true,
                "end": 52,
                "id": 1337576785910431700,
                "label": "NEXT",
                "properties": {
                  "label": "NEXT"
                },
                "start": 44,
                "thickness_factor": 1
              },
              {
                "color": "#9C27B0",
                "directed": true,
                "end": 52,
                "id": 1346583985165172700,
                "label": "NEXT",
                "properties": {
                  "label": "NEXT"
                },
                "start": 44,
                "thickness_factor": 1
              },
              {
                "color": "#9C27B0",
                "directed": true,
                "end": 52,
                "id": 1355591184419913700,
                "label": "NEXT",
                "properties": {
                  "label": "NEXT"
                },
                "start": 44,
                "thickness_factor": 1
              },
              {
                "color": "#9C27B0",
                "directed": true,
                "end": 52,
                "id": 1366850183488340000,
                "label": "NEXT",
                "properties": {
                  "label": "NEXT"
                },
                "start": 44,
                "thickness_factor": 1
              },
              {
                "color": "#9C27B0",
                "directed": true,
                "end": 52,
                "id": 1375857382743081000,
                "label": "NEXT",
                "properties": {
                  "label": "NEXT"
                },
                "start": 44,
                "thickness_factor": 1
              },
              {
                "color": "#9C27B0",
                "directed": true,
                "end": 52,
                "id": 1384864581997822000,
                "label": "NEXT",
                "properties": {
                  "label": "NEXT"
                },
                "start": 44,
                "thickness_factor": 1
              },
              {
                "color": "#9C27B0",
                "directed": true,
                "end": 52,
                "id": 1393871781252563000,
                "label": "NEXT",
                "properties": {
                  "label": "NEXT"
                },
                "start": 44,
                "thickness_factor": 1
              },
              {
                "color": "#9C27B0",
                "directed": true,
                "end": 52,
                "id": 1405130780320989200,
                "label": "NEXT",
                "properties": {
                  "label": "NEXT"
                },
                "start": 44,
                "thickness_factor": 1
              },
              {
                "color": "#9C27B0",
                "directed": true,
                "end": 52,
                "id": 1414137979575730200,
                "label": "NEXT",
                "properties": {
                  "label": "NEXT"
                },
                "start": 44,
                "thickness_factor": 1
              },
              {
                "color": "#9C27B0",
                "directed": true,
                "end": 52,
                "id": 1429900578271527000,
                "label": "NEXT",
                "properties": {
                  "label": "NEXT"
                },
                "start": 44,
                "thickness_factor": 1
              },
              {
                "color": "#9C27B0",
                "directed": true,
                "end": 52,
                "id": 1438907777526268000,
                "label": "NEXT",
                "properties": {
                  "label": "NEXT"
                },
                "start": 44,
                "thickness_factor": 1
              },
              {
                "color": "#9C27B0",
                "directed": true,
                "end": 52,
                "id": 1447914976781009000,
                "label": "NEXT",
                "properties": {
                  "label": "NEXT"
                },
                "start": 44,
                "thickness_factor": 1
              },
              {
                "color": "#9C27B0",
                "directed": true,
                "end": 52,
                "id": 1456922176035750000,
                "label": "NEXT",
                "properties": {
                  "label": "NEXT"
                },
                "start": 44,
                "thickness_factor": 1
              },
              {
                "color": "#9C27B0",
                "directed": true,
                "end": 52,
                "id": 1465929375290491000,
                "label": "NEXT",
                "properties": {
                  "label": "NEXT"
                },
                "start": 44,
                "thickness_factor": 1
              },
              {
                "color": "#9C27B0",
                "directed": true,
                "end": 52,
                "id": 1474936574545232000,
                "label": "NEXT",
                "properties": {
                  "label": "NEXT"
                },
                "start": 44,
                "thickness_factor": 1
              },
              {
                "color": "#9C27B0",
                "directed": true,
                "end": 52,
                "id": 1483943773799972900,
                "label": "NEXT",
                "properties": {
                  "label": "NEXT"
                },
                "start": 44,
                "thickness_factor": 1
              },
              {
                "color": "#9C27B0",
                "directed": true,
                "end": 52,
                "id": 1492950973054713900,
                "label": "NEXT",
                "properties": {
                  "label": "NEXT"
                },
                "start": 44,
                "thickness_factor": 1
              },
              {
                "color": "#9C27B0",
                "directed": true,
                "end": 52,
                "id": 1501958172309454800,
                "label": "NEXT",
                "properties": {
                  "label": "NEXT"
                },
                "start": 44,
                "thickness_factor": 1
              },
              {
                "color": "#9C27B0",
                "directed": true,
                "end": 52,
                "id": 1513217171377881000,
                "label": "NEXT",
                "properties": {
                  "label": "NEXT"
                },
                "start": 44,
                "thickness_factor": 1
              },
              {
                "color": "#9C27B0",
                "directed": true,
                "end": 52,
                "id": 1522224370632622000,
                "label": "NEXT",
                "properties": {
                  "label": "NEXT"
                },
                "start": 44,
                "thickness_factor": 1
              },
              {
                "color": "#9C27B0",
                "directed": true,
                "end": 52,
                "id": 1531231569887363000,
                "label": "NEXT",
                "properties": {
                  "label": "NEXT"
                },
                "start": 44,
                "thickness_factor": 1
              },
              {
                "color": "#9C27B0",
                "directed": true,
                "end": 52,
                "id": 1540238769142104000,
                "label": "NEXT",
                "properties": {
                  "label": "NEXT"
                },
                "start": 44,
                "thickness_factor": 1
              },
              {
                "color": "#9C27B0",
                "directed": true,
                "end": 52,
                "id": 1551497768210530300,
                "label": "NEXT",
                "properties": {
                  "label": "NEXT"
                },
                "start": 44,
                "thickness_factor": 1
              },
              {
                "color": "#9C27B0",
                "directed": true,
                "end": 52,
                "id": 1560504967465271300,
                "label": "NEXT",
                "properties": {
                  "label": "NEXT"
                },
                "start": 44,
                "thickness_factor": 1
              },
              {
                "color": "#9C27B0",
                "directed": true,
                "end": 52,
                "id": 1569512166720012300,
                "label": "NEXT",
                "properties": {
                  "label": "NEXT"
                },
                "start": 44,
                "thickness_factor": 1
              },
              {
                "color": "#9C27B0",
                "directed": true,
                "end": 52,
                "id": 1578519365974753300,
                "label": "NEXT",
                "properties": {
                  "label": "NEXT"
                },
                "start": 44,
                "thickness_factor": 1
              },
              {
                "color": "#9C27B0",
                "directed": true,
                "end": 52,
                "id": 1587526565229494300,
                "label": "NEXT",
                "properties": {
                  "label": "NEXT"
                },
                "start": 44,
                "thickness_factor": 1
              },
              {
                "color": "#9C27B0",
                "directed": true,
                "end": 52,
                "id": 1596533764484235300,
                "label": "NEXT",
                "properties": {
                  "label": "NEXT"
                },
                "start": 44,
                "thickness_factor": 1
              },
              {
                "color": "#9C27B0",
                "directed": true,
                "end": 52,
                "id": 1605540963738976300,
                "label": "NEXT",
                "properties": {
                  "label": "NEXT"
                },
                "start": 44,
                "thickness_factor": 1
              },
              {
                "color": "#9C27B0",
                "directed": true,
                "end": 52,
                "id": 1614548162993717200,
                "label": "NEXT",
                "properties": {
                  "label": "NEXT"
                },
                "start": 44,
                "thickness_factor": 1
              },
              {
                "color": "#9C27B0",
                "directed": true,
                "end": 52,
                "id": 1623555362248458200,
                "label": "NEXT",
                "properties": {
                  "label": "NEXT"
                },
                "start": 44,
                "thickness_factor": 1
              },
              {
                "color": "#9C27B0",
                "directed": true,
                "end": 52,
                "id": 1632562561503199200,
                "label": "NEXT",
                "properties": {
                  "label": "NEXT"
                },
                "start": 44,
                "thickness_factor": 1
              },
              {
                "color": "#9C27B0",
                "directed": true,
                "end": 52,
                "id": 1641569760757940200,
                "label": "NEXT",
                "properties": {
                  "label": "NEXT"
                },
                "start": 44,
                "thickness_factor": 1
              },
              {
                "color": "#9C27B0",
                "directed": true,
                "end": 52,
                "id": 1650576960012681200,
                "label": "NEXT",
                "properties": {
                  "label": "NEXT"
                },
                "start": 44,
                "thickness_factor": 1
              },
              {
                "color": "#9C27B0",
                "directed": true,
                "end": 52,
                "id": 1661835959081107500,
                "label": "NEXT",
                "properties": {
                  "label": "NEXT"
                },
                "start": 44,
                "thickness_factor": 1
              },
              {
                "color": "#9C27B0",
                "directed": true,
                "end": 52,
                "id": 1670843158335848400,
                "label": "NEXT",
                "properties": {
                  "label": "NEXT"
                },
                "start": 44,
                "thickness_factor": 1
              },
              {
                "color": "#9C27B0",
                "directed": true,
                "end": 52,
                "id": 1679850357590589400,
                "label": "NEXT",
                "properties": {
                  "label": "NEXT"
                },
                "start": 44,
                "thickness_factor": 1
              },
              {
                "color": "#9C27B0",
                "directed": true,
                "end": 52,
                "id": 1688857556845330400,
                "label": "NEXT",
                "properties": {
                  "label": "NEXT"
                },
                "start": 44,
                "thickness_factor": 1
              },
              {
                "color": "#9C27B0",
                "directed": true,
                "end": 52,
                "id": 1700116555913756700,
                "label": "NEXT",
                "properties": {
                  "label": "NEXT"
                },
                "start": 44,
                "thickness_factor": 1
              },
              {
                "color": "#9C27B0",
                "directed": true,
                "end": 52,
                "id": 1709123755168497700,
                "label": "NEXT",
                "properties": {
                  "label": "NEXT"
                },
                "start": 44,
                "thickness_factor": 1
              },
              {
                "color": "#9C27B0",
                "directed": true,
                "end": 52,
                "id": 1718130954423238700,
                "label": "NEXT",
                "properties": {
                  "label": "NEXT"
                },
                "start": 44,
                "thickness_factor": 1
              },
              {
                "color": "#9C27B0",
                "directed": true,
                "end": 52,
                "id": 1727138153677979600,
                "label": "NEXT",
                "properties": {
                  "label": "NEXT"
                },
                "start": 44,
                "thickness_factor": 1
              },
              {
                "color": "#9C27B0",
                "directed": true,
                "end": 52,
                "id": 1736145352932720600,
                "label": "NEXT",
                "properties": {
                  "label": "NEXT"
                },
                "start": 44,
                "thickness_factor": 1
              },
              {
                "color": "#673AB7",
                "directed": true,
                "end": 44,
                "id": 1152927002164985900,
                "label": "cause",
                "properties": {
                  "cause": "Birthday celebrations of a friend",
                  "label": "cause"
                },
                "start": 46,
                "thickness_factor": 1
              },
              {
                "color": "#9C27B0",
                "directed": true,
                "end": 49,
                "id": 1152929201188241400,
                "label": "NEXT",
                "properties": {
                  "label": "NEXT"
                },
                "start": 48,
                "thickness_factor": 1
              },
              {
                "color": "#9C27B0",
                "directed": true,
                "end": 29,
                "id": 1155181001001926700,
                "label": "NEXT",
                "properties": {
                  "label": "NEXT"
                },
                "start": 49,
                "thickness_factor": 1
              },
              {
                "color": "#9C27B0",
                "directed": true,
                "end": 36,
                "id": 1157432800815612000,
                "label": "NEXT",
                "properties": {
                  "label": "NEXT"
                },
                "start": 49,
                "thickness_factor": 1
              },
              {
                "color": "#9C27B0",
                "directed": true,
                "end": 43,
                "id": 1159684600629297200,
                "label": "NEXT",
                "properties": {
                  "label": "NEXT"
                },
                "start": 49,
                "thickness_factor": 1
              },
              {
                "color": "#9C27B0",
                "directed": true,
                "end": 50,
                "id": 1152929201188241400,
                "label": "NEXT",
                "properties": {
                  "label": "NEXT"
                },
                "start": 49,
                "thickness_factor": 1
              },
              {
                "color": "#9C27B0",
                "directed": true,
                "end": 30,
                "id": 1155181001001926700,
                "label": "NEXT",
                "properties": {
                  "label": "NEXT"
                },
                "start": 50,
                "thickness_factor": 1
              },
              {
                "color": "#9C27B0",
                "directed": true,
                "end": 30,
                "id": 1164188200256667600,
                "label": "NEXT",
                "properties": {
                  "label": "NEXT"
                },
                "start": 50,
                "thickness_factor": 1
              },
              {
                "color": "#9C27B0",
                "directed": true,
                "end": 30,
                "id": 1173195399511408600,
                "label": "NEXT",
                "properties": {
                  "label": "NEXT"
                },
                "start": 50,
                "thickness_factor": 1
              },
              {
                "color": "#9C27B0",
                "directed": true,
                "end": 30,
                "id": 1182202598766149600,
                "label": "NEXT",
                "properties": {
                  "label": "NEXT"
                },
                "start": 50,
                "thickness_factor": 1
              },
              {
                "color": "#9C27B0",
                "directed": true,
                "end": 37,
                "id": 1157432800815612000,
                "label": "NEXT",
                "properties": {
                  "label": "NEXT"
                },
                "start": 50,
                "thickness_factor": 1
              },
              {
                "color": "#9C27B0",
                "directed": true,
                "end": 37,
                "id": 1166440000070353000,
                "label": "NEXT",
                "properties": {
                  "label": "NEXT"
                },
                "start": 50,
                "thickness_factor": 1
              },
              {
                "color": "#9C27B0",
                "directed": true,
                "end": 37,
                "id": 1175447199325094000,
                "label": "NEXT",
                "properties": {
                  "label": "NEXT"
                },
                "start": 50,
                "thickness_factor": 1
              },
              {
                "color": "#9C27B0",
                "directed": true,
                "end": 37,
                "id": 1184454398579835000,
                "label": "NEXT",
                "properties": {
                  "label": "NEXT"
                },
                "start": 50,
                "thickness_factor": 1
              },
              {
                "color": "#9C27B0",
                "directed": true,
                "end": 44,
                "id": 1159684600629297200,
                "label": "NEXT",
                "properties": {
                  "label": "NEXT"
                },
                "start": 50,
                "thickness_factor": 1
              },
              {
                "color": "#9C27B0",
                "directed": true,
                "end": 44,
                "id": 1168691799884038100,
                "label": "NEXT",
                "properties": {
                  "label": "NEXT"
                },
                "start": 50,
                "thickness_factor": 1
              },
              {
                "color": "#9C27B0",
                "directed": true,
                "end": 44,
                "id": 1177698999138779100,
                "label": "NEXT",
                "properties": {
                  "label": "NEXT"
                },
                "start": 50,
                "thickness_factor": 1
              },
              {
                "color": "#9C27B0",
                "directed": true,
                "end": 44,
                "id": 1186706198393520000,
                "label": "NEXT",
                "properties": {
                  "label": "NEXT"
                },
                "start": 50,
                "thickness_factor": 1
              },
              {
                "color": "#9C27B0",
                "directed": true,
                "end": 51,
                "id": 1152929201188241400,
                "label": "NEXT",
                "properties": {
                  "label": "NEXT"
                },
                "start": 50,
                "thickness_factor": 1
              },
              {
                "color": "#9C27B0",
                "directed": true,
                "end": 51,
                "id": 1161936400442982400,
                "label": "NEXT",
                "properties": {
                  "label": "NEXT"
                },
                "start": 50,
                "thickness_factor": 1
              },
              {
                "color": "#9C27B0",
                "directed": true,
                "end": 51,
                "id": 1170943599697723400,
                "label": "NEXT",
                "properties": {
                  "label": "NEXT"
                },
                "start": 50,
                "thickness_factor": 1
              },
              {
                "color": "#9C27B0",
                "directed": true,
                "end": 51,
                "id": 1179950798952464400,
                "label": "NEXT",
                "properties": {
                  "label": "NEXT"
                },
                "start": 50,
                "thickness_factor": 1
              },
              {
                "color": "#9C27B0",
                "directed": true,
                "end": 31,
                "id": 1155181001001926700,
                "label": "NEXT",
                "properties": {
                  "label": "NEXT"
                },
                "start": 51,
                "thickness_factor": 1
              },
              {
                "color": "#9C27B0",
                "directed": true,
                "end": 31,
                "id": 1164188200256667600,
                "label": "NEXT",
                "properties": {
                  "label": "NEXT"
                },
                "start": 51,
                "thickness_factor": 1
              },
              {
                "color": "#9C27B0",
                "directed": true,
                "end": 31,
                "id": 1173195399511408600,
                "label": "NEXT",
                "properties": {
                  "label": "NEXT"
                },
                "start": 51,
                "thickness_factor": 1
              },
              {
                "color": "#9C27B0",
                "directed": true,
                "end": 31,
                "id": 1182202598766149600,
                "label": "NEXT",
                "properties": {
                  "label": "NEXT"
                },
                "start": 51,
                "thickness_factor": 1
              },
              {
                "color": "#9C27B0",
                "directed": true,
                "end": 31,
                "id": 1193461597834576000,
                "label": "NEXT",
                "properties": {
                  "label": "NEXT"
                },
                "start": 51,
                "thickness_factor": 1
              },
              {
                "color": "#9C27B0",
                "directed": true,
                "end": 31,
                "id": 1202468797089316900,
                "label": "NEXT",
                "properties": {
                  "label": "NEXT"
                },
                "start": 51,
                "thickness_factor": 1
              },
              {
                "color": "#9C27B0",
                "directed": true,
                "end": 31,
                "id": 1211475996344057900,
                "label": "NEXT",
                "properties": {
                  "label": "NEXT"
                },
                "start": 51,
                "thickness_factor": 1
              },
              {
                "color": "#9C27B0",
                "directed": true,
                "end": 31,
                "id": 1220483195598798800,
                "label": "NEXT",
                "properties": {
                  "label": "NEXT"
                },
                "start": 51,
                "thickness_factor": 1
              },
              {
                "color": "#9C27B0",
                "directed": true,
                "end": 31,
                "id": 1231742194667225000,
                "label": "NEXT",
                "properties": {
                  "label": "NEXT"
                },
                "start": 51,
                "thickness_factor": 1
              },
              {
                "color": "#9C27B0",
                "directed": true,
                "end": 31,
                "id": 1240749393921966000,
                "label": "NEXT",
                "properties": {
                  "label": "NEXT"
                },
                "start": 51,
                "thickness_factor": 1
              },
              {
                "color": "#9C27B0",
                "directed": true,
                "end": 31,
                "id": 1249756593176707000,
                "label": "NEXT",
                "properties": {
                  "label": "NEXT"
                },
                "start": 51,
                "thickness_factor": 1
              },
              {
                "color": "#9C27B0",
                "directed": true,
                "end": 31,
                "id": 1258763792431448000,
                "label": "NEXT",
                "properties": {
                  "label": "NEXT"
                },
                "start": 51,
                "thickness_factor": 1
              },
              {
                "color": "#9C27B0",
                "directed": true,
                "end": 31,
                "id": 1270022791499874300,
                "label": "NEXT",
                "properties": {
                  "label": "NEXT"
                },
                "start": 51,
                "thickness_factor": 1
              },
              {
                "color": "#9C27B0",
                "directed": true,
                "end": 31,
                "id": 1279029990754615300,
                "label": "NEXT",
                "properties": {
                  "label": "NEXT"
                },
                "start": 51,
                "thickness_factor": 1
              },
              {
                "color": "#9C27B0",
                "directed": true,
                "end": 31,
                "id": 1288037190009356300,
                "label": "NEXT",
                "properties": {
                  "label": "NEXT"
                },
                "start": 51,
                "thickness_factor": 1
              },
              {
                "color": "#9C27B0",
                "directed": true,
                "end": 31,
                "id": 1297044389264097300,
                "label": "NEXT",
                "properties": {
                  "label": "NEXT"
                },
                "start": 51,
                "thickness_factor": 1
              },
              {
                "color": "#9C27B0",
                "directed": true,
                "end": 31,
                "id": 1306051588518838300,
                "label": "NEXT",
                "properties": {
                  "label": "NEXT"
                },
                "start": 51,
                "thickness_factor": 1
              },
              {
                "color": "#9C27B0",
                "directed": true,
                "end": 31,
                "id": 1315058787773579300,
                "label": "NEXT",
                "properties": {
                  "label": "NEXT"
                },
                "start": 51,
                "thickness_factor": 1
              },
              {
                "color": "#9C27B0",
                "directed": true,
                "end": 31,
                "id": 1324065987028320300,
                "label": "NEXT",
                "properties": {
                  "label": "NEXT"
                },
                "start": 51,
                "thickness_factor": 1
              },
              {
                "color": "#9C27B0",
                "directed": true,
                "end": 31,
                "id": 1333073186283061200,
                "label": "NEXT",
                "properties": {
                  "label": "NEXT"
                },
                "start": 51,
                "thickness_factor": 1
              },
              {
                "color": "#9C27B0",
                "directed": true,
                "end": 31,
                "id": 1344332185351487500,
                "label": "NEXT",
                "properties": {
                  "label": "NEXT"
                },
                "start": 51,
                "thickness_factor": 1
              },
              {
                "color": "#9C27B0",
                "directed": true,
                "end": 31,
                "id": 1353339384606228500,
                "label": "NEXT",
                "properties": {
                  "label": "NEXT"
                },
                "start": 51,
                "thickness_factor": 1
              },
              {
                "color": "#9C27B0",
                "directed": true,
                "end": 31,
                "id": 1362346583860969500,
                "label": "NEXT",
                "properties": {
                  "label": "NEXT"
                },
                "start": 51,
                "thickness_factor": 1
              },
              {
                "color": "#9C27B0",
                "directed": true,
                "end": 31,
                "id": 1371353783115710500,
                "label": "NEXT",
                "properties": {
                  "label": "NEXT"
                },
                "start": 51,
                "thickness_factor": 1
              },
              {
                "color": "#9C27B0",
                "directed": true,
                "end": 31,
                "id": 1382612782184136700,
                "label": "NEXT",
                "properties": {
                  "label": "NEXT"
                },
                "start": 51,
                "thickness_factor": 1
              },
              {
                "color": "#9C27B0",
                "directed": true,
                "end": 31,
                "id": 1391619981438877700,
                "label": "NEXT",
                "properties": {
                  "label": "NEXT"
                },
                "start": 51,
                "thickness_factor": 1
              },
              {
                "color": "#9C27B0",
                "directed": true,
                "end": 31,
                "id": 1400627180693618700,
                "label": "NEXT",
                "properties": {
                  "label": "NEXT"
                },
                "start": 51,
                "thickness_factor": 1
              },
              {
                "color": "#9C27B0",
                "directed": true,
                "end": 31,
                "id": 1409634379948359700,
                "label": "NEXT",
                "properties": {
                  "label": "NEXT"
                },
                "start": 51,
                "thickness_factor": 1
              },
              {
                "color": "#9C27B0",
                "directed": true,
                "end": 31,
                "id": 1420893379016786000,
                "label": "NEXT",
                "properties": {
                  "label": "NEXT"
                },
                "start": 51,
                "thickness_factor": 1
              },
              {
                "color": "#9C27B0",
                "directed": true,
                "end": 31,
                "id": 1429900578271527000,
                "label": "NEXT",
                "properties": {
                  "label": "NEXT"
                },
                "start": 51,
                "thickness_factor": 1
              },
              {
                "color": "#9C27B0",
                "directed": true,
                "end": 31,
                "id": 1438907777526268000,
                "label": "NEXT",
                "properties": {
                  "label": "NEXT"
                },
                "start": 51,
                "thickness_factor": 1
              },
              {
                "color": "#9C27B0",
                "directed": true,
                "end": 31,
                "id": 1447914976781009000,
                "label": "NEXT",
                "properties": {
                  "label": "NEXT"
                },
                "start": 51,
                "thickness_factor": 1
              },
              {
                "color": "#9C27B0",
                "directed": true,
                "end": 31,
                "id": 1456922176035750000,
                "label": "NEXT",
                "properties": {
                  "label": "NEXT"
                },
                "start": 51,
                "thickness_factor": 1
              },
              {
                "color": "#9C27B0",
                "directed": true,
                "end": 31,
                "id": 1465929375290491000,
                "label": "NEXT",
                "properties": {
                  "label": "NEXT"
                },
                "start": 51,
                "thickness_factor": 1
              },
              {
                "color": "#9C27B0",
                "directed": true,
                "end": 31,
                "id": 1474936574545232000,
                "label": "NEXT",
                "properties": {
                  "label": "NEXT"
                },
                "start": 51,
                "thickness_factor": 1
              },
              {
                "color": "#9C27B0",
                "directed": true,
                "end": 31,
                "id": 1483943773799972900,
                "label": "NEXT",
                "properties": {
                  "label": "NEXT"
                },
                "start": 51,
                "thickness_factor": 1
              },
              {
                "color": "#9C27B0",
                "directed": true,
                "end": 31,
                "id": 1495202772868399000,
                "label": "NEXT",
                "properties": {
                  "label": "NEXT"
                },
                "start": 51,
                "thickness_factor": 1
              },
              {
                "color": "#9C27B0",
                "directed": true,
                "end": 31,
                "id": 1504209972123140000,
                "label": "NEXT",
                "properties": {
                  "label": "NEXT"
                },
                "start": 51,
                "thickness_factor": 1
              },
              {
                "color": "#9C27B0",
                "directed": true,
                "end": 31,
                "id": 1513217171377881000,
                "label": "NEXT",
                "properties": {
                  "label": "NEXT"
                },
                "start": 51,
                "thickness_factor": 1
              },
              {
                "color": "#9C27B0",
                "directed": true,
                "end": 31,
                "id": 1522224370632622000,
                "label": "NEXT",
                "properties": {
                  "label": "NEXT"
                },
                "start": 51,
                "thickness_factor": 1
              },
              {
                "color": "#9C27B0",
                "directed": true,
                "end": 31,
                "id": 1533483369701048300,
                "label": "NEXT",
                "properties": {
                  "label": "NEXT"
                },
                "start": 51,
                "thickness_factor": 1
              },
              {
                "color": "#9C27B0",
                "directed": true,
                "end": 31,
                "id": 1542490568955789300,
                "label": "NEXT",
                "properties": {
                  "label": "NEXT"
                },
                "start": 51,
                "thickness_factor": 1
              },
              {
                "color": "#9C27B0",
                "directed": true,
                "end": 31,
                "id": 1551497768210530300,
                "label": "NEXT",
                "properties": {
                  "label": "NEXT"
                },
                "start": 51,
                "thickness_factor": 1
              },
              {
                "color": "#9C27B0",
                "directed": true,
                "end": 31,
                "id": 1558253167651586000,
                "label": "NEXT",
                "properties": {
                  "label": "NEXT"
                },
                "start": 51,
                "thickness_factor": 1
              },
              {
                "color": "#9C27B0",
                "directed": true,
                "end": 31,
                "id": 1567260366906327000,
                "label": "NEXT",
                "properties": {
                  "label": "NEXT"
                },
                "start": 51,
                "thickness_factor": 1
              },
              {
                "color": "#9C27B0",
                "directed": true,
                "end": 31,
                "id": 1576267566161068000,
                "label": "NEXT",
                "properties": {
                  "label": "NEXT"
                },
                "start": 51,
                "thickness_factor": 1
              },
              {
                "color": "#9C27B0",
                "directed": true,
                "end": 31,
                "id": 1585274765415809000,
                "label": "NEXT",
                "properties": {
                  "label": "NEXT"
                },
                "start": 51,
                "thickness_factor": 1
              },
              {
                "color": "#9C27B0",
                "directed": true,
                "end": 31,
                "id": 1594281964670550000,
                "label": "NEXT",
                "properties": {
                  "label": "NEXT"
                },
                "start": 51,
                "thickness_factor": 1
              },
              {
                "color": "#9C27B0",
                "directed": true,
                "end": 31,
                "id": 1603289163925291000,
                "label": "NEXT",
                "properties": {
                  "label": "NEXT"
                },
                "start": 51,
                "thickness_factor": 1
              },
              {
                "color": "#9C27B0",
                "directed": true,
                "end": 31,
                "id": 1612296363180032000,
                "label": "NEXT",
                "properties": {
                  "label": "NEXT"
                },
                "start": 51,
                "thickness_factor": 1
              },
              {
                "color": "#9C27B0",
                "directed": true,
                "end": 31,
                "id": 1621303562434773000,
                "label": "NEXT",
                "properties": {
                  "label": "NEXT"
                },
                "start": 51,
                "thickness_factor": 1
              },
              {
                "color": "#9C27B0",
                "directed": true,
                "end": 31,
                "id": 1630310761689514000,
                "label": "NEXT",
                "properties": {
                  "label": "NEXT"
                },
                "start": 51,
                "thickness_factor": 1
              },
              {
                "color": "#9C27B0",
                "directed": true,
                "end": 31,
                "id": 1641569760757940200,
                "label": "NEXT",
                "properties": {
                  "label": "NEXT"
                },
                "start": 51,
                "thickness_factor": 1
              },
              {
                "color": "#9C27B0",
                "directed": true,
                "end": 31,
                "id": 1650576960012681200,
                "label": "NEXT",
                "properties": {
                  "label": "NEXT"
                },
                "start": 51,
                "thickness_factor": 1
              },
              {
                "color": "#9C27B0",
                "directed": true,
                "end": 31,
                "id": 1659584159267422200,
                "label": "NEXT",
                "properties": {
                  "label": "NEXT"
                },
                "start": 51,
                "thickness_factor": 1
              },
              {
                "color": "#9C27B0",
                "directed": true,
                "end": 31,
                "id": 1668591358522163200,
                "label": "NEXT",
                "properties": {
                  "label": "NEXT"
                },
                "start": 51,
                "thickness_factor": 1
              },
              {
                "color": "#9C27B0",
                "directed": true,
                "end": 31,
                "id": 1679850357590589400,
                "label": "NEXT",
                "properties": {
                  "label": "NEXT"
                },
                "start": 51,
                "thickness_factor": 1
              },
              {
                "color": "#9C27B0",
                "directed": true,
                "end": 31,
                "id": 1688857556845330400,
                "label": "NEXT",
                "properties": {
                  "label": "NEXT"
                },
                "start": 51,
                "thickness_factor": 1
              },
              {
                "color": "#9C27B0",
                "directed": true,
                "end": 31,
                "id": 1697864756100071400,
                "label": "NEXT",
                "properties": {
                  "label": "NEXT"
                },
                "start": 51,
                "thickness_factor": 1
              },
              {
                "color": "#9C27B0",
                "directed": true,
                "end": 31,
                "id": 1706871955354812400,
                "label": "NEXT",
                "properties": {
                  "label": "NEXT"
                },
                "start": 51,
                "thickness_factor": 1
              },
              {
                "color": "#9C27B0",
                "directed": true,
                "end": 31,
                "id": 1715879154609553400,
                "label": "NEXT",
                "properties": {
                  "label": "NEXT"
                },
                "start": 51,
                "thickness_factor": 1
              },
              {
                "color": "#9C27B0",
                "directed": true,
                "end": 31,
                "id": 1724886353864294400,
                "label": "NEXT",
                "properties": {
                  "label": "NEXT"
                },
                "start": 51,
                "thickness_factor": 1
              },
              {
                "color": "#9C27B0",
                "directed": true,
                "end": 31,
                "id": 1733893553119035400,
                "label": "NEXT",
                "properties": {
                  "label": "NEXT"
                },
                "start": 51,
                "thickness_factor": 1
              },
              {
                "color": "#9C27B0",
                "directed": true,
                "end": 31,
                "id": 1742900752373776400,
                "label": "NEXT",
                "properties": {
                  "label": "NEXT"
                },
                "start": 51,
                "thickness_factor": 1
              },
              {
                "color": "#9C27B0",
                "directed": true,
                "end": 38,
                "id": 1157432800815612000,
                "label": "NEXT",
                "properties": {
                  "label": "NEXT"
                },
                "start": 51,
                "thickness_factor": 1
              },
              {
                "color": "#9C27B0",
                "directed": true,
                "end": 38,
                "id": 1166440000070353000,
                "label": "NEXT",
                "properties": {
                  "label": "NEXT"
                },
                "start": 51,
                "thickness_factor": 1
              },
              {
                "color": "#9C27B0",
                "directed": true,
                "end": 38,
                "id": 1175447199325094000,
                "label": "NEXT",
                "properties": {
                  "label": "NEXT"
                },
                "start": 51,
                "thickness_factor": 1
              },
              {
                "color": "#9C27B0",
                "directed": true,
                "end": 38,
                "id": 1184454398579835000,
                "label": "NEXT",
                "properties": {
                  "label": "NEXT"
                },
                "start": 51,
                "thickness_factor": 1
              },
              {
                "color": "#9C27B0",
                "directed": true,
                "end": 38,
                "id": 1195713397648261000,
                "label": "NEXT",
                "properties": {
                  "label": "NEXT"
                },
                "start": 51,
                "thickness_factor": 1
              },
              {
                "color": "#9C27B0",
                "directed": true,
                "end": 38,
                "id": 1204720596903002000,
                "label": "NEXT",
                "properties": {
                  "label": "NEXT"
                },
                "start": 51,
                "thickness_factor": 1
              },
              {
                "color": "#9C27B0",
                "directed": true,
                "end": 38,
                "id": 1213727796157743000,
                "label": "NEXT",
                "properties": {
                  "label": "NEXT"
                },
                "start": 51,
                "thickness_factor": 1
              },
              {
                "color": "#9C27B0",
                "directed": true,
                "end": 38,
                "id": 1222734995412484000,
                "label": "NEXT",
                "properties": {
                  "label": "NEXT"
                },
                "start": 51,
                "thickness_factor": 1
              },
              {
                "color": "#9C27B0",
                "directed": true,
                "end": 38,
                "id": 1233993994480910300,
                "label": "NEXT",
                "properties": {
                  "label": "NEXT"
                },
                "start": 51,
                "thickness_factor": 1
              },
              {
                "color": "#9C27B0",
                "directed": true,
                "end": 38,
                "id": 1243001193735651300,
                "label": "NEXT",
                "properties": {
                  "label": "NEXT"
                },
                "start": 51,
                "thickness_factor": 1
              },
              {
                "color": "#9C27B0",
                "directed": true,
                "end": 38,
                "id": 1252008392990392300,
                "label": "NEXT",
                "properties": {
                  "label": "NEXT"
                },
                "start": 51,
                "thickness_factor": 1
              },
              {
                "color": "#9C27B0",
                "directed": true,
                "end": 38,
                "id": 1261015592245133300,
                "label": "NEXT",
                "properties": {
                  "label": "NEXT"
                },
                "start": 51,
                "thickness_factor": 1
              },
              {
                "color": "#9C27B0",
                "directed": true,
                "end": 38,
                "id": 1272274591313559600,
                "label": "NEXT",
                "properties": {
                  "label": "NEXT"
                },
                "start": 51,
                "thickness_factor": 1
              },
              {
                "color": "#9C27B0",
                "directed": true,
                "end": 38,
                "id": 1281281790568300500,
                "label": "NEXT",
                "properties": {
                  "label": "NEXT"
                },
                "start": 51,
                "thickness_factor": 1
              },
              {
                "color": "#9C27B0",
                "directed": true,
                "end": 38,
                "id": 1290288989823041500,
                "label": "NEXT",
                "properties": {
                  "label": "NEXT"
                },
                "start": 51,
                "thickness_factor": 1
              },
              {
                "color": "#9C27B0",
                "directed": true,
                "end": 38,
                "id": 1299296189077782500,
                "label": "NEXT",
                "properties": {
                  "label": "NEXT"
                },
                "start": 51,
                "thickness_factor": 1
              },
              {
                "color": "#9C27B0",
                "directed": true,
                "end": 38,
                "id": 1308303388332523500,
                "label": "NEXT",
                "properties": {
                  "label": "NEXT"
                },
                "start": 51,
                "thickness_factor": 1
              },
              {
                "color": "#9C27B0",
                "directed": true,
                "end": 38,
                "id": 1317310587587264500,
                "label": "NEXT",
                "properties": {
                  "label": "NEXT"
                },
                "start": 51,
                "thickness_factor": 1
              },
              {
                "color": "#9C27B0",
                "directed": true,
                "end": 38,
                "id": 1326317786842005500,
                "label": "NEXT",
                "properties": {
                  "label": "NEXT"
                },
                "start": 51,
                "thickness_factor": 1
              },
              {
                "color": "#9C27B0",
                "directed": true,
                "end": 38,
                "id": 1335324986096746500,
                "label": "NEXT",
                "properties": {
                  "label": "NEXT"
                },
                "start": 51,
                "thickness_factor": 1
              },
              {
                "color": "#9C27B0",
                "directed": true,
                "end": 38,
                "id": 1346583985165172700,
                "label": "NEXT",
                "properties": {
                  "label": "NEXT"
                },
                "start": 51,
                "thickness_factor": 1
              },
              {
                "color": "#9C27B0",
                "directed": true,
                "end": 38,
                "id": 1355591184419913700,
                "label": "NEXT",
                "properties": {
                  "label": "NEXT"
                },
                "start": 51,
                "thickness_factor": 1
              },
              {
                "color": "#9C27B0",
                "directed": true,
                "end": 38,
                "id": 1364598383674654700,
                "label": "NEXT",
                "properties": {
                  "label": "NEXT"
                },
                "start": 51,
                "thickness_factor": 1
              },
              {
                "color": "#9C27B0",
                "directed": true,
                "end": 38,
                "id": 1373605582929395700,
                "label": "NEXT",
                "properties": {
                  "label": "NEXT"
                },
                "start": 51,
                "thickness_factor": 1
              },
              {
                "color": "#9C27B0",
                "directed": true,
                "end": 38,
                "id": 1384864581997822000,
                "label": "NEXT",
                "properties": {
                  "label": "NEXT"
                },
                "start": 51,
                "thickness_factor": 1
              },
              {
                "color": "#9C27B0",
                "directed": true,
                "end": 38,
                "id": 1393871781252563000,
                "label": "NEXT",
                "properties": {
                  "label": "NEXT"
                },
                "start": 51,
                "thickness_factor": 1
              },
              {
                "color": "#9C27B0",
                "directed": true,
                "end": 38,
                "id": 1402878980507304000,
                "label": "NEXT",
                "properties": {
                  "label": "NEXT"
                },
                "start": 51,
                "thickness_factor": 1
              },
              {
                "color": "#9C27B0",
                "directed": true,
                "end": 38,
                "id": 1411886179762045000,
                "label": "NEXT",
                "properties": {
                  "label": "NEXT"
                },
                "start": 51,
                "thickness_factor": 1
              },
              {
                "color": "#9C27B0",
                "directed": true,
                "end": 38,
                "id": 1423145178830471200,
                "label": "NEXT",
                "properties": {
                  "label": "NEXT"
                },
                "start": 51,
                "thickness_factor": 1
              },
              {
                "color": "#9C27B0",
                "directed": true,
                "end": 38,
                "id": 1432152378085212200,
                "label": "NEXT",
                "properties": {
                  "label": "NEXT"
                },
                "start": 51,
                "thickness_factor": 1
              },
              {
                "color": "#9C27B0",
                "directed": true,
                "end": 38,
                "id": 1441159577339953200,
                "label": "NEXT",
                "properties": {
                  "label": "NEXT"
                },
                "start": 51,
                "thickness_factor": 1
              },
              {
                "color": "#9C27B0",
                "directed": true,
                "end": 38,
                "id": 1450166776594694100,
                "label": "NEXT",
                "properties": {
                  "label": "NEXT"
                },
                "start": 51,
                "thickness_factor": 1
              },
              {
                "color": "#9C27B0",
                "directed": true,
                "end": 38,
                "id": 1459173975849435100,
                "label": "NEXT",
                "properties": {
                  "label": "NEXT"
                },
                "start": 51,
                "thickness_factor": 1
              },
              {
                "color": "#9C27B0",
                "directed": true,
                "end": 38,
                "id": 1468181175104176000,
                "label": "NEXT",
                "properties": {
                  "label": "NEXT"
                },
                "start": 51,
                "thickness_factor": 1
              },
              {
                "color": "#9C27B0",
                "directed": true,
                "end": 38,
                "id": 1477188374358917000,
                "label": "NEXT",
                "properties": {
                  "label": "NEXT"
                },
                "start": 51,
                "thickness_factor": 1
              },
              {
                "color": "#9C27B0",
                "directed": true,
                "end": 38,
                "id": 1486195573613658000,
                "label": "NEXT",
                "properties": {
                  "label": "NEXT"
                },
                "start": 51,
                "thickness_factor": 1
              },
              {
                "color": "#9C27B0",
                "directed": true,
                "end": 38,
                "id": 1497454572682084400,
                "label": "NEXT",
                "properties": {
                  "label": "NEXT"
                },
                "start": 51,
                "thickness_factor": 1
              },
              {
                "color": "#9C27B0",
                "directed": true,
                "end": 38,
                "id": 1506461771936825300,
                "label": "NEXT",
                "properties": {
                  "label": "NEXT"
                },
                "start": 51,
                "thickness_factor": 1
              },
              {
                "color": "#9C27B0",
                "directed": true,
                "end": 38,
                "id": 1515468971191566300,
                "label": "NEXT",
                "properties": {
                  "label": "NEXT"
                },
                "start": 51,
                "thickness_factor": 1
              },
              {
                "color": "#9C27B0",
                "directed": true,
                "end": 38,
                "id": 1524476170446307300,
                "label": "NEXT",
                "properties": {
                  "label": "NEXT"
                },
                "start": 51,
                "thickness_factor": 1
              },
              {
                "color": "#9C27B0",
                "directed": true,
                "end": 38,
                "id": 1535735169514733600,
                "label": "NEXT",
                "properties": {
                  "label": "NEXT"
                },
                "start": 51,
                "thickness_factor": 1
              },
              {
                "color": "#9C27B0",
                "directed": true,
                "end": 38,
                "id": 1544742368769474600,
                "label": "NEXT",
                "properties": {
                  "label": "NEXT"
                },
                "start": 51,
                "thickness_factor": 1
              },
              {
                "color": "#9C27B0",
                "directed": true,
                "end": 38,
                "id": 1553749568024215600,
                "label": "NEXT",
                "properties": {
                  "label": "NEXT"
                },
                "start": 51,
                "thickness_factor": 1
              },
              {
                "color": "#9C27B0",
                "directed": true,
                "end": 38,
                "id": 1560504967465271300,
                "label": "NEXT",
                "properties": {
                  "label": "NEXT"
                },
                "start": 51,
                "thickness_factor": 1
              },
              {
                "color": "#9C27B0",
                "directed": true,
                "end": 38,
                "id": 1569512166720012300,
                "label": "NEXT",
                "properties": {
                  "label": "NEXT"
                },
                "start": 51,
                "thickness_factor": 1
              },
              {
                "color": "#9C27B0",
                "directed": true,
                "end": 38,
                "id": 1578519365974753300,
                "label": "NEXT",
                "properties": {
                  "label": "NEXT"
                },
                "start": 51,
                "thickness_factor": 1
              },
              {
                "color": "#9C27B0",
                "directed": true,
                "end": 38,
                "id": 1587526565229494300,
                "label": "NEXT",
                "properties": {
                  "label": "NEXT"
                },
                "start": 51,
                "thickness_factor": 1
              },
              {
                "color": "#9C27B0",
                "directed": true,
                "end": 38,
                "id": 1596533764484235300,
                "label": "NEXT",
                "properties": {
                  "label": "NEXT"
                },
                "start": 51,
                "thickness_factor": 1
              },
              {
                "color": "#9C27B0",
                "directed": true,
                "end": 38,
                "id": 1605540963738976300,
                "label": "NEXT",
                "properties": {
                  "label": "NEXT"
                },
                "start": 51,
                "thickness_factor": 1
              },
              {
                "color": "#9C27B0",
                "directed": true,
                "end": 38,
                "id": 1614548162993717200,
                "label": "NEXT",
                "properties": {
                  "label": "NEXT"
                },
                "start": 51,
                "thickness_factor": 1
              },
              {
                "color": "#9C27B0",
                "directed": true,
                "end": 38,
                "id": 1623555362248458200,
                "label": "NEXT",
                "properties": {
                  "label": "NEXT"
                },
                "start": 51,
                "thickness_factor": 1
              },
              {
                "color": "#9C27B0",
                "directed": true,
                "end": 38,
                "id": 1632562561503199200,
                "label": "NEXT",
                "properties": {
                  "label": "NEXT"
                },
                "start": 51,
                "thickness_factor": 1
              },
              {
                "color": "#9C27B0",
                "directed": true,
                "end": 38,
                "id": 1643821560571625500,
                "label": "NEXT",
                "properties": {
                  "label": "NEXT"
                },
                "start": 51,
                "thickness_factor": 1
              },
              {
                "color": "#9C27B0",
                "directed": true,
                "end": 38,
                "id": 1652828759826366500,
                "label": "NEXT",
                "properties": {
                  "label": "NEXT"
                },
                "start": 51,
                "thickness_factor": 1
              },
              {
                "color": "#9C27B0",
                "directed": true,
                "end": 38,
                "id": 1661835959081107500,
                "label": "NEXT",
                "properties": {
                  "label": "NEXT"
                },
                "start": 51,
                "thickness_factor": 1
              },
              {
                "color": "#9C27B0",
                "directed": true,
                "end": 38,
                "id": 1670843158335848400,
                "label": "NEXT",
                "properties": {
                  "label": "NEXT"
                },
                "start": 51,
                "thickness_factor": 1
              },
              {
                "color": "#9C27B0",
                "directed": true,
                "end": 38,
                "id": 1682102157404274700,
                "label": "NEXT",
                "properties": {
                  "label": "NEXT"
                },
                "start": 51,
                "thickness_factor": 1
              },
              {
                "color": "#9C27B0",
                "directed": true,
                "end": 38,
                "id": 1691109356659015700,
                "label": "NEXT",
                "properties": {
                  "label": "NEXT"
                },
                "start": 51,
                "thickness_factor": 1
              },
              {
                "color": "#9C27B0",
                "directed": true,
                "end": 38,
                "id": 1700116555913756700,
                "label": "NEXT",
                "properties": {
                  "label": "NEXT"
                },
                "start": 51,
                "thickness_factor": 1
              },
              {
                "color": "#9C27B0",
                "directed": true,
                "end": 38,
                "id": 1709123755168497700,
                "label": "NEXT",
                "properties": {
                  "label": "NEXT"
                },
                "start": 51,
                "thickness_factor": 1
              },
              {
                "color": "#9C27B0",
                "directed": true,
                "end": 38,
                "id": 1718130954423238700,
                "label": "NEXT",
                "properties": {
                  "label": "NEXT"
                },
                "start": 51,
                "thickness_factor": 1
              },
              {
                "color": "#9C27B0",
                "directed": true,
                "end": 38,
                "id": 1727138153677979600,
                "label": "NEXT",
                "properties": {
                  "label": "NEXT"
                },
                "start": 51,
                "thickness_factor": 1
              },
              {
                "color": "#9C27B0",
                "directed": true,
                "end": 38,
                "id": 1736145352932720600,
                "label": "NEXT",
                "properties": {
                  "label": "NEXT"
                },
                "start": 51,
                "thickness_factor": 1
              },
              {
                "color": "#9C27B0",
                "directed": true,
                "end": 38,
                "id": 1745152552187461600,
                "label": "NEXT",
                "properties": {
                  "label": "NEXT"
                },
                "start": 51,
                "thickness_factor": 1
              },
              {
                "color": "#9C27B0",
                "directed": true,
                "end": 45,
                "id": 1159684600629297200,
                "label": "NEXT",
                "properties": {
                  "label": "NEXT"
                },
                "start": 51,
                "thickness_factor": 1
              },
              {
                "color": "#9C27B0",
                "directed": true,
                "end": 45,
                "id": 1168691799884038100,
                "label": "NEXT",
                "properties": {
                  "label": "NEXT"
                },
                "start": 51,
                "thickness_factor": 1
              },
              {
                "color": "#9C27B0",
                "directed": true,
                "end": 45,
                "id": 1177698999138779100,
                "label": "NEXT",
                "properties": {
                  "label": "NEXT"
                },
                "start": 51,
                "thickness_factor": 1
              },
              {
                "color": "#9C27B0",
                "directed": true,
                "end": 45,
                "id": 1186706198393520000,
                "label": "NEXT",
                "properties": {
                  "label": "NEXT"
                },
                "start": 51,
                "thickness_factor": 1
              },
              {
                "color": "#9C27B0",
                "directed": true,
                "end": 45,
                "id": 1197965197461946400,
                "label": "NEXT",
                "properties": {
                  "label": "NEXT"
                },
                "start": 51,
                "thickness_factor": 1
              },
              {
                "color": "#9C27B0",
                "directed": true,
                "end": 45,
                "id": 1206972396716687400,
                "label": "NEXT",
                "properties": {
                  "label": "NEXT"
                },
                "start": 51,
                "thickness_factor": 1
              },
              {
                "color": "#9C27B0",
                "directed": true,
                "end": 45,
                "id": 1215979595971428400,
                "label": "NEXT",
                "properties": {
                  "label": "NEXT"
                },
                "start": 51,
                "thickness_factor": 1
              },
              {
                "color": "#9C27B0",
                "directed": true,
                "end": 45,
                "id": 1224986795226169300,
                "label": "NEXT",
                "properties": {
                  "label": "NEXT"
                },
                "start": 51,
                "thickness_factor": 1
              },
              {
                "color": "#9C27B0",
                "directed": true,
                "end": 45,
                "id": 1236245794294595600,
                "label": "NEXT",
                "properties": {
                  "label": "NEXT"
                },
                "start": 51,
                "thickness_factor": 1
              },
              {
                "color": "#9C27B0",
                "directed": true,
                "end": 45,
                "id": 1245252993549336600,
                "label": "NEXT",
                "properties": {
                  "label": "NEXT"
                },
                "start": 51,
                "thickness_factor": 1
              },
              {
                "color": "#9C27B0",
                "directed": true,
                "end": 45,
                "id": 1254260192804077600,
                "label": "NEXT",
                "properties": {
                  "label": "NEXT"
                },
                "start": 51,
                "thickness_factor": 1
              },
              {
                "color": "#9C27B0",
                "directed": true,
                "end": 45,
                "id": 1263267392058818600,
                "label": "NEXT",
                "properties": {
                  "label": "NEXT"
                },
                "start": 51,
                "thickness_factor": 1
              },
              {
                "color": "#9C27B0",
                "directed": true,
                "end": 45,
                "id": 1274526391127244800,
                "label": "NEXT",
                "properties": {
                  "label": "NEXT"
                },
                "start": 51,
                "thickness_factor": 1
              },
              {
                "color": "#9C27B0",
                "directed": true,
                "end": 45,
                "id": 1283533590381985800,
                "label": "NEXT",
                "properties": {
                  "label": "NEXT"
                },
                "start": 51,
                "thickness_factor": 1
              },
              {
                "color": "#9C27B0",
                "directed": true,
                "end": 45,
                "id": 1292540789636726800,
                "label": "NEXT",
                "properties": {
                  "label": "NEXT"
                },
                "start": 51,
                "thickness_factor": 1
              },
              {
                "color": "#9C27B0",
                "directed": true,
                "end": 45,
                "id": 1301547988891467800,
                "label": "NEXT",
                "properties": {
                  "label": "NEXT"
                },
                "start": 51,
                "thickness_factor": 1
              },
              {
                "color": "#9C27B0",
                "directed": true,
                "end": 45,
                "id": 1310555188146208800,
                "label": "NEXT",
                "properties": {
                  "label": "NEXT"
                },
                "start": 51,
                "thickness_factor": 1
              },
              {
                "color": "#9C27B0",
                "directed": true,
                "end": 45,
                "id": 1319562387400949800,
                "label": "NEXT",
                "properties": {
                  "label": "NEXT"
                },
                "start": 51,
                "thickness_factor": 1
              },
              {
                "color": "#9C27B0",
                "directed": true,
                "end": 45,
                "id": 1328569586655690800,
                "label": "NEXT",
                "properties": {
                  "label": "NEXT"
                },
                "start": 51,
                "thickness_factor": 1
              },
              {
                "color": "#9C27B0",
                "directed": true,
                "end": 45,
                "id": 1337576785910431700,
                "label": "NEXT",
                "properties": {
                  "label": "NEXT"
                },
                "start": 51,
                "thickness_factor": 1
              },
              {
                "color": "#9C27B0",
                "directed": true,
                "end": 45,
                "id": 1348835784978858000,
                "label": "NEXT",
                "properties": {
                  "label": "NEXT"
                },
                "start": 51,
                "thickness_factor": 1
              },
              {
                "color": "#9C27B0",
                "directed": true,
                "end": 45,
                "id": 1357842984233599000,
                "label": "NEXT",
                "properties": {
                  "label": "NEXT"
                },
                "start": 51,
                "thickness_factor": 1
              },
              {
                "color": "#9C27B0",
                "directed": true,
                "end": 45,
                "id": 1366850183488340000,
                "label": "NEXT",
                "properties": {
                  "label": "NEXT"
                },
                "start": 51,
                "thickness_factor": 1
              },
              {
                "color": "#9C27B0",
                "directed": true,
                "end": 45,
                "id": 1375857382743081000,
                "label": "NEXT",
                "properties": {
                  "label": "NEXT"
                },
                "start": 51,
                "thickness_factor": 1
              },
              {
                "color": "#9C27B0",
                "directed": true,
                "end": 45,
                "id": 1387116381811507200,
                "label": "NEXT",
                "properties": {
                  "label": "NEXT"
                },
                "start": 51,
                "thickness_factor": 1
              },
              {
                "color": "#9C27B0",
                "directed": true,
                "end": 45,
                "id": 1396123581066248200,
                "label": "NEXT",
                "properties": {
                  "label": "NEXT"
                },
                "start": 51,
                "thickness_factor": 1
              },
              {
                "color": "#9C27B0",
                "directed": true,
                "end": 45,
                "id": 1405130780320989200,
                "label": "NEXT",
                "properties": {
                  "label": "NEXT"
                },
                "start": 51,
                "thickness_factor": 1
              },
              {
                "color": "#9C27B0",
                "directed": true,
                "end": 45,
                "id": 1414137979575730200,
                "label": "NEXT",
                "properties": {
                  "label": "NEXT"
                },
                "start": 51,
                "thickness_factor": 1
              },
              {
                "color": "#9C27B0",
                "directed": true,
                "end": 45,
                "id": 1425396978644156400,
                "label": "NEXT",
                "properties": {
                  "label": "NEXT"
                },
                "start": 51,
                "thickness_factor": 1
              },
              {
                "color": "#9C27B0",
                "directed": true,
                "end": 45,
                "id": 1434404177898897400,
                "label": "NEXT",
                "properties": {
                  "label": "NEXT"
                },
                "start": 51,
                "thickness_factor": 1
              },
              {
                "color": "#9C27B0",
                "directed": true,
                "end": 45,
                "id": 1443411377153638400,
                "label": "NEXT",
                "properties": {
                  "label": "NEXT"
                },
                "start": 51,
                "thickness_factor": 1
              },
              {
                "color": "#9C27B0",
                "directed": true,
                "end": 45,
                "id": 1452418576408379400,
                "label": "NEXT",
                "properties": {
                  "label": "NEXT"
                },
                "start": 51,
                "thickness_factor": 1
              },
              {
                "color": "#9C27B0",
                "directed": true,
                "end": 45,
                "id": 1461425775663120400,
                "label": "NEXT",
                "properties": {
                  "label": "NEXT"
                },
                "start": 51,
                "thickness_factor": 1
              },
              {
                "color": "#9C27B0",
                "directed": true,
                "end": 45,
                "id": 1470432974917861400,
                "label": "NEXT",
                "properties": {
                  "label": "NEXT"
                },
                "start": 51,
                "thickness_factor": 1
              },
              {
                "color": "#9C27B0",
                "directed": true,
                "end": 45,
                "id": 1479440174172602400,
                "label": "NEXT",
                "properties": {
                  "label": "NEXT"
                },
                "start": 51,
                "thickness_factor": 1
              },
              {
                "color": "#9C27B0",
                "directed": true,
                "end": 45,
                "id": 1488447373427343400,
                "label": "NEXT",
                "properties": {
                  "label": "NEXT"
                },
                "start": 51,
                "thickness_factor": 1
              },
              {
                "color": "#9C27B0",
                "directed": true,
                "end": 45,
                "id": 1499706372495769600,
                "label": "NEXT",
                "properties": {
                  "label": "NEXT"
                },
                "start": 51,
                "thickness_factor": 1
              },
              {
                "color": "#9C27B0",
                "directed": true,
                "end": 45,
                "id": 1508713571750510600,
                "label": "NEXT",
                "properties": {
                  "label": "NEXT"
                },
                "start": 51,
                "thickness_factor": 1
              },
              {
                "color": "#9C27B0",
                "directed": true,
                "end": 45,
                "id": 1517720771005251600,
                "label": "NEXT",
                "properties": {
                  "label": "NEXT"
                },
                "start": 51,
                "thickness_factor": 1
              },
              {
                "color": "#9C27B0",
                "directed": true,
                "end": 45,
                "id": 1526727970259992600,
                "label": "NEXT",
                "properties": {
                  "label": "NEXT"
                },
                "start": 51,
                "thickness_factor": 1
              },
              {
                "color": "#9C27B0",
                "directed": true,
                "end": 45,
                "id": 1537986969328418800,
                "label": "NEXT",
                "properties": {
                  "label": "NEXT"
                },
                "start": 51,
                "thickness_factor": 1
              },
              {
                "color": "#9C27B0",
                "directed": true,
                "end": 45,
                "id": 1546994168583159800,
                "label": "NEXT",
                "properties": {
                  "label": "NEXT"
                },
                "start": 51,
                "thickness_factor": 1
              },
              {
                "color": "#9C27B0",
                "directed": true,
                "end": 45,
                "id": 1556001367837900800,
                "label": "NEXT",
                "properties": {
                  "label": "NEXT"
                },
                "start": 51,
                "thickness_factor": 1
              },
              {
                "color": "#9C27B0",
                "directed": true,
                "end": 45,
                "id": 1562756767278956500,
                "label": "NEXT",
                "properties": {
                  "label": "NEXT"
                },
                "start": 51,
                "thickness_factor": 1
              },
              {
                "color": "#9C27B0",
                "directed": true,
                "end": 45,
                "id": 1571763966533697500,
                "label": "NEXT",
                "properties": {
                  "label": "NEXT"
                },
                "start": 51,
                "thickness_factor": 1
              },
              {
                "color": "#9C27B0",
                "directed": true,
                "end": 45,
                "id": 1580771165788438500,
                "label": "NEXT",
                "properties": {
                  "label": "NEXT"
                },
                "start": 51,
                "thickness_factor": 1
              },
              {
                "color": "#9C27B0",
                "directed": true,
                "end": 45,
                "id": 1589778365043179500,
                "label": "NEXT",
                "properties": {
                  "label": "NEXT"
                },
                "start": 51,
                "thickness_factor": 1
              },
              {
                "color": "#9C27B0",
                "directed": true,
                "end": 45,
                "id": 1598785564297920500,
                "label": "NEXT",
                "properties": {
                  "label": "NEXT"
                },
                "start": 51,
                "thickness_factor": 1
              },
              {
                "color": "#9C27B0",
                "directed": true,
                "end": 45,
                "id": 1607792763552661500,
                "label": "NEXT",
                "properties": {
                  "label": "NEXT"
                },
                "start": 51,
                "thickness_factor": 1
              },
              {
                "color": "#9C27B0",
                "directed": true,
                "end": 45,
                "id": 1616799962807402500,
                "label": "NEXT",
                "properties": {
                  "label": "NEXT"
                },
                "start": 51,
                "thickness_factor": 1
              },
              {
                "color": "#9C27B0",
                "directed": true,
                "end": 45,
                "id": 1625807162062143500,
                "label": "NEXT",
                "properties": {
                  "label": "NEXT"
                },
                "start": 51,
                "thickness_factor": 1
              },
              {
                "color": "#9C27B0",
                "directed": true,
                "end": 45,
                "id": 1634814361316884500,
                "label": "NEXT",
                "properties": {
                  "label": "NEXT"
                },
                "start": 51,
                "thickness_factor": 1
              },
              {
                "color": "#9C27B0",
                "directed": true,
                "end": 45,
                "id": 1646073360385310700,
                "label": "NEXT",
                "properties": {
                  "label": "NEXT"
                },
                "start": 51,
                "thickness_factor": 1
              },
              {
                "color": "#9C27B0",
                "directed": true,
                "end": 45,
                "id": 1655080559640051700,
                "label": "NEXT",
                "properties": {
                  "label": "NEXT"
                },
                "start": 51,
                "thickness_factor": 1
              },
              {
                "color": "#9C27B0",
                "directed": true,
                "end": 45,
                "id": 1664087758894792700,
                "label": "NEXT",
                "properties": {
                  "label": "NEXT"
                },
                "start": 51,
                "thickness_factor": 1
              },
              {
                "color": "#9C27B0",
                "directed": true,
                "end": 45,
                "id": 1673094958149533700,
                "label": "NEXT",
                "properties": {
                  "label": "NEXT"
                },
                "start": 51,
                "thickness_factor": 1
              },
              {
                "color": "#9C27B0",
                "directed": true,
                "end": 45,
                "id": 1684353957217960000,
                "label": "NEXT",
                "properties": {
                  "label": "NEXT"
                },
                "start": 51,
                "thickness_factor": 1
              },
              {
                "color": "#9C27B0",
                "directed": true,
                "end": 45,
                "id": 1693361156472701000,
                "label": "NEXT",
                "properties": {
                  "label": "NEXT"
                },
                "start": 51,
                "thickness_factor": 1
              },
              {
                "color": "#9C27B0",
                "directed": true,
                "end": 45,
                "id": 1702368355727442000,
                "label": "NEXT",
                "properties": {
                  "label": "NEXT"
                },
                "start": 51,
                "thickness_factor": 1
              },
              {
                "color": "#9C27B0",
                "directed": true,
                "end": 45,
                "id": 1711375554982183000,
                "label": "NEXT",
                "properties": {
                  "label": "NEXT"
                },
                "start": 51,
                "thickness_factor": 1
              },
              {
                "color": "#9C27B0",
                "directed": true,
                "end": 45,
                "id": 1720382754236924000,
                "label": "NEXT",
                "properties": {
                  "label": "NEXT"
                },
                "start": 51,
                "thickness_factor": 1
              },
              {
                "color": "#9C27B0",
                "directed": true,
                "end": 45,
                "id": 1729389953491665000,
                "label": "NEXT",
                "properties": {
                  "label": "NEXT"
                },
                "start": 51,
                "thickness_factor": 1
              },
              {
                "color": "#9C27B0",
                "directed": true,
                "end": 45,
                "id": 1738397152746406000,
                "label": "NEXT",
                "properties": {
                  "label": "NEXT"
                },
                "start": 51,
                "thickness_factor": 1
              },
              {
                "color": "#9C27B0",
                "directed": true,
                "end": 45,
                "id": 1747404352001147000,
                "label": "NEXT",
                "properties": {
                  "label": "NEXT"
                },
                "start": 51,
                "thickness_factor": 1
              },
              {
                "color": "#9C27B0",
                "directed": true,
                "end": 52,
                "id": 1152929201188241400,
                "label": "NEXT",
                "properties": {
                  "label": "NEXT"
                },
                "start": 51,
                "thickness_factor": 1
              },
              {
                "color": "#9C27B0",
                "directed": true,
                "end": 52,
                "id": 1161936400442982400,
                "label": "NEXT",
                "properties": {
                  "label": "NEXT"
                },
                "start": 51,
                "thickness_factor": 1
              },
              {
                "color": "#9C27B0",
                "directed": true,
                "end": 52,
                "id": 6931047523104588000,
                "label": "NEXT",
                "properties": {
                  "label": "NEXT"
                },
                "start": 51,
                "thickness_factor": 1
              },
              {
                "color": "#9C27B0",
                "directed": true,
                "end": 52,
                "id": 1170943599697723400,
                "label": "NEXT",
                "properties": {
                  "label": "NEXT"
                },
                "start": 51,
                "thickness_factor": 1
              },
              {
                "color": "#9C27B0",
                "directed": true,
                "end": 52,
                "id": 1179950798952464400,
                "label": "NEXT",
                "properties": {
                  "label": "NEXT"
                },
                "start": 51,
                "thickness_factor": 1
              },
              {
                "color": "#9C27B0",
                "directed": true,
                "end": 52,
                "id": 1191209798020890600,
                "label": "NEXT",
                "properties": {
                  "label": "NEXT"
                },
                "start": 51,
                "thickness_factor": 1
              },
              {
                "color": "#9C27B0",
                "directed": true,
                "end": 52,
                "id": 1200216997275631600,
                "label": "NEXT",
                "properties": {
                  "label": "NEXT"
                },
                "start": 51,
                "thickness_factor": 1
              },
              {
                "color": "#9C27B0",
                "directed": true,
                "end": 52,
                "id": 1209224196530372600,
                "label": "NEXT",
                "properties": {
                  "label": "NEXT"
                },
                "start": 51,
                "thickness_factor": 1
              },
              {
                "color": "#9C27B0",
                "directed": true,
                "end": 52,
                "id": 1218231395785113600,
                "label": "NEXT",
                "properties": {
                  "label": "NEXT"
                },
                "start": 51,
                "thickness_factor": 1
              },
              {
                "color": "#9C27B0",
                "directed": true,
                "end": 52,
                "id": 1229490394853539800,
                "label": "NEXT",
                "properties": {
                  "label": "NEXT"
                },
                "start": 51,
                "thickness_factor": 1
              },
              {
                "color": "#9C27B0",
                "directed": true,
                "end": 52,
                "id": 1238497594108280800,
                "label": "NEXT",
                "properties": {
                  "label": "NEXT"
                },
                "start": 51,
                "thickness_factor": 1
              },
              {
                "color": "#9C27B0",
                "directed": true,
                "end": 52,
                "id": 1247504793363021800,
                "label": "NEXT",
                "properties": {
                  "label": "NEXT"
                },
                "start": 51,
                "thickness_factor": 1
              },
              {
                "color": "#9C27B0",
                "directed": true,
                "end": 52,
                "id": 1256511992617762800,
                "label": "NEXT",
                "properties": {
                  "label": "NEXT"
                },
                "start": 51,
                "thickness_factor": 1
              },
              {
                "color": "#9C27B0",
                "directed": true,
                "end": 52,
                "id": 1267770991686189000,
                "label": "NEXT",
                "properties": {
                  "label": "NEXT"
                },
                "start": 51,
                "thickness_factor": 1
              },
              {
                "color": "#9C27B0",
                "directed": true,
                "end": 52,
                "id": 1276778190940930000,
                "label": "NEXT",
                "properties": {
                  "label": "NEXT"
                },
                "start": 51,
                "thickness_factor": 1
              },
              {
                "color": "#9C27B0",
                "directed": true,
                "end": 52,
                "id": 1285785390195671000,
                "label": "NEXT",
                "properties": {
                  "label": "NEXT"
                },
                "start": 51,
                "thickness_factor": 1
              },
              {
                "color": "#9C27B0",
                "directed": true,
                "end": 52,
                "id": 1294792589450412000,
                "label": "NEXT",
                "properties": {
                  "label": "NEXT"
                },
                "start": 51,
                "thickness_factor": 1
              },
              {
                "color": "#9C27B0",
                "directed": true,
                "end": 52,
                "id": 1303799788705153000,
                "label": "NEXT",
                "properties": {
                  "label": "NEXT"
                },
                "start": 51,
                "thickness_factor": 1
              },
              {
                "color": "#9C27B0",
                "directed": true,
                "end": 52,
                "id": 1312806987959894000,
                "label": "NEXT",
                "properties": {
                  "label": "NEXT"
                },
                "start": 51,
                "thickness_factor": 1
              },
              {
                "color": "#9C27B0",
                "directed": true,
                "end": 52,
                "id": 1321814187214635000,
                "label": "NEXT",
                "properties": {
                  "label": "NEXT"
                },
                "start": 51,
                "thickness_factor": 1
              },
              {
                "color": "#9C27B0",
                "directed": true,
                "end": 52,
                "id": 1330821386469376000,
                "label": "NEXT",
                "properties": {
                  "label": "NEXT"
                },
                "start": 51,
                "thickness_factor": 1
              },
              {
                "color": "#9C27B0",
                "directed": true,
                "end": 52,
                "id": 1342080385537802200,
                "label": "NEXT",
                "properties": {
                  "label": "NEXT"
                },
                "start": 51,
                "thickness_factor": 1
              },
              {
                "color": "#9C27B0",
                "directed": true,
                "end": 52,
                "id": 1351087584792543200,
                "label": "NEXT",
                "properties": {
                  "label": "NEXT"
                },
                "start": 51,
                "thickness_factor": 1
              },
              {
                "color": "#9C27B0",
                "directed": true,
                "end": 52,
                "id": 1360094784047284200,
                "label": "NEXT",
                "properties": {
                  "label": "NEXT"
                },
                "start": 51,
                "thickness_factor": 1
              },
              {
                "color": "#9C27B0",
                "directed": true,
                "end": 52,
                "id": 1369101983302025200,
                "label": "NEXT",
                "properties": {
                  "label": "NEXT"
                },
                "start": 51,
                "thickness_factor": 1
              },
              {
                "color": "#9C27B0",
                "directed": true,
                "end": 52,
                "id": 1380360982370451500,
                "label": "NEXT",
                "properties": {
                  "label": "NEXT"
                },
                "start": 51,
                "thickness_factor": 1
              },
              {
                "color": "#9C27B0",
                "directed": true,
                "end": 52,
                "id": 1389368181625192400,
                "label": "NEXT",
                "properties": {
                  "label": "NEXT"
                },
                "start": 51,
                "thickness_factor": 1
              },
              {
                "color": "#9C27B0",
                "directed": true,
                "end": 52,
                "id": 1398375380879933400,
                "label": "NEXT",
                "properties": {
                  "label": "NEXT"
                },
                "start": 51,
                "thickness_factor": 1
              },
              {
                "color": "#9C27B0",
                "directed": true,
                "end": 52,
                "id": 1407382580134674400,
                "label": "NEXT",
                "properties": {
                  "label": "NEXT"
                },
                "start": 51,
                "thickness_factor": 1
              },
              {
                "color": "#9C27B0",
                "directed": true,
                "end": 52,
                "id": 1418641579203100700,
                "label": "NEXT",
                "properties": {
                  "label": "NEXT"
                },
                "start": 51,
                "thickness_factor": 1
              },
              {
                "color": "#9C27B0",
                "directed": true,
                "end": 52,
                "id": 1427648778457841700,
                "label": "NEXT",
                "properties": {
                  "label": "NEXT"
                },
                "start": 51,
                "thickness_factor": 1
              },
              {
                "color": "#9C27B0",
                "directed": true,
                "end": 52,
                "id": 1436655977712582700,
                "label": "NEXT",
                "properties": {
                  "label": "NEXT"
                },
                "start": 51,
                "thickness_factor": 1
              },
              {
                "color": "#9C27B0",
                "directed": true,
                "end": 52,
                "id": 1445663176967323600,
                "label": "NEXT",
                "properties": {
                  "label": "NEXT"
                },
                "start": 51,
                "thickness_factor": 1
              },
              {
                "color": "#9C27B0",
                "directed": true,
                "end": 52,
                "id": 1454670376222064600,
                "label": "NEXT",
                "properties": {
                  "label": "NEXT"
                },
                "start": 51,
                "thickness_factor": 1
              },
              {
                "color": "#9C27B0",
                "directed": true,
                "end": 52,
                "id": 1463677575476805600,
                "label": "NEXT",
                "properties": {
                  "label": "NEXT"
                },
                "start": 51,
                "thickness_factor": 1
              },
              {
                "color": "#9C27B0",
                "directed": true,
                "end": 52,
                "id": 1472684774731546600,
                "label": "NEXT",
                "properties": {
                  "label": "NEXT"
                },
                "start": 51,
                "thickness_factor": 1
              },
              {
                "color": "#9C27B0",
                "directed": true,
                "end": 52,
                "id": 1481691973986287600,
                "label": "NEXT",
                "properties": {
                  "label": "NEXT"
                },
                "start": 51,
                "thickness_factor": 1
              },
              {
                "color": "#9C27B0",
                "directed": true,
                "end": 52,
                "id": 1492950973054713900,
                "label": "NEXT",
                "properties": {
                  "label": "NEXT"
                },
                "start": 51,
                "thickness_factor": 1
              },
              {
                "color": "#9C27B0",
                "directed": true,
                "end": 52,
                "id": 1501958172309454800,
                "label": "NEXT",
                "properties": {
                  "label": "NEXT"
                },
                "start": 51,
                "thickness_factor": 1
              },
              {
                "color": "#9C27B0",
                "directed": true,
                "end": 52,
                "id": 1510965371564195800,
                "label": "NEXT",
                "properties": {
                  "label": "NEXT"
                },
                "start": 51,
                "thickness_factor": 1
              },
              {
                "color": "#9C27B0",
                "directed": true,
                "end": 52,
                "id": 1519972570818936800,
                "label": "NEXT",
                "properties": {
                  "label": "NEXT"
                },
                "start": 51,
                "thickness_factor": 1
              },
              {
                "color": "#9C27B0",
                "directed": true,
                "end": 52,
                "id": 1531231569887363000,
                "label": "NEXT",
                "properties": {
                  "label": "NEXT"
                },
                "start": 51,
                "thickness_factor": 1
              },
              {
                "color": "#9C27B0",
                "directed": true,
                "end": 52,
                "id": 1540238769142104000,
                "label": "NEXT",
                "properties": {
                  "label": "NEXT"
                },
                "start": 51,
                "thickness_factor": 1
              },
              {
                "color": "#9C27B0",
                "directed": true,
                "end": 52,
                "id": 1549245968396845000,
                "label": "NEXT",
                "properties": {
                  "label": "NEXT"
                },
                "start": 51,
                "thickness_factor": 1
              },
              {
                "color": "#9C27B0",
                "directed": true,
                "end": 52,
                "id": 1565008567092641800,
                "label": "NEXT",
                "properties": {
                  "label": "NEXT"
                },
                "start": 51,
                "thickness_factor": 1
              },
              {
                "color": "#9C27B0",
                "directed": true,
                "end": 52,
                "id": 1574015766347382800,
                "label": "NEXT",
                "properties": {
                  "label": "NEXT"
                },
                "start": 51,
                "thickness_factor": 1
              },
              {
                "color": "#9C27B0",
                "directed": true,
                "end": 52,
                "id": 1583022965602123800,
                "label": "NEXT",
                "properties": {
                  "label": "NEXT"
                },
                "start": 51,
                "thickness_factor": 1
              },
              {
                "color": "#9C27B0",
                "directed": true,
                "end": 52,
                "id": 1592030164856864800,
                "label": "NEXT",
                "properties": {
                  "label": "NEXT"
                },
                "start": 51,
                "thickness_factor": 1
              },
              {
                "color": "#9C27B0",
                "directed": true,
                "end": 52,
                "id": 1601037364111605800,
                "label": "NEXT",
                "properties": {
                  "label": "NEXT"
                },
                "start": 51,
                "thickness_factor": 1
              },
              {
                "color": "#9C27B0",
                "directed": true,
                "end": 52,
                "id": 1610044563366346800,
                "label": "NEXT",
                "properties": {
                  "label": "NEXT"
                },
                "start": 51,
                "thickness_factor": 1
              },
              {
                "color": "#9C27B0",
                "directed": true,
                "end": 52,
                "id": 1619051762621087700,
                "label": "NEXT",
                "properties": {
                  "label": "NEXT"
                },
                "start": 51,
                "thickness_factor": 1
              },
              {
                "color": "#9C27B0",
                "directed": true,
                "end": 52,
                "id": 1628058961875828700,
                "label": "NEXT",
                "properties": {
                  "label": "NEXT"
                },
                "start": 51,
                "thickness_factor": 1
              },
              {
                "color": "#9C27B0",
                "directed": true,
                "end": 52,
                "id": 1639317960944255000,
                "label": "NEXT",
                "properties": {
                  "label": "NEXT"
                },
                "start": 51,
                "thickness_factor": 1
              },
              {
                "color": "#9C27B0",
                "directed": true,
                "end": 52,
                "id": 1648325160198996000,
                "label": "NEXT",
                "properties": {
                  "label": "NEXT"
                },
                "start": 51,
                "thickness_factor": 1
              },
              {
                "color": "#9C27B0",
                "directed": true,
                "end": 52,
                "id": 1657332359453737000,
                "label": "NEXT",
                "properties": {
                  "label": "NEXT"
                },
                "start": 51,
                "thickness_factor": 1
              },
              {
                "color": "#9C27B0",
                "directed": true,
                "end": 52,
                "id": 1666339558708478000,
                "label": "NEXT",
                "properties": {
                  "label": "NEXT"
                },
                "start": 51,
                "thickness_factor": 1
              },
              {
                "color": "#9C27B0",
                "directed": true,
                "end": 52,
                "id": 1677598557776904200,
                "label": "NEXT",
                "properties": {
                  "label": "NEXT"
                },
                "start": 51,
                "thickness_factor": 1
              },
              {
                "color": "#9C27B0",
                "directed": true,
                "end": 52,
                "id": 1686605757031645200,
                "label": "NEXT",
                "properties": {
                  "label": "NEXT"
                },
                "start": 51,
                "thickness_factor": 1
              },
              {
                "color": "#9C27B0",
                "directed": true,
                "end": 52,
                "id": 1695612956286386200,
                "label": "NEXT",
                "properties": {
                  "label": "NEXT"
                },
                "start": 51,
                "thickness_factor": 1
              },
              {
                "color": "#9C27B0",
                "directed": true,
                "end": 52,
                "id": 1704620155541127200,
                "label": "NEXT",
                "properties": {
                  "label": "NEXT"
                },
                "start": 51,
                "thickness_factor": 1
              },
              {
                "color": "#9C27B0",
                "directed": true,
                "end": 52,
                "id": 1713627354795868200,
                "label": "NEXT",
                "properties": {
                  "label": "NEXT"
                },
                "start": 51,
                "thickness_factor": 1
              },
              {
                "color": "#9C27B0",
                "directed": true,
                "end": 52,
                "id": 1722634554050609200,
                "label": "NEXT",
                "properties": {
                  "label": "NEXT"
                },
                "start": 51,
                "thickness_factor": 1
              },
              {
                "color": "#9C27B0",
                "directed": true,
                "end": 52,
                "id": 1731641753305350100,
                "label": "NEXT",
                "properties": {
                  "label": "NEXT"
                },
                "start": 51,
                "thickness_factor": 1
              },
              {
                "color": "#9C27B0",
                "directed": true,
                "end": 52,
                "id": 1740648952560091100,
                "label": "NEXT",
                "properties": {
                  "label": "NEXT"
                },
                "start": 51,
                "thickness_factor": 1
              },
              {
                "color": "#CDDC39",
                "directed": true,
                "end": 55,
                "id": 1152931400211497000,
                "label": "KNOWS",
                "properties": {
                  "label": "KNOWS"
                },
                "start": 54,
                "thickness_factor": 1
              },
              {
                "color": "#CDDC39",
                "directed": true,
                "end": 57,
                "id": 1155183200025182200,
                "label": "KNOWS",
                "properties": {
                  "label": "KNOWS"
                },
                "start": 54,
                "thickness_factor": 1
              },
              {
                "color": "#9E9E9E",
                "directed": true,
                "end": 55,
                "id": 6917540022757360000,
                "label": "COLLEAGUES",
                "properties": {
                  "label": "COLLEAGUES"
                },
                "start": 54,
                "thickness_factor": 1
              },
              {
                "color": "#9E9E9E",
                "directed": true,
                "end": 57,
                "id": 1152932499723124700,
                "label": "COLLEAGUES",
                "properties": {
                  "label": "COLLEAGUES"
                },
                "start": 54,
                "thickness_factor": 1
              },
              {
                "color": "#9C27B0",
                "directed": true,
                "end": 55,
                "id": 6917541122268987000,
                "label": "FRIENDS",
                "properties": {
                  "label": "FRIENDS"
                },
                "start": 54,
                "thickness_factor": 1
              },
              {
                "color": "#2196F3",
                "directed": true,
                "end": 111,
                "id": 1152934698746380300,
                "label": "PART_OF",
                "properties": {
                  "label": "PART_OF"
                },
                "start": 110,
                "thickness_factor": 1
              },
              {
                "color": "#4CAF50",
                "directed": true,
                "end": 111,
                "id": 1152935798258008000,
                "label": "AFFILIATED_WITH",
                "properties": {
                  "label": "AFFILIATED_WITH"
                },
                "start": 112,
                "thickness_factor": 1
              },
              {
                "color": "#F44336",
                "directed": true,
                "end": 114,
                "id": 1152936897769635800,
                "label": "LOCATION_OF",
                "properties": {
                  "label": "LOCATION_OF"
                },
                "start": 113,
                "thickness_factor": 1
              },
              {
                "color": "#F44336",
                "directed": true,
                "end": 117,
                "id": 1152936897769635800,
                "label": "LOCATION_OF",
                "properties": {
                  "label": "LOCATION_OF"
                },
                "start": 116,
                "thickness_factor": 1
              },
              {
                "color": "#607D8B",
                "directed": true,
                "end": 115,
                "id": 1152937997281263600,
                "label": "LOCATED_IN",
                "properties": {
                  "label": "LOCATED_IN"
                },
                "start": 116,
                "thickness_factor": 1
              },
              {
                "color": "#2196F3",
                "directed": true,
                "end": 111,
                "id": 1152934698746380300,
                "label": "PART_OF",
                "properties": {
                  "label": "PART_OF"
                },
                "start": 118,
                "thickness_factor": 1
              },
              {
                "color": "#F44336",
                "directed": true,
                "end": 120,
                "id": 1152936897769635800,
                "label": "LOCATION_OF",
                "properties": {
                  "label": "LOCATION_OF"
                },
                "start": 119,
                "thickness_factor": 1
              }
            ],
            "_graph_layout": {},
            "_highlight": [],
            "_license": {},
            "_model_module": "yfiles-jupyter-graphs",
            "_model_module_version": "^1.6.2",
            "_model_name": "GraphModel",
            "_neighborhood": {},
            "_nodes": [
              {
                "color": "#2196F3",
                "id": 13,
                "position": [
                  0,
                  0
                ],
                "properties": {
                  "label": ""
                },
                "scale_factor": 1,
                "size": [
                  55,
                  55
                ],
                "styles": {},
                "type": "#2196F3"
              },
              {
                "color": "#2196F3",
                "id": 14,
                "position": [
                  0,
                  0
                ],
                "properties": {
                  "label": ""
                },
                "scale_factor": 1,
                "size": [
                  55,
                  55
                ],
                "styles": {},
                "type": "#2196F3"
              },
              {
                "color": "#2196F3",
                "id": 15,
                "position": [
                  0,
                  0
                ],
                "properties": {
                  "label": ""
                },
                "scale_factor": 1,
                "size": [
                  55,
                  55
                ],
                "styles": {},
                "type": "#2196F3"
              },
              {
                "color": "#2196F3",
                "id": 16,
                "position": [
                  0,
                  0
                ],
                "properties": {
                  "label": ""
                },
                "scale_factor": 1,
                "size": [
                  55,
                  55
                ],
                "styles": {},
                "type": "#2196F3"
              },
              {
                "color": "#2196F3",
                "id": 17,
                "position": [
                  0,
                  0
                ],
                "properties": {
                  "label": ""
                },
                "scale_factor": 1,
                "size": [
                  55,
                  55
                ],
                "styles": {},
                "type": "#2196F3"
              },
              {
                "color": "#2196F3",
                "id": 18,
                "position": [
                  0,
                  0
                ],
                "properties": {
                  "label": ""
                },
                "scale_factor": 1,
                "size": [
                  55,
                  55
                ],
                "styles": {},
                "type": "#2196F3"
              },
              {
                "color": "#2196F3",
                "id": 19,
                "position": [
                  0,
                  0
                ],
                "properties": {
                  "label": ""
                },
                "scale_factor": 1,
                "size": [
                  55,
                  55
                ],
                "styles": {},
                "type": "#2196F3"
              },
              {
                "color": "#2196F3",
                "id": 20,
                "position": [
                  0,
                  0
                ],
                "properties": {
                  "label": ""
                },
                "scale_factor": 1,
                "size": [
                  55,
                  55
                ],
                "styles": {},
                "type": "#2196F3"
              },
              {
                "color": "#2196F3",
                "id": 21,
                "position": [
                  0,
                  0
                ],
                "properties": {
                  "label": ""
                },
                "scale_factor": 1,
                "size": [
                  55,
                  55
                ],
                "styles": {},
                "type": "#2196F3"
              },
              {
                "color": "#2196F3",
                "id": 22,
                "position": [
                  0,
                  0
                ],
                "properties": {
                  "label": ""
                },
                "scale_factor": 1,
                "size": [
                  55,
                  55
                ],
                "styles": {},
                "type": "#2196F3"
              },
              {
                "color": "#2196F3",
                "id": 23,
                "position": [
                  0,
                  0
                ],
                "properties": {
                  "label": ""
                },
                "scale_factor": 1,
                "size": [
                  55,
                  55
                ],
                "styles": {},
                "type": "#2196F3"
              },
              {
                "color": "#2196F3",
                "id": 24,
                "position": [
                  0,
                  0
                ],
                "properties": {
                  "label": ""
                },
                "scale_factor": 1,
                "size": [
                  55,
                  55
                ],
                "styles": {},
                "type": "#2196F3"
              },
              {
                "color": "#2196F3",
                "id": 25,
                "position": [
                  0,
                  0
                ],
                "properties": {
                  "label": ""
                },
                "scale_factor": 1,
                "size": [
                  55,
                  55
                ],
                "styles": {},
                "type": "#2196F3"
              },
              {
                "color": "#4CAF50",
                "id": 27,
                "position": [
                  0,
                  0
                ],
                "properties": {
                  "label": "Step",
                  "name": "Name"
                },
                "scale_factor": 1,
                "size": [
                  55,
                  55
                ],
                "styles": {},
                "type": "#4CAF50"
              },
              {
                "color": "#2196F3",
                "id": 32,
                "position": [
                  0,
                  0
                ],
                "properties": {
                  "label": ""
                },
                "scale_factor": 1,
                "size": [
                  55,
                  55
                ],
                "styles": {},
                "type": "#2196F3"
              },
              {
                "color": "#4CAF50",
                "id": 29,
                "position": [
                  0,
                  0
                ],
                "properties": {
                  "label": "Step",
                  "name": "Ask where is the noise coming from"
                },
                "scale_factor": 1,
                "size": [
                  55,
                  55
                ],
                "styles": {},
                "type": "#4CAF50"
              },
              {
                "color": "#4CAF50",
                "id": 30,
                "position": [
                  0,
                  0
                ],
                "properties": {
                  "label": "Step",
                  "name": "Ask what are some of the possible causes where this noise is emerging from"
                },
                "scale_factor": 1,
                "size": [
                  55,
                  55
                ],
                "styles": {},
                "type": "#4CAF50"
              },
              {
                "color": "#4CAF50",
                "id": 37,
                "position": [
                  0,
                  0
                ],
                "properties": {
                  "label": "Step",
                  "name": "Ask what are some of the possible causes where this noise is emerging from"
                },
                "scale_factor": 1,
                "size": [
                  55,
                  55
                ],
                "styles": {},
                "type": "#4CAF50"
              },
              {
                "color": "#4CAF50",
                "id": 44,
                "position": [
                  0,
                  0
                ],
                "properties": {
                  "label": "Step",
                  "name": "Ask what are some of the possible causes where this noise is emerging from"
                },
                "scale_factor": 1,
                "size": [
                  55,
                  55
                ],
                "styles": {},
                "type": "#4CAF50"
              },
              {
                "color": "#4CAF50",
                "id": 51,
                "position": [
                  0,
                  0
                ],
                "properties": {
                  "label": "Step",
                  "name": "Ask what are some of the possible causes where this noise is emerging from"
                },
                "scale_factor": 1,
                "size": [
                  55,
                  55
                ],
                "styles": {},
                "type": "#4CAF50"
              },
              {
                "color": "#4CAF50",
                "id": 31,
                "position": [
                  0,
                  0
                ],
                "properties": {
                  "label": "Step",
                  "name": "Ask if the noise is hazardously loud and advise to move away from it"
                },
                "scale_factor": 1,
                "size": [
                  55,
                  55
                ],
                "styles": {},
                "type": "#4CAF50"
              },
              {
                "color": "#4CAF50",
                "id": 38,
                "position": [
                  0,
                  0
                ],
                "properties": {
                  "label": "Step",
                  "name": "Ask if the noise is hazardously loud and advise to move away from it"
                },
                "scale_factor": 1,
                "size": [
                  55,
                  55
                ],
                "styles": {},
                "type": "#4CAF50"
              },
              {
                "color": "#4CAF50",
                "id": 45,
                "position": [
                  0,
                  0
                ],
                "properties": {
                  "label": "Step",
                  "name": "Ask if the noise is hazardously loud and advise to move away from it"
                },
                "scale_factor": 1,
                "size": [
                  55,
                  55
                ],
                "styles": {},
                "type": "#4CAF50"
              },
              {
                "color": "#4CAF50",
                "id": 52,
                "position": [
                  0,
                  0
                ],
                "properties": {
                  "label": "Step",
                  "name": "Ask if the noise is hazardously loud and advise to move away from it"
                },
                "scale_factor": 1,
                "size": [
                  55,
                  55
                ],
                "styles": {},
                "type": "#4CAF50"
              },
              {
                "color": "#4CAF50",
                "id": 34,
                "position": [
                  0,
                  0
                ],
                "properties": {
                  "label": "Step",
                  "name": "Name"
                },
                "scale_factor": 1,
                "size": [
                  55,
                  55
                ],
                "styles": {},
                "type": "#4CAF50"
              },
              {
                "color": "#2196F3",
                "id": 39,
                "position": [
                  0,
                  0
                ],
                "properties": {
                  "label": ""
                },
                "scale_factor": 1,
                "size": [
                  55,
                  55
                ],
                "styles": {},
                "type": "#2196F3"
              },
              {
                "color": "#4CAF50",
                "id": 36,
                "position": [
                  0,
                  0
                ],
                "properties": {
                  "label": "Step",
                  "name": "Ask where is the noise coming from"
                },
                "scale_factor": 1,
                "size": [
                  55,
                  55
                ],
                "styles": {},
                "type": "#4CAF50"
              },
              {
                "color": "#4CAF50",
                "id": 40,
                "position": [
                  0,
                  0
                ],
                "properties": {
                  "label": "Step",
                  "name": "Ask for the details of the victim"
                },
                "scale_factor": 1,
                "size": [
                  55,
                  55
                ],
                "styles": {},
                "type": "#4CAF50"
              },
              {
                "color": "#4CAF50",
                "id": 41,
                "position": [
                  0,
                  0
                ],
                "properties": {
                  "label": "Step",
                  "name": "Name"
                },
                "scale_factor": 1,
                "size": [
                  55,
                  55
                ],
                "styles": {},
                "type": "#4CAF50"
              },
              {
                "color": "#4CAF50",
                "id": 42,
                "position": [
                  0,
                  0
                ],
                "properties": {
                  "label": "Step",
                  "name": "Age"
                },
                "scale_factor": 1,
                "size": [
                  55,
                  55
                ],
                "styles": {},
                "type": "#4CAF50"
              },
              {
                "color": "#4CAF50",
                "id": 43,
                "position": [
                  0,
                  0
                ],
                "properties": {
                  "label": "Step",
                  "name": "Ask where is the noise coming from"
                },
                "scale_factor": 1,
                "size": [
                  55,
                  55
                ],
                "styles": {},
                "type": "#4CAF50"
              },
              {
                "color": "#2196F3",
                "id": 47,
                "position": [
                  0,
                  0
                ],
                "properties": {
                  "label": ""
                },
                "scale_factor": 1,
                "size": [
                  55,
                  55
                ],
                "styles": {},
                "type": "#2196F3"
              },
              {
                "color": "#2196F3",
                "id": 46,
                "position": [
                  0,
                  0
                ],
                "properties": {
                  "label": ""
                },
                "scale_factor": 1,
                "size": [
                  55,
                  55
                ],
                "styles": {},
                "type": "#2196F3"
              },
              {
                "color": "#4CAF50",
                "id": 48,
                "position": [
                  0,
                  0
                ],
                "properties": {
                  "label": "Step",
                  "name": "Ask for the name of the victim"
                },
                "scale_factor": 1,
                "size": [
                  55,
                  55
                ],
                "styles": {},
                "type": "#4CAF50"
              },
              {
                "color": "#4CAF50",
                "id": 49,
                "position": [
                  0,
                  0
                ],
                "properties": {
                  "label": "Step",
                  "name": "Ask the age of the victim"
                },
                "scale_factor": 1,
                "size": [
                  55,
                  55
                ],
                "styles": {},
                "type": "#4CAF50"
              },
              {
                "color": "#4CAF50",
                "id": 50,
                "position": [
                  0,
                  0
                ],
                "properties": {
                  "label": "Step",
                  "name": "Ask where is the noise coming from"
                },
                "scale_factor": 1,
                "size": [
                  55,
                  55
                ],
                "styles": {},
                "type": "#4CAF50"
              },
              {
                "color": "#F44336",
                "id": 54,
                "label": "John Doe",
                "position": [
                  0,
                  0
                ],
                "properties": {
                  "id": "John Doe",
                  "label": "__Entity__:Person"
                },
                "scale_factor": 1,
                "size": [
                  55,
                  55
                ],
                "styles": {},
                "type": "#F44336"
              },
              {
                "color": "#F44336",
                "id": 55,
                "label": "Alice",
                "position": [
                  0,
                  0
                ],
                "properties": {
                  "id": "Alice",
                  "label": "__Entity__:Person"
                },
                "scale_factor": 1,
                "size": [
                  55,
                  55
                ],
                "styles": {},
                "type": "#F44336"
              },
              {
                "color": "#F44336",
                "id": 57,
                "label": "Jane Smith",
                "position": [
                  0,
                  0
                ],
                "properties": {
                  "id": "Jane Smith",
                  "label": "__Entity__:Person"
                },
                "scale_factor": 1,
                "size": [
                  55,
                  55
                ],
                "styles": {},
                "type": "#F44336"
              },
              {
                "color": "#607D8B",
                "id": 110,
                "label": "Moffitt",
                "position": [
                  0,
                  0
                ],
                "properties": {
                  "id": "Moffitt",
                  "label": "Location:__Entity__"
                },
                "scale_factor": 1,
                "size": [
                  55,
                  55
                ],
                "styles": {},
                "type": "#607D8B"
              },
              {
                "color": "#673AB7",
                "id": 111,
                "label": "University Of California, Berkeley",
                "position": [
                  0,
                  0
                ],
                "properties": {
                  "id": "University Of California, Berkeley",
                  "label": "Organization:__Entity__"
                },
                "scale_factor": 1,
                "size": [
                  55,
                  55
                ],
                "styles": {},
                "type": "#673AB7"
              },
              {
                "color": "#F44336",
                "id": 112,
                "label": "Micheal Jones",
                "position": [
                  0,
                  0
                ],
                "properties": {
                  "id": "Micheal Jones",
                  "label": "__Entity__:Person"
                },
                "scale_factor": 1,
                "size": [
                  55,
                  55
                ],
                "styles": {},
                "type": "#F44336"
              },
              {
                "color": "#607D8B",
                "id": 113,
                "label": "Shrine And 10Th",
                "position": [
                  0,
                  0
                ],
                "properties": {
                  "id": "Shrine And 10Th",
                  "label": "Location:__Entity__"
                },
                "scale_factor": 1,
                "size": [
                  55,
                  55
                ],
                "styles": {},
                "type": "#607D8B"
              },
              {
                "color": "#F44336",
                "id": 114,
                "label": "John",
                "position": [
                  0,
                  0
                ],
                "properties": {
                  "id": "John",
                  "label": "__Entity__:Person"
                },
                "scale_factor": 1,
                "size": [
                  55,
                  55
                ],
                "styles": {},
                "type": "#F44336"
              },
              {
                "color": "#607D8B",
                "id": 116,
                "label": "123 Main St",
                "position": [
                  0,
                  0
                ],
                "properties": {
                  "id": "123 Main St",
                  "label": "Location:__Entity__"
                },
                "scale_factor": 1,
                "size": [
                  55,
                  55
                ],
                "styles": {},
                "type": "#607D8B"
              },
              {
                "color": "#673AB7",
                "id": 117,
                "label": "Acme Corporation",
                "position": [
                  0,
                  0
                ],
                "properties": {
                  "id": "Acme Corporation",
                  "label": "Organization:__Entity__"
                },
                "scale_factor": 1,
                "size": [
                  55,
                  55
                ],
                "styles": {},
                "type": "#673AB7"
              },
              {
                "color": "#607D8B",
                "id": 115,
                "label": "Los Angeles",
                "position": [
                  0,
                  0
                ],
                "properties": {
                  "id": "Los Angeles",
                  "label": "Location:__Entity__"
                },
                "scale_factor": 1,
                "size": [
                  55,
                  55
                ],
                "styles": {},
                "type": "#607D8B"
              },
              {
                "color": "#607D8B",
                "id": 118,
                "label": "Tremont",
                "position": [
                  0,
                  0
                ],
                "properties": {
                  "id": "Tremont",
                  "label": "Location:__Entity__"
                },
                "scale_factor": 1,
                "size": [
                  55,
                  55
                ],
                "styles": {},
                "type": "#607D8B"
              },
              {
                "color": "#607D8B",
                "id": 119,
                "label": "New York City",
                "position": [
                  0,
                  0
                ],
                "properties": {
                  "id": "New York City",
                  "label": "Location:__Entity__"
                },
                "scale_factor": 1,
                "size": [
                  55,
                  55
                ],
                "styles": {},
                "type": "#607D8B"
              },
              {
                "color": "#673AB7",
                "id": 120,
                "label": "Local High School",
                "position": [
                  0,
                  0
                ],
                "properties": {
                  "id": "Local High School",
                  "label": "Organization:__Entity__"
                },
                "scale_factor": 1,
                "size": [
                  55,
                  55
                ],
                "styles": {},
                "type": "#673AB7"
              }
            ],
            "_overview": {
              "enabled": null,
              "overview_set": false
            },
            "_selected_graph": [],
            "_sidebar": {
              "enabled": true,
              "start_with": ""
            },
            "_view_count": null,
            "_view_module": "yfiles-jupyter-graphs",
            "_view_module_version": "^1.6.2",
            "_view_name": "GraphView",
            "layout": "IPY_MODEL_e2329ac909114f7a887f4ea55fc6cbbf"
          }
        }
      }
    }
  },
  "nbformat": 4,
  "nbformat_minor": 0
}
